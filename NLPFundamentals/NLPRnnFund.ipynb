{
 "cells": [
  {
   "cell_type": "code",
   "execution_count": 2,
   "id": "bea69c48-0486-4763-8bfc-3e17c4ffe7a1",
   "metadata": {
    "ExecuteTime": {
     "end_time": "2024-03-04T18:02:42.689128400Z",
     "start_time": "2024-03-04T18:02:39.174146100Z"
    },
    "tags": []
   },
   "outputs": [
    {
     "name": "stdout",
     "output_type": "stream",
     "text": [
      "Tue Mar  5 11:28:12 2024       \n",
      "+---------------------------------------------------------------------------------------+\n",
      "| NVIDIA-SMI 535.129.03             Driver Version: 535.129.03   CUDA Version: 12.2     |\n",
      "|-----------------------------------------+----------------------+----------------------+\n",
      "| GPU  Name                 Persistence-M | Bus-Id        Disp.A | Volatile Uncorr. ECC |\n",
      "| Fan  Temp   Perf          Pwr:Usage/Cap |         Memory-Usage | GPU-Util  Compute M. |\n",
      "|                                         |                      |               MIG M. |\n",
      "|=========================================+======================+======================|\n",
      "|   0  Tesla T4                       Off | 00000000:00:1E.0 Off |                    0 |\n",
      "| N/A   32C    P0              27W /  70W |      2MiB / 15360MiB |      5%      Default |\n",
      "|                                         |                      |                  N/A |\n",
      "+-----------------------------------------+----------------------+----------------------+\n",
      "                                                                                         \n",
      "+---------------------------------------------------------------------------------------+\n",
      "| Processes:                                                                            |\n",
      "|  GPU   GI   CI        PID   Type   Process name                            GPU Memory |\n",
      "|        ID   ID                                                             Usage      |\n",
      "|=======================================================================================|\n",
      "|  No running processes found                                                           |\n",
      "+---------------------------------------------------------------------------------------+\n"
     ]
    },
    {
     "name": "stderr",
     "output_type": "stream",
     "text": [
      "2024-03-05 11:28:12.805401: I tensorflow/core/platform/cpu_feature_guard.cc:193] This TensorFlow binary is optimized with oneAPI Deep Neural Network Library (oneDNN) to use the following CPU instructions in performance-critical operations:  AVX512F AVX512_VNNI\n",
      "To enable them in other operations, rebuild TensorFlow with the appropriate compiler flags.\n",
      "2024-03-05 11:28:12.926307: W tensorflow/core/profiler/internal/smprofiler_timeline.cc:460] Initializing the SageMaker Profiler.\n",
      "2024-03-05 11:28:12.926412: W tensorflow/core/profiler/internal/smprofiler_timeline.cc:105] SageMaker Profiler is not enabled. The timeline writer thread will not be started, future recorded events will be dropped.\n",
      "2024-03-05 11:28:12.926617: I tensorflow/core/util/port.cc:104] oneDNN custom operations are on. You may see slightly different numerical results due to floating-point round-off errors from different computation orders. To turn them off, set the environment variable `TF_ENABLE_ONEDNN_OPTS=0`.\n",
      "2024-03-05 11:28:12.975499: W tensorflow/core/profiler/internal/smprofiler_timeline.cc:460] Initializing the SageMaker Profiler.\n"
     ]
    }
   ],
   "source": [
    "!nvidia-smi\n",
    "from tensorflow.keras import layers\n",
    "import tensorflow as tf"
   ]
  },
  {
   "cell_type": "code",
   "execution_count": 3,
   "id": "2e291b07-28c6-4225-a4db-6186b448f67f",
   "metadata": {
    "ExecuteTime": {
     "end_time": "2024-03-04T18:02:43.675424900Z",
     "start_time": "2024-03-04T18:02:42.689128400Z"
    },
    "tags": []
   },
   "outputs": [],
   "source": [
    "from helper_functions import unzip_data,create_tensorboard_callback,plot_loss_curves,compare_historys"
   ]
  },
  {
   "cell_type": "code",
   "execution_count": 4,
   "id": "c98d0859-2d78-4745-94de-1fa918e3dd3c",
   "metadata": {
    "ExecuteTime": {
     "end_time": "2024-03-04T18:02:43.688023500Z",
     "start_time": "2024-03-04T18:02:43.673334200Z"
    },
    "tags": []
   },
   "outputs": [],
   "source": [
    "#!wget https://storage.googleapis.com/ztm_tf_course/nlp_getting_started.zip"
   ]
  },
  {
   "cell_type": "code",
   "execution_count": 5,
   "id": "e452a936-e03a-4d68-801c-1f1d49e49b3a",
   "metadata": {
    "ExecuteTime": {
     "end_time": "2024-03-04T18:02:43.719932400Z",
     "start_time": "2024-03-04T18:02:43.690617600Z"
    },
    "tags": []
   },
   "outputs": [],
   "source": [
    "#unzip_data('nlp_getting_started.zip')"
   ]
  },
  {
   "cell_type": "code",
   "execution_count": 6,
   "id": "8ad98d21-7304-49c3-909c-81736bbb6327",
   "metadata": {
    "ExecuteTime": {
     "end_time": "2024-03-04T18:02:43.738090800Z",
     "start_time": "2024-03-04T18:02:43.704084Z"
    },
    "tags": []
   },
   "outputs": [
    {
     "data": {
      "text/html": [
       "<div>\n",
       "<style scoped>\n",
       "    .dataframe tbody tr th:only-of-type {\n",
       "        vertical-align: middle;\n",
       "    }\n",
       "\n",
       "    .dataframe tbody tr th {\n",
       "        vertical-align: top;\n",
       "    }\n",
       "\n",
       "    .dataframe thead th {\n",
       "        text-align: right;\n",
       "    }\n",
       "</style>\n",
       "<table border=\"1\" class=\"dataframe\">\n",
       "  <thead>\n",
       "    <tr style=\"text-align: right;\">\n",
       "      <th></th>\n",
       "      <th>id</th>\n",
       "      <th>keyword</th>\n",
       "      <th>location</th>\n",
       "      <th>text</th>\n",
       "      <th>target</th>\n",
       "    </tr>\n",
       "  </thead>\n",
       "  <tbody>\n",
       "    <tr>\n",
       "      <th>0</th>\n",
       "      <td>1</td>\n",
       "      <td>NaN</td>\n",
       "      <td>NaN</td>\n",
       "      <td>Our Deeds are the Reason of this #earthquake M...</td>\n",
       "      <td>1</td>\n",
       "    </tr>\n",
       "    <tr>\n",
       "      <th>1</th>\n",
       "      <td>4</td>\n",
       "      <td>NaN</td>\n",
       "      <td>NaN</td>\n",
       "      <td>Forest fire near La Ronge Sask. Canada</td>\n",
       "      <td>1</td>\n",
       "    </tr>\n",
       "    <tr>\n",
       "      <th>2</th>\n",
       "      <td>5</td>\n",
       "      <td>NaN</td>\n",
       "      <td>NaN</td>\n",
       "      <td>All residents asked to 'shelter in place' are ...</td>\n",
       "      <td>1</td>\n",
       "    </tr>\n",
       "    <tr>\n",
       "      <th>3</th>\n",
       "      <td>6</td>\n",
       "      <td>NaN</td>\n",
       "      <td>NaN</td>\n",
       "      <td>13,000 people receive #wildfires evacuation or...</td>\n",
       "      <td>1</td>\n",
       "    </tr>\n",
       "    <tr>\n",
       "      <th>4</th>\n",
       "      <td>7</td>\n",
       "      <td>NaN</td>\n",
       "      <td>NaN</td>\n",
       "      <td>Just got sent this photo from Ruby #Alaska as ...</td>\n",
       "      <td>1</td>\n",
       "    </tr>\n",
       "  </tbody>\n",
       "</table>\n",
       "</div>"
      ],
      "text/plain": [
       "   id keyword location                                               text  \\\n",
       "0   1     NaN      NaN  Our Deeds are the Reason of this #earthquake M...   \n",
       "1   4     NaN      NaN             Forest fire near La Ronge Sask. Canada   \n",
       "2   5     NaN      NaN  All residents asked to 'shelter in place' are ...   \n",
       "3   6     NaN      NaN  13,000 people receive #wildfires evacuation or...   \n",
       "4   7     NaN      NaN  Just got sent this photo from Ruby #Alaska as ...   \n",
       "\n",
       "   target  \n",
       "0       1  \n",
       "1       1  \n",
       "2       1  \n",
       "3       1  \n",
       "4       1  "
      ]
     },
     "execution_count": 6,
     "metadata": {},
     "output_type": "execute_result"
    }
   ],
   "source": [
    "import pandas as pd\n",
    "train_df = pd.read_csv(\"train.csv\")\n",
    "train_df.head()"
   ]
  },
  {
   "cell_type": "code",
   "execution_count": 7,
   "id": "68231a7d-c218-4974-b88e-55c50b9e1986",
   "metadata": {
    "ExecuteTime": {
     "end_time": "2024-03-04T18:02:43.768816700Z",
     "start_time": "2024-03-04T18:02:43.738090800Z"
    },
    "tags": []
   },
   "outputs": [],
   "source": [
    "train_df_shuffled = train_df.sample(frac=1, random_state = 42)"
   ]
  },
  {
   "cell_type": "code",
   "execution_count": 8,
   "id": "c156b240-b4de-43f9-8ce5-d546a441ea3c",
   "metadata": {
    "ExecuteTime": {
     "end_time": "2024-03-04T18:02:43.816885700Z",
     "start_time": "2024-03-04T18:02:43.753935100Z"
    },
    "tags": []
   },
   "outputs": [
    {
     "data": {
      "text/html": [
       "<div>\n",
       "<style scoped>\n",
       "    .dataframe tbody tr th:only-of-type {\n",
       "        vertical-align: middle;\n",
       "    }\n",
       "\n",
       "    .dataframe tbody tr th {\n",
       "        vertical-align: top;\n",
       "    }\n",
       "\n",
       "    .dataframe thead th {\n",
       "        text-align: right;\n",
       "    }\n",
       "</style>\n",
       "<table border=\"1\" class=\"dataframe\">\n",
       "  <thead>\n",
       "    <tr style=\"text-align: right;\">\n",
       "      <th></th>\n",
       "      <th>id</th>\n",
       "      <th>keyword</th>\n",
       "      <th>location</th>\n",
       "      <th>text</th>\n",
       "      <th>target</th>\n",
       "    </tr>\n",
       "  </thead>\n",
       "  <tbody>\n",
       "    <tr>\n",
       "      <th>2644</th>\n",
       "      <td>3796</td>\n",
       "      <td>destruction</td>\n",
       "      <td>NaN</td>\n",
       "      <td>So you have a new weapon that can cause un-ima...</td>\n",
       "      <td>1</td>\n",
       "    </tr>\n",
       "    <tr>\n",
       "      <th>2227</th>\n",
       "      <td>3185</td>\n",
       "      <td>deluge</td>\n",
       "      <td>NaN</td>\n",
       "      <td>The f$&amp;amp;@ing things I do for #GISHWHES Just...</td>\n",
       "      <td>0</td>\n",
       "    </tr>\n",
       "    <tr>\n",
       "      <th>5448</th>\n",
       "      <td>7769</td>\n",
       "      <td>police</td>\n",
       "      <td>UK</td>\n",
       "      <td>DT @georgegalloway: RT @Galloway4Mayor: ÛÏThe...</td>\n",
       "      <td>1</td>\n",
       "    </tr>\n",
       "    <tr>\n",
       "      <th>132</th>\n",
       "      <td>191</td>\n",
       "      <td>aftershock</td>\n",
       "      <td>NaN</td>\n",
       "      <td>Aftershock back to school kick off was great. ...</td>\n",
       "      <td>0</td>\n",
       "    </tr>\n",
       "    <tr>\n",
       "      <th>6845</th>\n",
       "      <td>9810</td>\n",
       "      <td>trauma</td>\n",
       "      <td>Montgomery County, MD</td>\n",
       "      <td>in response to trauma Children of Addicts deve...</td>\n",
       "      <td>0</td>\n",
       "    </tr>\n",
       "  </tbody>\n",
       "</table>\n",
       "</div>"
      ],
      "text/plain": [
       "        id      keyword               location  \\\n",
       "2644  3796  destruction                    NaN   \n",
       "2227  3185       deluge                    NaN   \n",
       "5448  7769       police                     UK   \n",
       "132    191   aftershock                    NaN   \n",
       "6845  9810       trauma  Montgomery County, MD   \n",
       "\n",
       "                                                   text  target  \n",
       "2644  So you have a new weapon that can cause un-ima...       1  \n",
       "2227  The f$&amp;@ing things I do for #GISHWHES Just...       0  \n",
       "5448  DT @georgegalloway: RT @Galloway4Mayor: ÛÏThe...       1  \n",
       "132   Aftershock back to school kick off was great. ...       0  \n",
       "6845  in response to trauma Children of Addicts deve...       0  "
      ]
     },
     "execution_count": 8,
     "metadata": {},
     "output_type": "execute_result"
    }
   ],
   "source": [
    "train_df_shuffled.head()"
   ]
  },
  {
   "cell_type": "code",
   "execution_count": 9,
   "id": "3adbf9c0-2443-4be8-865a-7e17dfb272f6",
   "metadata": {
    "ExecuteTime": {
     "end_time": "2024-03-04T18:02:43.872502800Z",
     "start_time": "2024-03-04T18:02:43.771487600Z"
    },
    "tags": []
   },
   "outputs": [
    {
     "data": {
      "text/html": [
       "<div>\n",
       "<style scoped>\n",
       "    .dataframe tbody tr th:only-of-type {\n",
       "        vertical-align: middle;\n",
       "    }\n",
       "\n",
       "    .dataframe tbody tr th {\n",
       "        vertical-align: top;\n",
       "    }\n",
       "\n",
       "    .dataframe thead th {\n",
       "        text-align: right;\n",
       "    }\n",
       "</style>\n",
       "<table border=\"1\" class=\"dataframe\">\n",
       "  <thead>\n",
       "    <tr style=\"text-align: right;\">\n",
       "      <th></th>\n",
       "      <th>id</th>\n",
       "      <th>keyword</th>\n",
       "      <th>location</th>\n",
       "      <th>text</th>\n",
       "    </tr>\n",
       "  </thead>\n",
       "  <tbody>\n",
       "    <tr>\n",
       "      <th>0</th>\n",
       "      <td>0</td>\n",
       "      <td>NaN</td>\n",
       "      <td>NaN</td>\n",
       "      <td>Just happened a terrible car crash</td>\n",
       "    </tr>\n",
       "    <tr>\n",
       "      <th>1</th>\n",
       "      <td>2</td>\n",
       "      <td>NaN</td>\n",
       "      <td>NaN</td>\n",
       "      <td>Heard about #earthquake is different cities, s...</td>\n",
       "    </tr>\n",
       "    <tr>\n",
       "      <th>2</th>\n",
       "      <td>3</td>\n",
       "      <td>NaN</td>\n",
       "      <td>NaN</td>\n",
       "      <td>there is a forest fire at spot pond, geese are...</td>\n",
       "    </tr>\n",
       "    <tr>\n",
       "      <th>3</th>\n",
       "      <td>9</td>\n",
       "      <td>NaN</td>\n",
       "      <td>NaN</td>\n",
       "      <td>Apocalypse lighting. #Spokane #wildfires</td>\n",
       "    </tr>\n",
       "    <tr>\n",
       "      <th>4</th>\n",
       "      <td>11</td>\n",
       "      <td>NaN</td>\n",
       "      <td>NaN</td>\n",
       "      <td>Typhoon Soudelor kills 28 in China and Taiwan</td>\n",
       "    </tr>\n",
       "  </tbody>\n",
       "</table>\n",
       "</div>"
      ],
      "text/plain": [
       "   id keyword location                                               text\n",
       "0   0     NaN      NaN                 Just happened a terrible car crash\n",
       "1   2     NaN      NaN  Heard about #earthquake is different cities, s...\n",
       "2   3     NaN      NaN  there is a forest fire at spot pond, geese are...\n",
       "3   9     NaN      NaN           Apocalypse lighting. #Spokane #wildfires\n",
       "4  11     NaN      NaN      Typhoon Soudelor kills 28 in China and Taiwan"
      ]
     },
     "execution_count": 9,
     "metadata": {},
     "output_type": "execute_result"
    }
   ],
   "source": [
    "test_df = pd.read_csv(\"test.csv\")\n",
    "test_df.head()"
   ]
  },
  {
   "cell_type": "code",
   "execution_count": 10,
   "id": "76618383-3907-43b7-8d8c-ab0c11d36bd1",
   "metadata": {
    "ExecuteTime": {
     "end_time": "2024-03-04T18:02:43.896328800Z",
     "start_time": "2024-03-04T18:02:43.785620Z"
    },
    "tags": []
   },
   "outputs": [
    {
     "data": {
      "text/plain": [
       "0    4342\n",
       "1    3271\n",
       "Name: target, dtype: int64"
      ]
     },
     "execution_count": 10,
     "metadata": {},
     "output_type": "execute_result"
    }
   ],
   "source": [
    "train_df.target.value_counts()"
   ]
  },
  {
   "cell_type": "code",
   "execution_count": 11,
   "id": "79e866d1-b909-4b00-9b73-b388095813ea",
   "metadata": {
    "ExecuteTime": {
     "end_time": "2024-03-04T18:02:43.896328800Z",
     "start_time": "2024-03-04T18:02:43.804221Z"
    },
    "tags": []
   },
   "outputs": [
    {
     "data": {
      "text/plain": [
       "(7613, 3263)"
      ]
     },
     "execution_count": 11,
     "metadata": {},
     "output_type": "execute_result"
    }
   ],
   "source": [
    "len(train_df),len(test_df)"
   ]
  },
  {
   "cell_type": "code",
   "execution_count": 12,
   "id": "5e09cf50-ddd2-48c4-9085-a33056b9148f",
   "metadata": {
    "ExecuteTime": {
     "end_time": "2024-03-04T18:02:43.896328800Z",
     "start_time": "2024-03-04T18:02:43.830890600Z"
    },
    "tags": []
   },
   "outputs": [
    {
     "name": "stdout",
     "output_type": "stream",
     "text": [
      "Target : 0 (not real disaster)\n",
      "Text : \n",
      "If you're bored with life if you don't get up every morning with a burning desire to do things - you don't have enough goals. -Lou Holtz\n",
      "\n",
      "----\n",
      "\n",
      "Target : 0 (not real disaster)\n",
      "Text : \n",
      "If you are quiet enough you can literally hear the phandom screaming at the tyler tweet\n",
      "\n",
      "----\n",
      "\n",
      "Target : 1 (real disaster)\n",
      "Text : \n",
      "RT AbbsWinston: #Zionist #Terrorist Demolish Tire Repair Shop Structure in #Bethlehem\n",
      "http://t.co/ph2xLI8nVe http://t.co/22fuxHn7El\n",
      "\n",
      "----\n",
      "\n",
      "Target : 0 (not real disaster)\n",
      "Text : \n",
      "Man . somebody gotta stop Sbee dude too fuckin funny blood\n",
      "\n",
      "----\n",
      "\n",
      "Target : 1 (real disaster)\n",
      "Text : \n",
      "@gilderoy i wish i was good enough to add flames to my nails im on fire\n",
      "\n",
      "----\n",
      "\n"
     ]
    }
   ],
   "source": [
    "import random\n",
    "random_index = random.randint(0,len(train_df)-5)\n",
    "for row in train_df_shuffled[[\"text\",\"target\"]][random_index:random_index+5].itertuples():\n",
    "    _,text,target = row\n",
    "    print(f\"Target : {target}\", \"(real disaster)\" if target > 0 else \"(not real disaster)\")\n",
    "    print(f\"Text : \\n{text}\\n\")\n",
    "    print(\"----\\n\")\n",
    "    \n"
   ]
  },
  {
   "cell_type": "code",
   "execution_count": 13,
   "id": "ad74c677-0c39-4818-bb48-6786f310ade3",
   "metadata": {
    "ExecuteTime": {
     "end_time": "2024-03-04T18:02:43.896328800Z",
     "start_time": "2024-03-04T18:02:43.835408400Z"
    }
   },
   "outputs": [],
   "source": [
    "#007 Splitting data into training and validation sets.mp4\n",
    "from sklearn.model_selection import train_test_split\n",
    "train_sentences , val_sentences ,train_labels,val_labels = train_test_split(train_df_shuffled[\"text\"].to_numpy(),\n",
    "                                                                            train_df_shuffled[\"target\"].to_numpy(),\n",
    "                                                                            test_size = 0.1,\n",
    "                                                                            random_state = 42)\n",
    "                                                                            \n",
    "                                                                            "
   ]
  },
  {
   "cell_type": "code",
   "execution_count": 14,
   "id": "4a5ae2ca-abf6-42c5-95fa-716a6d58a315",
   "metadata": {
    "ExecuteTime": {
     "end_time": "2024-03-04T18:02:43.896328800Z",
     "start_time": "2024-03-04T18:02:43.865288100Z"
    },
    "tags": []
   },
   "outputs": [
    {
     "data": {
      "text/plain": [
       "(6851, 6851, 762, 762)"
      ]
     },
     "execution_count": 14,
     "metadata": {},
     "output_type": "execute_result"
    }
   ],
   "source": [
    "len(train_sentences),len(train_labels),len(val_sentences),len(val_labels)"
   ]
  },
  {
   "cell_type": "code",
   "execution_count": 15,
   "id": "aafb8a60-65cf-4701-8f74-9c3ed1678e12",
   "metadata": {
    "ExecuteTime": {
     "end_time": "2024-03-04T18:02:44.382399500Z",
     "start_time": "2024-03-04T18:02:43.879364400Z"
    },
    "tags": []
   },
   "outputs": [
    {
     "name": "stderr",
     "output_type": "stream",
     "text": [
      "2024-03-05 11:28:19.219590: I tensorflow/compiler/xla/stream_executor/cuda/cuda_gpu_executor.cc:981] successful NUMA node read from SysFS had negative value (-1), but there must be at least one NUMA node, so returning NUMA node zero\n",
      "2024-03-05 11:28:19.227351: I tensorflow/compiler/xla/stream_executor/cuda/cuda_gpu_executor.cc:981] successful NUMA node read from SysFS had negative value (-1), but there must be at least one NUMA node, so returning NUMA node zero\n",
      "2024-03-05 11:28:19.229240: I tensorflow/compiler/xla/stream_executor/cuda/cuda_gpu_executor.cc:981] successful NUMA node read from SysFS had negative value (-1), but there must be at least one NUMA node, so returning NUMA node zero\n",
      "2024-03-05 11:28:19.231519: I tensorflow/core/platform/cpu_feature_guard.cc:193] This TensorFlow binary is optimized with oneAPI Deep Neural Network Library (oneDNN) to use the following CPU instructions in performance-critical operations:  AVX512F AVX512_VNNI\n",
      "To enable them in other operations, rebuild TensorFlow with the appropriate compiler flags.\n",
      "2024-03-05 11:28:19.231888: I tensorflow/compiler/xla/stream_executor/cuda/cuda_gpu_executor.cc:981] successful NUMA node read from SysFS had negative value (-1), but there must be at least one NUMA node, so returning NUMA node zero\n",
      "2024-03-05 11:28:19.233767: I tensorflow/compiler/xla/stream_executor/cuda/cuda_gpu_executor.cc:981] successful NUMA node read from SysFS had negative value (-1), but there must be at least one NUMA node, so returning NUMA node zero\n",
      "2024-03-05 11:28:19.235608: I tensorflow/compiler/xla/stream_executor/cuda/cuda_gpu_executor.cc:981] successful NUMA node read from SysFS had negative value (-1), but there must be at least one NUMA node, so returning NUMA node zero\n",
      "2024-03-05 11:28:19.872785: I tensorflow/compiler/xla/stream_executor/cuda/cuda_gpu_executor.cc:981] successful NUMA node read from SysFS had negative value (-1), but there must be at least one NUMA node, so returning NUMA node zero\n",
      "2024-03-05 11:28:19.874862: I tensorflow/compiler/xla/stream_executor/cuda/cuda_gpu_executor.cc:981] successful NUMA node read from SysFS had negative value (-1), but there must be at least one NUMA node, so returning NUMA node zero\n",
      "2024-03-05 11:28:19.876392: I tensorflow/compiler/xla/stream_executor/cuda/cuda_gpu_executor.cc:981] successful NUMA node read from SysFS had negative value (-1), but there must be at least one NUMA node, so returning NUMA node zero\n",
      "2024-03-05 11:28:19.877872: I tensorflow/core/common_runtime/gpu/gpu_device.cc:1613] Created device /job:localhost/replica:0/task:0/device:GPU:0 with 13653 MB memory:  -> device: 0, name: Tesla T4, pci bus id: 0000:00:1e.0, compute capability: 7.5\n"
     ]
    }
   ],
   "source": [
    "#008 Converting text data to numbers using tokenisation and embeddings (overview).mp4\n",
    "#009 Setting up a TensorFlow TextVectorization layer to convert text to numbers.mp4\n",
    "import tensorflow as tf\n",
    "from tensorflow.keras.layers.experimental.preprocessing import TextVectorization\n",
    "#OOV  = \"Out of Vocabulary\"\n",
    "text_vectorizer = TextVectorization(max_tokens=10000,\n",
    "                                    standardize = \"lower_and_strip_punctuation\",\n",
    "                                    split = \"whitespace\",\n",
    "                                    ngrams = None,\n",
    "                                    output_mode = \"int\",\n",
    "                                    output_sequence_length=None,\n",
    "                                    pad_to_max_tokens=True)\n",
    "                                    \n",
    "                                    \n",
    "                                    "
   ]
  },
  {
   "cell_type": "code",
   "execution_count": 16,
   "id": "1e2feedf-c0d4-4085-8be1-4a21564bb2ce",
   "metadata": {
    "ExecuteTime": {
     "end_time": "2024-03-04T18:02:44.399452100Z",
     "start_time": "2024-03-04T18:02:44.382399500Z"
    },
    "tags": []
   },
   "outputs": [
    {
     "data": {
      "text/plain": [
       "15"
      ]
     },
     "execution_count": 16,
     "metadata": {},
     "output_type": "execute_result"
    }
   ],
   "source": [
    "round(sum([len(i.split()) for i in train_sentences])/len(train_sentences))"
   ]
  },
  {
   "cell_type": "code",
   "execution_count": 17,
   "id": "37b22fdf-2260-4769-ba6e-9b2d09d3af76",
   "metadata": {
    "ExecuteTime": {
     "end_time": "2024-03-04T18:02:44.444993900Z",
     "start_time": "2024-03-04T18:02:44.403113200Z"
    },
    "tags": []
   },
   "outputs": [],
   "source": [
    "max_vocab_length = 10000\n",
    "max_length = 15\n",
    "\n",
    "text_vectorizer = TextVectorization(max_tokens = max_vocab_length,\n",
    "                                    output_mode = \"int\",\n",
    "                                    output_sequence_length = max_length,\n",
    "                                   )"
   ]
  },
  {
   "cell_type": "code",
   "execution_count": 18,
   "id": "ae10c5d6-9931-406a-9c88-bb569de55bd4",
   "metadata": {
    "ExecuteTime": {
     "end_time": "2024-03-04T18:02:44.762840400Z",
     "start_time": "2024-03-04T18:02:44.413019200Z"
    },
    "tags": []
   },
   "outputs": [],
   "source": [
    "#010 Mapping the TextVectorization layer to text data and turning it into numbers\n",
    "# Fit the text vectorizer to training text\n",
    "text_vectorizer.adapt(train_sentences)"
   ]
  },
  {
   "cell_type": "code",
   "execution_count": 19,
   "id": "eab5bad5-0b97-46fb-a02d-aba95b555de4",
   "metadata": {
    "ExecuteTime": {
     "end_time": "2024-03-04T18:02:44.810392800Z",
     "start_time": "2024-03-04T18:02:44.762840400Z"
    }
   },
   "outputs": [
    {
     "name": "stdout",
     "output_type": "stream",
     "text": [
      "Original text:\n",
      " How Empire Avenue crushed my soul http://t.co/X9OFV1kMv7 via @markwschaefer\\n\n",
      "Vectorized version:\n"
     ]
    },
    {
     "data": {
      "text/plain": [
       "<tf.Tensor: shape=(1, 15), dtype=int64, numpy=\n",
       "array([[  62, 5732, 4124,  553,   13,  984,    1,   49,    1,    0,    0,\n",
       "           0,    0,    0,    0]])>"
      ]
     },
     "execution_count": 19,
     "metadata": {},
     "output_type": "execute_result"
    }
   ],
   "source": [
    "random_sentence = random.choice(train_sentences)\n",
    "print(f\"Original text:\\n {random_sentence}\\\\n\\nVectorized version:\")\n",
    "text_vectorizer([random_sentence])"
   ]
  },
  {
   "cell_type": "code",
   "execution_count": 20,
   "id": "2c659988",
   "metadata": {
    "ExecuteTime": {
     "end_time": "2024-03-04T18:02:44.874156300Z",
     "start_time": "2024-03-04T18:02:44.812985400Z"
    },
    "collapsed": false,
    "jupyter": {
     "outputs_hidden": false
    }
   },
   "outputs": [],
   "source": [
    "words_in_vocab = text_vectorizer.get_vocabulary()\n",
    "top_5_words = words_in_vocab[:5]\n",
    "bottom_5_words = words_in_vocab[-5:]\n",
    "#[UNK] meand unknown token"
   ]
  },
  {
   "cell_type": "code",
   "execution_count": 21,
   "id": "1896a0c8",
   "metadata": {
    "ExecuteTime": {
     "end_time": "2024-03-04T18:02:44.881506Z",
     "start_time": "2024-03-04T18:02:44.844680500Z"
    },
    "collapsed": false,
    "jupyter": {
     "outputs_hidden": false
    }
   },
   "outputs": [
    {
     "data": {
      "text/plain": [
       "10000"
      ]
     },
     "execution_count": 21,
     "metadata": {},
     "output_type": "execute_result"
    }
   ],
   "source": [
    "len(words_in_vocab)"
   ]
  },
  {
   "cell_type": "code",
   "execution_count": 22,
   "id": "46b57620",
   "metadata": {
    "ExecuteTime": {
     "end_time": "2024-03-04T18:02:44.881506Z",
     "start_time": "2024-03-04T18:02:44.859272900Z"
    },
    "collapsed": false,
    "jupyter": {
     "outputs_hidden": false
    }
   },
   "outputs": [],
   "source": [
    "#011 Creating an Embedding layer to turn tokenised text into embedding vectors\n",
    "from tensorflow.keras import layers\n",
    "embedding = layers.Embedding(input_dim=max_vocab_length,\n",
    "                             output_dim=128,\n",
    "                             input_length = max_length\n",
    "                             )"
   ]
  },
  {
   "cell_type": "code",
   "execution_count": 23,
   "id": "d80054b8",
   "metadata": {
    "ExecuteTime": {
     "end_time": "2024-03-04T18:02:44.942001700Z",
     "start_time": "2024-03-04T18:02:44.878786Z"
    },
    "collapsed": false,
    "jupyter": {
     "outputs_hidden": false
    }
   },
   "outputs": [
    {
     "name": "stdout",
     "output_type": "stream",
     "text": [
      "Original text:\n",
      " https://t.co/oIfN28HpCS @ArianaGrande @ScreamQueens \n",
      "Katherine's death\\n\n",
      "Embedded version:\n"
     ]
    },
    {
     "data": {
      "text/plain": [
       "<tf.Tensor: shape=(1, 15, 128), dtype=float32, numpy=\n",
       "array([[[-0.03446071,  0.02861101,  0.04845545, ..., -0.04591904,\n",
       "         -0.02351997, -0.03611988],\n",
       "        [ 0.01993027, -0.02768956,  0.0176476 , ...,  0.03288149,\n",
       "         -0.03878077,  0.00789874],\n",
       "        [ 0.02838412,  0.04856802, -0.03961058, ...,  0.0128944 ,\n",
       "          0.03254721, -0.01185586],\n",
       "        ...,\n",
       "        [-0.0458745 , -0.00540552,  0.04565303, ...,  0.016301  ,\n",
       "          0.02986077, -0.04383321],\n",
       "        [-0.0458745 , -0.00540552,  0.04565303, ...,  0.016301  ,\n",
       "          0.02986077, -0.04383321],\n",
       "        [-0.0458745 , -0.00540552,  0.04565303, ...,  0.016301  ,\n",
       "          0.02986077, -0.04383321]]], dtype=float32)>"
      ]
     },
     "execution_count": 23,
     "metadata": {},
     "output_type": "execute_result"
    }
   ],
   "source": [
    "random_sentence = random.choice(train_sentences)\n",
    "print(f\"Original text:\\n {random_sentence}\\\\n\\nEmbedded version:\")\n",
    "sample_embed = embedding(text_vectorizer([random_sentence]))\n",
    "sample_embed"
   ]
  },
  {
   "cell_type": "code",
   "execution_count": 24,
   "id": "69418b1b",
   "metadata": {
    "ExecuteTime": {
     "end_time": "2024-03-04T18:02:44.946598300Z",
     "start_time": "2024-03-04T18:02:44.937532900Z"
    },
    "collapsed": false,
    "jupyter": {
     "outputs_hidden": false
    }
   },
   "outputs": [
    {
     "data": {
      "text/plain": [
       "(<tf.Tensor: shape=(128,), dtype=float32, numpy=\n",
       " array([-3.44607122e-02,  2.86110081e-02,  4.84554507e-02,  4.92236279e-02,\n",
       "         2.58852504e-02, -3.92032862e-02,  3.65536101e-02, -3.89092341e-02,\n",
       "         1.72248222e-02,  4.96429205e-03,  1.94542892e-02,  5.69392368e-03,\n",
       "        -3.09138428e-02, -4.16278839e-04,  3.06891240e-02, -1.72143206e-02,\n",
       "         3.49266790e-02,  3.02785300e-02,  2.97123827e-02,  3.16529013e-02,\n",
       "        -4.07530777e-02, -3.54108103e-02, -5.07459044e-05,  2.92136557e-02,\n",
       "        -3.41550261e-02, -3.24343517e-03,  4.15195562e-02,  1.57643482e-03,\n",
       "         3.13948281e-02,  3.32303979e-02,  1.54138915e-02,  3.93104553e-03,\n",
       "        -2.52290815e-03, -3.47382948e-03, -1.38259418e-02,  1.30352862e-02,\n",
       "        -2.59435177e-02, -3.92327532e-02,  3.01174857e-02,  4.15392555e-02,\n",
       "        -3.03217303e-02,  3.98785956e-02,  3.70886661e-02, -2.59054191e-02,\n",
       "         3.21350135e-02,  2.86107920e-02,  1.93730108e-02, -2.22701915e-02,\n",
       "        -8.19207355e-03,  9.24841315e-03,  2.49122456e-03, -4.31074388e-02,\n",
       "         3.08334939e-02, -3.43816988e-02, -2.11888440e-02,  1.23837218e-02,\n",
       "        -4.92295511e-02,  2.34560259e-02, -1.77621134e-02, -4.95577566e-02,\n",
       "        -1.82613358e-02, -4.60891128e-02,  6.92059845e-03,  2.91181691e-02,\n",
       "        -2.76621431e-03, -7.15523958e-03,  2.87484862e-02,  3.21569294e-03,\n",
       "         4.33707498e-02, -3.22942808e-03, -4.13986817e-02,  3.29359621e-03,\n",
       "        -4.20719869e-02,  2.89850868e-02, -1.80269964e-02,  6.55194372e-03,\n",
       "        -1.88585371e-03,  1.11427791e-02, -1.32108852e-03,  2.12182067e-02,\n",
       "         4.66219224e-02,  1.61571391e-02,  2.84847133e-02, -2.19406728e-02,\n",
       "        -1.65320560e-03, -3.70844714e-02, -1.08635053e-02,  2.04018243e-02,\n",
       "         4.50742245e-03,  1.41095780e-02, -4.89316471e-02, -4.80812192e-02,\n",
       "        -1.96014531e-02,  1.55066289e-02, -2.62944456e-02, -3.41965556e-02,\n",
       "         4.06027101e-02, -2.22132355e-03, -4.93061654e-02, -7.01897219e-03,\n",
       "        -4.96583953e-02, -3.32537293e-02, -3.26873809e-02,  3.43674310e-02,\n",
       "        -4.98407260e-02, -1.49528868e-02, -2.91861184e-02,  3.60042341e-02,\n",
       "         4.64859642e-02, -2.43613608e-02,  8.45741481e-04,  1.49755366e-02,\n",
       "        -4.33673710e-03,  6.84053823e-03,  1.11740455e-02,  7.44533539e-03,\n",
       "        -7.58203119e-03,  1.32899545e-02, -6.30191714e-03,  4.52399366e-02,\n",
       "        -3.71510871e-02,  3.48844789e-02,  4.05373089e-02,  1.41284801e-02,\n",
       "        -6.86936453e-03, -4.59190384e-02, -2.35199686e-02, -3.61198783e-02],\n",
       "       dtype=float32)>,\n",
       " TensorShape([128]),\n",
       " \"https://t.co/oIfN28HpCS @ArianaGrande @ScreamQueens \\nKatherine's death\")"
      ]
     },
     "execution_count": 24,
     "metadata": {},
     "output_type": "execute_result"
    }
   ],
   "source": [
    "#check out a single token embedding\n",
    "sample_embed[0][0],sample_embed[0][0].shape,random_sentence"
   ]
  },
  {
   "cell_type": "code",
   "execution_count": 25,
   "id": "7999a0b2",
   "metadata": {
    "ExecuteTime": {
     "end_time": "2024-03-04T18:02:45.066548500Z",
     "start_time": "2024-03-04T18:02:44.938840700Z"
    },
    "collapsed": false,
    "jupyter": {
     "outputs_hidden": false
    }
   },
   "outputs": [
    {
     "data": {
      "text/html": [
       "<style>#sk-container-id-1 {color: black;background-color: white;}#sk-container-id-1 pre{padding: 0;}#sk-container-id-1 div.sk-toggleable {background-color: white;}#sk-container-id-1 label.sk-toggleable__label {cursor: pointer;display: block;width: 100%;margin-bottom: 0;padding: 0.3em;box-sizing: border-box;text-align: center;}#sk-container-id-1 label.sk-toggleable__label-arrow:before {content: \"▸\";float: left;margin-right: 0.25em;color: #696969;}#sk-container-id-1 label.sk-toggleable__label-arrow:hover:before {color: black;}#sk-container-id-1 div.sk-estimator:hover label.sk-toggleable__label-arrow:before {color: black;}#sk-container-id-1 div.sk-toggleable__content {max-height: 0;max-width: 0;overflow: hidden;text-align: left;background-color: #f0f8ff;}#sk-container-id-1 div.sk-toggleable__content pre {margin: 0.2em;color: black;border-radius: 0.25em;background-color: #f0f8ff;}#sk-container-id-1 input.sk-toggleable__control:checked~div.sk-toggleable__content {max-height: 200px;max-width: 100%;overflow: auto;}#sk-container-id-1 input.sk-toggleable__control:checked~label.sk-toggleable__label-arrow:before {content: \"▾\";}#sk-container-id-1 div.sk-estimator input.sk-toggleable__control:checked~label.sk-toggleable__label {background-color: #d4ebff;}#sk-container-id-1 div.sk-label input.sk-toggleable__control:checked~label.sk-toggleable__label {background-color: #d4ebff;}#sk-container-id-1 input.sk-hidden--visually {border: 0;clip: rect(1px 1px 1px 1px);clip: rect(1px, 1px, 1px, 1px);height: 1px;margin: -1px;overflow: hidden;padding: 0;position: absolute;width: 1px;}#sk-container-id-1 div.sk-estimator {font-family: monospace;background-color: #f0f8ff;border: 1px dotted black;border-radius: 0.25em;box-sizing: border-box;margin-bottom: 0.5em;}#sk-container-id-1 div.sk-estimator:hover {background-color: #d4ebff;}#sk-container-id-1 div.sk-parallel-item::after {content: \"\";width: 100%;border-bottom: 1px solid gray;flex-grow: 1;}#sk-container-id-1 div.sk-label:hover label.sk-toggleable__label {background-color: #d4ebff;}#sk-container-id-1 div.sk-serial::before {content: \"\";position: absolute;border-left: 1px solid gray;box-sizing: border-box;top: 0;bottom: 0;left: 50%;z-index: 0;}#sk-container-id-1 div.sk-serial {display: flex;flex-direction: column;align-items: center;background-color: white;padding-right: 0.2em;padding-left: 0.2em;position: relative;}#sk-container-id-1 div.sk-item {position: relative;z-index: 1;}#sk-container-id-1 div.sk-parallel {display: flex;align-items: stretch;justify-content: center;background-color: white;position: relative;}#sk-container-id-1 div.sk-item::before, #sk-container-id-1 div.sk-parallel-item::before {content: \"\";position: absolute;border-left: 1px solid gray;box-sizing: border-box;top: 0;bottom: 0;left: 50%;z-index: -1;}#sk-container-id-1 div.sk-parallel-item {display: flex;flex-direction: column;z-index: 1;position: relative;background-color: white;}#sk-container-id-1 div.sk-parallel-item:first-child::after {align-self: flex-end;width: 50%;}#sk-container-id-1 div.sk-parallel-item:last-child::after {align-self: flex-start;width: 50%;}#sk-container-id-1 div.sk-parallel-item:only-child::after {width: 0;}#sk-container-id-1 div.sk-dashed-wrapped {border: 1px dashed gray;margin: 0 0.4em 0.5em 0.4em;box-sizing: border-box;padding-bottom: 0.4em;background-color: white;}#sk-container-id-1 div.sk-label label {font-family: monospace;font-weight: bold;display: inline-block;line-height: 1.2em;}#sk-container-id-1 div.sk-label-container {text-align: center;}#sk-container-id-1 div.sk-container {/* jupyter's `normalize.less` sets `[hidden] { display: none; }` but bootstrap.min.css set `[hidden] { display: none !important; }` so we also need the `!important` here to be able to override the default hidden behavior on the sphinx rendered scikit-learn.org. See: https://github.com/scikit-learn/scikit-learn/issues/21755 */display: inline-block !important;position: relative;}#sk-container-id-1 div.sk-text-repr-fallback {display: none;}</style><div id=\"sk-container-id-1\" class=\"sk-top-container\"><div class=\"sk-text-repr-fallback\"><pre>Pipeline(steps=[(&#x27;tfidf&#x27;, TfidfVectorizer()), (&#x27;clf&#x27;, MultinomialNB())])</pre><b>In a Jupyter environment, please rerun this cell to show the HTML representation or trust the notebook. <br />On GitHub, the HTML representation is unable to render, please try loading this page with nbviewer.org.</b></div><div class=\"sk-container\" hidden><div class=\"sk-item sk-dashed-wrapped\"><div class=\"sk-label-container\"><div class=\"sk-label sk-toggleable\"><input class=\"sk-toggleable__control sk-hidden--visually\" id=\"sk-estimator-id-1\" type=\"checkbox\" ><label for=\"sk-estimator-id-1\" class=\"sk-toggleable__label sk-toggleable__label-arrow\">Pipeline</label><div class=\"sk-toggleable__content\"><pre>Pipeline(steps=[(&#x27;tfidf&#x27;, TfidfVectorizer()), (&#x27;clf&#x27;, MultinomialNB())])</pre></div></div></div><div class=\"sk-serial\"><div class=\"sk-item\"><div class=\"sk-estimator sk-toggleable\"><input class=\"sk-toggleable__control sk-hidden--visually\" id=\"sk-estimator-id-2\" type=\"checkbox\" ><label for=\"sk-estimator-id-2\" class=\"sk-toggleable__label sk-toggleable__label-arrow\">TfidfVectorizer</label><div class=\"sk-toggleable__content\"><pre>TfidfVectorizer()</pre></div></div></div><div class=\"sk-item\"><div class=\"sk-estimator sk-toggleable\"><input class=\"sk-toggleable__control sk-hidden--visually\" id=\"sk-estimator-id-3\" type=\"checkbox\" ><label for=\"sk-estimator-id-3\" class=\"sk-toggleable__label sk-toggleable__label-arrow\">MultinomialNB</label><div class=\"sk-toggleable__content\"><pre>MultinomialNB()</pre></div></div></div></div></div></div></div>"
      ],
      "text/plain": [
       "Pipeline(steps=[('tfidf', TfidfVectorizer()), ('clf', MultinomialNB())])"
      ]
     },
     "execution_count": 25,
     "metadata": {},
     "output_type": "execute_result"
    }
   ],
   "source": [
    "#012 Discussing the various modelling experiments we're going to run\n",
    "#013 Model 0 Building a baseline model to try and improve upon\n",
    "#Multinomial naive bais using TF_IDF formula\n",
    "from sklearn.feature_extraction.text import TfidfVectorizer\n",
    "from sklearn.naive_bayes import MultinomialNB\n",
    "from sklearn.pipeline import Pipeline\n",
    "\n",
    "model_0 = Pipeline([\n",
    "    (\"tfidf\",TfidfVectorizer()),\n",
    "    (\"clf\",MultinomialNB()),\n",
    "\n",
    "])\n",
    "model_0.fit(train_sentences,train_labels)"
   ]
  },
  {
   "cell_type": "code",
   "execution_count": 26,
   "id": "33fccd66",
   "metadata": {
    "ExecuteTime": {
     "end_time": "2024-03-04T18:02:45.083152600Z",
     "start_time": "2024-03-04T18:02:45.069037900Z"
    },
    "collapsed": false,
    "jupyter": {
     "outputs_hidden": false
    }
   },
   "outputs": [
    {
     "name": "stdout",
     "output_type": "stream",
     "text": [
      "Our baseline model achives an accuracy of : 79.27%\n"
     ]
    }
   ],
   "source": [
    "#Evalute our baseline model\n",
    "baseline_score = model_0.score(val_sentences,val_labels)\n",
    "print(f\"Our baseline model achives an accuracy of : {baseline_score*100:.2f}%\")"
   ]
  },
  {
   "cell_type": "code",
   "execution_count": 27,
   "id": "8d5b767d",
   "metadata": {
    "ExecuteTime": {
     "end_time": "2024-03-04T18:02:45.125353600Z",
     "start_time": "2024-03-04T18:02:45.084182800Z"
    },
    "collapsed": false,
    "jupyter": {
     "outputs_hidden": false
    }
   },
   "outputs": [
    {
     "data": {
      "text/plain": [
       "array([1, 1, 1, 0, 0, 1, 1, 1, 1, 0, 0, 1, 0, 0, 0, 0, 0, 0, 0, 1])"
      ]
     },
     "execution_count": 27,
     "metadata": {},
     "output_type": "execute_result"
    }
   ],
   "source": [
    "baseline_preds = model_0.predict(val_sentences)\n",
    "baseline_preds[:20]"
   ]
  },
  {
   "cell_type": "code",
   "execution_count": 28,
   "id": "bb36dbd8",
   "metadata": {
    "ExecuteTime": {
     "end_time": "2024-03-04T18:02:45.144356800Z",
     "start_time": "2024-03-04T18:02:45.098377400Z"
    },
    "collapsed": false,
    "jupyter": {
     "outputs_hidden": false
    }
   },
   "outputs": [],
   "source": [
    "#014 Creating a function to track and evaluate our model's results\n",
    "from sklearn.metrics import accuracy_score,precision_recall_fscore_support\n",
    "\n",
    "def calculate_results(y_true,y_pred):\n",
    "    model_accuracy = accuracy_score(y_true,y_pred)*100\n",
    "    model_precision,model_recall,model_f1,_=precision_recall_fscore_support(y_true, y_pred,average=\"weighted\")\n",
    "    model_results = {\"accuracy\":model_accuracy,\n",
    "                     \"precision\":model_precision,\n",
    "                     \"recall\":model_recall,\n",
    "                     \"f1\":model_f1}\n",
    "    return model_results"
   ]
  },
  {
   "cell_type": "code",
   "execution_count": 29,
   "id": "a563e734",
   "metadata": {
    "ExecuteTime": {
     "end_time": "2024-03-04T18:02:45.150024Z",
     "start_time": "2024-03-04T18:02:45.112591900Z"
    },
    "collapsed": false,
    "jupyter": {
     "outputs_hidden": false
    }
   },
   "outputs": [
    {
     "data": {
      "text/plain": [
       "{'accuracy': 79.26509186351706,\n",
       " 'precision': 0.8111390004213173,\n",
       " 'recall': 0.7926509186351706,\n",
       " 'f1': 0.7862189758049549}"
      ]
     },
     "execution_count": 29,
     "metadata": {},
     "output_type": "execute_result"
    }
   ],
   "source": [
    "baseline_results = calculate_results(y_true=val_labels,y_pred=baseline_preds)\n",
    "baseline_results\n",
    "#higher precision leads to less false positives\n",
    "#higher recall leads to less false negetives"
   ]
  },
  {
   "cell_type": "code",
   "execution_count": 30,
   "id": "59bd4f8b",
   "metadata": {
    "ExecuteTime": {
     "end_time": "2024-03-04T18:02:45.203324200Z",
     "start_time": "2024-03-04T18:02:45.144356800Z"
    },
    "collapsed": false,
    "jupyter": {
     "outputs_hidden": false
    }
   },
   "outputs": [
    {
     "name": "stdout",
     "output_type": "stream",
     "text": [
      "Model: \"model_1_dense\"\n",
      "_________________________________________________________________\n",
      " Layer (type)                Output Shape              Param #   \n",
      "=================================================================\n",
      " input_1 (InputLayer)        [(None, 1)]               0         \n",
      "                                                                 \n",
      " text_vectorization_1 (TextV  (None, 15)               0         \n",
      " ectorization)                                                   \n",
      "                                                                 \n",
      " embedding (Embedding)       (None, 15, 128)           1280000   \n",
      "                                                                 \n",
      " global_average_pooling1d (G  (None, 128)              0         \n",
      " lobalAveragePooling1D)                                          \n",
      "                                                                 \n",
      " dense (Dense)               (None, 1)                 129       \n",
      "                                                                 \n",
      "=================================================================\n",
      "Total params: 1,280,129\n",
      "Trainable params: 1,280,129\n",
      "Non-trainable params: 0\n",
      "_________________________________________________________________\n"
     ]
    }
   ],
   "source": [
    "#015 Model 1 Building, fitting and evaluating our first deep model on text data\n",
    "from helper_functions import create_tensorboard_callback\n",
    "from tensorflow.keras import layers\n",
    "SAVE_DIR = \"model_logs\"\n",
    "#build model with Function API\n",
    "inputs = layers.Input(shape=(1,),dtype=tf.string)\n",
    "x = text_vectorizer(inputs) # turn input text into numbers\n",
    "x = embedding(x)\n",
    "x = layers.GlobalAveragePooling1D()(x) #layers.Reshape((1920,))(x) #.\n",
    "outputs = layers.Dense(1,activation=\"sigmoid\")(x)\n",
    "model_1 = tf.keras.Model(inputs,outputs,name = \"model_1_dense\")\n",
    "model_1.summary()\n",
    "\n"
   ]
  },
  {
   "cell_type": "code",
   "execution_count": 31,
   "id": "bd1aaff3",
   "metadata": {
    "ExecuteTime": {
     "end_time": "2024-03-04T18:02:51.046398300Z",
     "start_time": "2024-03-04T18:02:45.196685700Z"
    },
    "collapsed": false,
    "jupyter": {
     "outputs_hidden": false
    }
   },
   "outputs": [
    {
     "name": "stdout",
     "output_type": "stream",
     "text": [
      "Saving TensorBoard log files to: model_logs/model_1_dense/20240305-112822\n",
      "Epoch 1/5\n"
     ]
    },
    {
     "name": "stderr",
     "output_type": "stream",
     "text": [
      "2024-03-05 11:28:23.726563: I tensorflow/compiler/xla/service/service.cc:173] XLA service 0x55aed57b9660 initialized for platform CUDA (this does not guarantee that XLA will be used). Devices:\n",
      "2024-03-05 11:28:23.726601: I tensorflow/compiler/xla/service/service.cc:181]   StreamExecutor device (0): Tesla T4, Compute Capability 7.5\n",
      "2024-03-05 11:28:23.731801: I tensorflow/compiler/mlir/tensorflow/utils/dump_mlir_util.cc:268] disabling MLIR crash reproducer, set env var `MLIR_CRASH_REPRODUCER_DIRECTORY` to enable.\n",
      "2024-03-05 11:28:23.874146: I tensorflow/compiler/jit/xla_compilation_cache.cc:477] Compiled cluster using XLA!  This line is logged at most once for the lifetime of the process.\n"
     ]
    },
    {
     "name": "stdout",
     "output_type": "stream",
     "text": [
      "215/215 [==============================] - 13s 53ms/step - loss: 0.6126 - accuracy: 0.6906 - val_loss: 0.5351 - val_accuracy: 0.7651\n",
      "Epoch 2/5\n",
      "215/215 [==============================] - 2s 11ms/step - loss: 0.4433 - accuracy: 0.8209 - val_loss: 0.4685 - val_accuracy: 0.7874\n",
      "Epoch 3/5\n",
      "215/215 [==============================] - 2s 9ms/step - loss: 0.3481 - accuracy: 0.8622 - val_loss: 0.4565 - val_accuracy: 0.7900\n",
      "Epoch 4/5\n",
      "215/215 [==============================] - 2s 8ms/step - loss: 0.2847 - accuracy: 0.8911 - val_loss: 0.4650 - val_accuracy: 0.7887\n",
      "Epoch 5/5\n",
      "215/215 [==============================] - 1s 5ms/step - loss: 0.2379 - accuracy: 0.9118 - val_loss: 0.4821 - val_accuracy: 0.7874\n"
     ]
    }
   ],
   "source": [
    "model_1.compile(loss=\"binary_crossentropy\",\n",
    "                optimizer=tf.keras.optimizers.Adam(),\n",
    "                metrics=[\"accuracy\"])\n",
    "\n",
    "model_1_history = model_1.fit(x=train_sentences,\n",
    "                              y=train_labels,\n",
    "                              epochs=5,\n",
    "                              validation_data=(val_sentences,val_labels),\n",
    "                              callbacks=[create_tensorboard_callback(dir_name=SAVE_DIR,\n",
    "                                                                     experiment_name=\"model_1_dense\")])"
   ]
  },
  {
   "cell_type": "code",
   "execution_count": 32,
   "id": "51be9e6a",
   "metadata": {
    "ExecuteTime": {
     "end_time": "2024-03-04T18:02:51.156162500Z",
     "start_time": "2024-03-04T18:02:51.048169800Z"
    },
    "collapsed": false,
    "jupyter": {
     "outputs_hidden": false
    }
   },
   "outputs": [
    {
     "name": "stdout",
     "output_type": "stream",
     "text": [
      "24/24 [==============================] - 0s 2ms/step - loss: 0.4821 - accuracy: 0.7874\n"
     ]
    },
    {
     "data": {
      "text/plain": [
       "[0.4821498990058899, 0.787401556968689]"
      ]
     },
     "execution_count": 32,
     "metadata": {},
     "output_type": "execute_result"
    }
   ],
   "source": [
    "model_1.evaluate(val_sentences,val_labels)"
   ]
  },
  {
   "cell_type": "code",
   "execution_count": 33,
   "id": "590996a3",
   "metadata": {
    "ExecuteTime": {
     "end_time": "2024-03-04T18:02:51.320569800Z",
     "start_time": "2024-03-04T18:02:51.156162500Z"
    },
    "collapsed": false,
    "jupyter": {
     "outputs_hidden": false
    }
   },
   "outputs": [
    {
     "name": "stdout",
     "output_type": "stream",
     "text": [
      "24/24 [==============================] - 0s 2ms/step\n"
     ]
    },
    {
     "data": {
      "text/plain": [
       "array([0.37263942], dtype=float32)"
      ]
     },
     "execution_count": 33,
     "metadata": {},
     "output_type": "execute_result"
    }
   ],
   "source": [
    "model_1_pred_probs = model_1.predict(val_sentences)\n",
    "model_1_pred_probs[0]"
   ]
  },
  {
   "cell_type": "code",
   "execution_count": 34,
   "id": "992dff2a",
   "metadata": {
    "ExecuteTime": {
     "end_time": "2024-03-04T18:02:51.330061Z",
     "start_time": "2024-03-04T18:02:51.314288700Z"
    },
    "collapsed": false,
    "jupyter": {
     "outputs_hidden": false
    }
   },
   "outputs": [],
   "source": [
    "model_1_preds = tf.squeeze(tf.round(model_1_pred_probs))"
   ]
  },
  {
   "cell_type": "code",
   "execution_count": 35,
   "id": "77df5783",
   "metadata": {
    "ExecuteTime": {
     "end_time": "2024-03-04T18:02:51.379777Z",
     "start_time": "2024-03-04T18:02:51.330061Z"
    },
    "collapsed": false,
    "jupyter": {
     "outputs_hidden": false
    }
   },
   "outputs": [
    {
     "data": {
      "text/plain": [
       "<tf.Tensor: shape=(762,), dtype=float32, numpy=\n",
       "array([0., 1., 1., 0., 0., 1., 1., 1., 1., 0., 0., 1., 0., 0., 0., 0., 0.,\n",
       "       0., 0., 1., 1., 0., 0., 0., 1., 1., 0., 0., 0., 0., 1., 0., 0., 0.,\n",
       "       0., 0., 1., 0., 0., 1., 0., 0., 0., 0., 1., 1., 0., 1., 0., 1., 0.,\n",
       "       0., 0., 0., 0., 0., 0., 1., 0., 0., 0., 1., 1., 0., 1., 1., 1., 0.,\n",
       "       0., 0., 0., 0., 1., 0., 0., 0., 0., 1., 0., 1., 0., 0., 1., 0., 0.,\n",
       "       0., 0., 0., 1., 1., 1., 0., 1., 0., 1., 1., 1., 1., 1., 1., 1., 0.,\n",
       "       0., 1., 1., 0., 1., 1., 0., 0., 1., 0., 0., 0., 0., 0., 0., 1., 1.,\n",
       "       0., 1., 0., 0., 1., 0., 0., 1., 0., 0., 1., 0., 1., 1., 1., 1., 0.,\n",
       "       1., 0., 0., 0., 1., 0., 0., 1., 0., 1., 0., 0., 0., 1., 0., 0., 0.,\n",
       "       0., 0., 1., 1., 0., 1., 0., 1., 0., 0., 1., 0., 0., 1., 0., 1., 0.,\n",
       "       1., 1., 1., 0., 1., 0., 0., 0., 1., 1., 0., 1., 1., 1., 1., 0., 0.,\n",
       "       1., 0., 0., 0., 1., 0., 0., 0., 0., 0., 0., 1., 0., 0., 1., 1., 0.,\n",
       "       0., 1., 1., 1., 1., 1., 0., 1., 0., 0., 0., 0., 1., 1., 1., 0., 1.,\n",
       "       0., 0., 0., 1., 0., 0., 1., 1., 1., 0., 0., 1., 0., 0., 0., 1., 0.,\n",
       "       0., 0., 0., 0., 1., 1., 0., 0., 1., 0., 0., 0., 0., 1., 0., 0., 1.,\n",
       "       0., 1., 1., 0., 0., 0., 0., 0., 1., 1., 1., 1., 0., 0., 0., 0., 0.,\n",
       "       1., 0., 0., 1., 0., 0., 1., 0., 0., 0., 1., 1., 1., 1., 1., 0., 1.,\n",
       "       0., 1., 0., 0., 0., 0., 1., 0., 1., 0., 1., 0., 0., 0., 1., 0., 0.,\n",
       "       0., 0., 0., 0., 0., 1., 0., 0., 1., 0., 1., 0., 0., 0., 0., 0., 1.,\n",
       "       0., 1., 0., 0., 1., 0., 1., 0., 0., 1., 0., 0., 1., 0., 0., 1., 1.,\n",
       "       0., 0., 1., 1., 1., 0., 1., 0., 0., 0., 0., 1., 0., 0., 0., 0., 1.,\n",
       "       1., 1., 0., 0., 0., 0., 1., 0., 0., 0., 0., 1., 0., 0., 0., 0., 0.,\n",
       "       0., 0., 0., 0., 0., 1., 1., 0., 1., 0., 0., 1., 1., 0., 1., 0., 1.,\n",
       "       0., 0., 1., 0., 1., 0., 0., 0., 0., 1., 0., 1., 1., 0., 1., 0., 0.,\n",
       "       0., 1., 1., 0., 0., 0., 1., 1., 0., 0., 1., 0., 1., 0., 1., 1., 0.,\n",
       "       0., 0., 1., 1., 0., 0., 0., 0., 0., 0., 0., 0., 0., 1., 1., 0., 1.,\n",
       "       0., 0., 0., 1., 0., 0., 0., 1., 0., 1., 1., 1., 1., 1., 0., 0., 1.,\n",
       "       1., 1., 0., 0., 0., 1., 1., 0., 0., 1., 0., 0., 1., 0., 0., 1., 0.,\n",
       "       0., 1., 0., 0., 0., 0., 0., 1., 0., 0., 1., 0., 0., 0., 0., 1., 1.,\n",
       "       0., 0., 0., 0., 1., 0., 1., 1., 1., 1., 1., 0., 0., 0., 1., 0., 0.,\n",
       "       0., 0., 0., 0., 1., 0., 1., 1., 1., 1., 0., 0., 1., 0., 0., 0., 0.,\n",
       "       0., 1., 1., 1., 1., 0., 0., 1., 0., 0., 0., 1., 0., 0., 0., 0., 0.,\n",
       "       0., 0., 0., 1., 1., 0., 1., 1., 0., 1., 0., 0., 0., 0., 0., 0., 0.,\n",
       "       0., 1., 0., 1., 0., 1., 1., 0., 0., 1., 1., 1., 0., 0., 0., 0., 0.,\n",
       "       1., 0., 0., 0., 1., 0., 0., 1., 0., 0., 0., 0., 0., 0., 0., 0., 0.,\n",
       "       0., 0., 1., 1., 0., 0., 0., 1., 1., 1., 0., 1., 0., 1., 1., 0., 1.,\n",
       "       0., 0., 1., 0., 0., 0., 0., 0., 1., 0., 1., 0., 1., 0., 0., 0., 1.,\n",
       "       0., 0., 1., 1., 1., 1., 0., 0., 0., 0., 0., 1., 0., 1., 1., 0., 0.,\n",
       "       0., 0., 0., 1., 1., 0., 0., 0., 0., 0., 0., 1., 0., 0., 0., 0., 1.,\n",
       "       0., 1., 0., 0., 0., 1., 1., 0., 0., 0., 0., 1., 0., 1., 0., 0., 1.,\n",
       "       0., 0., 1., 0., 0., 1., 0., 0., 0., 0., 1., 1., 1., 0., 1., 0., 1.,\n",
       "       0., 1., 0., 0., 0., 1., 0., 0., 0., 0., 0., 0., 0., 0., 0., 1., 0.,\n",
       "       0., 0., 0., 0., 1., 0., 1., 0., 0., 1., 0., 0., 0., 0., 1., 0., 0.,\n",
       "       1., 1., 1., 1., 1., 0., 0., 0., 1., 1., 0., 0., 0., 1., 0., 0., 0.,\n",
       "       0., 0., 0., 0., 1., 0., 1., 1., 0., 0., 0., 1., 0., 0.],\n",
       "      dtype=float32)>"
      ]
     },
     "execution_count": 35,
     "metadata": {},
     "output_type": "execute_result"
    }
   ],
   "source": [
    "model_1_preds"
   ]
  },
  {
   "cell_type": "code",
   "execution_count": 36,
   "id": "ac41fcf2",
   "metadata": {
    "ExecuteTime": {
     "end_time": "2024-03-04T18:02:51.388405800Z",
     "start_time": "2024-03-04T18:02:51.348137400Z"
    },
    "collapsed": false,
    "jupyter": {
     "outputs_hidden": false
    }
   },
   "outputs": [
    {
     "data": {
      "text/plain": [
       "{'accuracy': 78.74015748031496,\n",
       " 'precision': 0.7937136229340627,\n",
       " 'recall': 0.7874015748031497,\n",
       " 'f1': 0.7839588199365206}"
      ]
     },
     "execution_count": 36,
     "metadata": {},
     "output_type": "execute_result"
    }
   ],
   "source": [
    "#calculate model 1 results\n",
    "model_1_results = calculate_results(y_true=val_labels,\n",
    "                                    y_pred=model_1_preds)\n",
    "model_1_results"
   ]
  },
  {
   "cell_type": "code",
   "execution_count": 37,
   "id": "e09908e9",
   "metadata": {
    "ExecuteTime": {
     "end_time": "2024-03-04T18:02:51.388405800Z",
     "start_time": "2024-03-04T18:02:51.366271800Z"
    },
    "collapsed": false,
    "jupyter": {
     "outputs_hidden": false
    }
   },
   "outputs": [
    {
     "data": {
      "text/plain": [
       "{'accuracy': 79.26509186351706,\n",
       " 'precision': 0.8111390004213173,\n",
       " 'recall': 0.7926509186351706,\n",
       " 'f1': 0.7862189758049549}"
      ]
     },
     "execution_count": 37,
     "metadata": {},
     "output_type": "execute_result"
    }
   ],
   "source": [
    "baseline_results"
   ]
  },
  {
   "cell_type": "code",
   "execution_count": 38,
   "id": "87bbb993",
   "metadata": {
    "ExecuteTime": {
     "end_time": "2024-03-04T18:02:51.443641500Z",
     "start_time": "2024-03-04T18:02:51.382799600Z"
    },
    "collapsed": false,
    "jupyter": {
     "outputs_hidden": false
    }
   },
   "outputs": [],
   "source": [
    "#016 Visualising our model's learned word embeddings with TensorFlow's projector tool\n",
    "words_in_vocab = text_vectorizer.get_vocabulary()"
   ]
  },
  {
   "cell_type": "code",
   "execution_count": 39,
   "id": "b421d5b8",
   "metadata": {
    "ExecuteTime": {
     "end_time": "2024-03-04T18:02:51.444730400Z",
     "start_time": "2024-03-04T18:02:51.414762600Z"
    },
    "collapsed": false,
    "jupyter": {
     "outputs_hidden": false
    }
   },
   "outputs": [
    {
     "data": {
      "text/plain": [
       "(10000, ['', '[UNK]', 'the', 'a', 'in', 'to', 'of', 'and', 'i', 'is'])"
      ]
     },
     "execution_count": 39,
     "metadata": {},
     "output_type": "execute_result"
    }
   ],
   "source": [
    "len(words_in_vocab),words_in_vocab[:10]"
   ]
  },
  {
   "cell_type": "code",
   "execution_count": 40,
   "id": "9d375ba7",
   "metadata": {
    "ExecuteTime": {
     "end_time": "2024-03-04T18:02:51.451976600Z",
     "start_time": "2024-03-04T18:02:51.430916700Z"
    },
    "collapsed": false,
    "jupyter": {
     "outputs_hidden": false
    }
   },
   "outputs": [
    {
     "name": "stdout",
     "output_type": "stream",
     "text": [
      "Model: \"model_1_dense\"\n",
      "_________________________________________________________________\n",
      " Layer (type)                Output Shape              Param #   \n",
      "=================================================================\n",
      " input_1 (InputLayer)        [(None, 1)]               0         \n",
      "                                                                 \n",
      " text_vectorization_1 (TextV  (None, 15)               0         \n",
      " ectorization)                                                   \n",
      "                                                                 \n",
      " embedding (Embedding)       (None, 15, 128)           1280000   \n",
      "                                                                 \n",
      " global_average_pooling1d (G  (None, 128)              0         \n",
      " lobalAveragePooling1D)                                          \n",
      "                                                                 \n",
      " dense (Dense)               (None, 1)                 129       \n",
      "                                                                 \n",
      "=================================================================\n",
      "Total params: 1,280,129\n",
      "Trainable params: 1,280,129\n",
      "Non-trainable params: 0\n",
      "_________________________________________________________________\n"
     ]
    }
   ],
   "source": [
    "model_1.summary()"
   ]
  },
  {
   "cell_type": "code",
   "execution_count": 41,
   "id": "63338d79",
   "metadata": {
    "ExecuteTime": {
     "end_time": "2024-03-04T18:02:51.459481700Z",
     "start_time": "2024-03-04T18:02:51.444730400Z"
    },
    "collapsed": false,
    "jupyter": {
     "outputs_hidden": false
    }
   },
   "outputs": [
    {
     "data": {
      "text/plain": [
       "(10000, 128)"
      ]
     },
     "execution_count": 41,
     "metadata": {},
     "output_type": "execute_result"
    }
   ],
   "source": [
    "embed_weights = model_1.get_layer(\"embedding\").get_weights()[0]\n",
    "embed_weights.shape\n",
    "#https://projector.tensorflow.org/\n",
    "#https://www.tensorflow.org/text/guide/word_embeddings#retrieve_the_trained_word_embeddings_and_save_them_to_disk"
   ]
  },
  {
   "cell_type": "code",
   "execution_count": 42,
   "id": "1d7c9c63",
   "metadata": {
    "ExecuteTime": {
     "end_time": "2024-03-04T18:02:52.320601100Z",
     "start_time": "2024-03-04T18:02:51.462019800Z"
    },
    "collapsed": false,
    "jupyter": {
     "outputs_hidden": false
    }
   },
   "outputs": [],
   "source": [
    "import io\n",
    "out_v = io.open('vectors.tsv', 'w', encoding='utf-8')\n",
    "out_m = io.open('metadata.tsv', 'w', encoding='utf-8')\n",
    "\n",
    "for index, word in enumerate(words_in_vocab):\n",
    "  if index == 0:\n",
    "    continue  # skip 0, it's padding.\n",
    "  vec = embed_weights[index]\n",
    "  out_v.write('\\t'.join([str(x) for x in vec]) + \"\\n\")\n",
    "  out_m.write(word + \"\\n\")\n",
    "out_v.close()\n",
    "out_m.close()"
   ]
  },
  {
   "cell_type": "code",
   "execution_count": 43,
   "id": "976b1f2a",
   "metadata": {
    "ExecuteTime": {
     "end_time": "2024-03-04T18:02:52.542276100Z",
     "start_time": "2024-03-04T18:02:52.322191700Z"
    },
    "collapsed": false,
    "jupyter": {
     "outputs_hidden": false
    }
   },
   "outputs": [],
   "source": [
    "#017 High-level overview of Recurrent Neural Networks (RNNs) + where to learn more\n",
    "#018 Model 2 Building, fitting and evaluating our first TensorFlow RNN model (LSTM)\n",
    "#MOdel 2 LSTM\n",
    "from tensorflow.keras import layers\n",
    "inputs = layers.Input(shape = (1,),dtype = \"string\")\n",
    "x = text_vectorizer(inputs)\n",
    "x = embedding(x)\n",
    "# x = layers.LSTM(units=64,return_sequences=True)(x)\n",
    "# x = layers.LSTM(units=64,return_sequences=True)(x)\n",
    "x = layers.LSTM(64)(x)\n",
    "# x = layers.Dense(64,activation=\"relu\")(x)\n",
    "outputs = layers.Dense(1,activation=\"sigmoid\")(x)\n",
    "model_2 = tf.keras.Model(inputs,outputs,name=\"model_2_LSTM\")\n"
   ]
  },
  {
   "cell_type": "code",
   "execution_count": 44,
   "id": "cc12a65f",
   "metadata": {
    "ExecuteTime": {
     "end_time": "2024-03-04T18:02:52.557661300Z",
     "start_time": "2024-03-04T18:02:52.542276100Z"
    },
    "collapsed": false,
    "jupyter": {
     "outputs_hidden": false
    }
   },
   "outputs": [
    {
     "name": "stdout",
     "output_type": "stream",
     "text": [
      "Model: \"model_2_LSTM\"\n",
      "_________________________________________________________________\n",
      " Layer (type)                Output Shape              Param #   \n",
      "=================================================================\n",
      " input_2 (InputLayer)        [(None, 1)]               0         \n",
      "                                                                 \n",
      " text_vectorization_1 (TextV  (None, 15)               0         \n",
      " ectorization)                                                   \n",
      "                                                                 \n",
      " embedding (Embedding)       (None, 15, 128)           1280000   \n",
      "                                                                 \n",
      " lstm (LSTM)                 (None, 64)                49408     \n",
      "                                                                 \n",
      " dense_1 (Dense)             (None, 1)                 65        \n",
      "                                                                 \n",
      "=================================================================\n",
      "Total params: 1,329,473\n",
      "Trainable params: 1,329,473\n",
      "Non-trainable params: 0\n",
      "_________________________________________________________________\n"
     ]
    }
   ],
   "source": [
    "model_2.summary()"
   ]
  },
  {
   "cell_type": "code",
   "execution_count": 45,
   "id": "7ad0ef70",
   "metadata": {
    "ExecuteTime": {
     "end_time": "2024-03-04T18:03:02.019362600Z",
     "start_time": "2024-03-04T18:02:52.560321800Z"
    },
    "collapsed": false,
    "jupyter": {
     "outputs_hidden": false
    }
   },
   "outputs": [
    {
     "name": "stdout",
     "output_type": "stream",
     "text": [
      "Saving TensorBoard log files to: model_logs/model_2_LSTM/20240305-112845\n",
      "Epoch 1/5\n"
     ]
    },
    {
     "name": "stderr",
     "output_type": "stream",
     "text": [
      "2024-03-05 11:28:48.160373: I tensorflow/compiler/xla/stream_executor/cuda/cuda_dnn.cc:428] Loaded cuDNN version 8204\n"
     ]
    },
    {
     "name": "stdout",
     "output_type": "stream",
     "text": [
      "215/215 [==============================] - 11s 35ms/step - loss: 0.2258 - accuracy: 0.9153 - val_loss: 0.5888 - val_accuracy: 0.7808\n",
      "Epoch 2/5\n",
      "215/215 [==============================] - 2s 10ms/step - loss: 0.1571 - accuracy: 0.9439 - val_loss: 0.5970 - val_accuracy: 0.7795\n",
      "Epoch 3/5\n",
      "215/215 [==============================] - 2s 9ms/step - loss: 0.1301 - accuracy: 0.9520 - val_loss: 0.6242 - val_accuracy: 0.7861\n",
      "Epoch 4/5\n",
      "215/215 [==============================] - 2s 9ms/step - loss: 0.1069 - accuracy: 0.9583 - val_loss: 0.8071 - val_accuracy: 0.7822\n",
      "Epoch 5/5\n",
      "215/215 [==============================] - 1s 6ms/step - loss: 0.0899 - accuracy: 0.9639 - val_loss: 0.8812 - val_accuracy: 0.7808\n"
     ]
    }
   ],
   "source": [
    "model_2.compile(loss=\"binary_crossentropy\",\n",
    "                optimizer=tf.keras.optimizers.Adam(),\n",
    "                metrics=['accuracy'])\n",
    "model_2_history = model_2.fit(train_sentences,\n",
    "                              train_labels,\n",
    "                              epochs=5,\n",
    "                              validation_data=(val_sentences,val_labels),\n",
    "                              callbacks=[create_tensorboard_callback(SAVE_DIR,\n",
    "                                                                       \"model_2_LSTM\")])"
   ]
  },
  {
   "cell_type": "code",
   "execution_count": 46,
   "id": "b3407289",
   "metadata": {
    "ExecuteTime": {
     "end_time": "2024-03-04T18:03:02.389568200Z",
     "start_time": "2024-03-04T18:03:02.019362600Z"
    },
    "collapsed": false,
    "jupyter": {
     "outputs_hidden": false
    }
   },
   "outputs": [
    {
     "name": "stdout",
     "output_type": "stream",
     "text": [
      "24/24 [==============================] - 0s 2ms/step\n"
     ]
    },
    {
     "data": {
      "text/plain": [
       "array([[2.1982864e-02],\n",
       "       [5.9287053e-01],\n",
       "       [9.9953151e-01],\n",
       "       [4.9944595e-02],\n",
       "       [4.3759463e-04],\n",
       "       [9.9880099e-01],\n",
       "       [7.5356019e-01],\n",
       "       [9.9977201e-01],\n",
       "       [9.9958760e-01],\n",
       "       [7.8607088e-01]], dtype=float32)"
      ]
     },
     "execution_count": 46,
     "metadata": {},
     "output_type": "execute_result"
    }
   ],
   "source": [
    "#make prediction with LSTM Model\n",
    "model_2_pred_probs = model_2.predict(val_sentences)\n",
    "model_2_pred_probs[:10]"
   ]
  },
  {
   "cell_type": "code",
   "execution_count": 47,
   "id": "62d6cb94",
   "metadata": {
    "ExecuteTime": {
     "end_time": "2024-03-04T18:03:02.409093400Z",
     "start_time": "2024-03-04T18:03:02.389568200Z"
    },
    "collapsed": false,
    "jupyter": {
     "outputs_hidden": false
    }
   },
   "outputs": [],
   "source": [
    "model_2_pred=tf.squeeze(tf.round(model_2_pred_probs))"
   ]
  },
  {
   "cell_type": "code",
   "execution_count": 48,
   "id": "ef390fc4",
   "metadata": {
    "ExecuteTime": {
     "end_time": "2024-03-04T18:03:02.418598500Z",
     "start_time": "2024-03-04T18:03:02.402932100Z"
    },
    "collapsed": false,
    "jupyter": {
     "outputs_hidden": false
    }
   },
   "outputs": [],
   "source": [
    "model_2_results = calculate_results(y_true=val_labels,\n",
    "                                    y_pred=model_2_pred)"
   ]
  },
  {
   "cell_type": "code",
   "execution_count": 49,
   "id": "15a1c7c4",
   "metadata": {
    "ExecuteTime": {
     "end_time": "2024-03-04T18:03:02.434485500Z",
     "start_time": "2024-03-04T18:03:02.418598500Z"
    },
    "collapsed": false,
    "jupyter": {
     "outputs_hidden": false
    }
   },
   "outputs": [
    {
     "data": {
      "text/plain": [
       "{'accuracy': 78.08398950131233,\n",
       " 'precision': 0.7831507995990558,\n",
       " 'recall': 0.7808398950131233,\n",
       " 'f1': 0.7786634307220067}"
      ]
     },
     "execution_count": 49,
     "metadata": {},
     "output_type": "execute_result"
    }
   ],
   "source": [
    "model_2_results"
   ]
  },
  {
   "cell_type": "code",
   "execution_count": 50,
   "id": "3e865f4d",
   "metadata": {
    "ExecuteTime": {
     "end_time": "2024-03-04T18:03:02.482101800Z",
     "start_time": "2024-03-04T18:03:02.437276600Z"
    },
    "collapsed": false,
    "jupyter": {
     "outputs_hidden": false
    }
   },
   "outputs": [
    {
     "data": {
      "text/plain": [
       "{'accuracy': 79.26509186351706,\n",
       " 'precision': 0.8111390004213173,\n",
       " 'recall': 0.7926509186351706,\n",
       " 'f1': 0.7862189758049549}"
      ]
     },
     "execution_count": 50,
     "metadata": {},
     "output_type": "execute_result"
    }
   ],
   "source": [
    "baseline_results"
   ]
  },
  {
   "cell_type": "code",
   "execution_count": 51,
   "id": "b4daeffd",
   "metadata": {
    "ExecuteTime": {
     "end_time": "2024-03-04T18:03:02.644470700Z",
     "start_time": "2024-03-04T18:03:02.454154300Z"
    },
    "collapsed": false,
    "jupyter": {
     "outputs_hidden": false
    }
   },
   "outputs": [],
   "source": [
    "#019 Model 3 Building, fitting and evaluating a GRU-cell powered RNN\n",
    "#Gated Recurrent Unit\n",
    "from tensorflow.keras import layers\n",
    "inputs = layers.Input(shape=(1,),dtype = tf.string)\n",
    "x = text_vectorizer(inputs)\n",
    "x = embedding(x)\n",
    "x = layers.GRU(64)(x)\n",
    "# x= layers.LSTM(64,return_sequences=True)(x)\n",
    "# x = layers.GRU(64)(x)\n",
    "# x= layers.GlobalAveragePooling1D()(x)\n",
    "x = layers.Dense(64,activation='relu')(x)\n",
    "outputs = layers.Dense(1,activation='sigmoid')(x)\n",
    "model_3 = tf.keras.Model(inputs,outputs,name = \"model_3_GRU\")"
   ]
  },
  {
   "cell_type": "code",
   "execution_count": 52,
   "id": "e93cedec",
   "metadata": {
    "ExecuteTime": {
     "end_time": "2024-03-04T18:03:02.659303100Z",
     "start_time": "2024-03-04T18:03:02.644470700Z"
    },
    "collapsed": false,
    "jupyter": {
     "outputs_hidden": false
    }
   },
   "outputs": [
    {
     "name": "stdout",
     "output_type": "stream",
     "text": [
      "Model: \"model_3_GRU\"\n",
      "_________________________________________________________________\n",
      " Layer (type)                Output Shape              Param #   \n",
      "=================================================================\n",
      " input_3 (InputLayer)        [(None, 1)]               0         \n",
      "                                                                 \n",
      " text_vectorization_1 (TextV  (None, 15)               0         \n",
      " ectorization)                                                   \n",
      "                                                                 \n",
      " embedding (Embedding)       (None, 15, 128)           1280000   \n",
      "                                                                 \n",
      " gru (GRU)                   (None, 64)                37248     \n",
      "                                                                 \n",
      " dense_2 (Dense)             (None, 64)                4160      \n",
      "                                                                 \n",
      " dense_3 (Dense)             (None, 1)                 65        \n",
      "                                                                 \n",
      "=================================================================\n",
      "Total params: 1,321,473\n",
      "Trainable params: 1,321,473\n",
      "Non-trainable params: 0\n",
      "_________________________________________________________________\n"
     ]
    }
   ],
   "source": [
    "model_3.summary()"
   ]
  },
  {
   "cell_type": "code",
   "execution_count": 53,
   "id": "1678a1b8",
   "metadata": {
    "ExecuteTime": {
     "end_time": "2024-03-04T18:03:11.558687600Z",
     "start_time": "2024-03-04T18:03:02.660710400Z"
    },
    "collapsed": false,
    "jupyter": {
     "outputs_hidden": false
    }
   },
   "outputs": [
    {
     "name": "stdout",
     "output_type": "stream",
     "text": [
      "Saving TensorBoard log files to: model_logs/model_3_GRU/20240305-112905\n",
      "Epoch 1/5\n",
      "215/215 [==============================] - 10s 36ms/step - loss: 0.1590 - accuracy: 0.9380 - val_loss: 0.8144 - val_accuracy: 0.7782\n",
      "Epoch 2/5\n",
      "215/215 [==============================] - 2s 10ms/step - loss: 0.0833 - accuracy: 0.9688 - val_loss: 0.7902 - val_accuracy: 0.7651\n",
      "Epoch 3/5\n",
      "215/215 [==============================] - 1s 7ms/step - loss: 0.0687 - accuracy: 0.9724 - val_loss: 1.1449 - val_accuracy: 0.7808\n",
      "Epoch 4/5\n",
      "215/215 [==============================] - 2s 8ms/step - loss: 0.0606 - accuracy: 0.9736 - val_loss: 1.2756 - val_accuracy: 0.7690\n",
      "Epoch 5/5\n",
      "215/215 [==============================] - 2s 7ms/step - loss: 0.0508 - accuracy: 0.9783 - val_loss: 1.2301 - val_accuracy: 0.7664\n"
     ]
    }
   ],
   "source": [
    "model_3.compile(loss=\"binary_crossentropy\",\n",
    "                optimizer=tf.keras.optimizers.Adam(),\n",
    "                metrics=['accuracy'])\n",
    "model_3_history = model_3.fit(train_sentences,\n",
    "                              train_labels,\n",
    "                              epochs=5,\n",
    "                              validation_data=(val_sentences,val_labels),\n",
    "                              callbacks=[create_tensorboard_callback(SAVE_DIR,\n",
    "                                                                       \"model_3_GRU\")])"
   ]
  },
  {
   "cell_type": "code",
   "execution_count": 54,
   "id": "d575083d",
   "metadata": {
    "ExecuteTime": {
     "end_time": "2024-03-04T18:03:11.909301600Z",
     "start_time": "2024-03-04T18:03:11.529776600Z"
    },
    "collapsed": false,
    "jupyter": {
     "outputs_hidden": false
    }
   },
   "outputs": [
    {
     "name": "stdout",
     "output_type": "stream",
     "text": [
      "24/24 [==============================] - 0s 2ms/step\n"
     ]
    },
    {
     "data": {
      "text/plain": [
       "{'accuracy': 76.64041994750657,\n",
       " 'precision': 0.7687205386590334,\n",
       " 'recall': 0.7664041994750657,\n",
       " 'f1': 0.7638750072248873}"
      ]
     },
     "execution_count": 54,
     "metadata": {},
     "output_type": "execute_result"
    }
   ],
   "source": [
    "model_3_pred_probs = model_3.predict(val_sentences)\n",
    "model_3_pred=tf.squeeze(tf.round(model_3_pred_probs))\n",
    "model_3_results = calculate_results(y_true=val_labels,\n",
    "                                    y_pred=model_3_pred)\n",
    "model_3_results"
   ]
  },
  {
   "cell_type": "code",
   "execution_count": 55,
   "id": "3f23bd8a",
   "metadata": {
    "ExecuteTime": {
     "end_time": "2024-03-04T18:03:11.909301600Z",
     "start_time": "2024-03-04T18:03:11.879509300Z"
    },
    "collapsed": false,
    "jupyter": {
     "outputs_hidden": false
    }
   },
   "outputs": [
    {
     "data": {
      "text/plain": [
       "{'accuracy': 78.08398950131233,\n",
       " 'precision': 0.7831507995990558,\n",
       " 'recall': 0.7808398950131233,\n",
       " 'f1': 0.7786634307220067}"
      ]
     },
     "execution_count": 55,
     "metadata": {},
     "output_type": "execute_result"
    }
   ],
   "source": [
    "model_2_results"
   ]
  },
  {
   "cell_type": "code",
   "execution_count": 56,
   "id": "0730d949",
   "metadata": {
    "ExecuteTime": {
     "end_time": "2024-03-04T18:03:12.643701300Z",
     "start_time": "2024-03-04T18:03:11.909301600Z"
    },
    "collapsed": false,
    "jupyter": {
     "outputs_hidden": false
    },
    "tags": []
   },
   "outputs": [],
   "source": [
    "#020 Model 4 Building, fitting and evaluating a bidirectional RNN model\n",
    "from tensorflow.keras import layers\n",
    "inputs = layers.Input(shape=(1,), dtype=tf.string)\n",
    "x = text_vectorizer(inputs)\n",
    "x = embedding(x)\n",
    "x= layers.Bidirectional(layers.LSTM(64,return_sequences=True))(x)\n",
    "x = layers.Bidirectional(layers.GRU(64))(x)\n",
    "outputs = layers.Dense(1,activation=\"sigmoid\")(x)\n",
    "model_4 = tf.keras.Model(inputs,outputs,name=\"model_4_bidirectional\")"
   ]
  },
  {
   "cell_type": "code",
   "execution_count": 57,
   "id": "3752b630-ef14-4c02-a336-9dd50d7fc92c",
   "metadata": {
    "ExecuteTime": {
     "end_time": "2024-03-04T18:03:12.656979600Z",
     "start_time": "2024-03-04T18:03:12.644719800Z"
    },
    "tags": []
   },
   "outputs": [
    {
     "name": "stdout",
     "output_type": "stream",
     "text": [
      "Model: \"model_4_bidirectional\"\n",
      "_________________________________________________________________\n",
      " Layer (type)                Output Shape              Param #   \n",
      "=================================================================\n",
      " input_4 (InputLayer)        [(None, 1)]               0         \n",
      "                                                                 \n",
      " text_vectorization_1 (TextV  (None, 15)               0         \n",
      " ectorization)                                                   \n",
      "                                                                 \n",
      " embedding (Embedding)       (None, 15, 128)           1280000   \n",
      "                                                                 \n",
      " bidirectional (Bidirectiona  (None, 15, 128)          98816     \n",
      " l)                                                              \n",
      "                                                                 \n",
      " bidirectional_1 (Bidirectio  (None, 128)              74496     \n",
      " nal)                                                            \n",
      "                                                                 \n",
      " dense_4 (Dense)             (None, 1)                 129       \n",
      "                                                                 \n",
      "=================================================================\n",
      "Total params: 1,453,441\n",
      "Trainable params: 1,453,441\n",
      "Non-trainable params: 0\n",
      "_________________________________________________________________\n"
     ]
    }
   ],
   "source": [
    "model_4.summary()"
   ]
  },
  {
   "cell_type": "code",
   "execution_count": 58,
   "id": "7d2c0158-3658-42e3-8231-a8990de0c78f",
   "metadata": {
    "ExecuteTime": {
     "end_time": "2024-03-04T18:03:32.670031300Z",
     "start_time": "2024-03-04T18:03:12.656979600Z"
    },
    "tags": []
   },
   "outputs": [
    {
     "name": "stdout",
     "output_type": "stream",
     "text": [
      "Saving TensorBoard log files to: model_logs/model_4_bidirectional/20240305-112923\n",
      "Epoch 1/5\n",
      "215/215 [==============================] - 17s 46ms/step - loss: 0.0983 - accuracy: 0.9661 - val_loss: 1.0945 - val_accuracy: 0.7756\n",
      "Epoch 2/5\n",
      "215/215 [==============================] - 3s 14ms/step - loss: 0.0509 - accuracy: 0.9781 - val_loss: 1.3185 - val_accuracy: 0.7625\n",
      "Epoch 3/5\n",
      "215/215 [==============================] - 2s 11ms/step - loss: 0.0445 - accuracy: 0.9787 - val_loss: 1.4517 - val_accuracy: 0.7717\n",
      "Epoch 4/5\n",
      "215/215 [==============================] - 3s 12ms/step - loss: 0.0423 - accuracy: 0.9783 - val_loss: 1.4525 - val_accuracy: 0.7559\n",
      "Epoch 5/5\n",
      "215/215 [==============================] - 2s 11ms/step - loss: 0.0402 - accuracy: 0.9801 - val_loss: 1.4458 - val_accuracy: 0.7664\n"
     ]
    }
   ],
   "source": [
    "model_4.compile(loss=\"binary_crossentropy\",\n",
    "                optimizer = tf.keras.optimizers.Adam(),\n",
    "                metrics = ['accuracy'])\n",
    "model_4_history = model_4.fit(train_sentences,\n",
    "                              train_labels,\n",
    "                              epochs = 5,\n",
    "                              validation_data=(val_sentences,val_labels),\n",
    "                             callbacks=[create_tensorboard_callback(SAVE_DIR,\"model_4_bidirectional\")])\n",
    "            "
   ]
  },
  {
   "cell_type": "code",
   "execution_count": 59,
   "id": "ec52adfa-b35a-4eee-9b45-85b0dbc2f3af",
   "metadata": {
    "ExecuteTime": {
     "end_time": "2024-03-04T18:03:33.856476400Z",
     "start_time": "2024-03-04T18:03:32.670031300Z"
    },
    "tags": []
   },
   "outputs": [
    {
     "name": "stdout",
     "output_type": "stream",
     "text": [
      "24/24 [==============================] - 1s 4ms/step\n"
     ]
    }
   ],
   "source": [
    "model_4_pred_probs = model_4.predict(val_sentences)"
   ]
  },
  {
   "cell_type": "code",
   "execution_count": 60,
   "id": "f1fc6e4e-abb9-4841-ad50-67f5653d51c2",
   "metadata": {
    "ExecuteTime": {
     "end_time": "2024-03-04T18:03:33.878555600Z",
     "start_time": "2024-03-04T18:03:33.857984800Z"
    },
    "tags": []
   },
   "outputs": [],
   "source": [
    "model_4_preds = tf.squeeze(tf.round(model_4_pred_probs))"
   ]
  },
  {
   "cell_type": "code",
   "execution_count": 61,
   "id": "bf4e7325-3be3-4955-9d8c-d09e26373adf",
   "metadata": {
    "ExecuteTime": {
     "end_time": "2024-03-04T18:03:33.888153900Z",
     "start_time": "2024-03-04T18:03:33.870165400Z"
    },
    "tags": []
   },
   "outputs": [],
   "source": [
    "model_4_results = calculate_results(y_true=val_labels,y_pred = model_4_preds)"
   ]
  },
  {
   "cell_type": "code",
   "execution_count": 62,
   "id": "b375973a-be82-453f-92d6-4ad9905b5199",
   "metadata": {
    "ExecuteTime": {
     "end_time": "2024-03-04T18:03:33.901781Z",
     "start_time": "2024-03-04T18:03:33.888153900Z"
    },
    "tags": []
   },
   "outputs": [
    {
     "data": {
      "text/plain": [
       "{'accuracy': 76.64041994750657,\n",
       " 'precision': 0.7700415019325116,\n",
       " 'recall': 0.7664041994750657,\n",
       " 'f1': 0.763277279656718}"
      ]
     },
     "execution_count": 62,
     "metadata": {},
     "output_type": "execute_result"
    }
   ],
   "source": [
    "model_4_results"
   ]
  },
  {
   "cell_type": "code",
   "execution_count": 63,
   "id": "f2d1ea07-ba80-4367-938b-f9f72243a67b",
   "metadata": {
    "ExecuteTime": {
     "end_time": "2024-03-04T18:03:33.949404400Z",
     "start_time": "2024-03-04T18:03:33.905036600Z"
    },
    "tags": []
   },
   "outputs": [
    {
     "data": {
      "text/plain": [
       "{'accuracy': 76.64041994750657,\n",
       " 'precision': 0.7687205386590334,\n",
       " 'recall': 0.7664041994750657,\n",
       " 'f1': 0.7638750072248873}"
      ]
     },
     "execution_count": 63,
     "metadata": {},
     "output_type": "execute_result"
    }
   ],
   "source": [
    "model_3_results"
   ]
  },
  {
   "cell_type": "code",
   "execution_count": 64,
   "id": "d57c2130-bb7c-427f-ab6e-cc4a22329684",
   "metadata": {
    "ExecuteTime": {
     "end_time": "2024-03-04T18:03:34.726699500Z",
     "start_time": "2024-03-04T18:03:33.922338400Z"
    },
    "tags": []
   },
   "outputs": [
    {
     "data": {
      "text/plain": [
       "(TensorShape([1, 15, 128]), TensorShape([1, 15, 64]), TensorShape([1, 64]))"
      ]
     },
     "execution_count": 64,
     "metadata": {},
     "output_type": "execute_result"
    }
   ],
   "source": [
    "#021 Discussing the intuition behind Conv1D neural networks for text and sequences\n",
    "embedding_test = embedding(text_vectorizer([\"this is a test sentence\"]))\n",
    "conv_1d = layers.Conv1D(filters = 64,\n",
    "                        kernel_size = 5,\n",
    "                        activation=\"relu\",\n",
    "                        padding = \"same\")\n",
    "conv_1d_output = conv_1d(embedding_test)\n",
    "max_pool = layers.GlobalMaxPool1D()\n",
    "max_pool_output = max_pool(conv_1d_output)\n",
    "\n",
    "embedding_test.shape ,conv_1d_output.shape , max_pool_output.shape"
   ]
  },
  {
   "cell_type": "code",
   "execution_count": 65,
   "id": "069fcca0-9d30-4829-bc0b-e30493b7525c",
   "metadata": {
    "ExecuteTime": {
     "end_time": "2024-03-04T18:03:34.742511700Z",
     "start_time": "2024-03-04T18:03:34.726699500Z"
    },
    "tags": []
   },
   "outputs": [
    {
     "data": {
      "text/plain": [
       "<tf.Tensor: shape=(1, 15, 128), dtype=float32, numpy=\n",
       "array([[[-0.12065794,  0.04627235,  0.09491861, ...,  0.06681973,\n",
       "         -0.03143723, -0.01406978],\n",
       "        [-0.02204887, -0.00623534, -0.02579787, ...,  0.04487505,\n",
       "         -0.03439352, -0.03906574],\n",
       "        [ 0.00865992, -0.02332208, -0.00172603, ...,  0.03851891,\n",
       "          0.05299095,  0.04103724],\n",
       "        ...,\n",
       "        [-0.02866804, -0.00316085,  0.01778714, ...,  0.02291918,\n",
       "          0.00931326, -0.01435745],\n",
       "        [-0.02866804, -0.00316085,  0.01778714, ...,  0.02291918,\n",
       "          0.00931326, -0.01435745],\n",
       "        [-0.02866804, -0.00316085,  0.01778714, ...,  0.02291918,\n",
       "          0.00931326, -0.01435745]]], dtype=float32)>"
      ]
     },
     "execution_count": 65,
     "metadata": {},
     "output_type": "execute_result"
    }
   ],
   "source": [
    "embedding_test"
   ]
  },
  {
   "cell_type": "code",
   "execution_count": 66,
   "id": "2e22032d-c4e7-46d3-8a64-9fc76ad17f17",
   "metadata": {
    "ExecuteTime": {
     "end_time": "2024-03-04T18:03:34.806299100Z",
     "start_time": "2024-03-04T18:03:34.742511700Z"
    },
    "tags": []
   },
   "outputs": [
    {
     "data": {
      "text/plain": [
       "<tf.Tensor: shape=(1, 64), dtype=float32, numpy=\n",
       "array([[0.02344872, 0.01061666, 0.01713227, 0.        , 0.06465302,\n",
       "        0.05655044, 0.04271026, 0.09136669, 0.02871117, 0.05533054,\n",
       "        0.01371502, 0.04520152, 0.07816592, 0.06762972, 0.0631465 ,\n",
       "        0.03373763, 0.0252146 , 0.0731243 , 0.05161528, 0.02936716,\n",
       "        0.06852296, 0.0608318 , 0.03425892, 0.00782657, 0.10128654,\n",
       "        0.05816435, 0.04087763, 0.02305211, 0.04831824, 0.08182926,\n",
       "        0.02146059, 0.03659062, 0.08287159, 0.04877561, 0.04236776,\n",
       "        0.04267886, 0.00649259, 0.05473956, 0.01869564, 0.06971148,\n",
       "        0.05861038, 0.00606321, 0.06707942, 0.03255351, 0.0474204 ,\n",
       "        0.03931233, 0.02030992, 0.01720952, 0.        , 0.02785688,\n",
       "        0.1032808 , 0.06466633, 0.08869878, 0.02867054, 0.07073981,\n",
       "        0.03171038, 0.03464158, 0.05231003, 0.06719308, 0.01111798,\n",
       "        0.0284203 , 0.00939136, 0.07750605, 0.05611875]], dtype=float32)>"
      ]
     },
     "execution_count": 66,
     "metadata": {},
     "output_type": "execute_result"
    }
   ],
   "source": [
    "max_pool_output"
   ]
  },
  {
   "cell_type": "code",
   "execution_count": 67,
   "id": "87a10219-e9d3-47ab-800b-9a609edabf3b",
   "metadata": {
    "ExecuteTime": {
     "end_time": "2024-03-04T18:03:34.809711400Z",
     "start_time": "2024-03-04T18:03:34.761873900Z"
    },
    "tags": []
   },
   "outputs": [],
   "source": [
    "#022 Model 5 Building, fitting and evaluating a 1D CNN for text\n",
    "from tensorflow.keras import layers\n",
    "input = layers.Input(shape=(1,), dtype = tf.string)\n",
    "x = text_vectorizer(inputs)\n",
    "x = embedding(x)\n",
    "x = layers.Conv1D(filters = 64,kernel_size=5,strides = 1,activation = \"relu\",padding=\"valid\")(x)\n",
    "x = layers.GlobalMaxPool1D()(x)\n",
    "outputs = layers.Dense(1,activation=\"sigmoid\")(x)\n",
    "model_5 = tf.keras.Model(inputs,outputs,name=\"model_5_Conv1D\")\n",
    "\n",
    "model_5.compile(loss=\"binary_crossentropy\",\n",
    "                optimizer = tf.keras.optimizers.Adam(),\n",
    "                metrics = ['accuracy'])"
   ]
  },
  {
   "cell_type": "code",
   "execution_count": 68,
   "id": "86d79aa5-ca7e-4523-ae3c-3ecf9704dc06",
   "metadata": {
    "ExecuteTime": {
     "end_time": "2024-03-04T18:03:34.824296300Z",
     "start_time": "2024-03-04T18:03:34.809711400Z"
    },
    "tags": []
   },
   "outputs": [
    {
     "name": "stdout",
     "output_type": "stream",
     "text": [
      "Model: \"model_5_Conv1D\"\n",
      "_________________________________________________________________\n",
      " Layer (type)                Output Shape              Param #   \n",
      "=================================================================\n",
      " input_4 (InputLayer)        [(None, 1)]               0         \n",
      "                                                                 \n",
      " text_vectorization_1 (TextV  (None, 15)               0         \n",
      " ectorization)                                                   \n",
      "                                                                 \n",
      " embedding (Embedding)       (None, 15, 128)           1280000   \n",
      "                                                                 \n",
      " conv1d_1 (Conv1D)           (None, 11, 64)            41024     \n",
      "                                                                 \n",
      " global_max_pooling1d_1 (Glo  (None, 64)               0         \n",
      " balMaxPooling1D)                                                \n",
      "                                                                 \n",
      " dense_5 (Dense)             (None, 1)                 65        \n",
      "                                                                 \n",
      "=================================================================\n",
      "Total params: 1,321,089\n",
      "Trainable params: 1,321,089\n",
      "Non-trainable params: 0\n",
      "_________________________________________________________________\n"
     ]
    }
   ],
   "source": [
    "model_5.summary()"
   ]
  },
  {
   "cell_type": "code",
   "execution_count": 69,
   "id": "94ecab3a-d377-42f1-9bf8-77b4b2c9cd6f",
   "metadata": {
    "ExecuteTime": {
     "end_time": "2024-03-04T18:03:40.959223600Z",
     "start_time": "2024-03-04T18:03:34.824296300Z"
    },
    "tags": []
   },
   "outputs": [
    {
     "name": "stdout",
     "output_type": "stream",
     "text": [
      "Saving TensorBoard log files to: model_logs/model_5_Conv1D/20240305-112954\n",
      "Epoch 1/5\n",
      "215/215 [==============================] - 9s 34ms/step - loss: 0.1250 - accuracy: 0.9581 - val_loss: 0.9224 - val_accuracy: 0.7651\n",
      "Epoch 2/5\n",
      "215/215 [==============================] - 2s 11ms/step - loss: 0.0763 - accuracy: 0.9734 - val_loss: 1.0232 - val_accuracy: 0.7677\n",
      "Epoch 3/5\n",
      "215/215 [==============================] - 2s 7ms/step - loss: 0.0611 - accuracy: 0.9758 - val_loss: 1.1418 - val_accuracy: 0.7625\n",
      "Epoch 4/5\n",
      "215/215 [==============================] - 1s 6ms/step - loss: 0.0565 - accuracy: 0.9772 - val_loss: 1.1882 - val_accuracy: 0.7598\n",
      "Epoch 5/5\n",
      "215/215 [==============================] - 2s 7ms/step - loss: 0.0533 - accuracy: 0.9765 - val_loss: 1.1918 - val_accuracy: 0.7507\n"
     ]
    }
   ],
   "source": [
    "model_5_history = model_5.fit(train_sentences,\n",
    "                              train_labels,\n",
    "                              epochs = 5,\n",
    "                              validation_data=(val_sentences,val_labels),\n",
    "                             callbacks=[create_tensorboard_callback(SAVE_DIR,\"model_5_Conv1D\")])"
   ]
  },
  {
   "cell_type": "code",
   "execution_count": 70,
   "id": "f10745b2-602a-4586-a4a1-4ef894fd7271",
   "metadata": {
    "ExecuteTime": {
     "end_time": "2024-03-04T18:03:41.122928300Z",
     "start_time": "2024-03-04T18:03:40.959223600Z"
    },
    "tags": []
   },
   "outputs": [
    {
     "name": "stdout",
     "output_type": "stream",
     "text": [
      "24/24 [==============================] - 0s 2ms/step\n"
     ]
    }
   ],
   "source": [
    "model_5_pred_probs = model_5.predict(val_sentences)"
   ]
  },
  {
   "cell_type": "code",
   "execution_count": 71,
   "id": "356a2ed5-43d4-4b54-a27b-bfaa7bdd05a9",
   "metadata": {
    "ExecuteTime": {
     "end_time": "2024-03-04T18:03:41.124039200Z",
     "start_time": "2024-03-04T18:03:41.117029100Z"
    },
    "tags": []
   },
   "outputs": [],
   "source": [
    "model_5_preds = tf.squeeze(tf.round(model_5_pred_probs))"
   ]
  },
  {
   "cell_type": "code",
   "execution_count": 72,
   "id": "dbde9bc1-f1b4-4276-9170-6223f1b412e4",
   "metadata": {
    "ExecuteTime": {
     "end_time": "2024-03-04T18:03:41.135143600Z",
     "start_time": "2024-03-04T18:03:41.119784300Z"
    },
    "tags": []
   },
   "outputs": [
    {
     "data": {
      "text/plain": [
       "{'accuracy': 75.06561679790026,\n",
       " 'precision': 0.7511704709318223,\n",
       " 'recall': 0.7506561679790026,\n",
       " 'f1': 0.7487994714665389}"
      ]
     },
     "execution_count": 72,
     "metadata": {},
     "output_type": "execute_result"
    }
   ],
   "source": [
    "model_5_results = calculate_results(y_true = val_labels,\n",
    "                                    y_pred = model_5_preds,)\n",
    "model_5_results"
   ]
  },
  {
   "cell_type": "code",
   "execution_count": 73,
   "id": "dc05db7f-c08f-4358-9004-c990f490a448",
   "metadata": {
    "ExecuteTime": {
     "end_time": "2024-03-04T18:03:41.180369900Z",
     "start_time": "2024-03-04T18:03:41.135143600Z"
    },
    "tags": []
   },
   "outputs": [
    {
     "data": {
      "text/plain": [
       "{'accuracy': 79.26509186351706,\n",
       " 'precision': 0.8111390004213173,\n",
       " 'recall': 0.7926509186351706,\n",
       " 'f1': 0.7862189758049549}"
      ]
     },
     "execution_count": 73,
     "metadata": {},
     "output_type": "execute_result"
    }
   ],
   "source": [
    "baseline_results"
   ]
  },
  {
   "cell_type": "code",
   "execution_count": 74,
   "id": "61c1f986-6d49-4ca1-a699-f54e1dd3f082",
   "metadata": {
    "ExecuteTime": {
     "end_time": "2024-03-04T18:03:47.672347500Z",
     "start_time": "2024-03-04T18:03:41.152208900Z"
    }
   },
   "outputs": [
    {
     "name": "stdout",
     "output_type": "stream",
     "text": [
      "tf.Tensor(\n",
      "[[-0.01157022  0.02485909  0.02878049 ... -0.00186123  0.0231582\n",
      "  -0.01485022]\n",
      " [ 0.0359669  -0.08579467 -0.01152745 ... -0.03414334  0.02816024\n",
      "  -0.00878945]], shape=(2, 512), dtype=float32)\n"
     ]
    }
   ],
   "source": [
    "#023 Using TensorFlow Hub for pretrained word embeddings (transfer learning for NLP)\n",
    "#Universal sentence encoder\n",
    "sample_sentence = \"There's a flood in my street!\"\n",
    "import tensorflow_hub as hub\n",
    "import tensorflow as tf\n",
    "\n",
    "embed = hub.load(\"https://www.kaggle.com/models/google/universal-sentence-encoder/frameworks/TensorFlow2/variations/universal-sentence-encoder/versions/2\")\n",
    "with tf.device('/CPU:0'):\n",
    "    embed_samples = embed([sample_sentence, \"When you call the universal sentence encoder on a sentence, it turns it into numbers.\"])\n",
    "print(embed_samples)\n"
   ]
  },
  {
   "cell_type": "code",
   "execution_count": 75,
   "id": "6d3fe2e2",
   "metadata": {
    "ExecuteTime": {
     "end_time": "2024-03-04T18:14:22.440560600Z",
     "start_time": "2024-03-04T18:14:15.807994300Z"
    },
    "collapsed": false,
    "jupyter": {
     "outputs_hidden": false
    }
   },
   "outputs": [
    {
     "name": "stdout",
     "output_type": "stream",
     "text": [
      "WARNING:tensorflow:Please fix your imports. Module tensorflow.python.training.tracking.data_structures has been moved to tensorflow.python.trackable.data_structures. The old module will be deleted in version 2.11.\n"
     ]
    },
    {
     "name": "stderr",
     "output_type": "stream",
     "text": [
      "WARNING:tensorflow:Please fix your imports. Module tensorflow.python.training.tracking.data_structures has been moved to tensorflow.python.trackable.data_structures. The old module will be deleted in version 2.11.\n"
     ]
    }
   ],
   "source": [
    "#024 Model 6 Building, training and evaluating a transfer learning model for NLP\n",
    "# create a keras layer using the USE pretrained layer from tensorflow hub\n",
    "with tf.device('/CPU:0'):\n",
    "    sentence_encoder_layer = hub.KerasLayer(\"https://www.kaggle.com/models/google/universal-sentence-encoder/frameworks/TensorFlow2/variations/universal-sentence-encoder/versions/2\",input_shape = [],dtype = tf.string,trainable=False,name = \"USE\")"
   ]
  },
  {
   "cell_type": "code",
   "execution_count": 76,
   "id": "fb159cdf",
   "metadata": {
    "ExecuteTime": {
     "end_time": "2024-03-04T18:30:15.055620400Z",
     "start_time": "2024-03-04T18:30:14.975463100Z"
    },
    "collapsed": false,
    "jupyter": {
     "outputs_hidden": false
    }
   },
   "outputs": [
    {
     "name": "stdout",
     "output_type": "stream",
     "text": [
      "WARNING:tensorflow:From /usr/local/lib/python3.9/site-packages/tensorflow/python/autograph/pyct/static_analysis/liveness.py:83: Analyzer.lamba_check (from tensorflow.python.autograph.pyct.static_analysis.liveness) is deprecated and will be removed after 2023-09-23.\n",
      "Instructions for updating:\n",
      "Lambda fuctions will be no more assumed to be used in the statement where they are used, or at least in the same block. https://github.com/tensorflow/tensorflow/issues/56089\n"
     ]
    },
    {
     "name": "stderr",
     "output_type": "stream",
     "text": [
      "WARNING:tensorflow:From /usr/local/lib/python3.9/site-packages/tensorflow/python/autograph/pyct/static_analysis/liveness.py:83: Analyzer.lamba_check (from tensorflow.python.autograph.pyct.static_analysis.liveness) is deprecated and will be removed after 2023-09-23.\n",
      "Instructions for updating:\n",
      "Lambda fuctions will be no more assumed to be used in the statement where they are used, or at least in the same block. https://github.com/tensorflow/tensorflow/issues/56089\n"
     ]
    }
   ],
   "source": [
    "# create model using the sequential API\n",
    "model_6 = tf.keras.Sequential([\n",
    "    sentence_encoder_layer,\n",
    "    layers.Dense(64,activation=\"relu\"),\n",
    "    layers.Dense(1,activation=\"sigmoid\")\n",
    "],name = \"model_6_USE\")\n",
    "\n",
    "model_6.compile(loss=\"binary_crossentropy\",optimizer=tf.keras.optimizers.Adam(),metrics=[\"accuracy\"])\n"
   ]
  },
  {
   "cell_type": "code",
   "execution_count": 77,
   "id": "6e4e298e",
   "metadata": {
    "ExecuteTime": {
     "end_time": "2024-03-04T18:30:15.815421300Z",
     "start_time": "2024-03-04T18:30:15.764623800Z"
    },
    "collapsed": false,
    "jupyter": {
     "outputs_hidden": false
    }
   },
   "outputs": [
    {
     "name": "stdout",
     "output_type": "stream",
     "text": [
      "Model: \"model_6_USE\"\n",
      "_________________________________________________________________\n",
      " Layer (type)                Output Shape              Param #   \n",
      "=================================================================\n",
      " USE (KerasLayer)            (None, 512)               256797824 \n",
      "                                                                 \n",
      " dense_6 (Dense)             (None, 64)                32832     \n",
      "                                                                 \n",
      " dense_7 (Dense)             (None, 1)                 65        \n",
      "                                                                 \n",
      "=================================================================\n",
      "Total params: 256,830,721\n",
      "Trainable params: 32,897\n",
      "Non-trainable params: 256,797,824\n",
      "_________________________________________________________________\n"
     ]
    }
   ],
   "source": [
    "model_6.summary()"
   ]
  },
  {
   "cell_type": "code",
   "execution_count": 78,
   "id": "cdc1831d",
   "metadata": {
    "ExecuteTime": {
     "end_time": "2024-03-04T18:30:25.803914Z",
     "start_time": "2024-03-04T18:30:17.988085200Z"
    },
    "collapsed": false,
    "jupyter": {
     "outputs_hidden": false
    }
   },
   "outputs": [
    {
     "name": "stdout",
     "output_type": "stream",
     "text": [
      "Saving TensorBoard log files to: model_logs/tf_hub_sentence_encoder_USE/20240305-113020\n",
      "Epoch 1/5\n",
      "215/215 [==============================] - 7s 15ms/step - loss: 0.5086 - accuracy: 0.7723 - val_loss: 0.4488 - val_accuracy: 0.8058\n",
      "Epoch 2/5\n",
      "215/215 [==============================] - 3s 13ms/step - loss: 0.4137 - accuracy: 0.8165 - val_loss: 0.4365 - val_accuracy: 0.8071\n",
      "Epoch 3/5\n",
      "215/215 [==============================] - 3s 13ms/step - loss: 0.3995 - accuracy: 0.8206 - val_loss: 0.4295 - val_accuracy: 0.8150\n",
      "Epoch 4/5\n",
      "215/215 [==============================] - 3s 13ms/step - loss: 0.3915 - accuracy: 0.8270 - val_loss: 0.4312 - val_accuracy: 0.8110\n",
      "Epoch 5/5\n",
      "215/215 [==============================] - 3s 13ms/step - loss: 0.3837 - accuracy: 0.8310 - val_loss: 0.4285 - val_accuracy: 0.8123\n"
     ]
    }
   ],
   "source": [
    "#Train a classifier on top of USE pretrained embeddings\n",
    "# with tf.device('/CPU:0'):\n",
    "model_6_history = model_6.fit(train_sentences,\n",
    "                              train_labels,\n",
    "                              epochs=5,\n",
    "                              validation_data=(val_sentences,val_labels),\n",
    "                              callbacks=[create_tensorboard_callback(SAVE_DIR,\"tf_hub_sentence_encoder_USE\")])"
   ]
  },
  {
   "cell_type": "code",
   "execution_count": 79,
   "id": "cdce65ee",
   "metadata": {
    "ExecuteTime": {
     "end_time": "2024-03-04T18:30:27.329845700Z",
     "start_time": "2024-03-04T18:30:26.879747Z"
    },
    "collapsed": false,
    "jupyter": {
     "outputs_hidden": false
    }
   },
   "outputs": [
    {
     "name": "stdout",
     "output_type": "stream",
     "text": [
      "24/24 [==============================] - 1s 5ms/step\n"
     ]
    }
   ],
   "source": [
    "with tf.device('/CPU:0'):\n",
    "    model_6_pred_probs = model_6.predict(val_sentences)\n",
    "    model_6_preds = tf.squeeze(tf.round(model_6_pred_probs))\n",
    "    model_6_results = calculate_results(y_true=val_labels,y_pred=model_6_preds)\n"
   ]
  },
  {
   "cell_type": "code",
   "execution_count": 80,
   "id": "d9f38001",
   "metadata": {
    "ExecuteTime": {
     "end_time": "2024-03-04T18:30:28.913617500Z",
     "start_time": "2024-03-04T18:30:28.899537500Z"
    },
    "collapsed": false,
    "jupyter": {
     "outputs_hidden": false
    }
   },
   "outputs": [
    {
     "data": {
      "text/plain": [
       "{'accuracy': 81.23359580052494,\n",
       " 'precision': 0.8167328378435911,\n",
       " 'recall': 0.8123359580052494,\n",
       " 'f1': 0.8101294251786122}"
      ]
     },
     "execution_count": 80,
     "metadata": {},
     "output_type": "execute_result"
    }
   ],
   "source": [
    "model_6_results"
   ]
  },
  {
   "cell_type": "code",
   "execution_count": 81,
   "id": "2b8ce1be",
   "metadata": {
    "ExecuteTime": {
     "end_time": "2024-03-04T18:30:30.191773700Z",
     "start_time": "2024-03-04T18:30:30.183393Z"
    },
    "collapsed": false,
    "jupyter": {
     "outputs_hidden": false
    }
   },
   "outputs": [
    {
     "data": {
      "text/plain": [
       "{'accuracy': 79.26509186351706,\n",
       " 'precision': 0.8111390004213173,\n",
       " 'recall': 0.7926509186351706,\n",
       " 'f1': 0.7862189758049549}"
      ]
     },
     "execution_count": 81,
     "metadata": {},
     "output_type": "execute_result"
    }
   ],
   "source": [
    "baseline_results"
   ]
  },
  {
   "cell_type": "code",
   "execution_count": 82,
   "id": "f5418ebf",
   "metadata": {
    "collapsed": false,
    "jupyter": {
     "outputs_hidden": false
    },
    "tags": []
   },
   "outputs": [],
   "source": [
    "#025 Preparing subsets of data for model 7 (same as model 6 but 10% of data)\n",
    "# Model7 : Tf Hub pretrained USE but with 10% of training data\n",
    "# Transfer Leraning helps when we do not have large dataset\n",
    "#Below code causes data leakage\n",
    "# train_10_percent = train_df_shuffled[[\"text\",\"target\"]].sample(frac = 0.1,random_state=42)\n",
    "# train_sentences_10_percent = train_10_percent[\"text\"].to_list()\n",
    "# train_labels_10_percent = train_10_percent[\"target\"].to_list()\n",
    "\n",
    "# Fixing data leakage\n",
    "train_10_percent_split = int(0.1*len(train_sentences))\n",
    "train_sentences_10_percent = train_sentences[:train_10_percent_split]\n",
    "train_labels_10_percent = train_labels[:train_10_percent_split]\n"
   ]
  },
  {
   "cell_type": "code",
   "execution_count": 84,
   "id": "939f9036-580b-46bd-bbba-19c7e76e8c3d",
   "metadata": {
    "tags": []
   },
   "outputs": [
    {
     "ename": "IndexError",
     "evalue": "only integers, slices (`:`), ellipsis (`...`), numpy.newaxis (`None`) and integer or boolean arrays are valid indices",
     "output_type": "error",
     "traceback": [
      "\u001b[0;31m---------------------------------------------------------------------------\u001b[0m",
      "\u001b[0;31mIndexError\u001b[0m                                Traceback (most recent call last)",
      "Cell \u001b[0;32mIn[84], line 1\u001b[0m\n\u001b[0;32m----> 1\u001b[0m \u001b[43mtrain_labels_10_percent\u001b[49m\u001b[43m[\u001b[49m\u001b[38;5;124;43m\"\u001b[39;49m\u001b[38;5;124;43mtarget\u001b[39;49m\u001b[38;5;124;43m\"\u001b[39;49m\u001b[43m]\u001b[49m\u001b[38;5;241m.\u001b[39mvalue_counts()\n",
      "\u001b[0;31mIndexError\u001b[0m: only integers, slices (`:`), ellipsis (`...`), numpy.newaxis (`None`) and integer or boolean arrays are valid indices"
     ]
    }
   ],
   "source": [
    "train_labels_10_percent[\"target\"].value_counts()"
   ]
  },
  {
   "cell_type": "code",
   "execution_count": 85,
   "id": "199b54bc-4b5a-4b44-a748-4ce2eb98f1c7",
   "metadata": {
    "tags": []
   },
   "outputs": [
    {
     "name": "stdout",
     "output_type": "stream",
     "text": [
      "Model: \"model_7_USE\"\n",
      "_________________________________________________________________\n",
      " Layer (type)                Output Shape              Param #   \n",
      "=================================================================\n",
      " USE (KerasLayer)            (None, 512)               256797824 \n",
      "                                                                 \n",
      " dense_8 (Dense)             (None, 64)                32832     \n",
      "                                                                 \n",
      " dense_9 (Dense)             (None, 1)                 65        \n",
      "                                                                 \n",
      "=================================================================\n",
      "Total params: 256,830,721\n",
      "Trainable params: 32,897\n",
      "Non-trainable params: 256,797,824\n",
      "_________________________________________________________________\n"
     ]
    }
   ],
   "source": [
    "#026 Model 7 Building, training and evaluating a transfer learning model on 10% data\n",
    "# model_7 = tf.keras.models.clone_model(model_6)\n",
    "model_7 = tf.keras.Sequential([\n",
    "    sentence_encoder_layer,\n",
    "    layers.Dense(64,activation=\"relu\"),\n",
    "    layers.Dense(1,activation=\"sigmoid\")\n",
    "],name = \"model_7_USE\")\n",
    "model_7.compile(loss =\"binary_crossentropy\",\n",
    "                optimizer = tf.keras.optimizers.Adam(),\n",
    "                metrics=[\"accuracy\"])\n",
    "model_7.summary()"
   ]
  },
  {
   "cell_type": "code",
   "execution_count": 86,
   "id": "4b32846d-7ea9-4539-a4e2-14a59f20f2b3",
   "metadata": {
    "tags": []
   },
   "outputs": [
    {
     "name": "stdout",
     "output_type": "stream",
     "text": [
      "Saving TensorBoard log files to: model_logs/tf_hub_sentence_encoder_USE_10_percent_correct_split/20240305-113218\n",
      "Epoch 1/5\n",
      "22/22 [==============================] - 3s 52ms/step - loss: 0.6723 - accuracy: 0.6847 - val_loss: 0.6526 - val_accuracy: 0.7152\n",
      "Epoch 2/5\n",
      "22/22 [==============================] - 1s 26ms/step - loss: 0.6063 - accuracy: 0.8073 - val_loss: 0.5963 - val_accuracy: 0.7638\n",
      "Epoch 3/5\n",
      "22/22 [==============================] - 1s 25ms/step - loss: 0.5301 - accuracy: 0.8234 - val_loss: 0.5412 - val_accuracy: 0.7835\n",
      "Epoch 4/5\n",
      "22/22 [==============================] - 1s 26ms/step - loss: 0.4682 - accuracy: 0.8277 - val_loss: 0.5071 - val_accuracy: 0.7848\n",
      "Epoch 5/5\n",
      "22/22 [==============================] - 1s 26ms/step - loss: 0.4261 - accuracy: 0.8321 - val_loss: 0.4913 - val_accuracy: 0.7835\n"
     ]
    }
   ],
   "source": [
    "model_7_history = model_7.fit(train_sentences_10_percent,\n",
    "                              train_labels_10_percent,\n",
    "                              epochs=5,\n",
    "                              validation_data=(val_sentences,val_labels),\n",
    "                              callbacks=[create_tensorboard_callback(SAVE_DIR,\"tf_hub_sentence_encoder_USE_10_percent_correct_split\")])"
   ]
  },
  {
   "cell_type": "code",
   "execution_count": 87,
   "id": "fd1c71d6-21f1-4517-a59f-03a2f4d819cc",
   "metadata": {
    "tags": []
   },
   "outputs": [
    {
     "name": "stdout",
     "output_type": "stream",
     "text": [
      "24/24 [==============================] - 1s 11ms/step\n"
     ]
    }
   ],
   "source": [
    "#make Predictions with 10 percent model\n",
    "model_7_pred_probs = model_7.predict(val_sentences)\n",
    "model_7_preds = tf.squeeze(tf.round(model_7_pred_probs))\n",
    "model_7_results = calculate_results(y_true=val_labels,\n",
    "                                    y_pred= model_7_preds)"
   ]
  },
  {
   "cell_type": "code",
   "execution_count": 88,
   "id": "de843c7d-5536-4a37-8126-facd260e2f4c",
   "metadata": {
    "tags": []
   },
   "outputs": [
    {
     "data": {
      "text/plain": [
       "{'accuracy': 78.34645669291339,\n",
       " 'precision': 0.7843463033230456,\n",
       " 'recall': 0.7834645669291339,\n",
       " 'f1': 0.7820169075127241}"
      ]
     },
     "execution_count": 88,
     "metadata": {},
     "output_type": "execute_result"
    }
   ],
   "source": [
    "model_7_results"
   ]
  },
  {
   "cell_type": "code",
   "execution_count": 89,
   "id": "8b0edcf2-5961-4d6c-8085-bce719a4c192",
   "metadata": {
    "tags": []
   },
   "outputs": [],
   "source": [
    "#027 Fixing our data leakage issue with model 7 and retraining it.mp4\n",
    "#028 Comparing all our modelling experiments evaluation metrics\n",
    "# Combine model results in to dataframe\n",
    "all_model_results = pd.DataFrame({\"0_baseline\":baseline_results,\n",
    "                                 \"1_simple_dense\":model_1_results,\n",
    "                                 \"2_lstm\":model_2_results,\n",
    "                                 \"3_gru\":model_3_results,\n",
    "                                 \"4_bidirectional\":model_4_results,\n",
    "                                 \"5_conv1d\":model_5_results,\n",
    "                                 \"6_tf_hub_use_encoder\":model_6_results,\n",
    "                                 \"7_tf_hub_use_encoder_10_percent\":model_7_results,})\n",
    "\n",
    "all_model_results=all_model_results.transpose()"
   ]
  },
  {
   "cell_type": "code",
   "execution_count": 90,
   "id": "1a544aeb-2f37-428d-b78b-03e4bf42d559",
   "metadata": {
    "tags": []
   },
   "outputs": [
    {
     "data": {
      "text/html": [
       "<div>\n",
       "<style scoped>\n",
       "    .dataframe tbody tr th:only-of-type {\n",
       "        vertical-align: middle;\n",
       "    }\n",
       "\n",
       "    .dataframe tbody tr th {\n",
       "        vertical-align: top;\n",
       "    }\n",
       "\n",
       "    .dataframe thead th {\n",
       "        text-align: right;\n",
       "    }\n",
       "</style>\n",
       "<table border=\"1\" class=\"dataframe\">\n",
       "  <thead>\n",
       "    <tr style=\"text-align: right;\">\n",
       "      <th></th>\n",
       "      <th>accuracy</th>\n",
       "      <th>precision</th>\n",
       "      <th>recall</th>\n",
       "      <th>f1</th>\n",
       "    </tr>\n",
       "  </thead>\n",
       "  <tbody>\n",
       "    <tr>\n",
       "      <th>0_baseline</th>\n",
       "      <td>0.792651</td>\n",
       "      <td>0.811139</td>\n",
       "      <td>0.792651</td>\n",
       "      <td>0.786219</td>\n",
       "    </tr>\n",
       "    <tr>\n",
       "      <th>1_simple_dense</th>\n",
       "      <td>0.787402</td>\n",
       "      <td>0.793714</td>\n",
       "      <td>0.787402</td>\n",
       "      <td>0.783959</td>\n",
       "    </tr>\n",
       "    <tr>\n",
       "      <th>2_lstm</th>\n",
       "      <td>0.780840</td>\n",
       "      <td>0.783151</td>\n",
       "      <td>0.780840</td>\n",
       "      <td>0.778663</td>\n",
       "    </tr>\n",
       "    <tr>\n",
       "      <th>3_gru</th>\n",
       "      <td>0.766404</td>\n",
       "      <td>0.768721</td>\n",
       "      <td>0.766404</td>\n",
       "      <td>0.763875</td>\n",
       "    </tr>\n",
       "    <tr>\n",
       "      <th>4_bidirectional</th>\n",
       "      <td>0.766404</td>\n",
       "      <td>0.770042</td>\n",
       "      <td>0.766404</td>\n",
       "      <td>0.763277</td>\n",
       "    </tr>\n",
       "    <tr>\n",
       "      <th>5_conv1d</th>\n",
       "      <td>0.750656</td>\n",
       "      <td>0.751170</td>\n",
       "      <td>0.750656</td>\n",
       "      <td>0.748799</td>\n",
       "    </tr>\n",
       "    <tr>\n",
       "      <th>6_tf_hub_use_encoder</th>\n",
       "      <td>0.812336</td>\n",
       "      <td>0.816733</td>\n",
       "      <td>0.812336</td>\n",
       "      <td>0.810129</td>\n",
       "    </tr>\n",
       "    <tr>\n",
       "      <th>7_tf_hub_use_encoder_10_percent</th>\n",
       "      <td>0.783465</td>\n",
       "      <td>0.784346</td>\n",
       "      <td>0.783465</td>\n",
       "      <td>0.782017</td>\n",
       "    </tr>\n",
       "  </tbody>\n",
       "</table>\n",
       "</div>"
      ],
      "text/plain": [
       "                                 accuracy  precision    recall        f1\n",
       "0_baseline                       0.792651   0.811139  0.792651  0.786219\n",
       "1_simple_dense                   0.787402   0.793714  0.787402  0.783959\n",
       "2_lstm                           0.780840   0.783151  0.780840  0.778663\n",
       "3_gru                            0.766404   0.768721  0.766404  0.763875\n",
       "4_bidirectional                  0.766404   0.770042  0.766404  0.763277\n",
       "5_conv1d                         0.750656   0.751170  0.750656  0.748799\n",
       "6_tf_hub_use_encoder             0.812336   0.816733  0.812336  0.810129\n",
       "7_tf_hub_use_encoder_10_percent  0.783465   0.784346  0.783465  0.782017"
      ]
     },
     "execution_count": 90,
     "metadata": {},
     "output_type": "execute_result"
    }
   ],
   "source": [
    "all_model_results[\"accuracy\"]=all_model_results[\"accuracy\"]/100\n",
    "all_model_results"
   ]
  },
  {
   "cell_type": "code",
   "execution_count": 91,
   "id": "fea9189d-f934-4a58-ba0d-efa16584e886",
   "metadata": {
    "tags": []
   },
   "outputs": [
    {
     "data": {
      "text/plain": [
       "<matplotlib.legend.Legend at 0x7fe470bbc310>"
      ]
     },
     "execution_count": 91,
     "metadata": {},
     "output_type": "execute_result"
    },
    {
     "data": {
      "image/png": "[encoded data removed]",
      "text/plain": [
       "<Figure size 1000x700 with 1 Axes>"
      ]
     },
     "metadata": {},
     "output_type": "display_data"
    }
   ],
   "source": [
    "all_model_results.plot(kind = \"bar\",figsize=(10,7)).legend(bbox_to_anchor=(1.0,1.0))"
   ]
  },
  {
   "cell_type": "code",
   "execution_count": 92,
   "id": "18e8faa0-0658-4f35-ae85-29f942f239d5",
   "metadata": {
    "tags": []
   },
   "outputs": [
    {
     "data": {
      "text/plain": [
       "<AxesSubplot: >"
      ]
     },
     "execution_count": 92,
     "metadata": {},
     "output_type": "execute_result"
    },
    {
     "data": {
      "image/png": "[encoded data removed]",
      "text/plain": [
       "<Figure size 1000x700 with 1 Axes>"
      ]
     },
     "metadata": {},
     "output_type": "display_data"
    }
   ],
   "source": [
    "# Sord Model results by F1 Score\n",
    "all_model_results.sort_values(\"f1\",ascending=False)[\"f1\"].plot(kind = \"bar\",figsize=(10,7))"
   ]
  },
  {
   "cell_type": "code",
   "execution_count": 94,
   "id": "d115ee66-831f-4802-ad20-4142bf7f8f54",
   "metadata": {},
   "outputs": [],
   "source": [
    "#029 Uploading our model's training logs to TensorBoard and comparing them\n",
    "#https://d-mazkegzhipax.studio.eu-central-1.sagemaker.aws/jupyter/default/proxy/6006/\n",
    "#Cd in root and then : tensorboard --logdir tensorflow/NLPFundamentals/model_logs\n",
    "#030 Saving and loading in a trained NLP model with TensorFlow\n",
    "# Saving model in hdf5 and other in savedmodel format\n",
    "# model_6.save(\"model_6.h5\")\n",
    "# loaded_model_6  =tf.keras.models.load_model(\"model_6.h5\",custom_objects={\"KerasLayer\":hub.KerasLayer})"
   ]
  },
  {
   "cell_type": "code",
   "execution_count": 95,
   "id": "f65bdbf3-c6cd-41e3-883a-230ce4d0aa23",
   "metadata": {
    "tags": []
   },
   "outputs": [
    {
     "name": "stdout",
     "output_type": "stream",
     "text": [
      "24/24 [==============================] - 1s 8ms/step - loss: 0.4285 - accuracy: 0.8123\n"
     ]
    },
    {
     "data": {
      "text/plain": [
       "[0.42853015661239624, 0.8123359680175781]"
      ]
     },
     "execution_count": 95,
     "metadata": {},
     "output_type": "execute_result"
    }
   ],
   "source": [
    "loaded_model_6.evaluate(val_sentences,val_labels)"
   ]
  },
  {
   "cell_type": "code",
   "execution_count": null,
   "id": "28b988ae-cc79-44c7-a696-f7ac2e5c3741",
   "metadata": {},
   "outputs": [],
   "source": []
  }
 ],
 "metadata": {
  "availableInstances": [
   {
    "_defaultOrder": 0,
    "_isFastLaunch": true,
    "category": "General purpose",
    "gpuNum": 0,
    "hideHardwareSpecs": false,
    "memoryGiB": 4,
    "name": "ml.t3.medium",
    "vcpuNum": 2
   },
   {
    "_defaultOrder": 1,
    "_isFastLaunch": false,
    "category": "General purpose",
    "gpuNum": 0,
    "hideHardwareSpecs": false,
    "memoryGiB": 8,
    "name": "ml.t3.large",
    "vcpuNum": 2
   },
   {
    "_defaultOrder": 2,
    "_isFastLaunch": false,
    "category": "General purpose",
    "gpuNum": 0,
    "hideHardwareSpecs": false,
    "memoryGiB": 16,
    "name": "ml.t3.xlarge",
    "vcpuNum": 4
   },
   {
    "_defaultOrder": 3,
    "_isFastLaunch": false,
    "category": "General purpose",
    "gpuNum": 0,
    "hideHardwareSpecs": false,
    "memoryGiB": 32,
    "name": "ml.t3.2xlarge",
    "vcpuNum": 8
   },
   {
    "_defaultOrder": 4,
    "_isFastLaunch": true,
    "category": "General purpose",
    "gpuNum": 0,
    "hideHardwareSpecs": false,
    "memoryGiB": 8,
    "name": "ml.m5.large",
    "vcpuNum": 2
   },
   {
    "_defaultOrder": 5,
    "_isFastLaunch": false,
    "category": "General purpose",
    "gpuNum": 0,
    "hideHardwareSpecs": false,
    "memoryGiB": 16,
    "name": "ml.m5.xlarge",
    "vcpuNum": 4
   },
   {
    "_defaultOrder": 6,
    "_isFastLaunch": false,
    "category": "General purpose",
    "gpuNum": 0,
    "hideHardwareSpecs": false,
    "memoryGiB": 32,
    "name": "ml.m5.2xlarge",
    "vcpuNum": 8
   },
   {
    "_defaultOrder": 7,
    "_isFastLaunch": false,
    "category": "General purpose",
    "gpuNum": 0,
    "hideHardwareSpecs": false,
    "memoryGiB": 64,
    "name": "ml.m5.4xlarge",
    "vcpuNum": 16
   },
   {
    "_defaultOrder": 8,
    "_isFastLaunch": false,
    "category": "General purpose",
    "gpuNum": 0,
    "hideHardwareSpecs": false,
    "memoryGiB": 128,
    "name": "ml.m5.8xlarge",
    "vcpuNum": 32
   },
   {
    "_defaultOrder": 9,
    "_isFastLaunch": false,
    "category": "General purpose",
    "gpuNum": 0,
    "hideHardwareSpecs": false,
    "memoryGiB": 192,
    "name": "ml.m5.12xlarge",
    "vcpuNum": 48
   },
   {
    "_defaultOrder": 10,
    "_isFastLaunch": false,
    "category": "General purpose",
    "gpuNum": 0,
    "hideHardwareSpecs": false,
    "memoryGiB": 256,
    "name": "ml.m5.16xlarge",
    "vcpuNum": 64
   },
   {
    "_defaultOrder": 11,
    "_isFastLaunch": false,
    "category": "General purpose",
    "gpuNum": 0,
    "hideHardwareSpecs": false,
    "memoryGiB": 384,
    "name": "ml.m5.24xlarge",
    "vcpuNum": 96
   },
   {
    "_defaultOrder": 12,
    "_isFastLaunch": false,
    "category": "General purpose",
    "gpuNum": 0,
    "hideHardwareSpecs": false,
    "memoryGiB": 8,
    "name": "ml.m5d.large",
    "vcpuNum": 2
   },
   {
    "_defaultOrder": 13,
    "_isFastLaunch": false,
    "category": "General purpose",
    "gpuNum": 0,
    "hideHardwareSpecs": false,
    "memoryGiB": 16,
    "name": "ml.m5d.xlarge",
    "vcpuNum": 4
   },
   {
    "_defaultOrder": 14,
    "_isFastLaunch": false,
    "category": "General purpose",
    "gpuNum": 0,
    "hideHardwareSpecs": false,
    "memoryGiB": 32,
    "name": "ml.m5d.2xlarge",
    "vcpuNum": 8
   },
   {
    "_defaultOrder": 15,
    "_isFastLaunch": false,
    "category": "General purpose",
    "gpuNum": 0,
    "hideHardwareSpecs": false,
    "memoryGiB": 64,
    "name": "ml.m5d.4xlarge",
    "vcpuNum": 16
   },
   {
    "_defaultOrder": 16,
    "_isFastLaunch": false,
    "category": "General purpose",
    "gpuNum": 0,
    "hideHardwareSpecs": false,
    "memoryGiB": 128,
    "name": "ml.m5d.8xlarge",
    "vcpuNum": 32
   },
   {
    "_defaultOrder": 17,
    "_isFastLaunch": false,
    "category": "General purpose",
    "gpuNum": 0,
    "hideHardwareSpecs": false,
    "memoryGiB": 192,
    "name": "ml.m5d.12xlarge",
    "vcpuNum": 48
   },
   {
    "_defaultOrder": 18,
    "_isFastLaunch": false,
    "category": "General purpose",
    "gpuNum": 0,
    "hideHardwareSpecs": false,
    "memoryGiB": 256,
    "name": "ml.m5d.16xlarge",
    "vcpuNum": 64
   },
   {
    "_defaultOrder": 19,
    "_isFastLaunch": false,
    "category": "General purpose",
    "gpuNum": 0,
    "hideHardwareSpecs": false,
    "memoryGiB": 384,
    "name": "ml.m5d.24xlarge",
    "vcpuNum": 96
   },
   {
    "_defaultOrder": 20,
    "_isFastLaunch": false,
    "category": "General purpose",
    "gpuNum": 0,
    "hideHardwareSpecs": true,
    "memoryGiB": 0,
    "name": "ml.geospatial.interactive",
    "supportedImageNames": [
     "sagemaker-geospatial-v1-0"
    ],
    "vcpuNum": 0
   },
   {
    "_defaultOrder": 21,
    "_isFastLaunch": true,
    "category": "Compute optimized",
    "gpuNum": 0,
    "hideHardwareSpecs": false,
    "memoryGiB": 4,
    "name": "ml.c5.large",
    "vcpuNum": 2
   },
   {
    "_defaultOrder": 22,
    "_isFastLaunch": false,
    "category": "Compute optimized",
    "gpuNum": 0,
    "hideHardwareSpecs": false,
    "memoryGiB": 8,
    "name": "ml.c5.xlarge",
    "vcpuNum": 4
   },
   {
    "_defaultOrder": 23,
    "_isFastLaunch": false,
    "category": "Compute optimized",
    "gpuNum": 0,
    "hideHardwareSpecs": false,
    "memoryGiB": 16,
    "name": "ml.c5.2xlarge",
    "vcpuNum": 8
   },
   {
    "_defaultOrder": 24,
    "_isFastLaunch": false,
    "category": "Compute optimized",
    "gpuNum": 0,
    "hideHardwareSpecs": false,
    "memoryGiB": 32,
    "name": "ml.c5.4xlarge",
    "vcpuNum": 16
   },
   {
    "_defaultOrder": 25,
    "_isFastLaunch": false,
    "category": "Compute optimized",
    "gpuNum": 0,
    "hideHardwareSpecs": false,
    "memoryGiB": 72,
    "name": "ml.c5.9xlarge",
    "vcpuNum": 36
   },
   {
    "_defaultOrder": 26,
    "_isFastLaunch": false,
    "category": "Compute optimized",
    "gpuNum": 0,
    "hideHardwareSpecs": false,
    "memoryGiB": 96,
    "name": "ml.c5.12xlarge",
    "vcpuNum": 48
   },
   {
    "_defaultOrder": 27,
    "_isFastLaunch": false,
    "category": "Compute optimized",
    "gpuNum": 0,
    "hideHardwareSpecs": false,
    "memoryGiB": 144,
    "name": "ml.c5.18xlarge",
    "vcpuNum": 72
   },
   {
    "_defaultOrder": 28,
    "_isFastLaunch": false,
    "category": "Compute optimized",
    "gpuNum": 0,
    "hideHardwareSpecs": false,
    "memoryGiB": 192,
    "name": "ml.c5.24xlarge",
    "vcpuNum": 96
   },
   {
    "_defaultOrder": 29,
    "_isFastLaunch": true,
    "category": "Accelerated computing",
    "gpuNum": 1,
    "hideHardwareSpecs": false,
    "memoryGiB": 16,
    "name": "ml.g4dn.xlarge",
    "vcpuNum": 4
   },
   {
    "_defaultOrder": 30,
    "_isFastLaunch": false,
    "category": "Accelerated computing",
    "gpuNum": 1,
    "hideHardwareSpecs": false,
    "memoryGiB": 32,
    "name": "ml.g4dn.2xlarge",
    "vcpuNum": 8
   },
   {
    "_defaultOrder": 31,
    "_isFastLaunch": false,
    "category": "Accelerated computing",
    "gpuNum": 1,
    "hideHardwareSpecs": false,
    "memoryGiB": 64,
    "name": "ml.g4dn.4xlarge",
    "vcpuNum": 16
   },
   {
    "_defaultOrder": 32,
    "_isFastLaunch": false,
    "category": "Accelerated computing",
    "gpuNum": 1,
    "hideHardwareSpecs": false,
    "memoryGiB": 128,
    "name": "ml.g4dn.8xlarge",
    "vcpuNum": 32
   },
   {
    "_defaultOrder": 33,
    "_isFastLaunch": false,
    "category": "Accelerated computing",
    "gpuNum": 4,
    "hideHardwareSpecs": false,
    "memoryGiB": 192,
    "name": "ml.g4dn.12xlarge",
    "vcpuNum": 48
   },
   {
    "_defaultOrder": 34,
    "_isFastLaunch": false,
    "category": "Accelerated computing",
    "gpuNum": 1,
    "hideHardwareSpecs": false,
    "memoryGiB": 256,
    "name": "ml.g4dn.16xlarge",
    "vcpuNum": 64
   },
   {
    "_defaultOrder": 35,
    "_isFastLaunch": false,
    "category": "Accelerated computing",
    "gpuNum": 1,
    "hideHardwareSpecs": false,
    "memoryGiB": 61,
    "name": "ml.p3.2xlarge",
    "vcpuNum": 8
   },
   {
    "_defaultOrder": 36,
    "_isFastLaunch": false,
    "category": "Accelerated computing",
    "gpuNum": 4,
    "hideHardwareSpecs": false,
    "memoryGiB": 244,
    "name": "ml.p3.8xlarge",
    "vcpuNum": 32
   },
   {
    "_defaultOrder": 37,
    "_isFastLaunch": false,
    "category": "Accelerated computing",
    "gpuNum": 8,
    "hideHardwareSpecs": false,
    "memoryGiB": 488,
    "name": "ml.p3.16xlarge",
    "vcpuNum": 64
   },
   {
    "_defaultOrder": 38,
    "_isFastLaunch": false,
    "category": "Accelerated computing",
    "gpuNum": 8,
    "hideHardwareSpecs": false,
    "memoryGiB": 768,
    "name": "ml.p3dn.24xlarge",
    "vcpuNum": 96
   },
   {
    "_defaultOrder": 39,
    "_isFastLaunch": false,
    "category": "Memory Optimized",
    "gpuNum": 0,
    "hideHardwareSpecs": false,
    "memoryGiB": 16,
    "name": "ml.r5.large",
    "vcpuNum": 2
   },
   {
    "_defaultOrder": 40,
    "_isFastLaunch": false,
    "category": "Memory Optimized",
    "gpuNum": 0,
    "hideHardwareSpecs": false,
    "memoryGiB": 32,
    "name": "ml.r5.xlarge",
    "vcpuNum": 4
   },
   {
    "_defaultOrder": 41,
    "_isFastLaunch": false,
    "category": "Memory Optimized",
    "gpuNum": 0,
    "hideHardwareSpecs": false,
    "memoryGiB": 64,
    "name": "ml.r5.2xlarge",
    "vcpuNum": 8
   },
   {
    "_defaultOrder": 42,
    "_isFastLaunch": false,
    "category": "Memory Optimized",
    "gpuNum": 0,
    "hideHardwareSpecs": false,
    "memoryGiB": 128,
    "name": "ml.r5.4xlarge",
    "vcpuNum": 16
   },
   {
    "_defaultOrder": 43,
    "_isFastLaunch": false,
    "category": "Memory Optimized",
    "gpuNum": 0,
    "hideHardwareSpecs": false,
    "memoryGiB": 256,
    "name": "ml.r5.8xlarge",
    "vcpuNum": 32
   },
   {
    "_defaultOrder": 44,
    "_isFastLaunch": false,
    "category": "Memory Optimized",
    "gpuNum": 0,
    "hideHardwareSpecs": false,
    "memoryGiB": 384,
    "name": "ml.r5.12xlarge",
    "vcpuNum": 48
   },
   {
    "_defaultOrder": 45,
    "_isFastLaunch": false,
    "category": "Memory Optimized",
    "gpuNum": 0,
    "hideHardwareSpecs": false,
    "memoryGiB": 512,
    "name": "ml.r5.16xlarge",
    "vcpuNum": 64
   },
   {
    "_defaultOrder": 46,
    "_isFastLaunch": false,
    "category": "Memory Optimized",
    "gpuNum": 0,
    "hideHardwareSpecs": false,
    "memoryGiB": 768,
    "name": "ml.r5.24xlarge",
    "vcpuNum": 96
   },
   {
    "_defaultOrder": 47,
    "_isFastLaunch": false,
    "category": "Accelerated computing",
    "gpuNum": 1,
    "hideHardwareSpecs": false,
    "memoryGiB": 16,
    "name": "ml.g5.xlarge",
    "vcpuNum": 4
   },
   {
    "_defaultOrder": 48,
    "_isFastLaunch": false,
    "category": "Accelerated computing",
    "gpuNum": 1,
    "hideHardwareSpecs": false,
    "memoryGiB": 32,
    "name": "ml.g5.2xlarge",
    "vcpuNum": 8
   },
   {
    "_defaultOrder": 49,
    "_isFastLaunch": false,
    "category": "Accelerated computing",
    "gpuNum": 1,
    "hideHardwareSpecs": false,
    "memoryGiB": 64,
    "name": "ml.g5.4xlarge",
    "vcpuNum": 16
   },
   {
    "_defaultOrder": 50,
    "_isFastLaunch": false,
    "category": "Accelerated computing",
    "gpuNum": 1,
    "hideHardwareSpecs": false,
    "memoryGiB": 128,
    "name": "ml.g5.8xlarge",
    "vcpuNum": 32
   },
   {
    "_defaultOrder": 51,
    "_isFastLaunch": false,
    "category": "Accelerated computing",
    "gpuNum": 1,
    "hideHardwareSpecs": false,
    "memoryGiB": 256,
    "name": "ml.g5.16xlarge",
    "vcpuNum": 64
   },
   {
    "_defaultOrder": 52,
    "_isFastLaunch": false,
    "category": "Accelerated computing",
    "gpuNum": 4,
    "hideHardwareSpecs": false,
    "memoryGiB": 192,
    "name": "ml.g5.12xlarge",
    "vcpuNum": 48
   },
   {
    "_defaultOrder": 53,
    "_isFastLaunch": false,
    "category": "Accelerated computing",
    "gpuNum": 4,
    "hideHardwareSpecs": false,
    "memoryGiB": 384,
    "name": "ml.g5.24xlarge",
    "vcpuNum": 96
   },
   {
    "_defaultOrder": 54,
    "_isFastLaunch": false,
    "category": "Accelerated computing",
    "gpuNum": 8,
    "hideHardwareSpecs": false,
    "memoryGiB": 768,
    "name": "ml.g5.48xlarge",
    "vcpuNum": 192
   },
   {
    "_defaultOrder": 55,
    "_isFastLaunch": false,
    "category": "Accelerated computing",
    "gpuNum": 8,
    "hideHardwareSpecs": false,
    "memoryGiB": 1152,
    "name": "ml.p4d.24xlarge",
    "vcpuNum": 96
   },
   {
    "_defaultOrder": 56,
    "_isFastLaunch": false,
    "category": "Accelerated computing",
    "gpuNum": 8,
    "hideHardwareSpecs": false,
    "memoryGiB": 1152,
    "name": "ml.p4de.24xlarge",
    "vcpuNum": 96
   },
   {
    "_defaultOrder": 57,
    "_isFastLaunch": false,
    "category": "Accelerated computing",
    "gpuNum": 0,
    "hideHardwareSpecs": false,
    "memoryGiB": 32,
    "name": "ml.trn1.2xlarge",
    "vcpuNum": 8
   },
   {
    "_defaultOrder": 58,
    "_isFastLaunch": false,
    "category": "Accelerated computing",
    "gpuNum": 0,
    "hideHardwareSpecs": false,
    "memoryGiB": 512,
    "name": "ml.trn1.32xlarge",
    "vcpuNum": 128
   },
   {
    "_defaultOrder": 59,
    "_isFastLaunch": false,
    "category": "Accelerated computing",
    "gpuNum": 0,
    "hideHardwareSpecs": false,
    "memoryGiB": 512,
    "name": "ml.trn1n.32xlarge",
    "vcpuNum": 128
   }
  ],
  "instance_type": "ml.g4dn.xlarge",
  "kernelspec": {
   "display_name": "Python 3 (TensorFlow 2.11.0 Python 3.9 GPU Optimized)",
   "language": "python",
   "name": "python3__SAGEMAKER_INTERNAL__arn:aws:sagemaker:eu-central-1:936697816551:image/tensorflow-2.11.0-gpu-py39-cu112-ubuntu20.04-sagemaker-v1.1"
  },
  "language_info": {
   "codemirror_mode": {
    "name": "ipython",
    "version": 3
   },
   "file_extension": ".py",
   "mimetype": "text/x-python",
   "name": "python",
   "nbconvert_exporter": "python",
   "pygments_lexer": "ipython3",
   "version": "3.9.10"
  },
  "widgets": {
   "application/vnd.jupyter.widget-state+json": {
    "state": {},
    "version_major": 2,
    "version_minor": 0
   }
  }
 },
 "nbformat": 4,
 "nbformat_minor": 5
}
