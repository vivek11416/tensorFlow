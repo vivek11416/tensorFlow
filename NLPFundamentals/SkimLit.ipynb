{
 "cells": [
  {
   "cell_type": "code",
   "execution_count": 44,
   "id": "b96397ed-730f-4630-8e18-f49491c94a3e",
   "metadata": {
    "ExecuteTime": {
     "end_time": "2024-03-20T06:40:37.094943700Z",
     "start_time": "2024-03-20T06:40:36.489790400Z"
    }
   },
   "outputs": [
    {
     "name": "stdout",
     "output_type": "stream",
     "text": [
      "Wed Mar 20 12:10:36 2024       \n",
      "+-----------------------------------------------------------------------------------------+\n",
      "| NVIDIA-SMI 551.76                 Driver Version: 551.76         CUDA Version: 12.4     |\n",
      "|-----------------------------------------+------------------------+----------------------+\n",
      "| GPU  Name                     TCC/WDDM  | Bus-Id          Disp.A | Volatile Uncorr. ECC |\n",
      "| Fan  Temp   Perf          Pwr:Usage/Cap |           Memory-Usage | GPU-Util  Compute M. |\n",
      "|                                         |                        |               MIG M. |\n",
      "|=========================================+========================+======================|\n",
      "|   0  NVIDIA GeForce RTX 3050 ...  WDDM  |   00000000:01:00.0 Off |                  N/A |\n",
      "| N/A   50C    P8              9W /   80W |    2605MiB /   4096MiB |      0%      Default |\n",
      "|                                         |                        |                  N/A |\n",
      "+-----------------------------------------+------------------------+----------------------+\n",
      "                                                                                         \n",
      "+-----------------------------------------------------------------------------------------+\n",
      "| Processes:                                                                              |\n",
      "|  GPU   GI   CI        PID   Type   Process name                              GPU Memory |\n",
      "|        ID   ID                                                               Usage      |\n",
      "|=========================================================================================|\n",
      "|    0   N/A  N/A     22512      C   ...onda3\\envs\\tensorFlowEnv\\python.exe      N/A      |\n",
      "+-----------------------------------------------------------------------------------------+\n"
     ]
    }
   ],
   "source": [
    "#002 What we're going to cover in Milestone Project 2 (NLP for medical abstracts)\n",
    "#003 SkimLit inputs and outputs\n",
    "#004 Setting up our notebook for Milestone Project 2 (getting the data)\n",
    "!nvidia-smi"
   ]
  },
  {
   "cell_type": "code",
   "execution_count": 45,
   "id": "e3f3fc28-d473-4e50-9987-c935dc8dfa33",
   "metadata": {
    "tags": [],
    "ExecuteTime": {
     "end_time": "2024-03-20T06:40:37.097099600Z",
     "start_time": "2024-03-20T06:40:36.589664400Z"
    }
   },
   "outputs": [],
   "source": [
    "#!git clone https://github.com/Franck-Dernoncourt/pubmed-rct.git\n"
   ]
  },
  {
   "cell_type": "code",
   "execution_count": 46,
   "id": "4e4577df-06a4-4792-b4e2-9d0f6d990174",
   "metadata": {
    "ExecuteTime": {
     "end_time": "2024-03-20T06:40:37.097099600Z",
     "start_time": "2024-03-20T06:40:36.605196500Z"
    }
   },
   "outputs": [],
   "source": [
    "#005 Visualising examples from the dataset (becoming one with the data)\n",
    "data_dir = \"pubmed-rct/PubMed_20k_RCT_numbers_replaced_with_at_sign/\"\n"
   ]
  },
  {
   "cell_type": "code",
   "execution_count": 47,
   "id": "9712f980-12ed-4306-a115-15c81bdb3067",
   "metadata": {
    "tags": [],
    "ExecuteTime": {
     "end_time": "2024-03-20T06:40:37.097099600Z",
     "start_time": "2024-03-20T06:40:36.620176700Z"
    }
   },
   "outputs": [
    {
     "data": {
      "text/plain": "['pubmed-rct/PubMed_20k_RCT_numbers_replaced_with_at_sign/dev.txt',\n 'pubmed-rct/PubMed_20k_RCT_numbers_replaced_with_at_sign/test.txt',\n 'pubmed-rct/PubMed_20k_RCT_numbers_replaced_with_at_sign/train.txt']"
     },
     "execution_count": 47,
     "metadata": {},
     "output_type": "execute_result"
    }
   ],
   "source": [
    "import os\n",
    "filenames = [data_dir+ filename for filename in os.listdir(data_dir)]\n",
    "filenames"
   ]
  },
  {
   "cell_type": "code",
   "execution_count": 48,
   "id": "c3e3e08c-66e5-4071-b9a4-55da348c6398",
   "metadata": {
    "tags": [],
    "ExecuteTime": {
     "end_time": "2024-03-20T06:40:37.097099600Z",
     "start_time": "2024-03-20T06:40:36.632515700Z"
    }
   },
   "outputs": [],
   "source": [
    "def get_lines(filename):\n",
    "    with open(filename,\"r\") as f:\n",
    "        return f.readlines()\n",
    "    "
   ]
  },
  {
   "cell_type": "code",
   "execution_count": 49,
   "id": "fc413b74-3ec3-4dd1-b6b3-7c4a048e1c59",
   "metadata": {
    "tags": [],
    "ExecuteTime": {
     "end_time": "2024-03-20T06:40:37.098113900Z",
     "start_time": "2024-03-20T06:40:36.648145Z"
    }
   },
   "outputs": [
    {
     "data": {
      "text/plain": "['###24293578\\n',\n 'OBJECTIVE\\tTo investigate the efficacy of @ weeks of daily low-dose oral prednisolone in improving pain , mobility , and systemic low-grade inflammation in the short term and whether the effect would be sustained at @ weeks in older adults with moderate to severe knee osteoarthritis ( OA ) .\\n',\n 'METHODS\\tA total of @ patients with primary knee OA were randomized @:@ ; @ received @ mg/day of prednisolone and @ received placebo for @ weeks .\\n',\n 'METHODS\\tOutcome measures included pain reduction and improvement in function scores and systemic inflammation markers .\\n',\n 'METHODS\\tPain was assessed using the visual analog pain scale ( @-@ mm ) .\\n',\n 'METHODS\\tSecondary outcome measures included the Western Ontario and McMaster Universities Osteoarthritis Index scores , patient global assessment ( PGA ) of the severity of knee OA , and @-min walk distance ( @MWD ) .\\n',\n 'METHODS\\tSerum levels of interleukin @ ( IL-@ ) , IL-@ , tumor necrosis factor ( TNF ) - , and high-sensitivity C-reactive protein ( hsCRP ) were measured .\\n',\n 'RESULTS\\tThere was a clinically relevant reduction in the intervention group compared to the placebo group for knee pain , physical function , PGA , and @MWD at @ weeks .\\n',\n 'RESULTS\\tThe mean difference between treatment arms ( @ % CI ) was @ ( @-@ @ ) , p < @ ; @ ( @-@ @ ) , p < @ ; @ ( @-@ @ ) , p < @ ; and @ ( @-@ @ ) , p < @ , respectively .\\n',\n 'RESULTS\\tFurther , there was a clinically relevant reduction in the serum levels of IL-@ , IL-@ , TNF - , and hsCRP at @ weeks in the intervention group when compared to the placebo group .\\n']"
     },
     "execution_count": 49,
     "metadata": {},
     "output_type": "execute_result"
    }
   ],
   "source": [
    "train_lines = get_lines(data_dir+\"train.txt\")\n",
    "train_lines[:10]"
   ]
  },
  {
   "cell_type": "code",
   "execution_count": 50,
   "id": "d22ed17b-7251-4565-ba44-c23c2139e229",
   "metadata": {
    "tags": [],
    "ExecuteTime": {
     "end_time": "2024-03-20T06:40:37.098113900Z",
     "start_time": "2024-03-20T06:40:36.777236400Z"
    }
   },
   "outputs": [],
   "source": [
    "#006 Writing a preprocessing function to structure our data for modelling\n",
    "def preprocess_text_with_line_numbers(filename):\n",
    "    input_lines = get_lines(filename)\n",
    "    abstract_lines = \"\"\n",
    "    abstract_samples = []\n",
    "    \n",
    "    for line in input_lines:\n",
    "        if line.startswith(\"###\"):\n",
    "            abstract_id = line\n",
    "            abstract_lines = \"\"\n",
    "        \n",
    "        elif line.isspace():\n",
    "            abstract_line_split = abstract_lines.splitlines()\n",
    "            \n",
    "            \n",
    "            for abstract_line_number , abstract_line in enumerate(abstract_line_split):\n",
    "                line_data = {}\n",
    "                target_text_split = abstract_line.split(\"\\t\")\n",
    "                line_data[\"target\"] = target_text_split[0]\n",
    "                line_data[\"text\"] = target_text_split[1].lower()\n",
    "                line_data[\"line_number\"] = abstract_line_number\n",
    "                line_data[\"total_lines\"] = len(abstract_line_split)-1\n",
    "                abstract_samples.append(line_data)\n",
    "                \n",
    "        else:\n",
    "            abstract_lines += line\n",
    "            \n",
    "    return abstract_samples\n",
    "                \n",
    "        "
   ]
  },
  {
   "cell_type": "code",
   "execution_count": 51,
   "id": "dfcacf98-8c94-48fa-b4b3-aa8cc17e5890",
   "metadata": {
    "tags": [],
    "ExecuteTime": {
     "end_time": "2024-03-20T06:40:37.303109500Z",
     "start_time": "2024-03-20T06:40:36.794412700Z"
    }
   },
   "outputs": [
    {
     "name": "stdout",
     "output_type": "stream",
     "text": [
      "CPU times: total: 328 ms\n",
      "Wall time: 477 ms\n"
     ]
    },
    {
     "data": {
      "text/plain": "(180040, 30212, 30135)"
     },
     "execution_count": 51,
     "metadata": {},
     "output_type": "execute_result"
    }
   ],
   "source": [
    "%%time\n",
    "train_samples = preprocess_text_with_line_numbers(data_dir+\"train.txt\")\n",
    "val_samples = preprocess_text_with_line_numbers(data_dir+\"dev.txt\")\n",
    "test_samples = preprocess_text_with_line_numbers(data_dir+\"test.txt\")\n",
    "len(train_samples),len(val_samples),len(test_samples)"
   ]
  },
  {
   "cell_type": "code",
   "execution_count": 52,
   "id": "6f55b082-f359-43fc-a328-c8f7b4745fba",
   "metadata": {
    "collapsed": true,
    "jupyter": {
     "outputs_hidden": true
    },
    "tags": [],
    "ExecuteTime": {
     "end_time": "2024-03-20T06:40:37.402510100Z",
     "start_time": "2024-03-20T06:40:37.303109500Z"
    }
   },
   "outputs": [
    {
     "data": {
      "text/plain": "[{'target': 'OBJECTIVE',\n  'text': 'to investigate the efficacy of @ weeks of daily low-dose oral prednisolone in improving pain , mobility , and systemic low-grade inflammation in the short term and whether the effect would be sustained at @ weeks in older adults with moderate to severe knee osteoarthritis ( oa ) .',\n  'line_number': 0,\n  'total_lines': 11},\n {'target': 'METHODS',\n  'text': 'a total of @ patients with primary knee oa were randomized @:@ ; @ received @ mg/day of prednisolone and @ received placebo for @ weeks .',\n  'line_number': 1,\n  'total_lines': 11},\n {'target': 'METHODS',\n  'text': 'outcome measures included pain reduction and improvement in function scores and systemic inflammation markers .',\n  'line_number': 2,\n  'total_lines': 11},\n {'target': 'METHODS',\n  'text': 'pain was assessed using the visual analog pain scale ( @-@ mm ) .',\n  'line_number': 3,\n  'total_lines': 11},\n {'target': 'METHODS',\n  'text': 'secondary outcome measures included the western ontario and mcmaster universities osteoarthritis index scores , patient global assessment ( pga ) of the severity of knee oa , and @-min walk distance ( @mwd ) .',\n  'line_number': 4,\n  'total_lines': 11},\n {'target': 'METHODS',\n  'text': 'serum levels of interleukin @ ( il-@ ) , il-@ , tumor necrosis factor ( tnf ) - , and high-sensitivity c-reactive protein ( hscrp ) were measured .',\n  'line_number': 5,\n  'total_lines': 11},\n {'target': 'RESULTS',\n  'text': 'there was a clinically relevant reduction in the intervention group compared to the placebo group for knee pain , physical function , pga , and @mwd at @ weeks .',\n  'line_number': 6,\n  'total_lines': 11},\n {'target': 'RESULTS',\n  'text': 'the mean difference between treatment arms ( @ % ci ) was @ ( @-@ @ ) , p < @ ; @ ( @-@ @ ) , p < @ ; @ ( @-@ @ ) , p < @ ; and @ ( @-@ @ ) , p < @ , respectively .',\n  'line_number': 7,\n  'total_lines': 11},\n {'target': 'RESULTS',\n  'text': 'further , there was a clinically relevant reduction in the serum levels of il-@ , il-@ , tnf - , and hscrp at @ weeks in the intervention group when compared to the placebo group .',\n  'line_number': 8,\n  'total_lines': 11},\n {'target': 'RESULTS',\n  'text': 'these differences remained significant at @ weeks .',\n  'line_number': 9,\n  'total_lines': 11},\n {'target': 'RESULTS',\n  'text': 'the outcome measures in rheumatology clinical trials-osteoarthritis research society international responder rate was @ % in the intervention group and @ % in the placebo group ( p < @ ) .',\n  'line_number': 10,\n  'total_lines': 11},\n {'target': 'CONCLUSIONS',\n  'text': 'low-dose oral prednisolone had both a short-term and a longer sustained effect resulting in less knee pain , better physical function , and attenuation of systemic inflammation in older patients with knee oa ( clinicaltrials.gov identifier nct@ ) .',\n  'line_number': 11,\n  'total_lines': 11},\n {'target': 'BACKGROUND',\n  'text': 'emotional eating is associated with overeating and the development of obesity .',\n  'line_number': 0,\n  'total_lines': 10},\n {'target': 'BACKGROUND',\n  'text': 'yet , empirical evidence for individual ( trait ) differences in emotional eating and cognitive mechanisms that contribute to eating during sad mood remain equivocal .',\n  'line_number': 1,\n  'total_lines': 10},\n {'target': 'OBJECTIVE',\n  'text': 'the aim of this study was to test if attention bias for food moderates the effect of self-reported emotional eating during sad mood ( vs neutral mood ) on actual food intake .',\n  'line_number': 2,\n  'total_lines': 10},\n {'target': 'OBJECTIVE',\n  'text': 'it was expected that emotional eating is predictive of elevated attention for food and higher food intake after an experimentally induced sad mood and that attentional maintenance on food predicts food intake during a sad versus a neutral mood .',\n  'line_number': 3,\n  'total_lines': 10},\n {'target': 'METHODS',\n  'text': 'participants ( n = @ ) were randomly assigned to one of the two experimental mood induction conditions ( sad/neutral ) .',\n  'line_number': 4,\n  'total_lines': 10},\n {'target': 'METHODS',\n  'text': 'attentional biases for high caloric foods were measured by eye tracking during a visual probe task with pictorial food and neutral stimuli .',\n  'line_number': 5,\n  'total_lines': 10},\n {'target': 'METHODS',\n  'text': 'self-reported emotional eating was assessed with the dutch eating behavior questionnaire ( debq ) and ad libitum food intake was tested by a disguised food offer .',\n  'line_number': 6,\n  'total_lines': 10},\n {'target': 'RESULTS',\n  'text': 'hierarchical multivariate regression modeling showed that self-reported emotional eating did not account for changes in attention allocation for food or food intake in either condition .',\n  'line_number': 7,\n  'total_lines': 10},\n {'target': 'RESULTS',\n  'text': 'yet , attention maintenance on food cues was significantly related to increased intake specifically in the neutral condition , but not in the sad mood condition .',\n  'line_number': 8,\n  'total_lines': 10},\n {'target': 'CONCLUSIONS',\n  'text': 'the current findings show that self-reported emotional eating ( based on the debq ) might not validly predict who overeats when sad , at least not in a laboratory setting with healthy women .',\n  'line_number': 9,\n  'total_lines': 10},\n {'target': 'CONCLUSIONS',\n  'text': 'results further suggest that attention maintenance on food relates to eating motivation when in a neutral affective state , and might therefore be a cognitive mechanism contributing to increased food intake in general , but maybe not during sad mood .',\n  'line_number': 10,\n  'total_lines': 10},\n {'target': 'BACKGROUND',\n  'text': 'although working smoke alarms halve deaths in residential fires , many households do not keep alarms operational .',\n  'line_number': 0,\n  'total_lines': 14},\n {'target': 'BACKGROUND',\n  'text': 'we tested whether theory-based education increases alarm operability .',\n  'line_number': 1,\n  'total_lines': 14},\n {'target': 'METHODS',\n  'text': 'randomised multiarm trial , with a single arm randomly selected for use each day , in low-income neighbourhoods in maryland , usa .',\n  'line_number': 2,\n  'total_lines': 14},\n {'target': 'METHODS',\n  'text': \"intervention arms : ( @ ) full education combining a health belief module with a social-cognitive theory module that provided hands-on practice installing alarm batteries and using the alarm 's hush button ; ( @ ) hands-on practice social-cognitive module supplemented by typical fire department education ; ( @ ) current norm receiving typical fire department education only .\",\n  'line_number': 3,\n  'total_lines': 14},\n {'target': 'METHODS',\n  'text': 'four hundred and thirty-six homes recruited through churches or by knocking on doors in @-@ .',\n  'line_number': 4,\n  'total_lines': 14},\n {'target': 'METHODS',\n  'text': 'follow-up visits checked alarm operability in @ homes ( @ % ) @-@ @ years after installation .',\n  'line_number': 5,\n  'total_lines': 14},\n {'target': 'METHODS',\n  'text': 'number of homes with working alarms defined as alarms with working batteries or hard-wired and number of working alarms per home .',\n  'line_number': 6,\n  'total_lines': 14},\n {'target': 'METHODS',\n  'text': 'regressions controlled for alarm status preintervention ; demographics and beliefs about fire risks and alarm effectiveness .',\n  'line_number': 7,\n  'total_lines': 14},\n {'target': 'RESULTS',\n  'text': 'homes in the full education and practice arms were more likely to have a functioning smoke alarm at follow-up ( or = @ , @ % ci @ to @ ) and had an average of @ more working alarms per home ( @ % ci @ to @ ) .',\n  'line_number': 8,\n  'total_lines': 14},\n {'target': 'RESULTS',\n  'text': 'working alarms per home rose @ % .',\n  'line_number': 9,\n  'total_lines': 14},\n {'target': 'RESULTS',\n  'text': 'full education and practice had similar effectiveness ( p = @ on both outcome measures ) .',\n  'line_number': 10,\n  'total_lines': 14},\n {'target': 'CONCLUSIONS',\n  'text': 'without exceeding typical fire department installation time , installers can achieve greater smoke alarm operability .',\n  'line_number': 11,\n  'total_lines': 14},\n {'target': 'CONCLUSIONS',\n  'text': 'hands-on practice is key .',\n  'line_number': 12,\n  'total_lines': 14},\n {'target': 'CONCLUSIONS',\n  'text': 'two years after installation , for every three homes that received hands-on practice , one had an additional working alarm .',\n  'line_number': 13,\n  'total_lines': 14},\n {'target': 'BACKGROUND',\n  'text': 'http://www.clinicaltrials.gov number nct@ .',\n  'line_number': 14,\n  'total_lines': 14},\n {'target': 'OBJECTIVE',\n  'text': 'to evaluate the performance ( efficacy , safety and acceptability ) of a new micro-adherent absorbent dressing ( urgoclean ) compared with a hydrofiber dressing ( aquacel ) in the local management of venous leg ulcers , in the debridement stage .',\n  'line_number': 0,\n  'total_lines': 16},\n {'target': 'METHODS',\n  'text': 'a non-inferiority european randomised controlled clinical trial ( rct ) was conducted in @ centres , on patients presenting with venous or predominantly venous , mixed aetiology leg ulcers at their sloughy stage ( with more than @ % of the wound bed covered with slough at baseline ) .',\n  'line_number': 1,\n  'total_lines': 16},\n {'target': 'METHODS',\n  'text': 'patients were followed over a @-week period and assessed weekly .',\n  'line_number': 2,\n  'total_lines': 16},\n {'target': 'METHODS',\n  'text': 'the primary judgement criteria was the relative regression of the wound surface area after the @-week treatment period .',\n  'line_number': 3,\n  'total_lines': 16},\n {'target': 'METHODS',\n  'text': 'secondary endpoints were the relative reduction of sloughy tissue and the percentage of patients presenting with a debrided wound .',\n  'line_number': 4,\n  'total_lines': 16},\n {'target': 'RESULTS',\n  'text': 'altogether , @ patients were randomised to either urgoclean ( test group ; n = @ ) or aquacel ( control group ; n = @ ) dressings .',\n  'line_number': 5,\n  'total_lines': 16},\n {'target': 'RESULTS',\n  'text': 'regarding the wound healing process predictive factors ( wound area , duration , abpi value , recurrence ) , at baseline , the two groups were well balanced , for both wound and patient characteristics .',\n  'line_number': 6,\n  'total_lines': 16},\n {'target': 'RESULTS',\n  'text': 'compression therapy was administered to both groups and after a median @-day treatment period , the percentage of relative reduction of the wound surface area was very similar ( -@ % vs -@ % in the urgoclean and control groups , respectively ) .',\n  'line_number': 7,\n  'total_lines': 16},\n {'target': 'RESULTS',\n  'text': 'when considering the secondary criteria at week @ , the relative reduction of sloughy tissue was significantly higher in the urgoclean group than in the control group ( -@ % vs -@,@ % ; p = @ ) .',\n  'line_number': 8,\n  'total_lines': 16},\n {'target': 'RESULTS',\n  'text': 'the percentage of debrided wounds was also significantly higher in the test group ( @ % vs @ % ; p = @ ) .',\n  'line_number': 9,\n  'total_lines': 16},\n {'target': 'CONCLUSIONS',\n  'text': \"this ` earth ' rct confirmed that the urgoclean dressing has similar efficacy and safety compared to aquacel .\",\n  'line_number': 10,\n  'total_lines': 16},\n {'target': 'CONCLUSIONS',\n  'text': 'however , urgoclean also showed better autolytic properties than the control group in the management of venous leg ulcers at the sloughy stage .',\n  'line_number': 11,\n  'total_lines': 16},\n {'target': 'CONCLUSIONS',\n  'text': 'the new urgoclean dressing therefore represents a promising therapeutic option within the current range of autolytic dressings available .',\n  'line_number': 12,\n  'total_lines': 16},\n {'target': 'BACKGROUND',\n  'text': 'this study was sponsored by a grant from the pharmaceutical company laboratoires urgo .',\n  'line_number': 13,\n  'total_lines': 16},\n {'target': 'BACKGROUND',\n  'text': 's. bohbot and o. tacca are employees of laboratoires urgo .',\n  'line_number': 14,\n  'total_lines': 16},\n {'target': 'BACKGROUND',\n  'text': 's. meaume , j. dissemond and g. perceau have received monetary compensation as presenters for laboratoires urgo .',\n  'line_number': 15,\n  'total_lines': 16},\n {'target': 'BACKGROUND',\n  'text': 'data management and statistical analyses were conducted independently by vertical ( paris , france ) .',\n  'line_number': 16,\n  'total_lines': 16},\n {'target': 'OBJECTIVE',\n  'text': 'eye movements ( em ) during recall of an aversive memory is a treatment element unique to eye movement desensitization and reprocessing ( emdr ) .',\n  'line_number': 0,\n  'total_lines': 11},\n {'target': 'OBJECTIVE',\n  'text': 'experimental studies have shown that em reduce memory vividness and/or emotionality shortly after the intervention .',\n  'line_number': 1,\n  'total_lines': 11},\n {'target': 'OBJECTIVE',\n  'text': 'however , it is unclear whether the immediate effects of the intervention reflect actual changes in memory .',\n  'line_number': 2,\n  'total_lines': 11},\n {'target': 'OBJECTIVE',\n  'text': 'the aim of this study was to test whether immediate reductions in memory vividness and emotionality persist at a @h follow up and whether the magnitude of these effects is related to the duration of the intervention .',\n  'line_number': 3,\n  'total_lines': 11},\n {'target': 'METHODS',\n  'text': \"seventy-three undergraduates recalled two negative autobiographical memories , one with em ( `` recall with em '' ) and one without ( `` recall only '' ) .\",\n  'line_number': 4,\n  'total_lines': 11},\n {'target': 'METHODS',\n  'text': 'half of participants recalled each memory for four periods of @s , the other half for eight periods of @s .',\n  'line_number': 5,\n  'total_lines': 11},\n {'target': 'METHODS',\n  'text': 'memory vividness/emotionality were self-rated at a pre-test , an immediate post-test , and a @h follow-up test .',\n  'line_number': 6,\n  'total_lines': 11},\n {'target': 'RESULTS',\n  'text': 'in both duration groups , recall with em , but not recall only , caused an immediate decrease in memory vividness .',\n  'line_number': 7,\n  'total_lines': 11},\n {'target': 'RESULTS',\n  'text': 'there were no immediate reductions in memory emotionality .',\n  'line_number': 8,\n  'total_lines': 11},\n {'target': 'RESULTS',\n  'text': \"furthermore , only the ` eight periods ' group showed that recall with em , but not recall only , caused a decrease in both memory emotionality and memory vividness from the pre-test to the follow-up .\",\n  'line_number': 9,\n  'total_lines': 11},\n {'target': 'CONCLUSIONS',\n  'text': 'only self-report measures were used .',\n  'line_number': 10,\n  'total_lines': 11},\n {'target': 'CONCLUSIONS',\n  'text': 'the findings suggest that recall with em causes @-hchanges in memory vividness/emotionality , which may explain part of the emdr treatment effect , and these effects are related to intervention duration .',\n  'line_number': 11,\n  'total_lines': 11},\n {'target': 'OBJECTIVE',\n  'text': 'few studies have tested the impact of motivational interviewing ( mi ) delivered by primary care providers on pediatric obesity .',\n  'line_number': 0,\n  'total_lines': 12},\n {'target': 'OBJECTIVE',\n  'text': 'this study tested the efficacy of mi delivered by providers and registered dietitians ( rds ) to parents of overweight children aged @ through @ .',\n  'line_number': 1,\n  'total_lines': 12},\n {'target': 'METHODS',\n  'text': 'forty-two practices from the pediatric research in office settings network of the american academy of pediatrics were randomly assigned to @ of @ groups .',\n  'line_number': 2,\n  'total_lines': 12},\n {'target': 'METHODS',\n  'text': 'group @ ( usual care ) measured bmi percentile at baseline and @ - and @-year follow-up .',\n  'line_number': 3,\n  'total_lines': 12},\n {'target': 'METHODS',\n  'text': 'group @ ( provider only ) delivered @ mi counseling sessions to parents of the index child over @ years .',\n  'line_number': 4,\n  'total_lines': 12},\n {'target': 'METHODS',\n  'text': 'group @ ( provider + rd ) delivered @ provider mi sessions plus @ mi sessions from a rd. .',\n  'line_number': 5,\n  'total_lines': 12},\n {'target': 'METHODS',\n  'text': 'the primary outcome was child bmi percentile at @-year follow up .',\n  'line_number': 6,\n  'total_lines': 12},\n {'target': 'RESULTS',\n  'text': 'at @-year follow-up , the adjusted bmi percentile was @ , @ , and @ for groups @ , @ , and @ , respectively .',\n  'line_number': 7,\n  'total_lines': 12},\n {'target': 'RESULTS',\n  'text': 'the group @ mean was significantly ( p = @ ) lower than group @ .',\n  'line_number': 8,\n  'total_lines': 12},\n {'target': 'RESULTS',\n  'text': 'mean changes from baseline in bmi percentile were @ , @ , and @ across groups @ , @ , and @ .',\n  'line_number': 9,\n  'total_lines': 12},\n {'target': 'CONCLUSIONS',\n  'text': 'mi delivered by providers and rds ( group @ ) resulted in statistically significant reductions in bmi percentile .',\n  'line_number': 10,\n  'total_lines': 12},\n {'target': 'CONCLUSIONS',\n  'text': 'research is needed to determine the clinical significance and persistence of the bmi effects observed .',\n  'line_number': 11,\n  'total_lines': 12},\n {'target': 'CONCLUSIONS',\n  'text': 'how the intervention can be brought to scale ( in particular , how to train physicians to use mi effectively and how best to train rds and integrate them into primary care settings ) also merits future research .',\n  'line_number': 12,\n  'total_lines': 12},\n {'target': 'BACKGROUND',\n  'text': 'antithrombin ( at ) concentrations are reduced after cardiac surgery with cardiopulmonary bypass compared with the preoperative levels .',\n  'line_number': 0,\n  'total_lines': 9},\n {'target': 'BACKGROUND',\n  'text': 'low postoperative at is associated with worse short - and mid-term clinical outcomes .',\n  'line_number': 1,\n  'total_lines': 9},\n {'target': 'BACKGROUND',\n  'text': 'the aim of the study is to evaluate the effects of at administration on activation of the coagulation and fibrinolytic systems , platelet function , and the inflammatory response in patients with low postoperative at levels .',\n  'line_number': 2,\n  'total_lines': 9},\n {'target': 'METHODS',\n  'text': 'sixty patients with postoperative at levels of less than @ % were randomly assigned to receive purified at ( @ iu in three administrations ) or placebo in the postoperative intensive care unit .',\n  'line_number': 3,\n  'total_lines': 9},\n {'target': 'METHODS',\n  'text': 'thirty patients with postoperative at levels greater than @ % were observed as controls .',\n  'line_number': 4,\n  'total_lines': 9},\n {'target': 'METHODS',\n  'text': 'interleukin @ ( a marker of inflammation ) , prothrombin fragment @-@ ( a marker of thrombin generation ) , plasmin-antiplasmin complex ( a marker of fibrinolysis ) , and platelet factor @ ( a marker of platelet activation ) were measured at six different times .',\n  'line_number': 5,\n  'total_lines': 9},\n {'target': 'RESULTS',\n  'text': 'compared with the no at group and control patients , patients receiving at showed significantly higher at values until @ hours after the last administration .',\n  'line_number': 6,\n  'total_lines': 9},\n {'target': 'RESULTS',\n  'text': 'analysis of variance for repeated measures showed a significant effect of study treatment in reducing prothrombin fragment @-@ ( p = @ ; interaction with time sample , p = @ ) and plasmin-antiplasmin complex ( p < @ ; interaction with time sample , p < @ ) values but not interleukin @ ( p = @ ; interaction with time sample , p = @ ) and platelet factor @ ( p = @ ; interaction with time sample , p = @ ) .',\n  'line_number': 7,\n  'total_lines': 9},\n {'target': 'RESULTS',\n  'text': 'no difference in chest tube drainage , reopening for bleeding , and blood transfusion was observed .',\n  'line_number': 8,\n  'total_lines': 9},\n {'target': 'CONCLUSIONS',\n  'text': 'antithrombin administration in patients with low at activity after surgery with cardiopulmonary bypass reduces postoperative thrombin generation and fibrinolysis with no effects on platelet activation and inflammatory response .',\n  'line_number': 9,\n  'total_lines': 9},\n {'target': 'OBJECTIVE',\n  'text': 'we evaluated patients at tertiary -lsb- both percutaneous coronary intervention ( pci ) and coronary artery bypass grafting ( cabg ) capable -rsb- and primary hospitals in the early-acs trial .',\n  'line_number': 0,\n  'total_lines': 10},\n {'target': 'BACKGROUND',\n  'text': 'early invasive management is recommended for high-risk non-st-segment elevation acute coronary syndromes .',\n  'line_number': 1,\n  'total_lines': 10},\n {'target': 'METHODS',\n  'text': \"we evaluated outcomes in @,@ patients presenting to : tertiary sites , primary sites with transfer to tertiary sites ( `` transferred '' ) and those who remained at primary sites ( `` non-transfer '' ) .\",\n  'line_number': 2,\n  'total_lines': 10},\n {'target': 'RESULTS',\n  'text': 'there were @ tertiary ( n = @,@ patients ) and @ primary hospitals -lsb- n = @,@ patients ( @ transferred ; @,@ non-transfer ) -rsb- .',\n  'line_number': 3,\n  'total_lines': 10},\n {'target': 'RESULTS',\n  'text': 'significant delays occurred in time from symptom onset to angiography ( @ hr ) , pci ( @h ) , and cabg ( @ hr ) for transferred patients ( p < @ ) .',\n  'line_number': 4,\n  'total_lines': 10},\n {'target': 'RESULTS',\n  'text': 'non-transfer patients had less @-day death/myocardial infarction -lsb- @ % vs. @ % ( tertiary ) ; adjusted odds ratio ( or ) : @ ( @-@ @ ) , p = @ -rsb- ; transferred ( @ % ) and tertiary patients were similar -lsb- adjusted or : @ ( @-@ @ ) , p = @ -rsb- .',\n  'line_number': 5,\n  'total_lines': 10},\n {'target': 'RESULTS',\n  'text': 'non-transfer patients had lower @-year mortality -lsb- @ % vs. @ % ( tertiary ) ; adjusted hazard ratio ( hr ) : @ ( @-@ @ ) , p = @ -rsb- : there was no difference between transferred and tertiary patients -lsb- @ % vs. @ % ; adjusted hr : @ ( @-@ @ ) , p = @ -rsb- .',\n  'line_number': 6,\n  'total_lines': 10},\n {'target': 'RESULTS',\n  'text': 'despite similar rates of catheterization , gusto severe/moderate bleeding within @ hr was less in non-transfer -lsb- @ % vs. @ % ( tertiary ) ; adjusted or : @ ( @-@ @ ) , p < @ -rsb- , whereas transferred ( @ % ) and tertiary patients were similar -lsb- adjusted or : @ ( @-@ @ ) , p = @ -rsb- .',\n  'line_number': 7,\n  'total_lines': 10},\n {'target': 'RESULTS',\n  'text': 'there was no difference in non-cabg bleeding .',\n  'line_number': 8,\n  'total_lines': 10},\n {'target': 'CONCLUSIONS',\n  'text': 'timely angiography and revascularization were often not achieved in transferred patients .',\n  'line_number': 9,\n  'total_lines': 10},\n {'target': 'CONCLUSIONS',\n  'text': 'non-transferred patients presenting to primary sites had the lowest event rates and the best long-term survival .',\n  'line_number': 10,\n  'total_lines': 10},\n {'target': 'OBJECTIVE',\n  'text': 'we hypothesized that a targeted temperature of @ c as compared to that of @ c would increase survival and reduce the severity of circulatory shock in patients with shock on admission after out-of-hospital cardiac arrest ( ohca ) .',\n  'line_number': 0,\n  'total_lines': 8},\n {'target': 'METHODS',\n  'text': 'the recently published target temperature management trial ( ttm-trial ) randomized @ ohca patients with no difference in outcome between groups and no difference in mortality at the end of the trial in a predefined subgroup of patients with shock at admission .',\n  'line_number': 1,\n  'total_lines': 8},\n {'target': 'METHODS',\n  'text': 'shock was defined as a systolic blood pressure of < @ mm hg for > @ min or the need of supportive measures to maintain a blood pressure @ mmhg and/or clinical signs of end-organ hypoperfusion .',\n  'line_number': 2,\n  'total_lines': 8},\n {'target': 'METHODS',\n  'text': 'in this post hoc analysis reported here , we further analyzed the @ patients with shock at admission ; all had been randomized to receive intervention at @ c ( ttm@ ; n = @ ) or @ c ( ttm@ ; n = @ ) .',\n  'line_number': 3,\n  'total_lines': 8},\n {'target': 'METHODS',\n  'text': 'primary outcome was @-day mortality .',\n  'line_number': 4,\n  'total_lines': 8},\n {'target': 'METHODS',\n  'text': 'secondary outcomes were intensive care unit ( icu ) and @-day mortality , severity of circulatory shock assessed by mean arterial pressure , serum lactate , fluid balance and the extended sequential organ failure assessment ( sofa ) score .',\n  'line_number': 5,\n  'total_lines': 8},\n {'target': 'RESULTS',\n  'text': 'there was no significance difference between targeted temperature management at @ c or @ c on @-day mortality -lsb- log-rank test , p = @ , hazard ratio @ , @ % confidence interval ( ci ) @-@ @ -rsb- or icu mortality ( @ vs. @ % , p = @ ; relative risk @ , @ % ci @-@ @ ) .',\n  'line_number': 6,\n  'total_lines': 8},\n {'target': 'RESULTS',\n  'text': 'serum lactate and the extended cardiovascular sofa score were higher in the ttm@ group ( p < @ ) .',\n  'line_number': 7,\n  'total_lines': 8},\n {'target': 'CONCLUSIONS',\n  'text': 'we found no benefit in survival or severity of circulatory shock with targeted temperature management at @ c as compared to @ c in patients with shock on admission after ohca .',\n  'line_number': 8,\n  'total_lines': 8},\n {'target': 'BACKGROUND',\n  'text': 'youths with a family history of alcohol and other drug use disorders ( fh + ) are at a greater risk of developing substance use disorders than their peers with no such family histories ( fh - ) , and this increased risk may be related to impaired maturation of forebrain circuitry .',\n  'line_number': 0,\n  'total_lines': 7},\n {'target': 'BACKGROUND',\n  'text': 'fh + individuals have shown altered forebrain activity at rest and while performing cognitive tasks .',\n  'line_number': 1,\n  'total_lines': 7},\n {'target': 'BACKGROUND',\n  'text': 'however , it is not fully understood how forebrain activity is altered in fh + individuals , and ultimately how these alterations may contribute to substance use disorder risk .',\n  'line_number': 2,\n  'total_lines': 7},\n {'target': 'METHODS',\n  'text': 'in this study , we tested @ fh + and @ fh - youths performing a go/no-go task and examined activations in blocks with only go trials ( go only ) , blocks with @ % go and @ % no-go trials ( go/nogo ) , and a contrast of those @ blocks .',\n  'line_number': 3,\n  'total_lines': 7},\n {'target': 'RESULTS',\n  'text': 'fh + youths had significantly greater cerebral activations in both the go and go/nogo blocks than fh - youths in regions including the posterior cingulate/precuneus , bilateral middle/superior temporal gyrus , and medial superior frontal gyrus with no significant group differences in the subtraction between go only and go/nogo blocks .',\n  'line_number': 4,\n  'total_lines': 7},\n {'target': 'RESULTS',\n  'text': 'additionally , fh + youths had moderately slower reaction times on go trials in the go only blocks .',\n  'line_number': 5,\n  'total_lines': 7},\n {'target': 'CONCLUSIONS',\n  'text': 'our findings suggest that global activation increase in fh + youths are modulated by fh density and are not specific to the inhibitory components of the task .',\n  'line_number': 6,\n  'total_lines': 7},\n {'target': 'CONCLUSIONS',\n  'text': 'this pattern of increased activations in fh + youths may be at least partially due to impaired forebrain white matter development leading to greater activations/less efficient neural communication during task performance .',\n  'line_number': 7,\n  'total_lines': 7},\n {'target': 'BACKGROUND',\n  'text': 'risk factors have been proposed for running injuries including ( a ) reduced muscular strength , ( b ) excessive joint movements and ( c ) excessive joint moments in the frontal and transverse planes .',\n  'line_number': 0,\n  'total_lines': 16},\n {'target': 'BACKGROUND',\n  'text': \"to date , many running injury prevention programs have focused on a `` top down '' approach to strengthen the hip musculature in the attempt to reduce movements and moments at the hip , knee , and/or ankle joints .\",\n  'line_number': 1,\n  'total_lines': 16},\n {'target': 'BACKGROUND',\n  'text': 'however , running mechanics did not change when hip muscle strength increased .',\n  'line_number': 2,\n  'total_lines': 16},\n {'target': 'BACKGROUND',\n  'text': \"it could be speculated that emphasis should be placed on increasing the strength of the ankle joint for a `` ground up '' approach .\",\n  'line_number': 3,\n  'total_lines': 16},\n {'target': 'BACKGROUND',\n  'text': 'strengthening of the large and small muscles crossing the ankle joint is assumed to change the force distribution for these muscles and to increase the use of smaller muscles .',\n  'line_number': 4,\n  'total_lines': 16},\n {'target': 'BACKGROUND',\n  'text': 'this would be associated with a reduction of joint and insertion forces , which could have a beneficial effect on injury prevention .',\n  'line_number': 5,\n  'total_lines': 16},\n {'target': 'BACKGROUND',\n  'text': 'however , training of the ankle joint as an injury prevention strategy has not been studied .',\n  'line_number': 6,\n  'total_lines': 16},\n {'target': 'BACKGROUND',\n  'text': 'ankle strengthening techniques include isolated strengthening or movement-related strengthening such as functional balance training .',\n  'line_number': 7,\n  'total_lines': 16},\n {'target': 'BACKGROUND',\n  'text': 'there is little knowledge about the efficacy of such training programs on strength alteration , gait or injury reduction .',\n  'line_number': 8,\n  'total_lines': 16},\n {'target': 'METHODS',\n  'text': 'novice runners will be randomly assigned to one of three groups : an isolated ankle strengthening group ( strength , n = @ ) , a functional balance training group ( balance , n = @ ) or an activity-matched control group ( control , n = @ ) .',\n  'line_number': 9,\n  'total_lines': 16},\n {'target': 'METHODS',\n  'text': 'isokinetic strength will be measured using a biodex system @ dynamometer .',\n  'line_number': 10,\n  'total_lines': 16},\n {'target': 'METHODS',\n  'text': 'running kinematics and kinetics will be assessed using @d motion analysis and a force platform .',\n  'line_number': 11,\n  'total_lines': 16},\n {'target': 'METHODS',\n  'text': 'postural control will be assessed by quantifying the magnitude and temporal structure of the center of pressure trace during single leg stance on a force platform .',\n  'line_number': 12,\n  'total_lines': 16},\n {'target': 'METHODS',\n  'text': 'the change pre - and post-training in isokinetic strength , running mechanics , and postural control variables will be compared following the interventions .',\n  'line_number': 13,\n  'total_lines': 16},\n {'target': 'METHODS',\n  'text': 'injuries rates will be compared between groups over @months .',\n  'line_number': 14,\n  'total_lines': 16},\n {'target': 'CONCLUSIONS',\n  'text': 'avoiding injury will allow individuals to enjoy the benefits of participating in aerobic activities and reduce the healthcare costs associated with running injuries .',\n  'line_number': 15,\n  'total_lines': 16},\n {'target': 'BACKGROUND',\n  'text': 'current controlled trial nct@ .',\n  'line_number': 16,\n  'total_lines': 16},\n {'target': 'BACKGROUND',\n  'text': 'vitamin b@ deficiency causes neurologic and psychiatric disease , especially in older adults .',\n  'line_number': 0,\n  'total_lines': 14},\n {'target': 'BACKGROUND',\n  'text': 'subacute combined degeneration is characterized by damage to the posterior and lateral spinal cord affecting the corticospinal tract .',\n  'line_number': 1,\n  'total_lines': 14},\n {'target': 'OBJECTIVE',\n  'text': 'to test corticospinal tract projections using motor evoked potentials ( meps ) by transcranial magnetic stimulation ( tms ) in asymptomatic older adults with low vitamin b@ ( b@ ) levels .',\n  'line_number': 2,\n  'total_lines': 14},\n {'target': 'METHODS',\n  'text': 'cross-sectional study of @ healthy older adults ( > @ years ) .',\n  'line_number': 3,\n  'total_lines': 14},\n {'target': 'METHODS',\n  'text': 'meps were recorded in the abductor pollicis brevis and tibialis anterior muscles , at rest and during slight tonic contraction .',\n  'line_number': 4,\n  'total_lines': 14},\n {'target': 'METHODS',\n  'text': 'central motor conduction time ( cmct ) was derived from the latency of meps and peripheral motor conduction time ( pmct ) .',\n  'line_number': 5,\n  'total_lines': 14},\n {'target': 'METHODS',\n  'text': 'neurophysiological variables were analyzed statistically according to b@ status .',\n  'line_number': 6,\n  'total_lines': 14},\n {'target': 'RESULTS',\n  'text': 'median age was @ years ( @ % women ) .',\n  'line_number': 7,\n  'total_lines': 14},\n {'target': 'RESULTS',\n  'text': 'twenty-six out of the @ subjects had low vitamin b@ levels ( b@ < @pmol/l ) .',\n  'line_number': 8,\n  'total_lines': 14},\n {'target': 'RESULTS',\n  'text': 'meps were recorded for all subjects in upper and lower extremities .',\n  'line_number': 9,\n  'total_lines': 14},\n {'target': 'RESULTS',\n  'text': 'there were no significant differences in either latency or amplitude of meps and cmct between low and normal b@ groups .',\n  'line_number': 10,\n  'total_lines': 14},\n {'target': 'RESULTS',\n  'text': 'there was a significant pmct delay in the lower extremities in the low b@ group ( p = @ ) .',\n  'line_number': 11,\n  'total_lines': 14},\n {'target': 'CONCLUSIONS',\n  'text': 'no subclinical abnormality of the corticospinal tract is detected in asymptomatic b@-deficient older adults .',\n  'line_number': 12,\n  'total_lines': 14},\n {'target': 'CONCLUSIONS',\n  'text': 'the peripheral nervous system appears to be more vulnerable to damage attributable to this vitamin deficit .',\n  'line_number': 13,\n  'total_lines': 14},\n {'target': 'CONCLUSIONS',\n  'text': 'the neurophysiological evaluation of asymptomatic older adults with lower b@ levels should be focused mainly in peripheral nervous system evaluation .',\n  'line_number': 14,\n  'total_lines': 14},\n {'target': 'BACKGROUND',\n  'text': 'uncontrolled hypertension ( htn ) is a significant public health problem among blacks in the united states .',\n  'line_number': 0,\n  'total_lines': 8},\n {'target': 'BACKGROUND',\n  'text': 'despite the proven efficacy of therapeutic lifestyle change ( tlc ) on blood pressure ( bp ) reduction in clinical trials , few studies have examined their effectiveness in church-based settings-an influential institution for health promotion in black communities .',\n  'line_number': 1,\n  'total_lines': 8},\n {'target': 'METHODS',\n  'text': 'using a cluster-randomized , @-arm trial design , this study evaluates the effectiveness of a faith-based tlc intervention vs health education ( he ) control on bp reduction among hypertensive black adults .',\n  'line_number': 2,\n  'total_lines': 8},\n {'target': 'METHODS',\n  'text': 'the intervention is delivered by trained lay health advisors through group tlc sessions plus motivational interviewing in @ black churches .',\n  'line_number': 3,\n  'total_lines': 8},\n {'target': 'METHODS',\n  'text': 'participants in the intervention group receive @ weekly tlc sessions targeting weight loss , increasing physical activity , fruit , vegetable and low-fat dairy intake , and decreasing fat and sodium intake , plus @ monthly individual motivational interviewing sessions .',\n  'line_number': 4,\n  'total_lines': 8},\n {'target': 'METHODS',\n  'text': 'participants in the control group attend @ weekly classes on htn and other health topics delivered by health care experts .',\n  'line_number': 5,\n  'total_lines': 8},\n {'target': 'METHODS',\n  'text': 'the primary outcome is change in bp from baseline to @ months .',\n  'line_number': 6,\n  'total_lines': 8},\n {'target': 'METHODS',\n  'text': 'secondary outcomes include level of physical activity , percent change in weight , and fruit and vegetable consumption at @ months , and bp control at @ months .',\n  'line_number': 7,\n  'total_lines': 8},\n {'target': 'CONCLUSIONS',\n  'text': 'if successful , this trial will provide an alternative and culturally appropriate model for htn control through evidence-based lifestyle modification delivered in churches by lay health advisors .',\n  'line_number': 8,\n  'total_lines': 8},\n {'target': 'BACKGROUND',\n  'text': 'the classification of clinical severity of ebstein anomaly still remains a challenge .',\n  'line_number': 0,\n  'total_lines': 10},\n {'target': 'BACKGROUND',\n  'text': 'the aim of this study was to focus on the interaction of the pathologically altered right heart with the anatomically-supposedly-normal left heart and to derive from cardiac magnetic resonance ( cmr ) a simple imaging measure for the clinical severity of ebstein anomaly .',\n  'line_number': 1,\n  'total_lines': 10},\n {'target': 'RESULTS',\n  'text': 'twenty-five patients at a mean age of @ years with unrepaired ebstein anomaly were examined in a prospective study .',\n  'line_number': 2,\n  'total_lines': 10},\n {'target': 'RESULTS',\n  'text': 'disease severity was classified using cmr volumes and functional measurements in comparison with heart failure markers from clinical data , ecg , laboratory and cardiopulmonary exercise testing , and echocardiography .',\n  'line_number': 3,\n  'total_lines': 10},\n {'target': 'RESULTS',\n  'text': 'all examinations were completed within @ hours .',\n  'line_number': 4,\n  'total_lines': 10},\n {'target': 'RESULTS',\n  'text': 'a total right/left-volume index was defined from end-diastolic volume measurements in cmr : total right/left-volume index = ( ra + arv + frv ) / ( la+lv ) .',\n  'line_number': 5,\n  'total_lines': 10},\n {'target': 'RESULTS',\n  'text': 'mean total right/left-volume index was @ ( normal values : @ ) .',\n  'line_number': 6,\n  'total_lines': 10},\n {'target': 'RESULTS',\n  'text': 'this new total right/left-volume index correlated with almost all clinically used biomarkers of heart failure : brain natriuretic peptide ( r = @ ; p = @ ) , qrs ( r = @ ; p = @ ) , peak oxygen consumption/kg ( r = -@ ; p = @ ) , ventilatory response to carbon dioxide production at anaerobic threshold ( r = @ ; p = @ ) , the severity of tricuspid regurgitation ( r = @ ; p = @ ) , tricuspid valve offset ( r = @ ; p = @ ) , and tricuspid annular plane systolic excursion ( r = @ ; p = @ ) .',\n  'line_number': 7,\n  'total_lines': 10},\n {'target': 'RESULTS',\n  'text': 'previously described severity indices ( -lsb- ra + arv -rsb- / -lsb- frv + la+lv -rsb- ) and frv/lv end-diastolic volume corresponded only to some parameters .',\n  'line_number': 8,\n  'total_lines': 10},\n {'target': 'CONCLUSIONS',\n  'text': 'in patients with ebstein anomaly , the easily acquired index of right-sided to left-sided heart volumes from cmr correlated well with established heart failure markers .',\n  'line_number': 9,\n  'total_lines': 10},\n {'target': 'CONCLUSIONS',\n  'text': 'our data suggest that the total right/left-volume index should be used as a new and simplified cmr measure , allowing more accurate assessment of disease severity than previously described scoring systems .',\n  'line_number': 10,\n  'total_lines': 10},\n {'target': 'OBJECTIVE',\n  'text': 'this study sought to investigate the association of beta-blocker therapy at discharge with clinical outcomes in patients with st-segment elevation myocardial infarction ( stemi ) after primary percutaneous coronary intervention ( pci ) .',\n  'line_number': 0,\n  'total_lines': 12},\n {'target': 'BACKGROUND',\n  'text': 'limited data are available on the efficacy of beta-blocker therapy for secondary prevention in stemi patients .',\n  'line_number': 1,\n  'total_lines': 12},\n {'target': 'METHODS',\n  'text': 'between november @ , @ and september @ , @ , @,@ patients were enrolled in nationwide , prospective , multicenter registries .',\n  'line_number': 2,\n  'total_lines': 12},\n {'target': 'METHODS',\n  'text': 'among these , we studied stemi patients undergoing primary pci who were discharged alive ( n = @,@ ) .',\n  'line_number': 3,\n  'total_lines': 12},\n {'target': 'METHODS',\n  'text': 'we classified patients into the beta-blocker group ( n = @,@ ) and no-beta-blocker group ( n = @,@ ) according to the use of beta-blockers at discharge .',\n  'line_number': 4,\n  'total_lines': 12},\n {'target': 'METHODS',\n  'text': 'propensity-score matching analysis was also performed in @,@ patient triplets .',\n  'line_number': 5,\n  'total_lines': 12},\n {'target': 'METHODS',\n  'text': 'the primary outcome was all-cause death .',\n  'line_number': 6,\n  'total_lines': 12},\n {'target': 'RESULTS',\n  'text': 'the median follow-up duration was @ days ( interquartile range : @ to @ days ) .',\n  'line_number': 7,\n  'total_lines': 12},\n {'target': 'RESULTS',\n  'text': 'all-cause death occurred in @ patients ( @ % ) of the beta-blocker group versus @ patients ( @ % ) of the no-beta-blocker group ( p < @ ) .',\n  'line_number': 8,\n  'total_lines': 12},\n {'target': 'RESULTS',\n  'text': 'after @:@ propensity-score matching , beta-blocker therapy was associated with a lower incidence of all-cause death ( @ % vs. @ % , adjusted hazard ratio : @ , @ % confidence interval : @ to @ , p = @ ) .',\n  'line_number': 9,\n  'total_lines': 12},\n {'target': 'RESULTS',\n  'text': 'the association with better outcome of beta-blocker therapy in terms of all-cause death was consistent across various subgroups , including patients with relatively low-risk profiles such as ejection fraction > @ % or single-vessel disease .',\n  'line_number': 10,\n  'total_lines': 12},\n {'target': 'CONCLUSIONS',\n  'text': 'beta-blocker therapy at discharge was associated with improved survival in stemi patients treated with primary pci .',\n  'line_number': 11,\n  'total_lines': 12},\n {'target': 'CONCLUSIONS',\n  'text': 'our results support the current american college of cardiology/american heart association guidelines , which recommend long-term beta-blocker therapy in all patients with stemi regardless of reperfusion therapy or risk profile .',\n  'line_number': 12,\n  'total_lines': 12},\n {'target': 'OBJECTIVE',\n  'text': 'local anesthetic wound infiltration is widely used as an effective adjunct during multimodal postoperative pain management .',\n  'line_number': 0,\n  'total_lines': 9},\n {'target': 'OBJECTIVE',\n  'text': 'the aim of this study was to evaluate the effectiveness of continuous wound infusion of ropivacaine in postoperative pain relief , opioid sparing , incidence of nausea and vomiting , and bowel and liver function improvement in patients undergoing open hepatectomy .',\n  'line_number': 1,\n  'total_lines': 9},\n {'target': 'METHODS',\n  'text': 'forty patients undergoing open hepatectomy were enrolled in this prospective , randomized , double-blinded , placebo-controlled trial .',\n  'line_number': 2,\n  'total_lines': 9},\n {'target': 'METHODS',\n  'text': 'patients were divided into @ groups : the @ % saline continuous infusion group ( the control group ; n = @ ) and the ropivacaine continuous infusion group ( the ropi group ; n = @ ) .',\n  'line_number': 3,\n  'total_lines': 9},\n {'target': 'METHODS',\n  'text': 'outcomes measured postoperatively were pain score at rest and on movement , sufentanil consumption , incidence of nausea and vomiting , and sedation score across @ postoperative hours .',\n  'line_number': 4,\n  'total_lines': 9},\n {'target': 'METHODS',\n  'text': 'time to bowel recovery , liver function change , mean length of hospitalization , patient satisfaction , and other data after @ postoperative hours were collected until hospital discharge .',\n  'line_number': 5,\n  'total_lines': 9},\n {'target': 'RESULTS',\n  'text': 'pain scores at rest were lower for the ropivacaine group and reached significance after @ and @ hours ( p < @ ) .',\n  'line_number': 6,\n  'total_lines': 9},\n {'target': 'RESULTS',\n  'text': 'sufentanil consumption ( @ vs. @ g ; p < @ ) after @ hours , time to bowel recovery ( @ vs. @ d ; p < @ ) , incidence of nausea and vomiting ( @ vs. @ ; p < @ ) , and mean length of hospitalization ( @ vs. @ d ; p < @ ) were significantly reduced , and the sedation score and liver function change were also comparable between the @ groups .',\n  'line_number': 7,\n  'total_lines': 9},\n {'target': 'RESULTS',\n  'text': 'there was no difference with respect to pain scores on movement , nor with respect to patient satisfaction .',\n  'line_number': 8,\n  'total_lines': 9},\n {'target': 'CONCLUSIONS',\n  'text': 'surgical wound infusion with ropivacaine after hepatectomy can improve pain relief at rest and accelerate recovery and discharge .',\n  'line_number': 9,\n  'total_lines': 9},\n {'target': 'OBJECTIVE',\n  'text': 'tuberculosis ( tb ) is highly prevalent among hiv-infected people , including those receiving combination antiretroviral therapy ( cart ) , necessitating a well tolerated and efficacious tb vaccine for these populations .',\n  'line_number': 0,\n  'total_lines': 11},\n {'target': 'OBJECTIVE',\n  'text': 'we evaluated the safety and immunogenicity of the candidate tb vaccine m@/as@ in adults with well controlled hiv infection on cart .',\n  'line_number': 1,\n  'total_lines': 11},\n {'target': 'METHODS',\n  'text': 'a randomized , observer-blind , controlled trial ( nct@ ) .',\n  'line_number': 2,\n  'total_lines': 11},\n {'target': 'METHODS',\n  'text': 'hiv-infected adults on cart in switzerland were randomized @:@:@ to receive two doses , @ month apart , of m@/as@ , as@ or @ % physiological saline ( n = @ , n = @ and n = @ , respectively ) and were followed up to @ months postdose @ ( d@ ) .',\n  'line_number': 3,\n  'total_lines': 11},\n {'target': 'METHODS',\n  'text': 'individuals with cd@ cell counts below @ cells/l were excluded .',\n  'line_number': 4,\n  'total_lines': 11},\n {'target': 'METHODS',\n  'text': 'adverse events ( aes ) including hiv-specific and laboratory safety parameters were recorded .',\n  'line_number': 5,\n  'total_lines': 11},\n {'target': 'METHODS',\n  'text': 'cell-mediated ( ics ) and humoral ( elisa ) responses were evaluated before vaccination , @ month after each dose ( d@ , d@ ) and d@ .',\n  'line_number': 6,\n  'total_lines': 11},\n {'target': 'RESULTS',\n  'text': 'thirty-seven individuals -lsb- interquartile range ( iqr ) cd@ cell counts at screening : @-@ cells/l ; undetectable hiv-@ viremia -rsb- were enrolled ; @ % of individuals reported previous bcg vaccination , @ % tested negative for the quantiferon-tb assay .',\n  'line_number': 7,\n  'total_lines': 11},\n {'target': 'RESULTS',\n  'text': 'for m@/as@ recipients , no vaccine-related serious aes or cart-regimen adjustments were recorded , and there were no clinically relevant effects on laboratory safety parameters , hiv-@ viral loads or cd@ cell counts .',\n  'line_number': 8,\n  'total_lines': 11},\n {'target': 'RESULTS',\n  'text': 'm@/as@ was immunogenic , inducing persistent and polyfunctional m@-specific cd@ t-cell responses -lsb- medians @ % ( iqr @-@ @ ) at d@ -rsb- and @ % ( @-@ @ ) at d@ , predominantly cd@lil-@tnf - , cd@lil-@ and cd@lil-@tnf-ifn - -rsb- .',\n  'line_number': 9,\n  'total_lines': 11},\n {'target': 'RESULTS',\n  'text': 'all m@/as@ vaccines were seropositive for anti-m@ igg after second vaccination until study end .',\n  'line_number': 10,\n  'total_lines': 11},\n {'target': 'CONCLUSIONS',\n  'text': 'm@/as@ was clinically well tolerated and immunogenic in this population , supporting further clinical evaluation in hiv-infected individuals in tb-endemic settings .',\n  'line_number': 11,\n  'total_lines': 11},\n {'target': 'OBJECTIVE',\n  'text': 'the aim of this study was to investigate whether remedial hydration ( rh ) reduces the incidence of contrast-induced nephropathy ( cin ) and short-term adverse events in st-elevation myocardial infarction ( stemi ) patients undergoing primary percutaneous coronary intervention ( pci ) .',\n  'line_number': 0,\n  'total_lines': 9},\n {'target': 'METHODS',\n  'text': 'a total of @ consecutive stemi patients were prospectively and randomly assigned into two groups : @ patients in the rh group and @ patients in the no rh ( control ) group .',\n  'line_number': 1,\n  'total_lines': 9},\n {'target': 'METHODS',\n  'text': 'the serum creatinine ( scr ) and creatinine clearance ( ccr ) levels were measured on admission and at @ , @ and @ hours after primary pci .',\n  'line_number': 2,\n  'total_lines': 9},\n {'target': 'METHODS',\n  'text': 'the rates of cin and short-term adverse events were analyzed for each group .',\n  'line_number': 3,\n  'total_lines': 9},\n {'target': 'METHODS',\n  'text': 'after surgery , the patients were categorized into four groups according to the mehran risk score : low ( @ , n = @ ) , moderate ( @-@ , n = @ ) , high ( @-@ , n = @ ) or very high ( @ , n = @ ) .',\n  'line_number': 4,\n  'total_lines': 9},\n {'target': 'RESULTS',\n  'text': 'the incidence of cin in the rh group was lower than that observed in the control group ( @/@ ; @ % vs. @/@ ; @ % , p < @ ) .',\n  'line_number': 5,\n  'total_lines': 9},\n {'target': 'RESULTS',\n  'text': 'the subgroup analysis showed that the rate of cin was lower in the moderate ( @/@ ; @ % vs. @/@ ; @ % , p < @ ) and significantly lower in both the high ( @/@ ; @ % vs. @/@ ; @ % , p < @ ) and very high score groups ( @/@ ; @ % vs. @/@ ; @ % , p < @ ) among the rh patients compared to the controls .',\n  'line_number': 6,\n  'total_lines': 9},\n {'target': 'RESULTS',\n  'text': 'at @ , @ and @ hours after pci , the patients in the rh group exhibited lower scr levels and higher ccr levels than the patients in the control group ( both p < @ ) .',\n  'line_number': 7,\n  'total_lines': 9},\n {'target': 'RESULTS',\n  'text': 'a lower incidence of in-hospital clinical events was also observed in the rh group .',\n  'line_number': 8,\n  'total_lines': 9},\n {'target': 'CONCLUSIONS',\n  'text': 'remedial hydration decreases the occurrence of cin and improves the short-term prognosis of stemi patients undergoing primary pci .',\n  'line_number': 9,\n  'total_lines': 9},\n {'target': 'BACKGROUND',\n  'text': 'an increased production of oxidizing species related to reactive oral diseases , such as chronic apical periodontitis , could have systemic implications such as an increase in cardiovascular morbidity .',\n  'line_number': 0,\n  'total_lines': 11},\n {'target': 'BACKGROUND',\n  'text': 'based on this consideration , we conducted a prospective study to assess whether subjects affected by chronic periodontitis presented with higher values of oxidative stress than reference values before endodontic treatment , and whether endodontic treatment can reduce the oxidative imbalance and bring it back to normal in these subjects .',\n  'line_number': 1,\n  'total_lines': 11},\n {'target': 'METHODS',\n  'text': 'the authors recruited @ groups of patients from private studies and dental clinics : these patients were recruited randomly .',\n  'line_number': 2,\n  'total_lines': 11},\n {'target': 'METHODS',\n  'text': 'the oxidative balance in both patients with chronic apical periodontitis ( cap ) and healthy control patients was determined by measuring the oxidant status , using an identification of the reactive oxygen metabolites ( d-roms ) test , while the antioxidant status in these patients was determined using a biological antioxidant potential ( bap ) test .',\n  'line_number': 3,\n  'total_lines': 11},\n {'target': 'METHODS',\n  'text': 'both these tests were carried on plasma samples taken from enrolled patients .',\n  'line_number': 4,\n  'total_lines': 11},\n {'target': 'METHODS',\n  'text': 'values were measured both before the endodontic treatment of the patients with chronic apical periodontitis , and @ and @ days after treatment , and compared to those obtained from healthy control patients .',\n  'line_number': 5,\n  'total_lines': 11},\n {'target': 'RESULTS',\n  'text': 'it was found that , on recruitment , the patients with chronic apical periodontitis exhibited significantly higher levels of oxidative stress than control patients , as determined by the d-roms and bap tests .',\n  'line_number': 6,\n  'total_lines': 11},\n {'target': 'RESULTS',\n  'text': 'furthermore , the d-roms test values were shown to decrease and the bap test values to increase over time in patients with chronic apical periodontitis following endodontic therapy .',\n  'line_number': 7,\n  'total_lines': 11},\n {'target': 'RESULTS',\n  'text': 'as the levels of oxidative stress in these patients tended to reduce and return to normal by @ days following treatment .',\n  'line_number': 8,\n  'total_lines': 11},\n {'target': 'CONCLUSIONS',\n  'text': 'this study has demonstrated a positive association between chronic apical periodontitis and oxidative stress .',\n  'line_number': 9,\n  'total_lines': 11},\n {'target': 'CONCLUSIONS',\n  'text': 'subjects affected by chronic apical periodontitis are exposed to a condition of oxidative stress , which is extremely dangerous to general health .',\n  'line_number': 10,\n  'total_lines': 11},\n {'target': 'CONCLUSIONS',\n  'text': 'moreover , one can infer from these findings that through proper endodontic therapy , a good oxidative balance can be restored , thereby avoiding the risk of contracting the abovementioned diseases .',\n  'line_number': 11,\n  'total_lines': 11},\n {'target': 'BACKGROUND',\n  'text': 'placebo effect has been largely studied and debated in medicine .',\n  'line_number': 0,\n  'total_lines': 14},\n {'target': 'BACKGROUND',\n  'text': 'research focused mainly on children and adults but not on newborns .',\n  'line_number': 1,\n  'total_lines': 14},\n {'target': 'BACKGROUND',\n  'text': 'in osteopathy , few studies documented this effect and no research has been conducted in newborns .',\n  'line_number': 2,\n  'total_lines': 14},\n {'target': 'OBJECTIVE',\n  'text': 'to assess the presence of placebo effect in newborns using sham osteopathic manipulative treatment .',\n  'line_number': 3,\n  'total_lines': 14},\n {'target': 'METHODS',\n  'text': 'randomized control trial .',\n  'line_number': 4,\n  'total_lines': 14},\n {'target': 'METHODS',\n  'text': 'neonatal intensive care unit in italy .',\n  'line_number': 5,\n  'total_lines': 14},\n {'target': 'METHODS',\n  'text': 'two groups ( @ patients each ) of preterm infants aged @-@ weeks without medical complications received routine pediatric care and osteopathic sham therapy was administrated to the study group only for the entire period of hospitalization .',\n  'line_number': 6,\n  'total_lines': 14},\n {'target': 'METHODS',\n  'text': 'primary end point was the mean reduction of length of stay at discharge .',\n  'line_number': 7,\n  'total_lines': 14},\n {'target': 'METHODS',\n  'text': 'secondary objective was the change in daily weight gain .',\n  'line_number': 8,\n  'total_lines': 14},\n {'target': 'RESULTS',\n  'text': '@ newborns entered the study .',\n  'line_number': 9,\n  'total_lines': 14},\n {'target': 'RESULTS',\n  'text': 'no difference between sham and control group was found for the primary outcome length of stay ( @ ; @ ; p = @ ) .',\n  'line_number': 10,\n  'total_lines': 14},\n {'target': 'RESULTS',\n  'text': 'multivariate analysis showed no difference between study and control group on length of stay .',\n  'line_number': 11,\n  'total_lines': 14},\n {'target': 'RESULTS',\n  'text': 'a negative association was found for gestational age ( -@ ; @ % ci -@ to -@ ; p = @ ) , birth weight ( -@ ; @ % ci -@ to -@ ; p < @ ) and milk volume at study enrollment ( -@ ; @ % ci -@ to -@ ; p = @ ) .',\n  'line_number': 12,\n  'total_lines': 14},\n {'target': 'CONCLUSIONS',\n  'text': 'to the best of our knowledge , this study is the first in the field showing no placebo effect on newborns .',\n  'line_number': 13,\n  'total_lines': 14},\n {'target': 'CONCLUSIONS',\n  'text': 'further discussions are opened concerning the age when placebo effect starts .',\n  'line_number': 14,\n  'total_lines': 14},\n {'target': 'BACKGROUND',\n  'text': 'clostridium difficile infection ( cdi ) is a leading cause of diarrhoea in health care settings with symptoms ranging from mild and self-limiting to life threatening .',\n  'line_number': 0,\n  'total_lines': 19},\n {'target': 'BACKGROUND',\n  'text': 'smt@ is a novel , non-absorbable antibiotic currently under development for the treatment of cdi .',\n  'line_number': 1,\n  'total_lines': 19},\n {'target': 'BACKGROUND',\n  'text': 'here we report the results from a phase i study .',\n  'line_number': 2,\n  'total_lines': 19},\n {'target': 'METHODS',\n  'text': 'a double-blind , randomized , placebo-controlled study assessing safety and tolerability of single and multiple oral doses of smt@ in healthy volunteers .',\n  'line_number': 3,\n  'total_lines': 19},\n {'target': 'METHODS',\n  'text': 'pharmacokinetic assessments included blood and faecal sampling .',\n  'line_number': 4,\n  'total_lines': 19},\n {'target': 'METHODS',\n  'text': 'the effect of food on systemic exposure and analysis of the gut microbiota were also included .',\n  'line_number': 5,\n  'total_lines': 19},\n {'target': 'RESULTS',\n  'text': 'fifty-six healthy male subjects were enrolled .',\n  'line_number': 6,\n  'total_lines': 19},\n {'target': 'RESULTS',\n  'text': 'following single oral doses of up to @,@ mg in the fasted state , plasma concentrations of smt@ were generally below the lower limit of quantification .',\n  'line_number': 7,\n  'total_lines': 19},\n {'target': 'RESULTS',\n  'text': 'in the fed state levels ranged from @ to @ ng/ml after single dosing and after repeat dosing at day @ from @ to @ ng/ml .',\n  'line_number': 8,\n  'total_lines': 19},\n {'target': 'RESULTS',\n  'text': 'following single and multiple oral doses of smt@ , mean daily faecal concentrations increased with increasing dose level and were significantly above the typical mic range for c. difficile ( @-@ @ g/ml ) .',\n  'line_number': 9,\n  'total_lines': 19},\n {'target': 'RESULTS',\n  'text': 'at @ mg bid , mean ( sd ) faecal concentrations of @,@ ( @ ) g/g and @,@ ( @ ) g/g were determined on days @ and @ of dosing respectively .',\n  'line_number': 10,\n  'total_lines': 19},\n {'target': 'RESULTS',\n  'text': 'no notable metabolites were detected in faeces .',\n  'line_number': 11,\n  'total_lines': 19},\n {'target': 'RESULTS',\n  'text': 'overall , all doses of smt@ were well tolerated both as single oral doses or bid oral doses for @ days .',\n  'line_number': 12,\n  'total_lines': 19},\n {'target': 'RESULTS',\n  'text': 'the majority ( @ % ) of adverse events ( aes ) were classified as gastrointestinal disorders and were mild in severity , resolving without treatment .',\n  'line_number': 13,\n  'total_lines': 19},\n {'target': 'RESULTS',\n  'text': 'the gut microbiota was analysed in the multiple dose groups with minimal changes observed in the bacterial groups analysed except for total clostridia which were reduced to below the limit of detection by day @ of dosing .',\n  'line_number': 14,\n  'total_lines': 19},\n {'target': 'CONCLUSIONS',\n  'text': 'oral administration of smt@ was considered safe and well tolerated and was associated with negligible plasma concentrations after single and multiple doses .',\n  'line_number': 15,\n  'total_lines': 19},\n {'target': 'CONCLUSIONS',\n  'text': 'in addition , minimal disruption of normal gut microbiota was noted , confirming the highly selective spectrum of the compound .',\n  'line_number': 16,\n  'total_lines': 19},\n {'target': 'CONCLUSIONS',\n  'text': 'these results support the further clinical development of smt@ as an oral therapy for cdi .',\n  'line_number': 17,\n  'total_lines': 19},\n {'target': 'BACKGROUND',\n  'text': 'current controlled trials .',\n  'line_number': 18,\n  'total_lines': 19},\n {'target': 'BACKGROUND',\n  'text': 'isrctn@ .',\n  'line_number': 19,\n  'total_lines': 19},\n {'target': 'BACKGROUND',\n  'text': 'while overall survival for most common cancers in australia is improving , the rural-urban differential has been widening , with significant excess deaths due to lung , colorectal , breast and prostate cancer in regional australia .',\n  'line_number': 0,\n  'total_lines': 12},\n {'target': 'BACKGROUND',\n  'text': 'internationally a major focus on understanding variations in cancer outcomes has been later presentation to healthcare and later diagnosis .',\n  'line_number': 1,\n  'total_lines': 12},\n {'target': 'BACKGROUND',\n  'text': 'approaches to reducing time to diagnosis of symptomatic cancer include public symptom awareness campaigns and interventions in primary care to improve early cancer detection .',\n  'line_number': 2,\n  'total_lines': 12},\n {'target': 'BACKGROUND',\n  'text': 'this paper reports the protocol of a factorial cluster-randomised trial of community and general practice ( gp ) level interventions to reduce the time to diagnosis of cancer in rural western australia ( wa ) .',\n  'line_number': 3,\n  'total_lines': 12},\n {'target': 'METHODS',\n  'text': 'the community intervention is a symptom awareness campaign tailored for rural australians delivered through a community engagement model .',\n  'line_number': 4,\n  'total_lines': 12},\n {'target': 'METHODS',\n  'text': 'the gp intervention includes a resource card with symptom risk assessment charts and local referral pathways implemented through multiple academic detailing visits and case studies .',\n  'line_number': 5,\n  'total_lines': 12},\n {'target': 'METHODS',\n  'text': 'participants are eligible if recently diagnosed with breast , colorectal , lung or prostate cancer who reside in specific regions of rural wa with a planned sample size of @ .',\n  'line_number': 6,\n  'total_lines': 12},\n {'target': 'METHODS',\n  'text': 'the primary outcome is the total diagnostic interval , defined as the duration from first symptom ( or date of cancer screening test ) to cancer diagnosis .',\n  'line_number': 7,\n  'total_lines': 12},\n {'target': 'METHODS',\n  'text': 'secondary outcomes include cancer stage , healthcare utilisation , disease-free status , survival at @ and @years and cost-effectiveness .',\n  'line_number': 8,\n  'total_lines': 12},\n {'target': 'BACKGROUND',\n  'text': 'ethics approval has been granted by the university of western australia and from all relevant hospital recruitment sites in wa .',\n  'line_number': 9,\n  'total_lines': 12},\n {'target': 'RESULTS',\n  'text': 'results of this trial will be reported in peer-reviewed publications and in conference presentations .',\n  'line_number': 10,\n  'total_lines': 12},\n {'target': 'BACKGROUND',\n  'text': 'australian new zealand clinical trials registry ( anzctr ) .',\n  'line_number': 11,\n  'total_lines': 12},\n {'target': 'BACKGROUND',\n  'text': 'actrn@ .',\n  'line_number': 12,\n  'total_lines': 12},\n {'target': 'BACKGROUND',\n  'text': 'this study aimed to evaluate whether incidental ct findings of emphysema , airway thickening and bronchiectasis , as seen on ct scans performed for other non-pulmonary clinical indications , are associated with future acute exacerbations of copd resulting in hospitalisation or death .',\n  'line_number': 0,\n  'total_lines': 8},\n {'target': 'METHODS',\n  'text': 'this multicentre prospective case-cohort study comprised @ subjects who underwent routine diagnostic chest ct for non-pulmonary indications .',\n  'line_number': 1,\n  'total_lines': 8},\n {'target': 'METHODS',\n  'text': 'using a case-cohort approach , we visually graded ct scans from cases and a random sample of @ % of the baseline cohort ( n = @ ) for emphysema severity ( range @-@ ) , airway thickening ( range @-@ ) and bronchiectasis ( range @-@ ) .',\n  'line_number': 2,\n  'total_lines': 8},\n {'target': 'METHODS',\n  'text': 'we used weighted cox proportional hazards analysis to assess the independent association between ct findings and hospitalisation or death due to copd exacerbation .',\n  'line_number': 3,\n  'total_lines': 8},\n {'target': 'RESULTS',\n  'text': 'during a median follow-up of @ years ( maximum @ years ) , @ copd events were identified .',\n  'line_number': 4,\n  'total_lines': 8},\n {'target': 'RESULTS',\n  'text': 'the risk of experiencing a future acute exacerbation of copd resulting in hospitalisation or death was significantly increased in subjects with severe emphysema ( score @ ) and severe airway thickening ( score @ ) .',\n  'line_number': 5,\n  'total_lines': 8},\n {'target': 'RESULTS',\n  'text': 'the respective hrs were @ ( @ % ci @ to @ ) and @ ( @ % ci @ to @ ) .',\n  'line_number': 6,\n  'total_lines': 8},\n {'target': 'RESULTS',\n  'text': 'severe bronchiectasis ( score @ ) was not significantly associated with increased risk of adverse events ( hr @ ; @ % ci @ to @ ) .',\n  'line_number': 7,\n  'total_lines': 8},\n {'target': 'CONCLUSIONS',\n  'text': 'morphological correlates of copd such as emphysema and airway thickening detected on ct scans obtained for other non-pulmonary indications are strong independent predictors of subsequent development of acute exacerbations of copd resulting in hospitalisation or death .',\n  'line_number': 8,\n  'total_lines': 8},\n {'target': 'OBJECTIVE',\n  'text': 'to explore the feasibility of making a preoperative diagnosis of lung adenocarcinoma shown as ground-glass nodule ( ggn ) on computed tomography ( ct ) .',\n  'line_number': 0,\n  'total_lines': 12},\n {'target': 'METHODS',\n  'text': 'a total of @ ggn lesions proved pathologically were divided randomly into a and b groups .',\n  'line_number': 1,\n  'total_lines': 12},\n {'target': 'METHODS',\n  'text': 'then each group was further divided pathologically into preinvasive lesion , minimal invasive adenocarcinoma ( mia ) and invasive adenocarcinoma ( iac ) subgroups .',\n  'line_number': 2,\n  'total_lines': 12},\n {'target': 'METHODS',\n  'text': 'group a ( n = @ ) , size of lesion , proportion of ground glass opacity ( ggo ) composition of lesion , long diameter , longest diameter and size of solid component in lesion were measured on ct so as to establish the ct diagnostic standard of lung adenocarcinoma shown as ggn on ct. .',\n  'line_number': 3,\n  'total_lines': 12},\n {'target': 'METHODS',\n  'text': 'group b ( n = @ ) was employed to evaluate the accuracy of the above ct diagnostic standard .',\n  'line_number': 4,\n  'total_lines': 12},\n {'target': 'METHODS',\n  'text': 'spss @ software was used for statistical analysis .',\n  'line_number': 5,\n  'total_lines': 12},\n {'target': 'RESULTS',\n  'text': 'significant statistic significance existed in all parameters among all groups ( p < @ ) .',\n  'line_number': 6,\n  'total_lines': 12},\n {'target': 'RESULTS',\n  'text': 'all parameters were correlated the pathologic type of lesion .',\n  'line_number': 7,\n  'total_lines': 12},\n {'target': 'RESULTS',\n  'text': 'the differences were statistically significant ( p = @ ) .',\n  'line_number': 8,\n  'total_lines': 12},\n {'target': 'RESULTS',\n  'text': 'through the receiver operating characteristic ( roc ) curve , between groups of preinvasive lesion and mia , each parameter had a medium diagnostic value of @-@ @ ; between groups of mia and iac , size of lesion and long diameter of solid component in lesion had a medium diagnostic value of @-@ @ , longest diameter of solid component , size of solid component in lesion and proportion of ggo composition of lesion had a high diagnostic value with an auc of > @ .',\n  'line_number': 9,\n  'total_lines': 12},\n {'target': 'RESULTS',\n  'text': 'the ct diagnostic standard , derived from group a , was used to analyze the pathologic type of group b. and t no significant statistic significance existed between ct preoperative diagnosis and operative pathologic diagnosis ( p > @ ) .',\n  'line_number': 10,\n  'total_lines': 12},\n {'target': 'RESULTS',\n  'text': 'the correct diagnosis rates of size of lesion , proportion of ggo composition of lesion , long diameter , longest diameter and size of solid component in lesion were @ % , @ % , @ % , @ % and @ % respectively .',\n  'line_number': 11,\n  'total_lines': 12},\n {'target': 'CONCLUSIONS',\n  'text': 'based upon size of lesion , proportion of ggo composition of lesion , long diameter , longest diameter and size of solid component in lesion , preoperative ct examination may be used to determine the pathological types of lung adenocarcinoma shown as ggn .',\n  'line_number': 12,\n  'total_lines': 12},\n {'target': 'OBJECTIVE',\n  'text': 'tonsillectomy surgery is associated with severe postoperative pain that usually requires analgesics including opioids .',\n  'line_number': 0,\n  'total_lines': 15},\n {'target': 'OBJECTIVE',\n  'text': 'pain control is still a big problem after tonsillectomy surgery .',\n  'line_number': 1,\n  'total_lines': 15},\n {'target': 'OBJECTIVE',\n  'text': 'we aimed to evaluate the efficacy of preemptive analgesia using montelukast for pediatric post-tonsillectomy pain management .',\n  'line_number': 2,\n  'total_lines': 15},\n {'target': 'OBJECTIVE',\n  'text': 'this is the first-time use of montelukast in post-tonsillectomy pain .',\n  'line_number': 3,\n  'total_lines': 15},\n {'target': 'METHODS',\n  'text': 'double-blind , controlled-randomized study .',\n  'line_number': 4,\n  'total_lines': 15},\n {'target': 'METHODS',\n  'text': 'university teaching and research hospital .',\n  'line_number': 5,\n  'total_lines': 15},\n {'target': 'METHODS',\n  'text': 'a total of @ children , aged @ to @ years , american society of anesthesiologist class i-ii , scheduled for elective tonsillectomy were enrolled in this clinical trial study .',\n  'line_number': 6,\n  'total_lines': 15},\n {'target': 'METHODS',\n  'text': 'the patients were randomized into @ groups : the montelukast group ( group m , n = @ ) and control group ( group c , n = @ ) .',\n  'line_number': 7,\n  'total_lines': 15},\n {'target': 'METHODS',\n  'text': 'group m recieved an oral montelukast tablet and group c recieved placebo at @pm on the morning before surgery .',\n  'line_number': 8,\n  'total_lines': 15},\n {'target': 'METHODS',\n  'text': 'post-tonsillectomy pain was evaluated with the wong-baker faces scale during the @ hours after surgery .',\n  'line_number': 9,\n  'total_lines': 15},\n {'target': 'METHODS',\n  'text': \"patients ' intraoperative hemodynamic parameters and intraoperative and postoperative complications were recorded .\",\n  'line_number': 10,\n  'total_lines': 15},\n {'target': 'RESULTS',\n  'text': 'there were statistically significant differences between group c and group m for wong-baker faces pain rating scale scores ( p < @ ) .',\n  'line_number': 11,\n  'total_lines': 15},\n {'target': 'RESULTS',\n  'text': 'in the @ hours after surgery , the total number of patients using rescue analgesics was higher in group c than in group m , and the difference was statistically significant ( p < @ ) .',\n  'line_number': 12,\n  'total_lines': 15},\n {'target': 'RESULTS',\n  'text': 'there was no significant difference in demographic parameters ( p > @ ) .',\n  'line_number': 13,\n  'total_lines': 15},\n {'target': 'RESULTS',\n  'text': 'there were no significant differences in postoperative nausea and vomiting , otalgia , trismus , fever , or halitosis between the groups ( p > @ ) .',\n  'line_number': 14,\n  'total_lines': 15},\n {'target': 'CONCLUSIONS',\n  'text': 'preemptive montelukast can be used safely to reduce the serious pain caused by tonsillectomy in children .',\n  'line_number': 15,\n  'total_lines': 15},\n {'target': 'OBJECTIVE',\n  'text': 'metastatic colon cancer patients are treated with the chemotherapy regimens , folfox and folfiri , in either order .',\n  'line_number': 0,\n  'total_lines': 9},\n {'target': 'OBJECTIVE',\n  'text': 'so far , we can not predict the response of chemotherapeutic agent , so it is necessary to find which regimen is adequate before starting chemotherapy .',\n  'line_number': 1,\n  'total_lines': 9},\n {'target': 'METHODS',\n  'text': 'enrolled patients are randomized into either conventional treatment or planned treatment preceded by pretreatment genetic analysis .',\n  'line_number': 2,\n  'total_lines': 9},\n {'target': 'METHODS',\n  'text': 'blood samples of patients in planned treatment group ( n = @ ) were analyzed for the genetic polymorphism before selection of chemotherapeutic agents .',\n  'line_number': 3,\n  'total_lines': 9},\n {'target': 'METHODS',\n  'text': 'target genes were xpd-@ , gstp-@-@ , xrcc@-@ for oxaliplatin , ugt@a@ for irinotecan .',\n  'line_number': 4,\n  'total_lines': 9},\n {'target': 'METHODS',\n  'text': 'the response was measured by computed tomographic scan after completion of three cycles of chemotherapy .',\n  'line_number': 5,\n  'total_lines': 9},\n {'target': 'RESULTS',\n  'text': 'overall response rate was significantly higher in planned group ( @ % vs. @ % , p = @ ) .',\n  'line_number': 6,\n  'total_lines': 9},\n {'target': 'RESULTS',\n  'text': 'in folfox group , response rate was significantly improved in the planned patients ( @ % vs. @ % , p = @ ) .',\n  'line_number': 7,\n  'total_lines': 9},\n {'target': 'RESULTS',\n  'text': \"in folfiri group , the difference did n't reach statistical significance ( @ % vs. @ % , p = @ ) .\",\n  'line_number': 8,\n  'total_lines': 9},\n {'target': 'CONCLUSIONS',\n  'text': 'we found significantly improved response rates in the chemotherapy of metastatic colon cancer by pretreatment genetic analysis , especially in folfox group .',\n  'line_number': 9,\n  'total_lines': 9},\n {'target': 'BACKGROUND',\n  'text': 'cardiac arrest causes ischaemic brain injury .',\n  'line_number': 0,\n  'total_lines': 10},\n {'target': 'BACKGROUND',\n  'text': 'arterial carbon dioxide tension ( paco@ ) is a major determinant of cerebral blood flow .',\n  'line_number': 1,\n  'total_lines': 10},\n {'target': 'BACKGROUND',\n  'text': 'thus , mild hypercapnia in the @ h following cardiac arrest may increase cerebral blood flow and attenuate such injury .',\n  'line_number': 2,\n  'total_lines': 10},\n {'target': 'BACKGROUND',\n  'text': 'we describe the carbon control and cardiac arrest ( ccc ) trial .',\n  'line_number': 3,\n  'total_lines': 10},\n {'target': 'METHODS',\n  'text': 'the ccc trial is a pilot multicentre feasibility , safety and biological efficacy randomized controlled trial recruiting adult cardiac arrest patients admitted to the intensive care unit after return of spontaneous circulation .',\n  'line_number': 4,\n  'total_lines': 10},\n {'target': 'METHODS',\n  'text': 'at admission , using concealed allocation , participants are randomized to @ h of either normocapnia ( paco@ @ to @ mmhg ) or mild hypercapnia ( paco@ @ to @ mmhg ) .',\n  'line_number': 5,\n  'total_lines': 10},\n {'target': 'METHODS',\n  'text': 'key feasibility outcomes are recruitment rate and protocol compliance rate .',\n  'line_number': 6,\n  'total_lines': 10},\n {'target': 'METHODS',\n  'text': 'the primary biological efficacy and biological safety measures are the between-groups difference in serum neuron-specific enolase and s@b protein levels at @ h , @ h and @ h. secondary outcome measure include adverse events , in-hospital mortality , and neurological assessment at @ months .',\n  'line_number': 7,\n  'total_lines': 10},\n {'target': 'CONCLUSIONS',\n  'text': 'the trial commenced in december @ and , when completed , will provide clinical evidence as to whether targeting mild hypercapnia for @ h following intensive care unit admission for cardiac arrest patients is feasible and safe and whether it results in decreased concentrations of neurological injury biomarkers compared with normocapnia .',\n  'line_number': 8,\n  'total_lines': 10},\n {'target': 'CONCLUSIONS',\n  'text': 'trial results will also be used to determine whether a phase iib study powered for survival at @ days is feasible and justified .',\n  'line_number': 9,\n  'total_lines': 10},\n {'target': 'BACKGROUND',\n  'text': 'australian new zealand clinical trials registry actrn@ .',\n  'line_number': 10,\n  'total_lines': 10},\n {'target': 'BACKGROUND',\n  'text': 'for decades thiopental has been considered as the hypnotic drug of choice for intracranial surgery .',\n  'line_number': 0,\n  'total_lines': 13},\n {'target': 'BACKGROUND',\n  'text': 'however , total intravenous anesthesia performed with thiopental is associated with delayed recovery , whereas early post-operative neurological evaluation is critical .',\n  'line_number': 1,\n  'total_lines': 13},\n {'target': 'BACKGROUND',\n  'text': 'for this reason , target controlled infusion ( tci ) of propofol is increasingly used for maintenance of anesthesia .',\n  'line_number': 2,\n  'total_lines': 13},\n {'target': 'BACKGROUND',\n  'text': 'however , a thiopental tci has never been assessed for this purpose .',\n  'line_number': 3,\n  'total_lines': 13},\n {'target': 'BACKGROUND',\n  'text': 'we tested the hypothesis that a thiopental tci provides an acceptable way to achieve early recovery compared to a propofol tci during supratentorial surgery .',\n  'line_number': 4,\n  'total_lines': 13},\n {'target': 'METHODS',\n  'text': 'eighty patients undergoing elective craniotomy for a supratentorial tumor were randomized to receive either a propofol tci ( group p ) or a thiopental tci ( group t ) .',\n  'line_number': 5,\n  'total_lines': 13},\n {'target': 'METHODS',\n  'text': 'both groups received a sufentanil tci and the bispectral index was monitored .',\n  'line_number': 6,\n  'total_lines': 13},\n {'target': 'METHODS',\n  'text': 'the primary end-point was time to tracheal extubation .',\n  'line_number': 7,\n  'total_lines': 13},\n {'target': 'METHODS',\n  'text': 'secondary end-points were per - and post-operative hemodynamics as well as respiratory and recovery parameters .',\n  'line_number': 8,\n  'total_lines': 13},\n {'target': 'METHODS',\n  'text': 'assessment of study end-points was performed by an intensive care specialist blinded ( like the patient ) to the received hypnotic .',\n  'line_number': 9,\n  'total_lines': 13},\n {'target': 'RESULTS',\n  'text': 'time to extubation was significantly ( p < @ ) shorter in group p ( median @ minutes ; interquartile range @-@ minutes ) than in group t ( median @ minutes ; interquartile range @-@ minutes ) .',\n  'line_number': 10,\n  'total_lines': 13},\n {'target': 'RESULTS',\n  'text': 'similarly , the recovery parameters were significantly better in group p than in group t.',\n  'line_number': 11,\n  'total_lines': 13},\n {'target': 'RESULTS',\n  'text': 'there was no difference between groups in terms of patient characteristics and hemodynamic parameters .',\n  'line_number': 12,\n  'total_lines': 13},\n {'target': 'CONCLUSIONS',\n  'text': 'even with tci and bispectral index monitoring , thiopental is associated with an inappropriate delayed recovery from supratentorial surgery compared to propofol tci .',\n  'line_number': 13,\n  'total_lines': 13},\n {'target': 'OBJECTIVE',\n  'text': 'to investigate the effects of conservative therapy applied before arthroscopic subacromial decompression on the clinical outcome in patients with stage @ shoulder impingement syndrome .',\n  'line_number': 0,\n  'total_lines': 7},\n {'target': 'METHODS',\n  'text': 'sixty-eight patients having stage @ shoulder impingement syndrome and treated with arthroscopic subacromial decompression were included in the study .',\n  'line_number': 1,\n  'total_lines': 7},\n {'target': 'METHODS',\n  'text': 'we divided these patients into @ groups , whereby @ ( @ % ) patients received conservative therapy before arthroscopic subacromial decompression and @ ( @ % ) patients did not receive conservative therapy .',\n  'line_number': 2,\n  'total_lines': 7},\n {'target': 'METHODS',\n  'text': 'we compared both groups in terms of the the constant , ucla , and vas scores for shoulder pain before and after arthroscopic subacromial decompression .',\n  'line_number': 3,\n  'total_lines': 7},\n {'target': 'RESULTS',\n  'text': 'constant , ucla , and vas scores were statistically significantly improved in both groups after arthroscopic subacromial decompression ( p < @ ) .',\n  'line_number': 4,\n  'total_lines': 7},\n {'target': 'RESULTS',\n  'text': 'constant , ucla , and vas scores before arthroscopic subacromial decompression were statistically better in group @ than in group @ ( p < @ ) .',\n  'line_number': 5,\n  'total_lines': 7},\n {'target': 'RESULTS',\n  'text': 'no statistically significant difference was found between the groups in terms of constant , ucla , and vas scores after arthroscopic subacromial decompression ( p > @ ) .',\n  'line_number': 6,\n  'total_lines': 7},\n {'target': 'CONCLUSIONS',\n  'text': 'conservative therapy applied in patients with stage @ shoulder impingement syndrome before arthroscopic subacromial decompression does not have a positive contribution on the clinical outcome after arthroscopic subacromial decompression .',\n  'line_number': 7,\n  'total_lines': 7},\n {'target': 'BACKGROUND',\n  'text': 'obstructive sleep apnea is associated with considerable health risks .',\n  'line_number': 0,\n  'total_lines': 15},\n {'target': 'BACKGROUND',\n  'text': 'although continuous positive airway pressure ( cpap ) can mitigate these risks , effectiveness can be reduced by inadequate adherence to treatment .',\n  'line_number': 1,\n  'total_lines': 15},\n {'target': 'BACKGROUND',\n  'text': 'we evaluated the clinical safety and effectiveness of upper-airway stimulation at @ months for the treatment of moderate-to-severe obstructive sleep apnea .',\n  'line_number': 2,\n  'total_lines': 15},\n {'target': 'METHODS',\n  'text': 'using a multicenter , prospective , single-group , cohort design , we surgically implanted an upper-airway stimulation device in patients with obstructive sleep apnea who had difficulty either accepting or adhering to cpap therapy .',\n  'line_number': 3,\n  'total_lines': 15},\n {'target': 'METHODS',\n  'text': 'the primary outcome measures were the apnea-hypopnea index ( ahi ; the number of apnea or hypopnea events per hour , with a score of @ indicating moderate-to-severe apnea ) and the oxygen desaturation index ( odi ; the number of times per hour of sleep that the blood oxygen level drops by @ percentage points from baseline ) .',\n  'line_number': 4,\n  'total_lines': 15},\n {'target': 'METHODS',\n  'text': 'secondary outcome measures were the epworth sleepiness scale , the functional outcomes of sleep questionnaire ( fosq ) , and the percentage of sleep time with the oxygen saturation less than @ % .',\n  'line_number': 5,\n  'total_lines': 15},\n {'target': 'METHODS',\n  'text': 'consecutive participants with a response were included in a randomized , controlled therapy-withdrawal trial .',\n  'line_number': 6,\n  'total_lines': 15},\n {'target': 'RESULTS',\n  'text': 'the study included @ participants ; @ % were men .',\n  'line_number': 7,\n  'total_lines': 15},\n {'target': 'RESULTS',\n  'text': 'the mean age was @ years , and the mean body-mass index ( the weight in kilograms divided by the square of the height in meters ) was @ .',\n  'line_number': 8,\n  'total_lines': 15},\n {'target': 'RESULTS',\n  'text': 'the median ahi score at @ months decreased @ % , from @ events per hour to @ events per hour ( p < @ ) ; the odi score decreased @ % , from @ events per hour to @ events per hour ( p < @ ) .',\n  'line_number': 9,\n  'total_lines': 15},\n {'target': 'RESULTS',\n  'text': 'secondary outcome measures showed a reduction in the effects of sleep apnea and improved quality of life .',\n  'line_number': 10,\n  'total_lines': 15},\n {'target': 'RESULTS',\n  'text': 'in the randomized phase , the mean ahi score did not differ significantly from the @-month score in the nonrandomized phase among the @ participants in the therapy-maintenance group ( @ and @ events per hour , respectively ) ; the ahi score was significantly higher ( indicating more severe apnea ) among the @ participants in the therapy-withdrawal group ( @ vs. @ events per hour , p < @ ) .',\n  'line_number': 11,\n  'total_lines': 15},\n {'target': 'RESULTS',\n  'text': 'the odi results followed a similar pattern .',\n  'line_number': 12,\n  'total_lines': 15},\n {'target': 'RESULTS',\n  'text': 'the rate of procedure-related serious adverse events was less than @ % .',\n  'line_number': 13,\n  'total_lines': 15},\n {'target': 'CONCLUSIONS',\n  'text': 'in this uncontrolled cohort study , upper-airway stimulation led to significant improvements in objective and subjective measurements of the severity of obstructive sleep apnea .',\n  'line_number': 14,\n  'total_lines': 15},\n {'target': 'CONCLUSIONS',\n  'text': '( funded by inspire medical systems ; star clinicaltrials.gov number , nct@ . )',\n  'line_number': 15,\n  'total_lines': 15},\n {'target': 'OBJECTIVE',\n  'text': 'to identify facilitators and barriers to clinical trial implementation in aboriginal health services .',\n  'line_number': 0,\n  'total_lines': 12},\n {'target': 'METHODS',\n  'text': 'indepth interview study with thematic analysis .',\n  'line_number': 1,\n  'total_lines': 12},\n {'target': 'METHODS',\n  'text': 'six aboriginal community-controlled health services and one government-run service involved in the kanyini guidelines adherence with the polypill ( kgap ) study , a pragmatic randomised controlled trial that aimed to improve adherence to indicated drug treatments for people at high risk of cardiovascular disease .',\n  'line_number': 2,\n  'total_lines': 12},\n {'target': 'METHODS',\n  'text': '@ health care providers and @ aboriginal and torres strait islander patients .',\n  'line_number': 3,\n  'total_lines': 12},\n {'target': 'RESULTS',\n  'text': 'a fundamental enabler was that participants considered the research to be governed and endorsed by the local health service .',\n  'line_number': 4,\n  'total_lines': 12},\n {'target': 'RESULTS',\n  'text': 'that the research was perceived to address a health priority for communities was also highly motivating for both providers and patients .',\n  'line_number': 5,\n  'total_lines': 12},\n {'target': 'RESULTS',\n  'text': 'enlisting the support of aboriginal and torres strait islander staff champions who were visible to the community as the main source of information about the trial was particularly important .',\n  'line_number': 6,\n  'total_lines': 12},\n {'target': 'RESULTS',\n  'text': 'the major implementation barrier for staff was balancing their service delivery roles with adherence to often highly demanding trial-related procedures .',\n  'line_number': 7,\n  'total_lines': 12},\n {'target': 'RESULTS',\n  'text': \"this was partially alleviated by the research team 's provision of onsite support and attempts to make trial processes more streamlined .\",\n  'line_number': 8,\n  'total_lines': 12},\n {'target': 'RESULTS',\n  'text': 'although more intensive support was highly desired , there were usually insufficient resources to provide this .',\n  'line_number': 9,\n  'total_lines': 12},\n {'target': 'CONCLUSIONS',\n  'text': 'despite strong community and health service support , major investments in time and resources are needed to ensure successful implementation and minimal disruption to already overstretched , routine services .',\n  'line_number': 10,\n  'total_lines': 12},\n {'target': 'CONCLUSIONS',\n  'text': 'trial budgets will necessarily be inflated as a result .',\n  'line_number': 11,\n  'total_lines': 12},\n {'target': 'CONCLUSIONS',\n  'text': 'funding agencies need to consider these additional resource demands when supporting trials of a similar nature .',\n  'line_number': 12,\n  'total_lines': 12},\n {'target': 'OBJECTIVE',\n  'text': 'to compare the effect of incomplete caries removal ( icr ) and indirect pulp capping ( ipc ) with calcium hydroxide ( ch ) or an inert material ( wax ) on color , consistency and contamination of the remaining dentin of primary molars .',\n  'line_number': 0,\n  'total_lines': 11},\n {'target': 'METHODS',\n  'text': 'this double-blind , parallel-design , randomized controlled trial included @ children presenting one primary molar with deep caries lesion .',\n  'line_number': 1,\n  'total_lines': 11},\n {'target': 'METHODS',\n  'text': 'children were randomly assigned after icr to receive ipc with ch or wax .',\n  'line_number': 2,\n  'total_lines': 11},\n {'target': 'METHODS',\n  'text': 'all teeth were then restored with resin composite .',\n  'line_number': 3,\n  'total_lines': 11},\n {'target': 'METHODS',\n  'text': 'baseline dentin color and consistency were evaluated after icr , and dentin samples were collected for contamination analyses using scanning electron microscopy .',\n  'line_number': 4,\n  'total_lines': 11},\n {'target': 'METHODS',\n  'text': 'after @ months , restorations were removed and the three parameters were re-evaluated .',\n  'line_number': 5,\n  'total_lines': 11},\n {'target': 'METHODS',\n  'text': 'in both groups , dentin became significantly darker after @ months .',\n  'line_number': 6,\n  'total_lines': 11},\n {'target': 'RESULTS',\n  'text': 'no cases of yellow dentin were observed after @ months with ch compared to @ % of the wax cases ( p < @ ) .',\n  'line_number': 7,\n  'total_lines': 11},\n {'target': 'RESULTS',\n  'text': 'a statistically significant difference over time was observed only for ch regarding consistency .',\n  'line_number': 8,\n  'total_lines': 11},\n {'target': 'RESULTS',\n  'text': 'ch stimulated a dentin hardening process in a statistically higher number of cases than wax ( @ % vs. @ % ; p = @ ) .',\n  'line_number': 9,\n  'total_lines': 11},\n {'target': 'RESULTS',\n  'text': 'contamination changed significantly over time in ch and wax without significant difference between groups .',\n  'line_number': 10,\n  'total_lines': 11},\n {'target': 'RESULTS',\n  'text': 'it was concluded that ch and wax arrested the carious process of the remaining carious dentin after indirect pulp capping , but ch showed superior dentin color and consistency after @ months .',\n  'line_number': 11,\n  'total_lines': 11},\n {'target': 'BACKGROUND',\n  'text': 'in literature there is a general consensus that the use of the mirror improves proprioception .',\n  'line_number': 0,\n  'total_lines': 13},\n {'target': 'BACKGROUND',\n  'text': 'during rehabilitation the mirror is an important instrument to improve stability .',\n  'line_number': 1,\n  'total_lines': 13},\n {'target': 'BACKGROUND',\n  'text': 'in some sports , such as dancing , mirrors are widely used during training .',\n  'line_number': 2,\n  'total_lines': 13},\n {'target': 'BACKGROUND',\n  'text': 'the purpose of this study is to evaluate the effectiveness of the use of a mirror on balance in young dancers .',\n  'line_number': 3,\n  'total_lines': 13},\n {'target': 'BACKGROUND',\n  'text': 'sixty-four young dancers ( ranging from @-@ years ) were included in this study .',\n  'line_number': 4,\n  'total_lines': 13},\n {'target': 'BACKGROUND',\n  'text': 'thirty-two attending lessons with a mirror ( mirror - group ) were compared to @ young dancers that attended the same lessons without a mirror ( non-mirror group ) .',\n  'line_number': 5,\n  'total_lines': 13},\n {'target': 'BACKGROUND',\n  'text': 'balance was evaluated by bess ( balance error scoring system ) , which consists of three stances ( double limb , single limb , and tandem ) on two surfaces ( firm and foam ) .',\n  'line_number': 6,\n  'total_lines': 13},\n {'target': 'BACKGROUND',\n  'text': 'the errors were assessed at each stance and summed to create the two subtotal scores ( firm and foam surface ) and the final total score ( bess ) .',\n  'line_number': 7,\n  'total_lines': 13},\n {'target': 'BACKGROUND',\n  'text': 'the bess was performed at recruitment ( t@ ) and after @months of dance lessons ( t@ ) .',\n  'line_number': 8,\n  'total_lines': 13},\n {'target': 'RESULTS',\n  'text': 'the repeated measures anova analysis showed that for the bess total score there is a difference due to the time ( f = @ ; p < @ ) .',\n  'line_number': 9,\n  'total_lines': 13},\n {'target': 'RESULTS',\n  'text': 'no other differences due to the group or to the time of measurement were found ( p > @ ) .',\n  'line_number': 10,\n  'total_lines': 13},\n {'target': 'RESULTS',\n  'text': 'the analysis of the multiple regression model showed the influence of the values at t@ for every bess items and the dominance of limb for stability on an unstable surface standing on one or two legs .',\n  'line_number': 11,\n  'total_lines': 13},\n {'target': 'CONCLUSIONS',\n  'text': 'these preliminary results suggest that the use of a mirror in a ballet classroom does not improve balance acquisition of the dancer .',\n  'line_number': 12,\n  'total_lines': 13},\n {'target': 'CONCLUSIONS',\n  'text': 'on the other hand , improvement found after @months confirms that at the age of the dancers studied motor skills and balance can easily be trained and improved .',\n  'line_number': 13,\n  'total_lines': 13},\n {'target': 'OBJECTIVE',\n  'text': 'long-term follow-up studies documenting maintenance of treatment effects are fewin adolescent anorexia nervosa ( an ) .',\n  'line_number': 0,\n  'total_lines': 11},\n {'target': 'OBJECTIVE',\n  'text': 'this exploratory study reports relapse from full remission and attainment of remission during a @-year open follow-up period using a convenience sample of a subgroup of @ % ( n = @ ) from an original cohort of @ participants who completed a randomized clinical trial comparing family-based therapy ( fbt ) and adolescent-focused individual therapy ( aft ) .',\n  'line_number': 1,\n  'total_lines': 11},\n {'target': 'METHODS',\n  'text': 'follow-up assessments were completed up to @years posttreatment ( average , @ years ) .',\n  'line_number': 2,\n  'total_lines': 11},\n {'target': 'METHODS',\n  'text': 'available participants completed the eating disorder examination as well as self-report measures of self-esteem and depression at @ to @ years posttreatment .',\n  'line_number': 3,\n  'total_lines': 11},\n {'target': 'RESULTS',\n  'text': 'two participants ( @ % ) relapsed ( fbt : n = @ , @ % ; aft : n = @ , @ % ) , on average @ years ( sd = @ years ) after remission was achieved at @-year follow-up .',\n  'line_number': 4,\n  'total_lines': 11},\n {'target': 'RESULTS',\n  'text': 'ten new participants ( @ % ) achieved remission ( fbt : n = @ , @ % ; aft : n = @ , @ % ) .',\n  'line_number': 5,\n  'total_lines': 11},\n {'target': 'RESULTS',\n  'text': 'mean time to remission for this group was @ years ( sd = @ years ) from @-year follow-up .',\n  'line_number': 6,\n  'total_lines': 11},\n {'target': 'RESULTS',\n  'text': 'there were no differences based on treatment group assignment in either relapse from full remission or new remission during long-term follow-up .',\n  'line_number': 7,\n  'total_lines': 11},\n {'target': 'RESULTS',\n  'text': 'other psychopathology was stable over time .',\n  'line_number': 8,\n  'total_lines': 11},\n {'target': 'CONCLUSIONS',\n  'text': 'there were few changes in the clinical presentation of participants who were assessed at long-term follow-up .',\n  'line_number': 9,\n  'total_lines': 11},\n {'target': 'CONCLUSIONS',\n  'text': 'these data suggest that outcomes are generally stable posttreatment regardless of treatment type once remission is achieved .',\n  'line_number': 10,\n  'total_lines': 11},\n {'target': 'CONCLUSIONS',\n  'text': 'clinical trial registration information-effectiveness of family-based versus individual psychotherapy in treating adolescents with anorexia nervosa ; http://www.clinicaltrials.gov/; nct@ .',\n  'line_number': 11,\n  'total_lines': 11},\n {'target': 'BACKGROUND',\n  'text': 'coronary artery bypass grafting using the radial artery has , since the @s , gone through a revival .',\n  'line_number': 0,\n  'total_lines': 15},\n {'target': 'BACKGROUND',\n  'text': 'observational studies have indicated better long-term patency when using radial arteries .',\n  'line_number': 1,\n  'total_lines': 15},\n {'target': 'BACKGROUND',\n  'text': 'therefore , radial artery might be preferred especially in younger patients where long time patency is important .',\n  'line_number': 2,\n  'total_lines': 15},\n {'target': 'BACKGROUND',\n  'text': 'during the last @years different endoscopic techniques to harvest the radial artery have evolved .',\n  'line_number': 3,\n  'total_lines': 15},\n {'target': 'BACKGROUND',\n  'text': 'endoscopic radial artery harvest only requires a small incision near the wrist in contrast to open harvest , which requires an incision from the elbow to the wrist .',\n  'line_number': 4,\n  'total_lines': 15},\n {'target': 'BACKGROUND',\n  'text': 'however , it is unknown whether the endoscopic technique results in fewer complications or a graft patency comparable to open harvest .',\n  'line_number': 5,\n  'total_lines': 15},\n {'target': 'BACKGROUND',\n  'text': 'when the radial artery has been harvested , there are two ways to use the radial artery as a graft .',\n  'line_number': 6,\n  'total_lines': 15},\n {'target': 'BACKGROUND',\n  'text': 'one way is sewing it onto the aorta and another is sewing it onto the mammary artery .',\n  'line_number': 7,\n  'total_lines': 15},\n {'target': 'BACKGROUND',\n  'text': 'it is unknown which technique is the superior revascularisation technique .',\n  'line_number': 8,\n  'total_lines': 15},\n {'target': 'METHODS',\n  'text': 'the neo trial is a randomised clinical trial with a @ factorial design .',\n  'line_number': 9,\n  'total_lines': 15},\n {'target': 'METHODS',\n  'text': 'we plan to randomise @ participants into four intervention groups : ( @ ) mammario-radial endoscopic group ; ( @ ) aorto-radial endoscopic group ; ( @ ) mammario-radial open surgery group ; and ( @ ) aorto-radial open surgery group.the hand function will be assessed by a questionnaire , a clinical examination , the change in cutaneous sensibility , and the measurement of both sensory and motor nerve conduction velocity at @months postoperatively .',\n  'line_number': 10,\n  'total_lines': 15},\n {'target': 'METHODS',\n  'text': 'all the postoperative complications will be registered , and we will evaluate muscular function , scar appearance , vascular supply to the hand , and the graft patency including the patency of the central radial artery anastomosis .',\n  'line_number': 11,\n  'total_lines': 15},\n {'target': 'METHODS',\n  'text': 'a patency evaluation by multi-slice computer tomography will be done at one year postoperatively.we expect the nerve conduction studies and the standardised neurological examinations to be able to discriminate differences in hand function comparing endoscopic to open harvest of the radial artery .',\n  'line_number': 12,\n  'total_lines': 15},\n {'target': 'METHODS',\n  'text': 'the trial also aims to show if there is any patency difference between mammario-radial compared to aorto-radial revascularisation techniques but this objective is exploratory .',\n  'line_number': 13,\n  'total_lines': 15},\n {'target': 'BACKGROUND',\n  'text': 'clinicaltrials.gov identifier : nct@.danish ethics committee number : h-@-@-@ .',\n  'line_number': 14,\n  'total_lines': 15},\n {'target': 'BACKGROUND',\n  'text': 'danish data protection agency : @-@-@ / jr. n :@ -@ .',\n  'line_number': 15,\n  'total_lines': 15},\n {'target': 'BACKGROUND',\n  'text': 'knowledge of essential amino acid requirements in infants is important because excessive intake of protein can lead to increased long-term morbidity such as obesity .',\n  'line_number': 0,\n  'total_lines': 9},\n {'target': 'BACKGROUND',\n  'text': 'a deficient intake may lead to suboptimal growth and impaired neurodevelopment .',\n  'line_number': 1,\n  'total_lines': 9},\n {'target': 'BACKGROUND',\n  'text': 'the current recommended branched-chain amino acid requirements in infants aged @-@ mo are based on the amino acid content of human milk .',\n  'line_number': 2,\n  'total_lines': 9},\n {'target': 'OBJECTIVE',\n  'text': 'we quantified the requirements for isoleucine , leucine , and valine for term neonates by using the indicator amino acid oxidation method with -lsb- @ - ( @ ) c -rsb- phenylalanine as the indicator .',\n  'line_number': 3,\n  'total_lines': 9},\n {'target': 'METHODS',\n  'text': 'fully enterally fed term infants received randomly graded amounts of isoleucine ( @-@ mg kg ( -@ ) d ( -@ ) ) , leucine ( @-@ mg kg ( -@ ) d ( -@ ) ) , or valine ( @-@ mg kg ( -@ ) d ( -@ ) ) as part of an elemental formula .',\n  'line_number': 4,\n  'total_lines': 9},\n {'target': 'METHODS',\n  'text': 'data are expressed as means sds .',\n  'line_number': 5,\n  'total_lines': 9},\n {'target': 'RESULTS',\n  'text': 'eighty-three asian , term neonates ( mean sd birth weight : @ @ kg ; gestational age : @ @ wk ) were studied at a postnatal age of @ @ d. mean requirements for isoleucine , leucine , and valine ( measured in boys only ) were @ mg kg ( -@ ) d ( -@ ) ( r ( @ ) = @ , p < @ ) , @ mg kg ( -@ ) d ( -@ ) ( r ( @ ) = @ , p < @ ) , and @ mg kg ( -@ ) d ( -@ ) ( r ( @ ) = @ , p = @ ) , respectively .',\n  'line_number': 6,\n  'total_lines': 9},\n {'target': 'CONCLUSIONS',\n  'text': 'current human milk-based recommendations for isoleucine and valine in term infants aged @-@ mo are correct .',\n  'line_number': 7,\n  'total_lines': 9},\n {'target': 'CONCLUSIONS',\n  'text': 'however , the current recommendation for leucine ( @ mg kg ( -@ ) d ( -@ ) ) is higher than the mean requirement of @ mg kg ( -@ ) d ( -@ ) that we determined in this study .',\n  'line_number': 8,\n  'total_lines': 9},\n {'target': 'CONCLUSIONS',\n  'text': 'this trial was registered at www.trialregister.nl as ntr@ .',\n  'line_number': 9,\n  'total_lines': 9},\n {'target': 'OBJECTIVE',\n  'text': 'we wanted to confirm the benefit of mometasone furoate ( mf ) in preventing acute radiation reactions , as shown in a previous study ( bostrm et al , radiother oncol @ ; @:@ -@ ) .',\n  'line_number': 0,\n  'total_lines': 8},\n {'target': 'METHODS',\n  'text': 'the study was a double-blind comparison of mf with d ( diprobase ) , administered daily from the start of radiation therapy for @ weeks in patients receiving breast radiation therapy , @ gy in @-gy fractions daily over @ weeks .',\n  'line_number': 1,\n  'total_lines': 8},\n {'target': 'METHODS',\n  'text': 'the primary endpoint was mean modified radiation therapy oncology group ( rtog ) score .',\n  'line_number': 2,\n  'total_lines': 8},\n {'target': 'RESULTS',\n  'text': 'mean rtog scores were significantly less for mf than for d ( p = @ ) .',\n  'line_number': 3,\n  'total_lines': 8},\n {'target': 'RESULTS',\n  'text': 'maximum rtog and mean erythema scores were significantly less for mf than for d ( p = @ and p = @ , respectively ) .',\n  'line_number': 4,\n  'total_lines': 8},\n {'target': 'RESULTS',\n  'text': 'the dermatology life quality index ( dlqi ) score was significantly less for mf than for d at weeks @ and @ when corrected for hospital anxiety and depression ( had ) questionnaire scores .',\n  'line_number': 5,\n  'total_lines': 8},\n {'target': 'CONCLUSIONS',\n  'text': 'mf cream significantly reduces radiation dermatitis when applied to the breast during and after radiation therapy .',\n  'line_number': 6,\n  'total_lines': 8},\n {'target': 'CONCLUSIONS',\n  'text': 'for the first time , we have shown a significantly beneficial effect on quality of life using a validated instrument ( dlqi ) , for a topical steroid cream .',\n  'line_number': 7,\n  'total_lines': 8},\n {'target': 'CONCLUSIONS',\n  'text': 'we believe that application of this cream should be the standard of care where radiation dermatitis is expected .',\n  'line_number': 8,\n  'total_lines': 8},\n {'target': 'OBJECTIVE',\n  'text': 'to compare the interstage cardiac catheterization hemodynamic and angiographic findings between shunt types for the pediatric heart network single ventricle reconstruction trial .',\n  'line_number': 0,\n  'total_lines': 10},\n {'target': 'OBJECTIVE',\n  'text': 'the trial , which randomized subjects to a modified blalock-taussig shunt ( mbts ) or right ventricle-to-pulmonary artery shunt ( rvpas ) for the norwood procedure , demonstrated the rvpas was associated with a smaller pulmonary artery diameter but superior @-month transplant-free survival .',\n  'line_number': 1,\n  'total_lines': 10},\n {'target': 'METHODS',\n  'text': 'we analyzed the pre-stage ii catheterization data for the trial subjects .',\n  'line_number': 2,\n  'total_lines': 10},\n {'target': 'METHODS',\n  'text': 'the hemodynamic variables and shunt and pulmonary angiographic data were compared between shunt types ; their association with @-month transplant-free survival was also evaluated .',\n  'line_number': 3,\n  'total_lines': 10},\n {'target': 'RESULTS',\n  'text': 'of @ randomized subjects , @ underwent pre-stage ii catheterization .',\n  'line_number': 4,\n  'total_lines': 10},\n {'target': 'RESULTS',\n  'text': 'a smaller size , lower aortic and superior vena cava saturation , and higher ventricular end-diastolic pressure were associated with worse @-month transplant-free survival .',\n  'line_number': 5,\n  'total_lines': 10},\n {'target': 'RESULTS',\n  'text': 'the mbts group had a lower coronary perfusion pressure ( @ vs @ mm hg ; p < @ ) and greater pulmonary blood flow/systemic blood flow ratio ( @ vs @ , p = @ ) .',\n  'line_number': 6,\n  'total_lines': 10},\n {'target': 'RESULTS',\n  'text': 'a greater pulmonary blood flow/systemic blood flow ratio increased the risk of death or transplantation only in the rvpas group ( p = @ ) .',\n  'line_number': 7,\n  'total_lines': 10},\n {'target': 'RESULTS',\n  'text': 'the mbts group had fewer shunt ( @ % vs @ % , p = @ ) and severe left pulmonary artery ( @ % vs @ % , p = @ ) stenoses , larger mid-main branch pulmonary artery diameters , and greater nakata indexes ( @ vs @ , p < @ ) .',\n  'line_number': 8,\n  'total_lines': 10},\n {'target': 'CONCLUSIONS',\n  'text': 'compared with the rvpas subjects , the mbts subjects had more hemodynamic abnormalities related to shunt physiology , and the rvpas subjects had more shunt or pulmonary obstruction of a severe degree and inferior pulmonary artery growth at pre-stage ii catheterization .',\n  'line_number': 9,\n  'total_lines': 10},\n {'target': 'CONCLUSIONS',\n  'text': 'a lower body surface area , greater ventricular end-diastolic pressure , and lower superior vena cava saturation were associated with worse @-month transplant-free survival .',\n  'line_number': 10,\n  'total_lines': 10},\n {'target': 'OBJECTIVE',\n  'text': 'it has been hypothesized that the development of diabetic polyneuropathy ( dpn ) is due to swelling of the nerve , as well as thickening and stiffening of the surrounding ligaments , causing chronic compression of nerves .',\n  'line_number': 0,\n  'total_lines': 15},\n {'target': 'OBJECTIVE',\n  'text': 'we aimed to examine the effect of surgical decompression of the tibial nerve on the mean cross-sectional area ( csa ) .',\n  'line_number': 1,\n  'total_lines': 15},\n {'target': 'METHODS',\n  'text': 'we performed a randomized controlled trial of @ subjects with painful dpn diagnosed using the diabetic neuropathy score .',\n  'line_number': 2,\n  'total_lines': 15},\n {'target': 'METHODS',\n  'text': 'a computer randomized for the surgery arm of the study .',\n  'line_number': 3,\n  'total_lines': 15},\n {'target': 'METHODS',\n  'text': 'a control group consisting of @ healthy subjects was included .',\n  'line_number': 4,\n  'total_lines': 15},\n {'target': 'METHODS',\n  'text': 'an experienced sonographer measured the csa and thickness-to-width ( t/w ) ratio of the tibial nerve , as well as the thickness of the flexor retinaculum .',\n  'line_number': 5,\n  'total_lines': 15},\n {'target': 'RESULTS',\n  'text': 'csa is significantly larger in patients with painful dpn ( @ @ mm ( @ ) ) than in control subjects ( @ @ mm ( @ ) ) , p = @ .',\n  'line_number': 6,\n  'total_lines': 15},\n {'target': 'RESULTS',\n  'text': 'the t/w ratio in patients with painful dpn is @ and in control subjects @ , p = @ .',\n  'line_number': 7,\n  'total_lines': 15},\n {'target': 'RESULTS',\n  'text': 'patients with dpn have a significantly thicker retinaculum ( @ mm ) than control subjects ( @ mm ) , p < @ .',\n  'line_number': 8,\n  'total_lines': 15},\n {'target': 'RESULTS',\n  'text': 'mean follow-up was @ weeks ( range @-@ ) .',\n  'line_number': 9,\n  'total_lines': 15},\n {'target': 'RESULTS',\n  'text': 'difference between baseline and follow-up in the operated leg was @ mm ( @ ) and in the control leg @ mm ( @ ) , p = @ .',\n  'line_number': 10,\n  'total_lines': 15},\n {'target': 'CONCLUSIONS',\n  'text': 'decompression of the tibial nerve does not result in a significant difference between baseline and follow-up in csa using ultrasound between the operated and control leg .',\n  'line_number': 11,\n  'total_lines': 15},\n {'target': 'CONCLUSIONS',\n  'text': 'ultrasound measurements show a significantly increased csa , a significantly thicker retinaculum , and a significantly increased t/w ratio in patients with painful dpn compared with healthy control subjects .',\n  'line_number': 12,\n  'total_lines': 15},\n {'target': 'CONCLUSIONS',\n  'text': 'clinical trial reg .',\n  'line_number': 13,\n  'total_lines': 15},\n {'target': 'CONCLUSIONS',\n  'text': 'no .',\n  'line_number': 14,\n  'total_lines': 15},\n {'target': 'CONCLUSIONS',\n  'text': 'ntr@ , www.trialregister.nl .',\n  'line_number': 15,\n  'total_lines': 15},\n {'target': 'BACKGROUND',\n  'text': 'a community-based randomized trial was conducted in costa rica to evaluate the hpv-@ / @ as@-adjuvanted vaccine ( nct@ ) .',\n  'line_number': 0,\n  'total_lines': 16},\n {'target': 'BACKGROUND',\n  'text': 'the primary objective was to evaluate efficacy of the vaccine to prevent cervical intraepithelial neoplasia @ or more severe disease ( cin@ + ) associated with incident hpv-@ / @ cervical infections .',\n  'line_number': 1,\n  'total_lines': 16},\n {'target': 'BACKGROUND',\n  'text': 'secondary objectives were to evaluate efficacy against cin@ + associated with incident cervical infection by any oncogenic hpvs and to evaluate duration of protection against incident cervical infection with hpv-@ / @ .',\n  'line_number': 2,\n  'total_lines': 16},\n {'target': 'BACKGROUND',\n  'text': 'vaccine safety and immunogenicity over the @-year follow-up were also evaluated .',\n  'line_number': 3,\n  'total_lines': 16},\n {'target': 'METHODS',\n  'text': 'we randomized ( @ hpv arm ; @ control arm ) , vaccinated ( hpv-@ / @ or hepatitis a ) and followed ( median @ months ) @ healthy women aged @-@ years .',\n  'line_number': 4,\n  'total_lines': 16},\n {'target': 'METHODS',\n  'text': '@ women ( @ hpv arm ; @ control arm ) were included in the according to protocol analysis for efficacy .',\n  'line_number': 5,\n  'total_lines': 16},\n {'target': 'METHODS',\n  'text': 'the full cohort was evaluated for safety .',\n  'line_number': 6,\n  'total_lines': 16},\n {'target': 'METHODS',\n  'text': 'immunogenicity was considered on a subset of @ ( hpv-@ ) and @ ( hpv-@ ) women .',\n  'line_number': 7,\n  'total_lines': 16},\n {'target': 'METHODS',\n  'text': 'hpv type was assessed by pcr on cervical specimens .',\n  'line_number': 8,\n  'total_lines': 16},\n {'target': 'METHODS',\n  'text': 'immunogenicity was assessed using elisa and inhibition enzyme immunoassays .',\n  'line_number': 9,\n  'total_lines': 16},\n {'target': 'METHODS',\n  'text': 'disease outcomes were histologically confirmed .',\n  'line_number': 10,\n  'total_lines': 16},\n {'target': 'METHODS',\n  'text': 'vaccine efficacy and @ % confidence intervals ( @ % ci ) were computed .',\n  'line_number': 11,\n  'total_lines': 16},\n {'target': 'RESULTS',\n  'text': 'vaccine efficacy was @ % ( @ % ci : @-@ @ ; n = @ events total ) against hpv-@ / @ associated cin@ + , @ % ( @ % ci : @-@ @ ; n = @ events total ) against cin@ + associated with non-hpv-@ / @ oncogenic hpvs and @ % ( @ % ci : @-@ @ ; n = @ events total ) against cin@ + irrespective of hpv type .',\n  'line_number': 12,\n  'total_lines': 16},\n {'target': 'RESULTS',\n  'text': 'the vaccine had an acceptable safety profile and induced robust and long-lasting antibody responses .',\n  'line_number': 13,\n  'total_lines': 16},\n {'target': 'CONCLUSIONS',\n  'text': 'our findings confirm the high efficacy and immunogenicity of the hpv-@ / @ vaccine against incident hpv infections and cervical disease associated with hpv-@ / @ and other oncogenic hpv types .',\n  'line_number': 14,\n  'total_lines': 16},\n {'target': 'CONCLUSIONS',\n  'text': 'these results will serve as a benchmark to which we can compare future findings from the ongoing extended follow-up of participants in the costa rica trial .',\n  'line_number': 15,\n  'total_lines': 16},\n {'target': 'BACKGROUND',\n  'text': 'registered with clinicaltrials.gov : nct@ .',\n  'line_number': 16,\n  'total_lines': 16},\n {'target': 'BACKGROUND',\n  'text': 'there is a long-held concept among spine surgeons that endoscopic lumbar discectomy procedures are reserved for small-contained disc herniation ; @-year follow-up has not been reported .',\n  'line_number': 0,\n  'total_lines': 11},\n {'target': 'BACKGROUND',\n  'text': 'the purpose of this study is to assess microendoscopic discectomy ( med ) in patients with large uncontained lumbar disc herniation ( the antero-posterior diameter of the extruded fragment is @-@ mm or more on axial cuts of mri ) and report long-term outcome .',\n  'line_number': 1,\n  'total_lines': 11},\n {'target': 'METHODS',\n  'text': 'one hundred eighty-five patients with med or standard open discectomy underwent follow-up for @ years .',\n  'line_number': 2,\n  'total_lines': 11},\n {'target': 'METHODS',\n  'text': 'primary ( clinical ) outcomes data included numerical rating scale ( nrs ) for back and leg symptoms and oswestry disability index ( odi ) to quantify pain and disability , respectively .',\n  'line_number': 3,\n  'total_lines': 11},\n {'target': 'METHODS',\n  'text': 'secondary ( objective ) outcomes data included operative time , blood loss , postoperative analgesics , length of hospital stay , time to return to work , reoperation and complication rate , patient satisfaction index ( psi ) , and modified ( macnab ) criteria .',\n  'line_number': 4,\n  'total_lines': 11},\n {'target': 'RESULTS',\n  'text': 'at the end of the follow-up , the leg pain relief was statistically significant for both groups .',\n  'line_number': 5,\n  'total_lines': 11},\n {'target': 'RESULTS',\n  'text': 'nrs back pain , odi , psi and macnab criteria showed significant deterioration for control group .',\n  'line_number': 6,\n  'total_lines': 11},\n {'target': 'RESULTS',\n  'text': 'secondary outcomes data of med group were significantly better than the control group .',\n  'line_number': 7,\n  'total_lines': 11},\n {'target': 'CONCLUSIONS',\n  'text': 'large , uncontained , lumbar disc herniations can be sufficiently removed using med which is an effective alternative to open discectomy procedures with remarkable long-term outcome .',\n  'line_number': 8,\n  'total_lines': 11},\n {'target': 'CONCLUSIONS',\n  'text': 'although the neurological outcome of the two procedures is the same , the morbidity of med is significantly less than open discectomy .',\n  'line_number': 9,\n  'total_lines': 11},\n {'target': 'CONCLUSIONS',\n  'text': 'maximum benefit can be gained if we adhere to strict selection criteria .',\n  'line_number': 10,\n  'total_lines': 11},\n {'target': 'CONCLUSIONS',\n  'text': 'the optimum indication is single - or multi-level radiculopathy secondary to a single-level , large , uncontained , lumbar disc herniation .',\n  'line_number': 11,\n  'total_lines': 11},\n {'target': 'BACKGROUND',\n  'text': 'heart failure ( hf ) patients suffer from frequent and repeated hospitalizations , causing a substantial economic burden on society .',\n  'line_number': 0,\n  'total_lines': 17},\n {'target': 'BACKGROUND',\n  'text': 'hospitalizations can be reduced considerably by better compliance with self-care .',\n  'line_number': 1,\n  'total_lines': 17},\n {'target': 'BACKGROUND',\n  'text': \"home telemonitoring has the potential to boost patients ' compliance with self-care , although the results are still contradictory .\",\n  'line_number': 2,\n  'total_lines': 17},\n {'target': 'OBJECTIVE',\n  'text': 'a randomized controlled trial was conducted in order to study whether the multidisciplinary care of heart failure patients promoted with telemonitoring leads to decreased hf-related hospitalization .',\n  'line_number': 3,\n  'total_lines': 17},\n {'target': 'METHODS',\n  'text': 'hf patients were eligible whose left ventricular ejection fraction was lower than @ % , nyha functional class @ , and who needed regular follow-up .',\n  'line_number': 4,\n  'total_lines': 17},\n {'target': 'METHODS',\n  'text': 'patients in the telemonitoring group ( n = @ ) measured their body weight , blood pressure , and pulse and answered symptom-related questions on a weekly basis , reporting their values to the heart failure nurse using a mobile phone app .',\n  'line_number': 5,\n  'total_lines': 17},\n {'target': 'METHODS',\n  'text': 'the heart failure nurse followed the status of patients weekly and if necessary contacted the patient .',\n  'line_number': 6,\n  'total_lines': 17},\n {'target': 'METHODS',\n  'text': 'the primary outcome was the number of hf-related hospital days .',\n  'line_number': 7,\n  'total_lines': 17},\n {'target': 'METHODS',\n  'text': 'control patients ( n = @ ) received multidisciplinary treatment according to standard practices .',\n  'line_number': 8,\n  'total_lines': 17},\n {'target': 'METHODS',\n  'text': \"patients ' clinical status , use of health care resources , adherence , and user experience from the patients ' and the health care professionals ' perspective were studied .\",\n  'line_number': 9,\n  'total_lines': 17},\n {'target': 'RESULTS',\n  'text': 'adherence , calculated as a proportion of weekly submitted self-measurements , was close to @ % .',\n  'line_number': 10,\n  'total_lines': 17},\n {'target': 'RESULTS',\n  'text': 'no difference was found in the number of hf-related hospital days ( incidence rate ratio -lsb- irr -rsb- = @ , p = @ ) , which was the primary outcome .',\n  'line_number': 11,\n  'total_lines': 17},\n {'target': 'RESULTS',\n  'text': 'the intervention group used more health care resources : they paid an increased number of visits to the nurse ( irr = @ , p < @ ) , spent more time at the nurse reception ( mean difference of @ minutes , p < @ ) , and there was a greater number of telephone contacts between the nurse and intervention patients ( irr = @ , p < @ for nurse-induced contacts and irr = @ , p = @ for patient-induced contacts ) .',\n  'line_number': 12,\n  'total_lines': 17},\n {'target': 'RESULTS',\n  'text': \"there were no statistically significant differences in patients ' clinical health status or in their self-care behavior .\",\n  'line_number': 13,\n  'total_lines': 17},\n {'target': 'RESULTS',\n  'text': 'the technology received excellent feedback from the patient and professional side with a high adherence rate throughout the study .',\n  'line_number': 14,\n  'total_lines': 17},\n {'target': 'CONCLUSIONS',\n  'text': \"home telemonitoring did not reduce the number of patients ' hf-related hospital days and did not improve the patients ' clinical condition .\",\n  'line_number': 15,\n  'total_lines': 17},\n {'target': 'CONCLUSIONS',\n  'text': 'patients in the telemonitoring group contacted the cardiology outpatient clinic more frequently , and on this way increased the use of health care resources .',\n  'line_number': 16,\n  'total_lines': 17},\n {'target': 'BACKGROUND',\n  'text': 'clinicaltrials.gov nct@ ; http://clinicaltrials.gov/show/nct@ ( archived by webcite at http://www.webcitation.org/@ufxick@z ) .',\n  'line_number': 17,\n  'total_lines': 17},\n {'target': 'OBJECTIVE',\n  'text': 'probiotics help maintain balance in composition of the gut microbiota , and have been considered as a potential treatment for obesity .',\n  'line_number': 0,\n  'total_lines': 11},\n {'target': 'OBJECTIVE',\n  'text': 'this study was conducted in order to assess the effects of probiotics when combined with herbal medicine in treatment of obesity .',\n  'line_number': 1,\n  'total_lines': 11},\n {'target': 'OBJECTIVE',\n  'text': 'probiotics were tested for the ability to modulate gut microbiota , gut permeability , and endotoxin level , which may have correlation with factors involved in obesity .',\n  'line_number': 2,\n  'total_lines': 11},\n {'target': 'METHODS',\n  'text': 'a randomized , double-blind , placebo controlled study was conducted , in which patients with higher bmi ( > @kg/m ( @ ) ) and waist circumference ( > @cm ) were enrolled and randomly assigned to receive bofutsushosan with either probiotics or placebo capsules for a period of eight weeks .',\n  'line_number': 3,\n  'total_lines': 11},\n {'target': 'METHODS',\n  'text': 'assessment of body composition parameters , metabolic biomarkers , endotoxin level , gut permeability , and fecal bacteria in stool was performed at baseline and at week @ .',\n  'line_number': 4,\n  'total_lines': 11},\n {'target': 'METHODS',\n  'text': 'the study was registered at the clinical research information service , approved by the korea national institute of health ( kct@ ) .',\n  'line_number': 5,\n  'total_lines': 11},\n {'target': 'RESULTS',\n  'text': 'although both groups showed a significant reduction in weight and waist circumference ( p = @ ) , no significant differences in body composition and metabolic markers were observed .',\n  'line_number': 6,\n  'total_lines': 11},\n {'target': 'RESULTS',\n  'text': 'in correlation analysis , change in body composition showed positive correlation with endotoxin level ( r = @ , p < @ for bw ; and r = @ , p < @ for fat mass ) and the population of gut lactobacillus plantarum ( r = @ , p < @ for bw ; and r = @ , p < @ for bmi ) .',\n  'line_number': 7,\n  'total_lines': 11},\n {'target': 'RESULTS',\n  'text': 'the gram negative bacterial population in gut also exhibited positive correlation with changes in body composition ( wc ) and total cholesterol level ( r = @ , and @ , for the former and later parameters , respectively , p < @ for both ) .',\n  'line_number': 8,\n  'total_lines': 11},\n {'target': 'RESULTS',\n  'text': 'while , the profile of gut bifidobacterium breve population showed negative correlation with endotoxin level ( r = -@ , p < @ ) .',\n  'line_number': 9,\n  'total_lines': 11},\n {'target': 'CONCLUSIONS',\n  'text': 'correlations between gut microbiota and change in body composition indicate that probiotics may influence energy metabolism in obesity .',\n  'line_number': 10,\n  'total_lines': 11},\n {'target': 'CONCLUSIONS',\n  'text': 'correlation between endotoxin level and weight reduction indicates that probiotics may play an important role in prevention of endotoxin production , which can lead to gut microbiota dysbiosis associated with obesity .',\n  'line_number': 11,\n  'total_lines': 11},\n {'target': 'OBJECTIVE',\n  'text': 'the objective of this study is to analyze the effects of a @-week indoor intermittent training program on lung function , physical capacity , body composition and quality of life in children with asthma .',\n  'line_number': 0,\n  'total_lines': 9},\n {'target': 'METHODS',\n  'text': 'participants were randomized in an experimental group ( eg , @ children , age = @ years ) and in a control group ( cg , @ children , age = @ years ) .',\n  'line_number': 1,\n  'total_lines': 9},\n {'target': 'METHODS',\n  'text': 'the training program was conducted indoors and consisted of alternating high - and low-intensity stimuli , for three sessions of @min/week , for @ weeks .',\n  'line_number': 2,\n  'total_lines': 9},\n {'target': 'METHODS',\n  'text': \"physical exercise and sports activities were organized to follow the criteria of the american college of sports medicine ( @ ) and previous interventions ' studies .\",\n  'line_number': 3,\n  'total_lines': 9},\n {'target': 'RESULTS',\n  'text': 'in eg , there was a significant improvement ( p < @ ) in fev@ , fev@ , @mwt , handgrip strength , cmj and flexibility .',\n  'line_number': 4,\n  'total_lines': 9},\n {'target': 'RESULTS',\n  'text': 'reductions in bmi and fat mass as well as an increase in quality of life were all shown .',\n  'line_number': 5,\n  'total_lines': 9},\n {'target': 'RESULTS',\n  'text': 'the dyspnea index decreased significantly and there were no episodes of eia .',\n  'line_number': 6,\n  'total_lines': 9},\n {'target': 'RESULTS',\n  'text': 'there is a significant positive correlation ( p < @ ) between the fev@ with handgrip strength and @mwt and a negative correlation with fat mass .',\n  'line_number': 7,\n  'total_lines': 9},\n {'target': 'CONCLUSIONS',\n  'text': 'an indoor intermittent training program with these characteristics has improved lung function , physical capacity , body composition and quality of life in children with asthma .',\n  'line_number': 8,\n  'total_lines': 9},\n {'target': 'CONCLUSIONS',\n  'text': 'these training adaptations are particularly relevant for those patients suffering from asthma as a regular physical exercise routine will greatly improve their quality of life .',\n  'line_number': 9,\n  'total_lines': 9},\n {'target': 'OBJECTIVE',\n  'text': 'to observe the efficacy of catgut implantation at back-shu points in treatment of mild perimenopausal depression of kidney , deficiency and liver stagnation syndrome and analyze its essential function on target symptoms .',\n  'line_number': 0,\n  'total_lines': 14},\n {'target': 'METHODS',\n  'text': 'forty-five cases were randomized into a catgut implantation group ( @ cases ) and atid acupuncture group ( @ cases ) .',\n  'line_number': 1,\n  'total_lines': 14},\n {'target': 'METHODS',\n  'text': 'in the catgut implantation group , catguts were implanted at shenshu ( bl @ ) , ganshu ( bl @ ) , xinshu ( bl @ ) , pishu ( bl @ ) , etc. , once every week .',\n  'line_number': 2,\n  'total_lines': 14},\n {'target': 'METHODS',\n  'text': 'in the acupuncture group , the conventional acupuncture was applied to the same acupoints as the catgut implantation group , once every two days .',\n  'line_number': 3,\n  'total_lines': 14},\n {'target': 'METHODS',\n  'text': 'the : treatment of @ weeks made one session , and continuous @ sessions were required .',\n  'line_number': 4,\n  'total_lines': 14},\n {'target': 'METHODS',\n  'text': 'the efficacy was evaluated in , @ sessions .',\n  'line_number': 5,\n  'total_lines': 14},\n {'target': 'METHODS',\n  'text': 'the follow-up started in the @th week .',\n  'line_number': 6,\n  'total_lines': 14},\n {'target': 'METHODS',\n  'text': 'before treatment , after treatment and in the follow-up period , kupperman score and the total score in hamilton depression scale ( hamd ) , as well as the factor score were observed in the patients separately .',\n  'line_number': 7,\n  'total_lines': 14},\n {'target': 'RESULTS',\n  'text': 'kupperman score , the total hamd score and the scores in the items of anxiety/somatization , retardation , sleep disorder and cognitive disorder after treatment were all reduced significantly as compared with those before treatment in the two groups ( p < @ , p < @ ) .',\n  'line_number': 8,\n  'total_lines': 14},\n {'target': 'RESULTS',\n  'text': 'in the follow-up period , the difference in kupperman was not significant in comparison with that after treatment in the catgut implantation : group ( p > @ ) .',\n  'line_number': 9,\n  'total_lines': 14},\n {'target': 'RESULTS',\n  'text': 'the total hamd score and sleep disorder were reduced significantly as compared with those after treatment in the catgut implantation group ( both p < @ ) ; in the acupuncture group , kupperman score , the total hamd score and sleep disorder were all increased as compared with those after treatment ( all p < @ ) .',\n  'line_number': 10,\n  'total_lines': 14},\n {'target': 'RESULTS',\n  'text': 'in ; the catgut implantation group , the total hamd score was lower than that in the acupuncture group ( p < @ ) , and the scores in the items of retardation and sleep disorder were reduced significantly as compared with those in the acupuncture group ( both p < @ ) .',\n  'line_number': 11,\n  'total_lines': 14},\n {'target': 'CONCLUSIONS',\n  'text': 'the catgut implantation at back-shu points alleviates perimenopasual sympton is in patients of mild perimenopausal depression of kidney deficiency and liver stagnation syndrome .',\n  'line_number': 12,\n  'total_lines': 14},\n {'target': 'CONCLUSIONS',\n  'text': \"this therapy effectively relieves depressive disorders by regulating the target symptoms such as anxiety / somatization , retardation , sleep disorder and cognitive ' disorder .\",\n  'line_number': 13,\n  'total_lines': 14},\n {'target': 'CONCLUSIONS',\n  'text': 'the long-term efficacy of this therapy is better than the conventional acupuncture .',\n  'line_number': 14,\n  'total_lines': 14},\n {'target': 'OBJECTIVE',\n  'text': 'up to @ % of patients who undergo a percutaneous coronary intervention show some limitation in the use of drug-eluting stents .',\n  'line_number': 0,\n  'total_lines': 8},\n {'target': 'OBJECTIVE',\n  'text': 'the aim of this study was to evaluate if titanium-nitride-oxide-coated stents could be a good alternative to everolimus-eluting stents in diabetic patients .',\n  'line_number': 1,\n  'total_lines': 8},\n {'target': 'METHODS',\n  'text': 'a total of @ diabetic patients with lesions at moderate risk of restenosis ( exclusion criteria : diameter < @ mm or length > @ mm in vessels < @mm , chronic occlusion ) were randomized to a titanium group ( @ patients ) or an everolimus group ( @ patients ) .',\n  'line_number': 2,\n  'total_lines': 8},\n {'target': 'RESULTS',\n  'text': 'baseline characteristics were well balanced ; @ % of patients were insulin dependent .',\n  'line_number': 3,\n  'total_lines': 8},\n {'target': 'RESULTS',\n  'text': 'at @ year , the incidence of major adverse cardiac events ( death , nonfatal myocardial infarction , stroke , or repeat target vessel revascularization ) was significantly higher in the titanium group than in the everolimus group ( total , @ % vs @ % ; p = @ ; noninsulin-dependent subgroup , @ % vs @ % ; p = @ ; insulin-dependent subgroup , @ % vs @ % ; p = @ ) .',\n  'line_number': 4,\n  'total_lines': 8},\n {'target': 'RESULTS',\n  'text': 'the incidence of death , nonfatal myocardial infarction , stroke , or any revascularization was @ % in the titanium group and @ % in the everolimus group ( p = @ ) .',\n  'line_number': 5,\n  'total_lines': 8},\n {'target': 'RESULTS',\n  'text': 'target lesion and vessel revascularizations occurred in @ % compared with @ % ( p = @ ) and in @ % compared with @ % ( p = @ ) in the titanium and everolimus groups , respectively .',\n  'line_number': 6,\n  'total_lines': 8},\n {'target': 'RESULTS',\n  'text': 'angiographic follow-up at @ months showed significantly less late lumen loss in the everolimus group ( in-segment , @ -lsb- standard deviation , @ ) mm vs -@ -lsb- @ -rsb- mm ; in-stent , @ -lsb- @ -rsb- mm vs @ -lsb- @ -rsb- mm ; p < @ ) .',\n  'line_number': 7,\n  'total_lines': 8},\n {'target': 'CONCLUSIONS',\n  'text': 'the everolimus-eluting stent is superior to the titanium stent for clinical and angiographic end points in diabetic patients with lesions at moderate risk of restenosis .',\n  'line_number': 8,\n  'total_lines': 8},\n {'target': 'OBJECTIVE',\n  'text': 'to evaluate the safety of the fixed combination of ibuprofen and famotidine compared with ibuprofen alone from two @-week , multicenter , double-blind trials designed to evaluate the comparative incidence of endoscopically documented upper gastrointestinal ulcers and a @-week double-blind extension study .',\n  'line_number': 0,\n  'total_lines': 14},\n {'target': 'METHODS',\n  'text': 'safety was analyzed by pooling data from the two double-blind trials and the follow-on study .',\n  'line_number': 1,\n  'total_lines': 14},\n {'target': 'METHODS',\n  'text': 'safety was assessed by monitoring the incidence , causality , and severity of adverse events ( aes ) .',\n  'line_number': 2,\n  'total_lines': 14},\n {'target': 'RESULTS',\n  'text': 'in the pivotal efficacy and safety trials , discontinuation rates due to any cause and dyspepsia were significantly lower for the ibuprofen/famotidine combination versus ibuprofen alone .',\n  'line_number': 3,\n  'total_lines': 14},\n {'target': 'RESULTS',\n  'text': 'other than dyspepsia , gastrointestinal and cardiovascular aes of special interest were similar .',\n  'line_number': 4,\n  'total_lines': 14},\n {'target': 'RESULTS',\n  'text': 'events judged to be treatment related were significantly lower with the ibuprofen/famotidine combination ( @ % vs. @ % ) .',\n  'line_number': 5,\n  'total_lines': 14},\n {'target': 'RESULTS',\n  'text': 'in the safety extension population , there were no differences in the discontinuation rates and the reporting of aes or serious aes ( saes ) between the two groups .',\n  'line_number': 6,\n  'total_lines': 14},\n {'target': 'RESULTS',\n  'text': 'gastrointestinal-related events were similar between the groups .',\n  'line_number': 7,\n  'total_lines': 14},\n {'target': 'RESULTS',\n  'text': 'incidence of cardiovascular-related aes of special interest were @ % ( ibuprofen/famotidine ) and @ % ( ibuprofen ) ( p = @ ) , possibly due to a higher number of rheumatoid arthritis patients in the combination group .',\n  'line_number': 8,\n  'total_lines': 14},\n {'target': 'RESULTS',\n  'text': 'of these , @ % were reports of hypertension ( @ % ibuprofen/famotidine vs. @ % ibuprofen ) .',\n  'line_number': 9,\n  'total_lines': 14},\n {'target': 'RESULTS',\n  'text': 'three cases of hypertension in the ibuprofen/famotidine group were considered treatment related .',\n  'line_number': 10,\n  'total_lines': 14},\n {'target': 'RESULTS',\n  'text': 'the probability of a cardiovascular event decreased during days @-@ of treatment and remained low with continued treatment .',\n  'line_number': 11,\n  'total_lines': 14},\n {'target': 'CONCLUSIONS',\n  'text': 'one-year safety data from two pivotal trials and a long-term extension study indicate that the ibuprofen/famotidine combination demonstrates a favorable gastrointestinal safety profile and more patients continued on therapy compared to ibuprofen alone .',\n  'line_number': 12,\n  'total_lines': 14},\n {'target': 'CONCLUSIONS',\n  'text': 'no new safety signals have been identified .',\n  'line_number': 13,\n  'total_lines': 14},\n {'target': 'CONCLUSIONS',\n  'text': 'these data offer additional evidence supporting a new therapeutic option to improve gastrointestinal safety and adherence for patients who require long-term ibuprofen .',\n  'line_number': 14,\n  'total_lines': 14},\n {'target': 'OBJECTIVE',\n  'text': 'to compare the effects of volume-controlled ventilation ( vcv ) and pressure-controlled volume-guaranteed ( pcv-vg ) mode during one-lung ventilation ( olv ) on circulation , pulmonary function and lung injury .',\n  'line_number': 0,\n  'total_lines': 11},\n {'target': 'METHODS',\n  'text': '@ february to @ march in ningbo no@ .',\n  'line_number': 1,\n  'total_lines': 11},\n {'target': 'METHODS',\n  'text': 'hospital cardiothoracic surgery , @ patients aged @ to @ years ( asa grade ii-iii ) undergoing elective thoracoscopic lobectomy were randomly divided into vcv group and pcv-vg group , with @ cases in each group .',\n  'line_number': 2,\n  'total_lines': 11},\n {'target': 'METHODS',\n  'text': 'after anesthesia induction and endotracheal intubation , endobronchial blocker was inserted to start olv .',\n  'line_number': 3,\n  'total_lines': 11},\n {'target': 'METHODS',\n  'text': 'heart rate ( hr ) , mean arterial pressure ( map ) , measured tidal volume ( tv ) , peak airway pressure ( ppeak ) , airway resistance ( raw ) , chest compliance ( cdyn ) and the end-tidal carbon dioxide pressure ( petco ( @ ) ) were recorded at the time point of @ minutes after turning to the lateral position , @ minutes and @ minutes after olv , and @ minutes after the resumption of two lung ventilation .',\n  'line_number': 4,\n  'total_lines': 11},\n {'target': 'METHODS',\n  'text': 'in the meanwhile , arterial blood gas analysis was conducted to measure indicators of ph , oxygen tension ( pao ( @ ) ) and carbon dioxide partial pressure ( paco ( @ ) ) .',\n  'line_number': 5,\n  'total_lines': 11},\n {'target': 'METHODS',\n  'text': 'blood was drawn before induction , @ hour after olv and @ hour after the end of surgery , and the concentration of interleukin-@ ( il-@ ) and tumor necrosis factor-alpha ( tnf - ) were detected by enzyme-linked immunosorbent assay ( elisa ) .',\n  'line_number': 6,\n  'total_lines': 11},\n {'target': 'RESULTS',\n  'text': 'hr , map , tv , petco ( @ ) , ph and paco ( @ ) in two groups at the time point of @ minutes after turning to the lateral position , @ minutes and @ minutes after olv , and @ minutes after the resumption of two lung ventilation showed no significant difference ( p > @ ) .',\n  'line_number': 7,\n  'total_lines': 11},\n {'target': 'RESULTS',\n  'text': 'at the point of @ minutes after turning to the lateral position and @ minutes after two lung ventilation , ppeak and cdyn of two groups were significantly different ( p < @ ) ( ppeak :@ @ cmh ( @ ) o , @ @ cmh ( @ ) o for vcv group and @ @ cmh ( @ ) o , @ @ cmh ( @ ) o for pcv-vg group ; cdyn : @ @ ml/cmh ( @ ) o , @ @ ml/cmh@o for vcv group and @ @ ml/cmh ( @ ) o , @ @ ml/cmh ( @ ) o for pcv-vg group ) .',\n  'line_number': 8,\n  'total_lines': 11},\n {'target': 'RESULTS',\n  'text': 'compared with vcv group , pcv-vg group showed a lower ppeak @ minutes and @ minutes after olv -lsb- ( @ @ cmh ( @ ) o ) vs ( @ @ cmh ( @ ) o ) and ( @ @ cmh ( @ ) o ) vs ( @ @ cmh ( @ ) o ) with a higher cdyn at the same point ( @ @ ml/cmh ( @ ) o ) vs ( @ @ ml/cmh ( @ ) o ) and @ @ ml/cmh ( @ ) o ) vs ( @ @ ml/cmh ( @ ) o ) -rsb- ( p < @ ) .',\n  'line_number': 9,\n  'total_lines': 11},\n {'target': 'RESULTS',\n  'text': 'compared with vcv group,il-@ and tnf - of pcv-vg group @ hour after olv and @ hour after the end of surgery were significantly lower ( p < @ ) ( il-@ : @ @ vs @ @ pg/ml and @ @ vs @ @ pg/ml ; tnf - : @ @ vs @ @ pg/ml and @ @ vs. @ @ pg/ml ) .',\n  'line_number': 10,\n  'total_lines': 11},\n {'target': 'CONCLUSIONS',\n  'text': 'during one-lung ventilation in thoracoscopic lobectomy , pcv-vg mode has a competitive advantage over vcv mode in terms of pulmonary function and lung protection .',\n  'line_number': 11,\n  'total_lines': 11},\n {'target': 'OBJECTIVE',\n  'text': 'we compared the recovery profile of propofol and sevoflurane when used for maintenance of anesthesia in elective day care operative procedures .',\n  'line_number': 0,\n  'total_lines': 6},\n {'target': 'METHODS',\n  'text': 'one hundred asa physical status i and ii patients , aged between @ and @ years , were randomly assigned to receive either propofol-nitrous oxide or sevoflurane-nitrous oxide maintenance of anesthesia .',\n  'line_number': 1,\n  'total_lines': 6},\n {'target': 'METHODS',\n  'text': 'early and intermediate recovery in terms of cognitive and ambulatory functions was recorded .',\n  'line_number': 2,\n  'total_lines': 6},\n {'target': 'METHODS',\n  'text': 'psychomotor testing , in the form of trieger dot test and digit symbol substitution test , were performed before surgery and in the post-anesthesia care unit at @ min , @ min , @ h , @ h , and @ h following nitrous oxide switch-off to evaluate intermediate recovery .',\n  'line_number': 3,\n  'total_lines': 6},\n {'target': 'RESULTS',\n  'text': \"there were no significant differences in recovery of early cognitive functions between the two groups , except that patients in the sevoflurane group were more responsive at around @ min following nitrous oxide switch-off and `` recalled address '' earlier than patients in the propofol group .\",\n  'line_number': 4,\n  'total_lines': 6},\n {'target': 'RESULTS',\n  'text': \"there was no significant difference in between the two groups with regard to `` home-readiness . ''\",\n  'line_number': 5,\n  'total_lines': 6},\n {'target': 'CONCLUSIONS',\n  'text': \"recovery from sevoflurane anesthesia , especially with regard to cognitive functions , may be slightly faster than from propofol , but the difference is not sufficiently significant to affect the time to `` home-readiness '' in patients undergoing day care surgery .\",\n  'line_number': 6,\n  'total_lines': 6},\n {'target': 'BACKGROUND',\n  'text': \"vertigo imposes considerable health restrictions with significant impact on the patient 's quality of life .\",\n  'line_number': 0,\n  'total_lines': 9},\n {'target': 'BACKGROUND',\n  'text': 'the most effective antivertigo agent is undetermined thus far .',\n  'line_number': 1,\n  'total_lines': 9},\n {'target': 'OBJECTIVE',\n  'text': 'this study was performed to assess whether promethazine has superior vertigo reduction compared with lorazepam in ed patients .',\n  'line_number': 2,\n  'total_lines': 9},\n {'target': 'METHODS',\n  'text': 'in this randomized , double-blind , parallel group trial @ patients were assigned ( @:@ ratio ) to receive either promethazine , @ mg intravenously , or lorazepam , @ mg intravenously .',\n  'line_number': 3,\n  'total_lines': 9},\n {'target': 'METHODS',\n  'text': 'primary endpoint was mean change in vertigo intensity at @ hours measured using visual analog scale ( vas ) .',\n  'line_number': 4,\n  'total_lines': 9},\n {'target': 'METHODS',\n  'text': 'secondary endpoints were mean change in nausea score , need for second dose of study medications , and adverse events ( aes ) .',\n  'line_number': 5,\n  'total_lines': 9},\n {'target': 'RESULTS',\n  'text': 'promethazine was associated with significantly more reduction ( @ mm ) in vertigo than lorazepam ( @ mm , p < @ ) .',\n  'line_number': 6,\n  'total_lines': 9},\n {'target': 'RESULTS',\n  'text': 'mean change in nausea score @ hours after drug injection on the vas was @ mm for promethazine and @ for lorazepam ( p = @ ) .',\n  'line_number': 7,\n  'total_lines': 9},\n {'target': 'RESULTS',\n  'text': 'the most frequently reported aes were lethargy ( @ % in lorazepam group , @ % in promethazine group , p = @ ) and drowsiness ( @ % for promethazine , @ % for lorazepam , p = @ ) .',\n  'line_number': 8,\n  'total_lines': 9},\n {'target': 'CONCLUSIONS',\n  'text': 'our study demonstrated the evidence that promethazine is superior to lorazepam in management of peripheral vertigo and vertigo-related nausea in ed adults .',\n  'line_number': 9,\n  'total_lines': 9},\n {'target': 'BACKGROUND',\n  'text': 'during lower limb lengthening , distraction-induced muscle pain and surrounding joint contractures are frustrating complications for which few effective treatments are available .',\n  'line_number': 0,\n  'total_lines': 16},\n {'target': 'OBJECTIVE',\n  'text': 'we evaluated botulinum toxin type a ( btx-a ) injection in the calf muscles during human tibial distraction osteogenesis .',\n  'line_number': 1,\n  'total_lines': 16},\n {'target': 'OBJECTIVE',\n  'text': 'we hypothesized that it may decrease calf pain and increase rom of the surrounding joints by reducing muscle stiffness .',\n  'line_number': 2,\n  'total_lines': 16},\n {'target': 'METHODS',\n  'text': 'between april @ and january @ , we evaluated @ patients undergoing bilateral tibia lengthening who met prespecified inclusion criteria .',\n  'line_number': 3,\n  'total_lines': 16},\n {'target': 'METHODS',\n  'text': 'all patients underwent stature lengthening with lengthening over a nail or lengthening and then nailing .',\n  'line_number': 4,\n  'total_lines': 16},\n {'target': 'METHODS',\n  'text': 'btx-a ( @iu ) was injected at the calf muscle only in one leg for each patient and the same amount of sterile normal saline was injected into the other leg as a control .',\n  'line_number': 5,\n  'total_lines': 16},\n {'target': 'METHODS',\n  'text': 'selection of the leg receiving the toxin was randomized .',\n  'line_number': 6,\n  'total_lines': 16},\n {'target': 'METHODS',\n  'text': 'clinical evaluation included a vas score for calf pain and measurement of rom of the knees and ankles and calf circumference , with evaluations performed in a double-blinded manner .',\n  'line_number': 7,\n  'total_lines': 16},\n {'target': 'METHODS',\n  'text': 'side-to-side differences were analyzed until the end of consolidation phase .',\n  'line_number': 8,\n  'total_lines': 16},\n {'target': 'METHODS',\n  'text': 'minimum followup was @months ( mean , @months ; range , @-@months ) .',\n  'line_number': 9,\n  'total_lines': 16},\n {'target': 'METHODS',\n  'text': 'the distraction rate and the final length gain were similar in the treated and control limbs .',\n  'line_number': 10,\n  'total_lines': 16},\n {'target': 'METHODS',\n  'text': 'a priori power analysis suggested that @ legs were required to achieve statistical significance of @ with @ % of power to detect a @ % difference in treatment effect between treatment and control groups .',\n  'line_number': 11,\n  'total_lines': 16},\n {'target': 'RESULTS',\n  'text': 'there were no differences in calf pain , knee and ankle rom , and maximal calf circumferences between the two legs at each time point .',\n  'line_number': 12,\n  'total_lines': 16},\n {'target': 'CONCLUSIONS',\n  'text': 'local injection of @iu btx-a at the human calf muscle does not appear to reduce calf pain or help enhance rom of the knee and ankle during tibial lengthening .',\n  'line_number': 13,\n  'total_lines': 16},\n {'target': 'CONCLUSIONS',\n  'text': 'however , the small sample size provided sufficient power to detect only relatively large clinical effects ; future , larger trials will be needed to determine whether smaller differences are present .',\n  'line_number': 14,\n  'total_lines': 16},\n {'target': 'METHODS',\n  'text': 'level ii , therapeutic study .',\n  'line_number': 15,\n  'total_lines': 16},\n {'target': 'METHODS',\n  'text': 'see instructions for authors for a complete description of levels of evidence .',\n  'line_number': 16,\n  'total_lines': 16},\n {'target': 'OBJECTIVE',\n  'text': 'to assess potential of preoperative therapy with local steroid and non-steroid anti-inflammatory drugs ( saids and nsaids ) for prolonging the hypotensive effect of trabeculectomy .',\n  'line_number': 0,\n  'total_lines': 12},\n {'target': 'METHODS',\n  'text': 'a total of @ patients with primary open-angle glaucoma planed for trabeculectomy were randomized into @ groups of @ each : @ groups that differed in the studied drug ( nepafenac , dexamethasone , or their non-fixed combination ) and a control group with no preoperative therapy .',\n  'line_number': 1,\n  'total_lines': 12},\n {'target': 'METHODS',\n  'text': 'the patients instilled @ drop of either drug b.i.d. for @ weeks before the surgery and were examined each day of the first week and then at weeks @ , @ , @ and months @ , @ , and @ .',\n  'line_number': 2,\n  'total_lines': 12},\n {'target': 'METHODS',\n  'text': 'the rate of postoperative surgical and medical interventions ( needling , needling revision , hypotensive therapy ) was used for outcome evaluation .',\n  'line_number': 3,\n  'total_lines': 12},\n {'target': 'RESULTS',\n  'text': 'postoperative needling was required in @ % of the controls , @ % of the nsaids and @ % of the saids patients as well as @ % the combination-therapy patients .',\n  'line_number': 4,\n  'total_lines': 12},\n {'target': 'RESULTS',\n  'text': 'needling revision had to be performed in @ % of patients from the control group and @ % of patients from the nsaids group .',\n  'line_number': 5,\n  'total_lines': 12},\n {'target': 'RESULTS',\n  'text': 'patients from the steroid and combination-therapy groups had no need in needling procedure .',\n  'line_number': 6,\n  'total_lines': 12},\n {'target': 'RESULTS',\n  'text': 'further hypotensive therapy was required in @ % of the control group , @ % of the nsaids group , @ % of the saids group and @ % of the combination-therapy group .',\n  'line_number': 7,\n  'total_lines': 12},\n {'target': 'RESULTS',\n  'text': 'during the first postoperative year complete success of the treatment was achieved in @ % of the controls , @ % of the nsaids patients , @ % of the saids patients , and @ % of those under combination therapy .',\n  'line_number': 8,\n  'total_lines': 12},\n {'target': 'RESULTS',\n  'text': 'qualified success during the same period was achieved in @ % of cases .',\n  'line_number': 9,\n  'total_lines': 12},\n {'target': 'CONCLUSIONS',\n  'text': 'preoperative local anti-inflammatory therapy helped to increase the one-year complete success rate after trabeculectomy as compared with the controls .',\n  'line_number': 10,\n  'total_lines': 12},\n {'target': 'CONCLUSIONS',\n  'text': 'the most significant hypotensive effect was noted in the combination-therapy group ( @ % ) , less significant -- in the steroid and non-steroid monotherapy groups ( @ % and @ % correspondingly ) .',\n  'line_number': 11,\n  'total_lines': 12},\n {'target': 'CONCLUSIONS',\n  'text': 'a negative correlation was noted between the use of nepafenac and dexamethasone and other measures aimed at increasing the hypotensive effect of glaucoma surgery .',\n  'line_number': 12,\n  'total_lines': 12},\n {'target': 'METHODS',\n  'text': 'case-control study ; ecological study .',\n  'line_number': 0,\n  'total_lines': 12},\n {'target': 'OBJECTIVE',\n  'text': 'to examine the efficacy of wearing compression stockings to prevent muscle damage and to maintain running performance during a marathon competition .',\n  'line_number': 1,\n  'total_lines': 12},\n {'target': 'BACKGROUND',\n  'text': 'exercise-induced muscle damage has been identified as one of the main causes of the progressive decrease in running and muscular performance found during marathon races .',\n  'line_number': 2,\n  'total_lines': 12},\n {'target': 'METHODS',\n  'text': 'thirty-four experienced runners were pair-matched for age , anthropometric data , and best race time in the marathon , and randomly assigned to a control group ( n = @ ) of runners who wore conventional socks or to a group of runners who wore foot-to-knee graduated compression stockings ( n = @ ) .',\n  'line_number': 3,\n  'total_lines': 12},\n {'target': 'METHODS',\n  'text': 'before and after the race , a sample of venous blood was obtained , and jump height and leg muscle power were measured during a countermovement jump .',\n  'line_number': 4,\n  'total_lines': 12},\n {'target': 'METHODS',\n  'text': 'serum myoglobin and creatine kinase concentrations were determined as blood markers of muscle fiber damage .',\n  'line_number': 5,\n  'total_lines': 12},\n {'target': 'RESULTS',\n  'text': 'total race time was not different between the control group and the compression stockings group ( @ @ and @ @ minutes , respectively ; p = @ ) .',\n  'line_number': 6,\n  'total_lines': 12},\n {'target': 'RESULTS',\n  'text': 'between the control group and the compression stockings group , postrace reductions in leg muscle power ( -@ % @ % versus -@ % @ % , respectively ; p = @ ) and jump height ( -@ % @ % versus -@ % .',\n  'line_number': 7,\n  'total_lines': 12},\n {'target': 'RESULTS',\n  'text': '@ % , respectively ; p = @ ) were similar .',\n  'line_number': 8,\n  'total_lines': 12},\n {'target': 'RESULTS',\n  'text': 'at the end of the race , there were no differences between the control group and the compression stockings group in serum myoglobin ( @ @ ngml ( -@ ) versus @ @ ngml ( -@ ) , respectively ; p = @ ) and creatine kinase concentration ( @ @ ul ( -@ ) versus @ @ ul ( -@ ) , respectively ; p = @ ) .',\n  'line_number': 9,\n  'total_lines': 12},\n {'target': 'CONCLUSIONS',\n  'text': 'the use of compression stockings did not improve running pace and did not prevent exercise-induced muscle damage during the marathon .',\n  'line_number': 10,\n  'total_lines': 12},\n {'target': 'CONCLUSIONS',\n  'text': 'wearing compression stockings during long-distance running events is an ineffective strategy to avoid the deleterious effects of muscle damage on running performance .',\n  'line_number': 11,\n  'total_lines': 12},\n {'target': 'METHODS',\n  'text': 'therapy , level @b .',\n  'line_number': 12,\n  'total_lines': 12},\n {'target': 'BACKGROUND',\n  'text': 'the relationships of left ventricular ( lv ) longitudinal and circumferential systolic dysfunction with diastolic performance in hypertensive patients have never been compared .',\n  'line_number': 0,\n  'total_lines': 12},\n {'target': 'RESULTS',\n  'text': \"in @ asymptomatic hypertensive patients , circumferential function was assessed with the use of midwall fractional shortening ( mfs ) and stress-corrected mfs ( scmfs ) , whereas longitudinal function was assessed with the use of left atrioventricular plane displacement ( avpd ) and systolic mitral annulus velocity ( s ' ) .\",\n  'line_number': 1,\n  'total_lines': 12},\n {'target': 'RESULTS',\n  'text': \"early diastolic annular velocity ( e ' ) and the e/e ' ratio were measured .\",\n  'line_number': 2,\n  'total_lines': 12},\n {'target': 'RESULTS',\n  'text': 'global longitudinal and circumferential strain were determined in a subset of @ patients .',\n  'line_number': 3,\n  'total_lines': 12},\n {'target': 'RESULTS',\n  'text': \"e ' was linearly related to all systolic indexes ( avpd : r = @ ; s ' : r = @ ; mfs : r = @ ; scmfs : r = @ ; all p < @ ) , but the correlations were stronger with longitudinal indexes than with circumferential ones ( p < @ ) .\",\n  'line_number': 4,\n  'total_lines': 12},\n {'target': 'RESULTS',\n  'text': \"e/e ' was nonlinearly related to avpd ( r = -@ ; p < @ ) and s ' ( r = -@ ; p < @ ) and showed no relationship with mfs and scmfs .\",\n  'line_number': 5,\n  'total_lines': 12},\n {'target': 'RESULTS',\n  'text': \"longitudinal indexes were superior to circumferential ones in predicting e ' < @ cm/s , e/e ' < @ , and e/e ' @ .\",\n  'line_number': 6,\n  'total_lines': 12},\n {'target': 'RESULTS',\n  'text': 'the effect of lv geometry on lv diastolic function was evident among patients with preserved systolic longitudinal function , but was blunted among patients with impaired longitudinal function .',\n  'line_number': 7,\n  'total_lines': 12},\n {'target': 'RESULTS',\n  'text': \"in multivariable analyses , only longitudinal indexes remained associated with e ' and e/e ' .\",\n  'line_number': 8,\n  'total_lines': 12},\n {'target': 'RESULTS',\n  'text': 'analyses using strains provided similar results .',\n  'line_number': 9,\n  'total_lines': 12},\n {'target': 'CONCLUSIONS',\n  'text': 'in asymptomatic hypertensive subjects , lv diastolic performance is independently associated with longitudinal systolic dysfunction , but not with circumferential systolic dysfunction .',\n  'line_number': 10,\n  'total_lines': 12},\n {'target': 'CONCLUSIONS',\n  'text': 'subtle longitudinal systolic impairment plays a role in mediating the effect of lv geometry on diastolic performance .',\n  'line_number': 11,\n  'total_lines': 12},\n {'target': 'CONCLUSIONS',\n  'text': 'these findings may support the need of critically revising the concept of isolated diastolic dysfunction in these patients .',\n  'line_number': 12,\n  'total_lines': 12},\n {'target': 'BACKGROUND',\n  'text': 'multiple sclerosis ( ms ) is a chronic and disabling disease resulting in disabilities in young and middle-aged persons .',\n  'line_number': 0,\n  'total_lines': 8},\n {'target': 'BACKGROUND',\n  'text': 'in this study , researchers explored the effect of yoga techniques on physical activities and sexual function among some iranian women with ms.',\n  'line_number': 1,\n  'total_lines': 8},\n {'target': 'METHODS',\n  'text': 'in this study , @ iranian women with multiple sclerosis ( ms ) were placed in two equally divided control and case groups through random selection to assess pre-and post-effects of yoga exercises on their physical activities and sexual satisfaction levels .',\n  'line_number': 2,\n  'total_lines': 8},\n {'target': 'METHODS',\n  'text': 'women in case group were offered a series of yoga training and exercises for @ months , which consisted of @ sessions per month for @ to @ minutes at each session .',\n  'line_number': 3,\n  'total_lines': 8},\n {'target': 'METHODS',\n  'text': 'yoga training program included the @ principles of slow motions ( hatayoga ) , respiratory exercises ( pranayama ) and centralization to control mind via meditation , expansion and stasis ( rajayoga ) .',\n  'line_number': 4,\n  'total_lines': 8},\n {'target': 'METHODS',\n  'text': 'after @ months both groups were surveyed using the initial questionnaire to evaluate and compare findings with the base-line data .',\n  'line_number': 5,\n  'total_lines': 8},\n {'target': 'RESULTS',\n  'text': 'researchers found significant statistical difference in physical activity and sexual satisfaction levels among the women in case group ( p = @ ) .',\n  'line_number': 6,\n  'total_lines': 8},\n {'target': 'RESULTS',\n  'text': 'women in case group showed improvement in physical ability while women in control group manifested exacerbated symptoms .',\n  'line_number': 7,\n  'total_lines': 8},\n {'target': 'CONCLUSIONS',\n  'text': 'yoga techniques may improve physical activities and sexual satisfaction function of women with ms.',\n  'line_number': 8,\n  'total_lines': 8},\n {'target': 'OBJECTIVE',\n  'text': 'to evaluate the safety and efficacy of antiplatelet therapy of ticagrelor on patients suffering from acute st segment elevation myocardial infarction undergoing primary percutaneous coronary intervention .',\n  'line_number': 0,\n  'total_lines': 8},\n {'target': 'METHODS',\n  'text': 'in the study , @ patients suffering from acute st segment elevation myocardial infarction onset within @ h undergoing primary percutaneous coronary intervention from may to october in @ were randomly divided into ticagrelor group ( n = @ ) and clopidogrel group ( n = @ ) by using the method of random number table .',\n  'line_number': 1,\n  'total_lines': 8},\n {'target': 'METHODS',\n  'text': 'ticagrelor and clopidogrel antiplatelet treatment were used before and after operation .',\n  'line_number': 2,\n  'total_lines': 8},\n {'target': 'METHODS',\n  'text': 'their baseline data , coronary artery disease characteristics , platelet count , adenosine diphosphate ( adp ) - induced platelet inhibition rate by thrombelastograph after @ days of treatment , the major adverse cardiovascular events of the follow up for @ months and bleeding complications were observed and compared in the two groups .',\n  'line_number': 3,\n  'total_lines': 8},\n {'target': 'RESULTS',\n  'text': 'the differences between the two groups of patients with their baseline data , the features of coronary artery lesions , platelet count before and after @ days of treatment had no statistical significance ( p > @ ) .',\n  'line_number': 4,\n  'total_lines': 8},\n {'target': 'RESULTS',\n  'text': 'adp induced platelet inhibition rate -lsb- ( @ ) % -rsb- after @ days of treatment in ticagrelor group was significantly higher than that in clopidogrel group -lsb- ( @ ) % , p < @ -rsb- .',\n  'line_number': 5,\n  'total_lines': 8},\n {'target': 'RESULTS',\n  'text': 'the two groups of patients were followed up for @ months , @ cases of major adverse cardiovascular events occurred in clopidogrel group , @ cases of major adverse cardiovascular events occurred in ticagrelor group , and there was significant difference between the two groups ( p < @ ) .',\n  'line_number': 6,\n  'total_lines': 8},\n {'target': 'RESULTS',\n  'text': 'the two groups ( @ cases of @ patients in ticagrelor group vs. @ cases of @ patients in clopidogrel group ) had no statistically significant difference in bleeding complications ( p > @ ) .',\n  'line_number': 7,\n  'total_lines': 8},\n {'target': 'CONCLUSIONS',\n  'text': 'antiplatelet therapy of ticagrelor on patients suffering from acute st segment elevation myocardial infarction undergoing emergency pci has good efficacy and safety .',\n  'line_number': 8,\n  'total_lines': 8},\n {'target': 'OBJECTIVE',\n  'text': 'to evaluate the image quality , radiation dose and diagnostic accuracy of @kvp , high-pitch ct pulmonary angiography ( ctpa ) with iterative reconstruction using @ ml of contrast agent .',\n  'line_number': 0,\n  'total_lines': 12},\n {'target': 'METHODS',\n  'text': 'one hundred patients with suspected pulmonary embolism ( pe ) were randomly divided into two groups ( n = @ each ; group a , @ kvp , @ pitch , @ ml of contrast medium and filtered back projection algorithm ; group b , @ kvp , @ pitch , @ ml of contrast medium and sinogram affirmed iterative reconstruction ) .',\n  'line_number': 1,\n  'total_lines': 12},\n {'target': 'METHODS',\n  'text': 'image quality , diagnostic accuracy and radiation dose were evaluated and compared .',\n  'line_number': 2,\n  'total_lines': 12},\n {'target': 'RESULTS',\n  'text': 'mean ct numbers of pulmonary arteries in group b were higher than those in group a ( all p < @ ) .',\n  'line_number': 3,\n  'total_lines': 12},\n {'target': 'RESULTS',\n  'text': 'contrast-to-noise ratio and signal-to-noise ratio of group b were higher than those of group a ( both p < @ ) .',\n  'line_number': 4,\n  'total_lines': 12},\n {'target': 'RESULTS',\n  'text': 'there was no significant difference in subjective image quality scores between two groups ( p = @ ) .',\n  'line_number': 5,\n  'total_lines': 12},\n {'target': 'RESULTS',\n  'text': 'the interobserver agreement was excellent ( k = @ ) .',\n  'line_number': 6,\n  'total_lines': 12},\n {'target': 'RESULTS',\n  'text': 'there was no significant difference in diagnostic accuracy between the two groups ( p > @ ) .',\n  'line_number': 7,\n  'total_lines': 12},\n {'target': 'RESULTS',\n  'text': 'compared with group a , radiation dose of group b was reduced by @ % ( p < @ ) .',\n  'line_number': 8,\n  'total_lines': 12},\n {'target': 'CONCLUSIONS',\n  'text': 'high-pitch ctpa at @ kvp can obtain sufficient image quality in normal-weight individuals with @ ml of contrast agent and half the radiation dose of a conventional ctpa protocol .',\n  'line_number': 9,\n  'total_lines': 12},\n {'target': 'CONCLUSIONS',\n  'text': 'ctpa is feasible at @ kvp using only @ ml of contrast agent .',\n  'line_number': 10,\n  'total_lines': 12},\n {'target': 'CONCLUSIONS',\n  'text': 'high-pitch ctpa at @ kvp has an effective dose under @ msv .',\n  'line_number': 11,\n  'total_lines': 12},\n {'target': 'CONCLUSIONS',\n  'text': 'this ctpa protocol can obtain sufficient image quality in normal-weight individuals .',\n  'line_number': 12,\n  'total_lines': 12},\n {'target': 'BACKGROUND',\n  'text': 'families express a need for guidance in helping their loved ones with anorexia nervosa ( an ) .',\n  'line_number': 0,\n  'total_lines': 11},\n {'target': 'BACKGROUND',\n  'text': 'guided self-help interventions can offer support to caregivers .',\n  'line_number': 1,\n  'total_lines': 11},\n {'target': 'METHODS',\n  'text': 'one hundred seventy-eight adult an patients and their caregivers were recruited from @ uk treatment centres .',\n  'line_number': 2,\n  'total_lines': 11},\n {'target': 'METHODS',\n  'text': \"families were randomized to carers ' assessment , skills and information sharing ( c ) intervention + treatment as usual ( tau ) or tau alone .\",\n  'line_number': 3,\n  'total_lines': 11},\n {'target': 'METHODS',\n  'text': 'feedback forms were sent at @months post-discharge and , if not returned , at @months .',\n  'line_number': 4,\n  'total_lines': 11},\n {'target': 'METHODS',\n  'text': 'one hundred two ( @ % ) patient forms ( n = @tau ; n = @c ) and @ ( @ % ) caregiver forms ( n = @tau ; n = @c ) were returned .',\n  'line_number': 5,\n  'total_lines': 11},\n {'target': 'METHODS',\n  'text': 'two researchers coded data blind , using thematic analysis .',\n  'line_number': 6,\n  'total_lines': 11},\n {'target': 'RESULTS',\n  'text': '( i ) caregivers and patients express a need for post-discharge support .',\n  'line_number': 7,\n  'total_lines': 11},\n {'target': 'RESULTS',\n  'text': '( ii ) patients identify helpful and unhelpful support strategies , useful for developing future interventions .',\n  'line_number': 8,\n  'total_lines': 11},\n {'target': 'RESULTS',\n  'text': '( iii ) patients could identify positive caregiver behaviour changes targeted in intervention .',\n  'line_number': 9,\n  'total_lines': 11},\n {'target': 'RESULTS',\n  'text': '( iv ) guided self-help may benefit caregiver and sufferer , post-discharge .',\n  'line_number': 10,\n  'total_lines': 11},\n {'target': 'CONCLUSIONS',\n  'text': 'caregiver interventions can be a useful tool that will improve the cost effectiveness of inpatient treatment by enhancing the well-being of caregivers and patients .',\n  'line_number': 11,\n  'total_lines': 11},\n {'target': 'BACKGROUND',\n  'text': 'cardiac mortality and electrophysiological dysfunction both increase with age .',\n  'line_number': 0,\n  'total_lines': 8},\n {'target': 'BACKGROUND',\n  'text': 'heart rate variability ( hrv ) provides indices of autonomic function and electrophysiology that are associated with cardiac risk .',\n  'line_number': 1,\n  'total_lines': 8},\n {'target': 'BACKGROUND',\n  'text': 'how habitual physical activity among older adults prospectively relates to hrv , including nonlinear indices of erratic sinus patterns , is not established .',\n  'line_number': 2,\n  'total_lines': 8},\n {'target': 'BACKGROUND',\n  'text': 'we hypothesized that increasing the levels of both total leisure-time activity and walking would be prospectively associated with more favorable time-domain , frequency-domain , and nonlinear hrv measures in older adults .',\n  'line_number': 3,\n  'total_lines': 8},\n {'target': 'RESULTS',\n  'text': 'we evaluated serial longitudinal measures of both physical activity and @-hour holter hrv over @ years among @ older us adults in the community-based cardiovascular health study .',\n  'line_number': 4,\n  'total_lines': 8},\n {'target': 'RESULTS',\n  'text': 'after multivariable adjustment , greater total leisure-time activity , walking distance , and walking pace were each prospectively associated with specific , more favorable hrv indices , including higher @-hour standard deviation of all normal-to-normal intervals ( ptrend = @ , @ , @ , respectively ) and ultralow-frequency power ( ptrend = @ , @ , @ , respectively ) .',\n  'line_number': 5,\n  'total_lines': 8},\n {'target': 'RESULTS',\n  'text': 'greater walking pace was also associated with a higher short-term fractal scaling exponent ( ptrend = @ ) and lower poincar ratio ( ptrend = @ ) , markers of less erratic sinus patterns .',\n  'line_number': 6,\n  'total_lines': 8},\n {'target': 'CONCLUSIONS',\n  'text': 'greater total leisure-time activity , and walking alone , as well , were prospectively associated with more favorable and specific indices of autonomic function in older adults , including several suggestive of more normal circadian fluctuations and less erratic sinoatrial firing .',\n  'line_number': 7,\n  'total_lines': 8},\n {'target': 'CONCLUSIONS',\n  'text': 'our results suggest potential mechanisms that might contribute to lower cardiovascular mortality with habitual physical activity later in life .',\n  'line_number': 8,\n  'total_lines': 8},\n {'target': 'OBJECTIVE',\n  'text': 'our aim was to compare anatomical and functional outcome between vaginal colposuspension and transvaginal mesh .',\n  'line_number': 0,\n  'total_lines': 13},\n {'target': 'METHODS',\n  'text': 'this was a prospective randomized controlled trial in a teaching hospital .',\n  'line_number': 1,\n  'total_lines': 13},\n {'target': 'METHODS',\n  'text': 'sixty-eight women with stage @ anterior vaginal wall prolapse according to the pelvic organ prolapse quantification ( pop-q ) system were assessed , randomized , and analyzed .',\n  'line_number': 2,\n  'total_lines': 13},\n {'target': 'METHODS',\n  'text': 'patients were randomized to anterior colporrhaphy with vaginal colposuspension ( n = @ ) or transvaginal mesh ( n = @ ) .',\n  'line_number': 3,\n  'total_lines': 13},\n {'target': 'METHODS',\n  'text': 'primary outcome was objective cure rate of the anterior vaginal wall , defined as pop-q @ at @years .',\n  'line_number': 4,\n  'total_lines': 13},\n {'target': 'METHODS',\n  'text': 'secondary outcomes were functional results , quality-of-life ( qol ) scores , mesh-related morbidity , and onset of urinary incontinence .',\n  'line_number': 5,\n  'total_lines': 13},\n {'target': 'RESULTS',\n  'text': 'the anatomical result for point ba was significantly better at @years in the mesh group ( -@ cm ) than in the colposuspension group ( -@ cm ) ( p = @ ) .',\n  'line_number': 6,\n  'total_lines': 13},\n {'target': 'RESULTS',\n  'text': 'concerning pop-q stages , the anatomical success rate at @years was @ % for colposuspension and @ % for mesh ( p = @ ) .',\n  'line_number': 7,\n  'total_lines': 13},\n {'target': 'RESULTS',\n  'text': 'there were @ anatomic recurrences ( @ % ) in the colposuspension group .',\n  'line_number': 8,\n  'total_lines': 13},\n {'target': 'RESULTS',\n  'text': 'the erosion rate was @ % ( n = @ ) .',\n  'line_number': 9,\n  'total_lines': 13},\n {'target': 'RESULTS',\n  'text': 'no significant difference was noted regarding minor complications .',\n  'line_number': 10,\n  'total_lines': 13},\n {'target': 'RESULTS',\n  'text': 'analysis of qol questionnaires showed overall improvement in both groups , with no significant difference between them .',\n  'line_number': 11,\n  'total_lines': 13},\n {'target': 'CONCLUSIONS',\n  'text': 'the vaginal colposuspension technique of anterior vaginal wall prolapse repair gave good anatomical and functional results at @years .',\n  'line_number': 12,\n  'total_lines': 13},\n {'target': 'CONCLUSIONS',\n  'text': 'transobturator vaginal mesh gave better @-year anatomical results than vaginal colposuspension , with overall improvement in qol in both groups .',\n  'line_number': 13,\n  'total_lines': 13},\n {'target': 'OBJECTIVE',\n  'text': 'clinical studies evaluating the effects of medications on - cell function in type @ diabetes ( t@dm ) are compromised by an inability to determine the actual baseline degree of - cell dysfunction independent of the reversible dysfunction induced by hyperglycemia ( glucotoxicity ) .',\n  'line_number': 0,\n  'total_lines': 9},\n {'target': 'OBJECTIVE',\n  'text': 'short-term intensive insulin therapy ( iit ) is a strategy for eliminating glucotoxicity before randomization .',\n  'line_number': 1,\n  'total_lines': 9},\n {'target': 'OBJECTIVE',\n  'text': 'this study determined whether liraglutide can preserve - cell function over @ weeks in early t@dm following initial elimination of glucotoxicity with iit .',\n  'line_number': 2,\n  'total_lines': 9},\n {'target': 'METHODS',\n  'text': \"in this double-blind , randomized , placebo-controlled trial , @ patients with t@dm of @ @ years ' duration and an a@c of @ @ % ( @ @ mmol/mol ) completed @ weeks of iit before randomization to daily subcutaneous liraglutide or placebo injection , with serial assessment of - cell function by insulin secretion-sensitivity index-@ ( issi-@ ) on oral glucose tolerance test performed every @ weeks .\",\n  'line_number': 3,\n  'total_lines': 9},\n {'target': 'RESULTS',\n  'text': 'the primary outcome of baseline-adjusted issi-@ at @ weeks was higher in the liraglutide group than in the placebo group ( @ @ vs. @ @ , p = @ ) .',\n  'line_number': 4,\n  'total_lines': 9},\n {'target': 'RESULTS',\n  'text': 'baseline-adjusted hba@c at @ weeks was lower in the liraglutide group ( @ @ % vs. @ @ % , p = @ ) ( @ @ vs. @ @ mmol/mol ) .',\n  'line_number': 5,\n  'total_lines': 9},\n {'target': 'RESULTS',\n  'text': 'at each quarterly assessment , > @ % of participants on liraglutide had an hba@c @ % ( @ mmol/mol ) and glucose tolerance in the nondiabetic range .',\n  'line_number': 6,\n  'total_lines': 9},\n {'target': 'RESULTS',\n  'text': 'despite this level of glycemic control , no difference was found in the incidence of hypoglycemia between the liraglutide and placebo groups ( p = @ ) .',\n  'line_number': 7,\n  'total_lines': 9},\n {'target': 'RESULTS',\n  'text': 'two weeks after stopping treatment , however , the beneficial effect on issi-@ of liraglutide versus placebo was entirely lost ( @ @ vs. @ @ , p = @ ) .',\n  'line_number': 8,\n  'total_lines': 9},\n {'target': 'CONCLUSIONS',\n  'text': 'liraglutide provides robust enhancement of - cell function that is sustained over @ weeks in early t@dm but lost upon cessation of therapy .',\n  'line_number': 9,\n  'total_lines': 9},\n {'target': 'OBJECTIVE',\n  'text': 'to investigate the effectiveness of rectally administered indomethacin in the prophylaxis of post-endoscopic retrograde cholangiopancreatography ( ercp ) pancreatitis and hyperamylasaemia in a multicentre study .',\n  'line_number': 0,\n  'total_lines': 10},\n {'target': 'METHODS',\n  'text': 'a prospective , randomised , placebo-controlled multicentre study in five endoscopic units was conducted on @ patients randomised to receive a suppository containing @ mg indomethacin , or an inert placebo , @-@ min before ercp .',\n  'line_number': 1,\n  'total_lines': 10},\n {'target': 'METHODS',\n  'text': 'post-ercp pancreatitis and hyperamylasaemia were evaluated @ h following the procedure on the basis of clinical signs and laboratory parameters , and computed tomography/magnetic resonance imaging findings if required .',\n  'line_number': 2,\n  'total_lines': 10},\n {'target': 'RESULTS',\n  'text': 'twenty-one patients were excluded because of incompleteness of their data or because of protocol violation .',\n  'line_number': 3,\n  'total_lines': 10},\n {'target': 'RESULTS',\n  'text': 'the results of @ investigations were evaluated : @ in the indomethacin group and @ in the placebo group .',\n  'line_number': 4,\n  'total_lines': 10},\n {'target': 'RESULTS',\n  'text': 'the distributions of the risk factors in the two groups did not differ significantly .',\n  'line_number': 5,\n  'total_lines': 10},\n {'target': 'RESULTS',\n  'text': 'pancreatitis developed in @ patients ( @ % ) : it was mild in @ ( @ % ) and severe in eight ( @ % ) cases .',\n  'line_number': 6,\n  'total_lines': 10},\n {'target': 'RESULTS',\n  'text': 'hyperamylaesemia occurred in @ patients ( @ % ) .',\n  'line_number': 7,\n  'total_lines': 10},\n {'target': 'RESULTS',\n  'text': 'there was no significant difference between the indomethacin and placebo groups in the incidence of either post-ercp pancreatitis ( @ % vs @ % ) or hyperamylasaemia ( @ % vs @ % ) .',\n  'line_number': 8,\n  'total_lines': 10},\n {'target': 'RESULTS',\n  'text': 'similarly , subgroup analysis did not reveal any significant differences between the two groups .',\n  'line_number': 9,\n  'total_lines': 10},\n {'target': 'CONCLUSIONS',\n  'text': '@ mg rectal indomethacin administered before ercp did not prove effective in preventing post-ercp pancreatitis .',\n  'line_number': 10,\n  'total_lines': 10},\n {'target': 'BACKGROUND',\n  'text': 'we sought to determine the incidence of newly diagnosed diabetes in treated elderly hypertensive patients and the prognostic impact of diabetes on long-term survival .',\n  'line_number': 0,\n  'total_lines': 10},\n {'target': 'METHODS',\n  'text': 'the second australian national blood pressure ( anbp@ ) study randomized @,@ hypertensive patients aged @-@ years to angiotensin-converting enzyme inhibitor ( acei ) or thiazide diuretic-based therapy and followed them for a median of @ years .',\n  'line_number': 1,\n  'total_lines': 10},\n {'target': 'METHODS',\n  'text': 'long-term survival was determined in @,@ patients over an additional median of @ years after anbp@ ( post-trial ) .',\n  'line_number': 2,\n  'total_lines': 10},\n {'target': 'RESULTS',\n  'text': 'after anbp@ , the cohort was classified into preexisting ( @ % ) , newly diagnosed ( @ % ) , and no diabetes ( @ % ) groups .',\n  'line_number': 3,\n  'total_lines': 10},\n {'target': 'RESULTS',\n  'text': 'a @ % higher incidence of newly diagnosed diabetes was observed in patients randomized to thiazide diuretic compared with acei-based treatment .',\n  'line_number': 4,\n  'total_lines': 10},\n {'target': 'RESULTS',\n  'text': 'the other predictors of newly diagnosed diabetes were having a higher body mass index , having a higher random blood glucose , and living in a regional location compared to major cities ( a geographical classification based on accessibility ) at study entry .',\n  'line_number': 5,\n  'total_lines': 10},\n {'target': 'RESULTS',\n  'text': 'after completion of anbp@ , compared with those with no diabetes , the preexisting diabetes group experienced higher cardiovascular ( hazards ratio ( hr ) = @ ; @ % confidence interval ( ci ) = @-@ @ ) and all-cause mortality ( hr = @ ; @ % ci = @-@ @ ) when adjusted for age , sex , and treatment .',\n  'line_number': 6,\n  'total_lines': 10},\n {'target': 'RESULTS',\n  'text': 'a similar pattern was observed after including the post-trial period for cardiovascular ( hr = @ ; @ % ci = @-@ @ ) and all-cause mortality ( hr = @ ; @ % ci = @-@ @ ) .',\n  'line_number': 7,\n  'total_lines': 10},\n {'target': 'RESULTS',\n  'text': 'however , when the newly diagnosed group was compared with the no diabetes group , no significant difference was observed in cardiovascular ( hr = @ ; @ % ci = @-@ @ ) or all-cause mortality ( hr = @ ; @ % ci = @-@ @ ) either during the anbp@ trial or including post-trial follow-up ( cardiovascular : hr = @ ; @ % ci = @-@ @ ; all-cause mortality : hr = @ ; @ % ci = @-@ @ ) .',\n  'line_number': 8,\n  'total_lines': 10},\n {'target': 'CONCLUSIONS',\n  'text': 'long-term presence of diabetes reduces survival .',\n  'line_number': 9,\n  'total_lines': 10},\n {'target': 'CONCLUSIONS',\n  'text': 'compared with thiazide diuretics , acei-based antihypertensives may delay the development of diabetes in those at risk and thus potentially improve cardiovascular outcome in the elderly .',\n  'line_number': 10,\n  'total_lines': 10},\n {'target': 'BACKGROUND',\n  'text': 'obesity is associated with a risk of gastroesophageal reflux disease .',\n  'line_number': 0,\n  'total_lines': 12},\n {'target': 'BACKGROUND',\n  'text': 'the pharmacodynamic efficacy of proton pump inhibitors has not been specifically evaluated in obese subjects .',\n  'line_number': 1,\n  'total_lines': 12},\n {'target': 'BACKGROUND',\n  'text': 'the aim of this study was to compare the antisecretory response to a single oral dose of @ mg rabeprazole , @ mg omeprazole and placebo in obese subjects .',\n  'line_number': 2,\n  'total_lines': 12},\n {'target': 'METHODS',\n  'text': 'gastric ph was monitored for @ hours on three separate occasions in eighteen h. pylori-negative , asymptomatic obese subjects .',\n  'line_number': 3,\n  'total_lines': 12},\n {'target': 'METHODS',\n  'text': 'subjects were given omeprazole , rabeprazole or placebo in a randomized order and in a double-blind fashion .',\n  'line_number': 4,\n  'total_lines': 12},\n {'target': 'METHODS',\n  'text': 'the main analysis criterion was @-h percent of time post dose with intragastric ph above @ ; secondary criteria were percentage of time above ph @ , median ph , -lsb- h + -rsb- concentrations and nocturnal acid breakthrough ( nab ) .',\n  'line_number': 5,\n  'total_lines': 12},\n {'target': 'METHODS',\n  'text': 'results were analyzed using linear mixed models and wilks test comparing variances .',\n  'line_number': 6,\n  'total_lines': 12},\n {'target': 'RESULTS',\n  'text': '@-h median -lsb- iq -rsb- percentages of time with gastric ph above @ and @ were higher with rabeprazole than omeprazole ( @ -lsb- @-@ -rsb- vs. @ -lsb- @-@ -rsb- % , @ -lsb- @-@ -rsb- % for placebo ) but the differences did not reach statistical significance ( p = @ and @ , respectively ) .',\n  'line_number': 7,\n  'total_lines': 12},\n {'target': 'RESULTS',\n  'text': 'median acid concentrations were significantly lower with rabeprazole than with omeprazole and placebo ( @ -lsb- @-@ -rsb- vs. @ -lsb- @-@ -rsb- and @ -lsb- @-@ -rsb- mmoles/l , p < @ ) for all periods .',\n  'line_number': 8,\n  'total_lines': 12},\n {'target': 'RESULTS',\n  'text': 'the number of nab was significantly lower with rabeprazole than with omeprazole ( median @ -lsb- @,@ -rsb- vs. @ -lsb- @-@ -rsb- , p = @ ) .',\n  'line_number': 9,\n  'total_lines': 12},\n {'target': 'RESULTS',\n  'text': 'variances of @-h data ( ph above @ and @ , median ph , -lsb- h + -rsb- concentrations ) were significantly lower with rabeprazole than with omeprazole ( p < @ ) .',\n  'line_number': 10,\n  'total_lines': 12},\n {'target': 'CONCLUSIONS',\n  'text': 'in asymptomatic obese subjects the gastric antisecretory response to a single dose of rabeprazole and omeprazole was strong and not significantly different between drugs despite a significantly more homogeneous response with rabeprazole .',\n  'line_number': 11,\n  'total_lines': 12},\n {'target': 'BACKGROUND',\n  'text': 'clinicaltrial.gov : nct@ .',\n  'line_number': 12,\n  'total_lines': 12},\n {'target': 'OBJECTIVE',\n  'text': 'to study the effect of growth hormone ( gh ) treatment on ovarian and uterine morphology and function in short , prepubertal small-for-gestational-age ( sga ) girls .',\n  'line_number': 0,\n  'total_lines': 14},\n {'target': 'METHODS',\n  'text': 'a multinational , randomized controlled trial on safety and efficacy of gh therapy in short , prepubertal children born sga .',\n  'line_number': 1,\n  'total_lines': 14},\n {'target': 'METHODS',\n  'text': 'not applicable .',\n  'line_number': 2,\n  'total_lines': 14},\n {'target': 'METHODS',\n  'text': 'a subgroup of @ danish girls born sga included in north european sga study ( nesgas ) .',\n  'line_number': 3,\n  'total_lines': 14},\n {'target': 'METHODS',\n  'text': 'one year of gh treatment ( @ g/kg/day ) followed by @ years of randomized gh treatment ( @ g/kg/day , @ g/kg/day , or igf-i titrated ) .',\n  'line_number': 4,\n  'total_lines': 14},\n {'target': 'METHODS',\n  'text': 'data on anthropometrics , reproductive hormones , and ultrasonographic examination of the internal genitalia were collected during @ months of gh treatment .',\n  'line_number': 5,\n  'total_lines': 14},\n {'target': 'RESULTS',\n  'text': 'uterine and ovarian volume increased significantly during @ years of treatment ( @ % and @ % , respectively ) but remained low within normal reference ranges .',\n  'line_number': 6,\n  'total_lines': 14},\n {'target': 'RESULTS',\n  'text': 'ovarian follicles became visible in @ % after @ year compared with @ % before gh therapy .',\n  'line_number': 7,\n  'total_lines': 14},\n {'target': 'RESULTS',\n  'text': 'anti-mllerian hormone increased significantly during the @ years of gh therapy but remained within the normal range .',\n  'line_number': 8,\n  'total_lines': 14},\n {'target': 'RESULTS',\n  'text': 'precocious puberty was observed in one girl ; another girl developed multicystic ovaries .',\n  'line_number': 9,\n  'total_lines': 14},\n {'target': 'CONCLUSIONS',\n  'text': 'gh treatment was associated with statistically significant growth of the internal genitalia , but remained within the normal range .',\n  'line_number': 10,\n  'total_lines': 14},\n {'target': 'CONCLUSIONS',\n  'text': 'as altered pubertal development and ovarian morphology were found in @ of @ girls , monitoring of puberty and ovarian function during gh therapy in sga girls is prudent .',\n  'line_number': 11,\n  'total_lines': 14},\n {'target': 'CONCLUSIONS',\n  'text': 'altogether , the findings are reassuring .',\n  'line_number': 12,\n  'total_lines': 14},\n {'target': 'CONCLUSIONS',\n  'text': 'however , long-term effects of gh treatment on adult reproductive function remain unknown .',\n  'line_number': 13,\n  'total_lines': 14},\n {'target': 'BACKGROUND',\n  'text': 'eudract @-@-@ .',\n  'line_number': 14,\n  'total_lines': 14},\n {'target': 'OBJECTIVE',\n  'text': 'to test the hypothesis that a brief , clinic-based , single-session programme will reduce the rate of @ selected condom use errors in a clinical sample of young black men ( ybm ) ages @ through @ years .',\n  'line_number': 0,\n  'total_lines': 10},\n {'target': 'METHODS',\n  'text': 'data were collected in clinics treating patients with sexually transmitted infections ( sti ) in three southern us cities .',\n  'line_number': 1,\n  'total_lines': 10},\n {'target': 'METHODS',\n  'text': 'males @-@years of age who identified as black/african-american , and reported recent ( past @months ) condom use were eligible .',\n  'line_number': 2,\n  'total_lines': 10},\n {'target': 'METHODS',\n  'text': 'only those also reporting condom use in the @months prior to a @-month follow-up assessment ( n = @ ) were included in this secondary analysis of data from a randomised , controlled trial .',\n  'line_number': 3,\n  'total_lines': 10},\n {'target': 'METHODS',\n  'text': 'difference scores were used to capture a grouptime effect .',\n  'line_number': 4,\n  'total_lines': 10},\n {'target': 'RESULTS',\n  'text': 'ybm reported @ condom use events in the @months preceding study enrolment and @ in the @months preceding the follow-up assessment .',\n  'line_number': 5,\n  'total_lines': 10},\n {'target': 'RESULTS',\n  'text': 'mean baseline error rates were @ and @ for young men randomised to the intervention and control conditions , respectively .',\n  'line_number': 6,\n  'total_lines': 10},\n {'target': 'RESULTS',\n  'text': 'follow-up rates were @ and @ for young men randomised to the intervention and control conditions , respectively .',\n  'line_number': 7,\n  'total_lines': 10},\n {'target': 'RESULTS',\n  'text': 'controlled findings yielded a significant effect for the influence of group assignment on the difference score ( baseline to follow-up ) in the condom use error rate ( = @ ; p = @ ) .',\n  'line_number': 8,\n  'total_lines': 10},\n {'target': 'CONCLUSIONS',\n  'text': 'a brief , clinic-based counselling programme produced modest reductions in condom use errors among ybm attending sti clinics in the southern usa intensified clinic-based intervention that helps ybm improve the quality of their condom use behaviours is warranted .',\n  'line_number': 9,\n  'total_lines': 10},\n {'target': 'BACKGROUND',\n  'text': 'nct@ .',\n  'line_number': 10,\n  'total_lines': 10},\n {'target': 'OBJECTIVE',\n  'text': 'to provide evidence for chinese medical treatment of children with eb virus infection by exploring its clinical efficacy from multiple angles .',\n  'line_number': 0,\n  'total_lines': 19},\n {'target': 'METHODS',\n  'text': 'totally @ children patients were randomly assigned to the treatment group ( @ cases ) and the control group ( @ cases ) .',\n  'line_number': 1,\n  'total_lines': 19},\n {'target': 'METHODS',\n  'text': 'patients in the treatment group took chinese medical decoction , while those in the control received intravenous dripping of ganciclovir and oral administration of pidotimod .',\n  'line_number': 2,\n  'total_lines': 19},\n {'target': 'METHODS',\n  'text': 'the treatment period for the two groups was @ weeks .',\n  'line_number': 3,\n  'total_lines': 19},\n {'target': 'METHODS',\n  'text': 'patients were followed-up till the @th week .',\n  'line_number': 4,\n  'total_lines': 19},\n {'target': 'METHODS',\n  'text': 'clinical symptoms such as fever , lymphadenopathy and hepatosplenomegaly , as well as lab indices such as abnormal lymphocyte percentage , eb virus antibody , virus dna load , t cell subsets , immunoglobulin , and so on were observed before and after treatment , at week @ and @ of follow-ups .',\n  'line_number': 5,\n  'total_lines': 19},\n {'target': 'RESULTS',\n  'text': '( @ ) the total effective rate at week @ was @ % in the treatment group , higher than that of the control group ( @ % ) , but there was no statistical difference between the two groups .',\n  'line_number': 6,\n  'total_lines': 19},\n {'target': 'RESULTS',\n  'text': '( @ ) the time for defervescence , duration of pharyngeal hyperemia , duration of swollen tonsils was shorter in the treatment group than in the control group ( p < @ ) .',\n  'line_number': 7,\n  'total_lines': 19},\n {'target': 'RESULTS',\n  'text': 'the subsidence of lymphadenopathy , hepatomegaly , and abnormal lymphocytes was better in the treatment group than in the control group ( p < @ ) .',\n  'line_number': 8,\n  'total_lines': 19},\n {'target': 'RESULTS',\n  'text': '( @ ) the positive cases of peripheral blood hetero-lymphocyte was significantly reduced after treatment , at week @ and @ of follow-ups both in the treatment group and the control group ( p < @ ) .',\n  'line_number': 9,\n  'total_lines': 19},\n {'target': 'RESULTS',\n  'text': 'the expression of iga and igm decreased after treatment in the two groups when compared with before treatment in the same group ( p < @ , p < @ ) .',\n  'line_number': 10,\n  'total_lines': 19},\n {'target': 'RESULTS',\n  'text': 'igg in the treatment group also obviously decreased after treatment , at week @ and @ of follow-ups ( p < @ , p < @ ) , while it decreased only after treatment in the control group ( p < @ ) .',\n  'line_number': 11,\n  'total_lines': 19},\n {'target': 'RESULTS',\n  'text': 'activities of ast and alt in the treatment group and the ast activity in the control group were markedly improved when compared with those before treatment ( p < @ ) .',\n  'line_number': 12,\n  'total_lines': 19},\n {'target': 'RESULTS',\n  'text': 'compared with the control group , the abnormal lymphocyte positive case number obviously decreased in the treatment group after treatment , at week @ and @ of follow-ups ( p < @ ) .',\n  'line_number': 13,\n  'total_lines': 19},\n {'target': 'RESULTS',\n  'text': '( @ ) after treatment , at week @ and @ of follow-ups , cd@ + and cd@ + significantly decreased ; cd@ + , cd@/cd@ , and b cells significantly increased in the two groups , when compared with before treatment ( p < @ ) .',\n  'line_number': 14,\n  'total_lines': 19},\n {'target': 'RESULTS',\n  'text': 'nk cells significantly increased more in the treatment group after treatment , at week @ and @ of follow-ups , higher than before treatment as well as the control group ( p < @ ) .',\n  'line_number': 15,\n  'total_lines': 19},\n {'target': 'RESULTS',\n  'text': '( @ ) eb viral dna and eb viral ca-igm negative conversion case numbers significantly increased in the two groups after treatment , at week @ and @ of follow-ups ( p < @ ) .',\n  'line_number': 16,\n  'total_lines': 19},\n {'target': 'RESULTS',\n  'text': 'compared with the control group , eb viral dna and eb viral ca-igm negative conversion case numbers significantly increased in the treatment group after treatment and at week @ of follow-ups ( p < @ ) .',\n  'line_number': 17,\n  'total_lines': 19},\n {'target': 'CONCLUSIONS',\n  'text': 'treatment of eb virus infection by chinese medical treatment was effective .',\n  'line_number': 18,\n  'total_lines': 19},\n {'target': 'CONCLUSIONS',\n  'text': 'it could promote the recovery of eb viral infection , and reduce the risk of vicious disease after eb viral infection .',\n  'line_number': 19,\n  'total_lines': 19},\n {'target': 'OBJECTIVE',\n  'text': 'the primary objective was to compare the cosmetic outcomes of traumatic trunk and extremity lacerations repaired using absorbable versus nonabsorbable sutures .',\n  'line_number': 0,\n  'total_lines': 15},\n {'target': 'OBJECTIVE',\n  'text': 'the secondary objective was to compare complication rates between the two groups .',\n  'line_number': 1,\n  'total_lines': 15},\n {'target': 'METHODS',\n  'text': 'this was a randomized controlled trial comparing wounds repaired with vicryl rapide and prolene sutures .',\n  'line_number': 2,\n  'total_lines': 15},\n {'target': 'METHODS',\n  'text': 'pediatric and adult patients with lacerations were enrolled in the study .',\n  'line_number': 3,\n  'total_lines': 15},\n {'target': 'METHODS',\n  'text': 'at a @-day follow-up , the wounds were evaluated for infection and dehiscence .',\n  'line_number': 4,\n  'total_lines': 15},\n {'target': 'METHODS',\n  'text': 'after @ months , patients returned to have the wounds photographed .',\n  'line_number': 5,\n  'total_lines': 15},\n {'target': 'METHODS',\n  'text': 'two plastic surgeons blinded to the method of closure rated the cosmetic outcome of each wound using a @-mm visual analog scale ( vas ) .',\n  'line_number': 6,\n  'total_lines': 15},\n {'target': 'METHODS',\n  'text': 'using a noninferiority design , a vas score of @ mm or greater was considered to be a clinically significant difference .',\n  'line_number': 7,\n  'total_lines': 15},\n {'target': 'METHODS',\n  'text': \"we used a student 's t-test to compare differences between mean vas scores and odds ratios ( ors ) to compare differences in complication rates between the two groups .\",\n  'line_number': 8,\n  'total_lines': 15},\n {'target': 'RESULTS',\n  'text': 'of the @ patients enrolled , @ completed the study including @ in the vicryl rapide group and @ in the prolene group .',\n  'line_number': 9,\n  'total_lines': 15},\n {'target': 'RESULTS',\n  'text': 'the mean ( sd ) age of patients who completed the study was @ ( @ ) years , and @ were male .',\n  'line_number': 10,\n  'total_lines': 15},\n {'target': 'RESULTS',\n  'text': 'we found no significant differences in the age , race , sex , length of wound , number of sutures , or layers of repair in the two groups .',\n  'line_number': 11,\n  'total_lines': 15},\n {'target': 'RESULTS',\n  'text': \"the observer 's mean vas for the vicryl rapide group was @ mm ( @ % confidence interval -lsb- ci -rsb- = @ to @ mm ) and for the prolene group was @ mm ( @ % ci = @ to @ mm ) .\",\n  'line_number': 12,\n  'total_lines': 15},\n {'target': 'RESULTS',\n  'text': 'the resulting mean difference was @ mm ( @ % ci = -@ to @ mm ; p = @ ) ; thus noninferiority was established .',\n  'line_number': 13,\n  'total_lines': 15},\n {'target': 'RESULTS',\n  'text': 'statistical testing showed no differences in the rates of complications between the two groups , but a higher percentage of the vicryl rapide wounds developed complications .',\n  'line_number': 14,\n  'total_lines': 15},\n {'target': 'CONCLUSIONS',\n  'text': 'the use of absorbable sutures for the repair of simple lacerations on the trunk and extremities should be considered as an alternative to nonabsorbable suture repair .',\n  'line_number': 15,\n  'total_lines': 15},\n {'target': 'OBJECTIVE',\n  'text': 'aspirin early after intravenous thrombolysis in acute ischemic stroke increases the risk of symptomatic intracranial hemorrhage ( sich ) , without influencing functional outcome at @ months .',\n  'line_number': 0,\n  'total_lines': 7},\n {'target': 'OBJECTIVE',\n  'text': 'the effect of aspirin on early neurological deterioration ( end ) was explored as a post hoc analysis of the randomized antiplatelet therapy in combination with recombinant t-pa thrombolysis in ischemic stroke ( artis ) trial .',\n  'line_number': 1,\n  'total_lines': 7},\n {'target': 'METHODS',\n  'text': 'end , defined as a @ points national institutes of health stroke scale worsening @ hours after intravenous thrombolysis , was categorized into sich ( endsich ) and cerebral ischemia ( endci ) .',\n  'line_number': 2,\n  'total_lines': 7},\n {'target': 'METHODS',\n  'text': 'multinomial logistic regression was used to assess the effect of aspirin on end .',\n  'line_number': 3,\n  'total_lines': 7},\n {'target': 'RESULTS',\n  'text': 'of the @ patients , @ patients ( @ % ) experienced end ( @ endsich , @ endci ) .',\n  'line_number': 4,\n  'total_lines': 7},\n {'target': 'RESULTS',\n  'text': 'aspirin increased the risk of endsich ( odds ratio , @ ; @ % confidence interval , @-@ @ ) but not of endci ( odds ratio , @ ; @ % confidence interval , @-@ @ ) .',\n  'line_number': 5,\n  'total_lines': 7},\n {'target': 'RESULTS',\n  'text': 'after adjustment for other explanatory variables , the association between aspirin and endsich remained significant .',\n  'line_number': 6,\n  'total_lines': 7},\n {'target': 'CONCLUSIONS',\n  'text': 'in this trial , there is no evidence of an early antithrombotic effect from the addition of aspirin to intravenous thrombolysis in acute ischemic stroke .',\n  'line_number': 7,\n  'total_lines': 7},\n {'target': 'OBJECTIVE',\n  'text': 'to compare the relative effectiveness of methotrexate and mycophenolate mofetil for noninfectious intermediate uveitis , posterior uveitis , or panuveitis .',\n  'line_number': 0,\n  'total_lines': 13},\n {'target': 'METHODS',\n  'text': 'multicenter , block-randomized , observer-masked clinical trial .',\n  'line_number': 1,\n  'total_lines': 13},\n {'target': 'METHODS',\n  'text': 'eighty patients with noninfectious intermediate , posterior , or panuveitis requiring corticosteroid-sparing therapy at aravind eye hospitals in madurai and coimbatore , india .',\n  'line_number': 2,\n  'total_lines': 13},\n {'target': 'METHODS',\n  'text': 'patients were randomized to receive @ mg weekly oral methotrexate or @ g twice daily oral mycophenolate mofetil and were monitored monthly for @ months .',\n  'line_number': 3,\n  'total_lines': 13},\n {'target': 'METHODS',\n  'text': 'oral prednisone and topical corticosteroids were tapered .',\n  'line_number': 4,\n  'total_lines': 13},\n {'target': 'METHODS',\n  'text': 'masked examiners assessed the primary outcome of treatment success , defined by achieving the following at @ and @ months : ( @ ) @ + anterior chamber cells , @ + vitreous cells , @ + vitreous haze and no active retinal/choroidal lesions in both eyes , ( @ ) @ mg of prednisone and @ drops of prednisolone acetate @ % a day , and ( @ ) no declaration of treatment failure because of intolerability or safety .',\n  'line_number': 5,\n  'total_lines': 13},\n {'target': 'METHODS',\n  'text': 'additional outcomes included time to sustained corticosteroid-sparing control of inflammation , change in best spectacle-corrected visual acuity , resolution of macular edema , adverse events , subgroup analysis by anatomic location , and medication adherence .',\n  'line_number': 6,\n  'total_lines': 13},\n {'target': 'RESULTS',\n  'text': 'forty-one patients were randomized to methotrexate and @ to mycophenolate mofetil .',\n  'line_number': 7,\n  'total_lines': 13},\n {'target': 'RESULTS',\n  'text': 'a total of @ patients ( @ methotrexate , @ mycophenolate mofetil ) contributed to the primary outcome .',\n  'line_number': 8,\n  'total_lines': 13},\n {'target': 'RESULTS',\n  'text': 'sixty-nine percent of patients achieved treatment success with methotrexate and @ % with mycophenolate mofetil ( p = @ ) .',\n  'line_number': 9,\n  'total_lines': 13},\n {'target': 'RESULTS',\n  'text': 'treatment failure from adverse events or tolerability was not different by treatment arm ( p = @ ) .',\n  'line_number': 10,\n  'total_lines': 13},\n {'target': 'RESULTS',\n  'text': 'there were no differences between treatment groups in time to corticosteroid-sparing control of inflammation ( p = @ ) , change in best spectacle-corrected visual acuity ( p = @ ) , or resolution of macular edema ( p = @ ) .',\n  'line_number': 11,\n  'total_lines': 13},\n {'target': 'CONCLUSIONS',\n  'text': 'there was no statistically significant difference in corticosteroid-sparing control of inflammation between patients receiving methotrexate or mycophenolate mofetil .',\n  'line_number': 12,\n  'total_lines': 13},\n {'target': 'CONCLUSIONS',\n  'text': 'however , there was a @ % difference in treatment success favoring methotrexate .',\n  'line_number': 13,\n  'total_lines': 13},\n {'target': 'BACKGROUND',\n  'text': 'the prevalence of methicillin-resistant staphylococcus aureus ( mrsa ) respiratory infection in cystic fibrosis ( cf ) has increased dramatically over the last decade , and is now affecting approximately @ % of patients .',\n  'line_number': 0,\n  'total_lines': 10},\n {'target': 'BACKGROUND',\n  'text': 'epidemiologic evidence suggests that persistent infection with mrsa results in an increased rate of decline in fev@ and shortened survival .',\n  'line_number': 1,\n  'total_lines': 10},\n {'target': 'BACKGROUND',\n  'text': 'currently , there are no conclusive studies demonstrating an effective and safe treatment protocol for persistent mrsa respiratory infection in cf.',\n  'line_number': 2,\n  'total_lines': 10},\n {'target': 'METHODS',\n  'text': 'the primary objective of this study is to evaluate the safety and efficacy of a @-day course of vancomycin for inhalation in combination with oral antibiotics in eliminating mrsa from the respiratory tract of individuals with cf and persistent mrsa infection .',\n  'line_number': 3,\n  'total_lines': 10},\n {'target': 'METHODS',\n  'text': 'this is a two-center , randomized , double-blind , comparator-controlled , parallel-group study with @:@ assignment to either vancomycin for inhalation ( @mg twice a day ) or taste-matched placebo for @days in individuals with cystic fibrosis .',\n  'line_number': 4,\n  'total_lines': 10},\n {'target': 'METHODS',\n  'text': 'in addition , both groups will receive oral rifampin , a second oral antibiotic - trimethoprim/sulfamethoxazole ( tmp/smx ) or doxycycline , protocol determined - mupirocin intranasal cream , and chlorhexidine body washes .',\n  'line_number': 5,\n  'total_lines': 10},\n {'target': 'METHODS',\n  'text': 'forty patients with persistent respiratory tract mrsa infection will be enrolled : @ will be randomized to vancomycin for inhalation and @ to a taste-matched placebo .',\n  'line_number': 6,\n  'total_lines': 10},\n {'target': 'METHODS',\n  'text': 'the primary outcome will be the presence of mrsa in sputum respiratory tract cultures @month after the conclusion of treatment .',\n  'line_number': 7,\n  'total_lines': 10},\n {'target': 'METHODS',\n  'text': 'secondary outcomes include the efficacy of the intervention on : fev@ % predicted , patient reported outcomes , pulmonary exacerbations , and mrsa colony-forming units found in respiratory tract sample culture .',\n  'line_number': 8,\n  'total_lines': 10},\n {'target': 'CONCLUSIONS',\n  'text': 'results of this study will provide guidance to clinicians regarding the safety and effectiveness of a targeted eradication strategy for persistent mrsa infection in cf.',\n  'line_number': 9,\n  'total_lines': 10},\n {'target': 'BACKGROUND',\n  'text': 'this trial is registered at clinicaltrials.gov ( nct@ , received @/@/@ ) and is funded by the cystic fibrosis foundation ( grants : pmep@k@ and pmep@k@ ) .',\n  'line_number': 10,\n  'total_lines': 10},\n {'target': 'BACKGROUND',\n  'text': 'there is a strong association between weight gain and metabolic events in patients with schizophrenia receiving many of the second-generation antipsychotic agents .',\n  'line_number': 0,\n  'total_lines': 13},\n {'target': 'BACKGROUND',\n  'text': 'we explored the relationship between body mass index ( bmi ) and metabolic events in patients with schizophrenia receiving long-acting injectable paliperidone palmitate ( pp ) in a long-term trial .',\n  'line_number': 1,\n  'total_lines': 13},\n {'target': 'METHODS',\n  'text': 'we conducted a post hoc analysis of data from a pp study that included a @-week open-label transition ( tr ) and maintenance phase ; a variable duration , randomized , double-blind ( db ) , placebo-controlled phase and a @-week open-label extension ( ole ) phase .',\n  'line_number': 2,\n  'total_lines': 13},\n {'target': 'METHODS',\n  'text': 'overall , @ patients received pp continuously from study entry through discontinuation or study completion and were grouped by baseline bmi ( kg/m@ ) : underweight ( bmi < @ ; n = @ , @ % ) , normal-weight ( bmi @ - < @ ; n = @ , @ % ) , overweight ( bmi @ - < @ ; n = @ , @ % ) and obese ( bmi @ ; n = @ , @ % ) .',\n  'line_number': 3,\n  'total_lines': 13},\n {'target': 'METHODS',\n  'text': 'metabolic treatment-emergent adverse events ( teaes ) and changes in related laboratory results from tr baseline were analyzed .',\n  'line_number': 4,\n  'total_lines': 13},\n {'target': 'RESULTS',\n  'text': 'pp exposure was similar across bmi groups ; overall mean ( sd ) dose/month was @ ( @ ) mg eq .',\n  'line_number': 5,\n  'total_lines': 13},\n {'target': 'RESULTS',\n  'text': '-lsb- @ ( @ ) mg -rsb- ; median duration of exposure was @ days ( @ to @ days ) .',\n  'line_number': 6,\n  'total_lines': 13},\n {'target': 'RESULTS',\n  'text': 'occurrences of metabolic teaes overall by group were @ % ( underweight ) , @ % ( normal-weight ) , @ % ( overweight ) , and @ % ( obese ) .',\n  'line_number': 7,\n  'total_lines': 13},\n {'target': 'RESULTS',\n  'text': 'the most common ( @ % ) metabolic teae were weight gain and elevated blood levels of glucose , lipids , and insulin .',\n  'line_number': 8,\n  'total_lines': 13},\n {'target': 'RESULTS',\n  'text': 'mean bmi and weight increased in normal-weight and overweight groups at db endpoint , and in underweight , normal-weight and overweight groups at ole endpoint ( p @ ) .',\n  'line_number': 9,\n  'total_lines': 13},\n {'target': 'RESULTS',\n  'text': 'no consistent trend for increased metabolic-related laboratory values by baseline bmi group was observed .',\n  'line_number': 10,\n  'total_lines': 13},\n {'target': 'RESULTS',\n  'text': 'homeostatic model assessments for insulin resistance indicated preexisting insulin resistance at baseline , with minimal changes at ole endpoint across baseline bmi groups .',\n  'line_number': 11,\n  'total_lines': 13},\n {'target': 'CONCLUSIONS',\n  'text': 'occurrences of metabolic-related teaes trended with greater bmi status in patients with schizophrenia treated with pp ; consistent trends in metabolic-related laboratory values were not observed .',\n  'line_number': 12,\n  'total_lines': 13},\n {'target': 'BACKGROUND',\n  'text': 'this study is registered at clinicaltrials.gov ( nct @ ) .',\n  'line_number': 13,\n  'total_lines': 13},\n {'target': 'BACKGROUND',\n  'text': 'fecal immunochemical tests ( fits ) are recommended to screen average-risk adults for colorectal cancer ( crc ) .',\n  'line_number': 0,\n  'total_lines': 10},\n {'target': 'BACKGROUND',\n  'text': 'little research has examined whether a two-sample fit affects participant uptake , compared with a one-sample fit .',\n  'line_number': 1,\n  'total_lines': 10},\n {'target': 'BACKGROUND',\n  'text': 'examining participant uptake is important , as evidence suggests that a two-sample fit may increase the sensitivity to detect crc .',\n  'line_number': 2,\n  'total_lines': 10},\n {'target': 'OBJECTIVE',\n  'text': 'this study had two objectives : ( i ) to evaluate fit completion in a population that received either a one-sample fit kit ( @-fit ) or a two-sample fit kit ( @-fit ) and ( ii ) to understand whether uptake varies by age , sex , or receipt of prior crc screening .',\n  'line_number': 3,\n  'total_lines': 10},\n {'target': 'METHODS',\n  'text': 'we conducted a randomized controlled trial in which @ participants who were aged between @ and @ years and were at an average risk for crc , and who had requested fits , randomly received @-fit ( n = @ ) or @-fit ( n = @ ) kits .',\n  'line_number': 4,\n  'total_lines': 10},\n {'target': 'METHODS',\n  'text': 'fit completion was defined as the completion and return of a one-sample test by the patients in the @-fit group or of both sample tests by those in the @-fit group .',\n  'line_number': 5,\n  'total_lines': 10},\n {'target': 'METHODS',\n  'text': 'cox proportional hazard regression models were used to determine the independent effect of group type ( @-fit vs. @-fit ) on the completion of the fit , adjusting for age , sex , and receipt of prior crc screening .',\n  'line_number': 6,\n  'total_lines': 10},\n {'target': 'RESULTS',\n  'text': 'the @-fit group had lower test completion rates ( hazard ratio = @ ; @ % confidence interval = @-@ @ ; p = @ ) after adjusting for age , sex , and receipt of prior crc screening .',\n  'line_number': 7,\n  'total_lines': 10},\n {'target': 'RESULTS',\n  'text': 'participant uptake did not vary by age , sex , or receipt of prior crc screening .',\n  'line_number': 8,\n  'total_lines': 10},\n {'target': 'CONCLUSIONS',\n  'text': 'this unique , rigorous randomized controlled trial found that the @-fit regimen decreases completion of fit .',\n  'line_number': 9,\n  'total_lines': 10},\n {'target': 'CONCLUSIONS',\n  'text': 'further research is needed to understand whether decreases in participant uptake are offset by increased gains in test sensitivity .',\n  'line_number': 10,\n  'total_lines': 10},\n {'target': 'OBJECTIVE',\n  'text': 'evaluation of the safety and efficacy of pazopanib , a multikinase angiogenesis inhibitor , in a single-arm , open-label , extension study ( veg@/nct@ ) for placebo-treated patients with advanced renal cell carcinoma ( rcc ) from a randomized , double-blind , placebo-controlled phase iii study ( veg@/nct@ ) .',\n  'line_number': 0,\n  'total_lines': 11},\n {'target': 'METHODS',\n  'text': 'patients received pazopanib @ mg/day .',\n  'line_number': 1,\n  'total_lines': 11},\n {'target': 'METHODS',\n  'text': 'the primary endpoint was the safety and tolerability of pazopanib treatment .',\n  'line_number': 2,\n  'total_lines': 11},\n {'target': 'METHODS',\n  'text': 'secondary endpoints included response rate per response evaluation criteria in solid tumors , progression-free survival ( pfs ) , and overall survival ( os ) .',\n  'line_number': 3,\n  'total_lines': 11},\n {'target': 'RESULTS',\n  'text': 'seventy-nine placebo-treated patients from veg@/nct@ who experienced disease progression and one pazopanib-treated patient ( an exemption ) were enrolled .',\n  'line_number': 4,\n  'total_lines': 11},\n {'target': 'RESULTS',\n  'text': 'forty-one patients ( @ % ) were treatment-naive ; @ ( @ % ) were cytokine-pretreated .',\n  'line_number': 5,\n  'total_lines': 11},\n {'target': 'RESULTS',\n  'text': 'median exposure to pazopanib was @ months .',\n  'line_number': 6,\n  'total_lines': 11},\n {'target': 'RESULTS',\n  'text': 'all patients had discontinued pazopanib at the time of analysis .',\n  'line_number': 7,\n  'total_lines': 11},\n {'target': 'RESULTS',\n  'text': 'the most common reason for discontinuation was disease progression ( @ % ) .',\n  'line_number': 8,\n  'total_lines': 11},\n {'target': 'RESULTS',\n  'text': 'the most common adverse events were hypertension ( @ % ) , diarrhea ( @ % ) , hair color changes ( @ % ) , anorexia ( @ % ) , and nausea ( @ % ) .',\n  'line_number': 9,\n  'total_lines': 11},\n {'target': 'RESULTS',\n  'text': 'the response rate was @ % -lsb- @ % confidence interval ( ci ) : @-@ @ -rsb- ; median pfs was @ months ( @ % ci : @-@ @ ) ; median os was @ months ( @ % ci : @-@ @ ) .',\n  'line_number': 10,\n  'total_lines': 11},\n {'target': 'CONCLUSIONS',\n  'text': 'efficacy and safety profiles for pazopanib in this extension study of patients with rcc previously treated with placebo were very similar to those observed for pazopanib-treated patients in the pivotal phase iii study .',\n  'line_number': 11,\n  'total_lines': 11},\n {'target': 'BACKGROUND',\n  'text': 'an established multivariate serum protein test can be used to classify patients according to whether they are likely to have a good or poor outcome after treatment with egfr tyrosine-kinase inhibitors .',\n  'line_number': 0,\n  'total_lines': 17},\n {'target': 'BACKGROUND',\n  'text': 'we assessed the predictive power of this test in the comparison of erlotinib and chemotherapy in patients with non-small-cell lung cancer .',\n  'line_number': 1,\n  'total_lines': 17},\n {'target': 'METHODS',\n  'text': 'from feb @ , @ , to april @ , @ , patients ( aged @ years ) with histologically or cytologically confirmed , second-line , stage iiib or iv non-small-cell lung cancer were enrolled in @ centres in italy .',\n  'line_number': 2,\n  'total_lines': 17},\n {'target': 'METHODS',\n  'text': 'patients were stratified according to a minimisation algorithm by eastern cooperative oncology group performance status , smoking history , centre , and masked pretreatment serum protein test classification , and randomly assigned centrally in a @:@ ratio to receive erlotinib ( @ mg/day , orally ) or chemotherapy ( pemetrexed @ mg/m ( @ ) , intravenously , every @ days , or docetaxel @ mg/m ( @ ) , intravenously , every @ days ) .',\n  'line_number': 3,\n  'total_lines': 17},\n {'target': 'METHODS',\n  'text': 'the proteomic test classification was masked for patients and investigators who gave treatments , and treatment allocation was masked for investigators who generated the proteomic classification .',\n  'line_number': 4,\n  'total_lines': 17},\n {'target': 'METHODS',\n  'text': 'the primary endpoint was overall survival and the primary hypothesis was the existence of a significant interaction between the serum protein test classification and treatment .',\n  'line_number': 5,\n  'total_lines': 17},\n {'target': 'METHODS',\n  'text': 'analyses were done on the per-protocol population .',\n  'line_number': 6,\n  'total_lines': 17},\n {'target': 'METHODS',\n  'text': 'this trial is registered with clinicaltrials.gov , number nct@ .',\n  'line_number': 7,\n  'total_lines': 17},\n {'target': 'RESULTS',\n  'text': '@ patients were randomly assigned to chemotherapy and @ to erlotinib , and @ ( @ % ) and @ ( @ % ) , respectively , were included in the per-protocol analysis .',\n  'line_number': 8,\n  'total_lines': 17},\n {'target': 'RESULTS',\n  'text': '@ ( @ % ) patients in the chemotherapy group and @ ( @ % ) in the erlotinib group had a proteomic test classification of good .',\n  'line_number': 9,\n  'total_lines': 17},\n {'target': 'RESULTS',\n  'text': 'median overall survival was @ months ( @ % ci @-@ ) in the chemotherapy group and @ months ( @-@ ) in the erlotinib group .',\n  'line_number': 10,\n  'total_lines': 17},\n {'target': 'RESULTS',\n  'text': 'we noted a significant interaction between treatment and proteomic classification ( pinteraction = @ when adjusted for stratification factors ; pinteraction = @ when unadjusted for stratification factors ) .',\n  'line_number': 11,\n  'total_lines': 17},\n {'target': 'RESULTS',\n  'text': 'patients with a proteomic test classification of poor had worse survival on erlotinib than on chemotherapy ( hazard ratio @ -lsb- @ % ci @-@ -rsb- , p = @ ) .',\n  'line_number': 12,\n  'total_lines': 17},\n {'target': 'RESULTS',\n  'text': 'there was no significant difference in overall survival between treatments for patients with a proteomic test classification of good ( adjusted hr @ -lsb- @-@ -rsb- , p = @ ) .',\n  'line_number': 13,\n  'total_lines': 17},\n {'target': 'RESULTS',\n  'text': 'in the group of patients who received chemotherapy , the most common grade @ or @ toxic effect was neutropenia ( @ -lsb- @ % -rsb- vs one -lsb- < @ % -rsb- in the erlotinib group ) , whereas skin toxicity ( one -lsb- < @ % -rsb- vs @ -lsb- @ % -rsb- ) was the most frequent in the erlotinib group .',\n  'line_number': 14,\n  'total_lines': 17},\n {'target': 'CONCLUSIONS',\n  'text': 'our findings indicate that serum protein test status is predictive of differential benefit in overall survival for erlotinib versus chemotherapy in the second-line setting .',\n  'line_number': 15,\n  'total_lines': 17},\n {'target': 'CONCLUSIONS',\n  'text': 'patients classified as likely to have a poor outcome have better outcomes on chemotherapy than on erlotinib .',\n  'line_number': 16,\n  'total_lines': 17},\n {'target': 'BACKGROUND',\n  'text': 'italian ministry of health , italian association of cancer research , and biodesix .',\n  'line_number': 17,\n  'total_lines': 17},\n {'target': 'OBJECTIVE',\n  'text': 'this study was to evaluate the effect of intraoperative continuous infusion of dexmedetomidine on intraocular pressure ( iop ) in patients undergoing robot-assisted laparoscopic radical prostatectomy ( ralrp ) in the steep trendelenburg ( st ) .',\n  'line_number': 0,\n  'total_lines': 8},\n {'target': 'METHODS',\n  'text': 'sixty-eight patients were randomly divided into two groups .',\n  'line_number': 1,\n  'total_lines': 8},\n {'target': 'METHODS',\n  'text': 'the dexmedetomidine group ( group d , n = @ ) received a continuous infusion of dexmedetomidine at a rate of @ g kg ( -@ ) hour ( -@ ) from the induction of anesthesia until the end of the st position , while the control group ( group c , n = @ ) received an equal volume of physiologic saline at the same rate under conventional general anesthesia with sevoflurane and remifentanil .',\n  'line_number': 2,\n  'total_lines': 8},\n {'target': 'METHODS',\n  'text': 'iop was measured at @ predefined time points for all patients .',\n  'line_number': 3,\n  'total_lines': 8},\n {'target': 'RESULTS',\n  'text': 'significant differences in iop were detected between the two groups by a linear mixed model analysis ( p < @ ) .',\n  'line_number': 4,\n  'total_lines': 8},\n {'target': 'RESULTS',\n  'text': 'the highest mean iop was @ mm hg in group d and @ mm hg in group c ; both were measured @ minutes after the patients had been placed in the st position .',\n  'line_number': 5,\n  'total_lines': 8},\n {'target': 'RESULTS',\n  'text': 'no significant between-group differences in ocular perfusion pressure , mean blood pressure , or heart rate were observed between the two groups .',\n  'line_number': 6,\n  'total_lines': 8},\n {'target': 'RESULTS',\n  'text': 'no ocular or other complications were noted .',\n  'line_number': 7,\n  'total_lines': 8},\n {'target': 'CONCLUSIONS',\n  'text': 'intraoperative continuous infusion of dexmedetomidine may help alleviate iop increase in patients undergoing ralrp in the st position .',\n  'line_number': 8,\n  'total_lines': 8},\n {'target': 'OBJECTIVE',\n  'text': 'disruptive or challenging behavior problems pose a threat to children and adolescents with intellectual disabilities and their caregivers .',\n  'line_number': 0,\n  'total_lines': 10},\n {'target': 'OBJECTIVE',\n  'text': 'psychopharmacological treatment is mostly studied with new-generation antipsychotics and has been criticized for adverse side effects .',\n  'line_number': 1,\n  'total_lines': 10},\n {'target': 'OBJECTIVE',\n  'text': 'this study examined the effect of the classic antipsychotic zuclopenthixol .',\n  'line_number': 2,\n  'total_lines': 10},\n {'target': 'METHODS',\n  'text': 'a total of @ boys ( ages @-@ @ years ) with learning disabilities were included and examined for a response to zuclopenthixol during a @ week period of open label treatment .',\n  'line_number': 3,\n  'total_lines': 10},\n {'target': 'METHODS',\n  'text': 'doses started low and were adapted individually .',\n  'line_number': 4,\n  'total_lines': 10},\n {'target': 'METHODS',\n  'text': 'from responders , zuclopenthixol was randomly withdrawn for @ weeks .',\n  'line_number': 5,\n  'total_lines': 10},\n {'target': 'METHODS',\n  'text': 'responses to withdrawal were observed by external raters using the modified overt aggression scale .',\n  'line_number': 6,\n  'total_lines': 10},\n {'target': 'RESULTS',\n  'text': 'of all patients included into the study , @ were not randomized because of insufficient therapeutic effect , adverse event , or noncompliance .',\n  'line_number': 7,\n  'total_lines': 10},\n {'target': 'RESULTS',\n  'text': 'kaplan-meier estimations showed less aggressive behavior problems for the continuing subgroup ( n = @ ) than in the placebo group ( n = @ ) .',\n  'line_number': 8,\n  'total_lines': 10},\n {'target': 'RESULTS',\n  'text': 'individual doses stayed < @mg/day .',\n  'line_number': 9,\n  'total_lines': 10},\n {'target': 'CONCLUSIONS',\n  'text': 'zuclopenthixol proved to be effective in reducing challenging behavior in boys even at low doses .',\n  'line_number': 10,\n  'total_lines': 10},\n {'target': 'OBJECTIVE',\n  'text': 'the purpose of this multicenter , open label , randomized phase iii study was to determine whether ixabepilone resulted in improved overall survival ( os ) compared with commonly used single-agent chemotherapy ( doxorubicin or paclitaxel ) in women with locally advanced , recurrent , or metastatic endometrial cancer with at least one failed prior platinum-based chemotherapeutic regimen .',\n  'line_number': 0,\n  'total_lines': 10},\n {'target': 'METHODS',\n  'text': 'patients were randomized @:@ to ixabepilone ( @mg/m ( @ ) ) , or either paclitaxel ( @mg/m ( @ ) ) or doxorubicin ( @mg/m ( @ ) ) , every @days .',\n  'line_number': 1,\n  'total_lines': 10},\n {'target': 'METHODS',\n  'text': 'patients that had previously received an anthracycline were randomized to ixabepilone or paclitaxel ; all other patients were randomized to ixabepilone or doxorubicin .',\n  'line_number': 2,\n  'total_lines': 10},\n {'target': 'METHODS',\n  'text': 'an interim analysis of futility for os was planned .',\n  'line_number': 3,\n  'total_lines': 10},\n {'target': 'RESULTS',\n  'text': 'at the time of database lock , @ patients were randomized to receive ixabepilone ( n = @ ) or control ( n = @ ) ; nine patients in the control arm were not treated .',\n  'line_number': 4,\n  'total_lines': 10},\n {'target': 'RESULTS',\n  'text': 'the interim analysis of futility for os ( @ events ) favored the control chemotherapy arm ( hazard ratio = @ -lsb- @ % confidence interval : @-@ @ -rsb- , stratified log rank test p = @ ) , indicating that the study would not meet its primary objective .',\n  'line_number': 5,\n  'total_lines': 10},\n {'target': 'RESULTS',\n  'text': 'the study was discontinued based on the interim os results .',\n  'line_number': 6,\n  'total_lines': 10},\n {'target': 'RESULTS',\n  'text': 'the frequency of adverse events was comparable between the treatment arms .',\n  'line_number': 7,\n  'total_lines': 10},\n {'target': 'CONCLUSIONS',\n  'text': 'the study did not meet its primary objective of improving os in the ixabepilone arm compared to the control chemotherapy arm .',\n  'line_number': 8,\n  'total_lines': 10},\n {'target': 'CONCLUSIONS',\n  'text': 'a favorable risk/benefit ratio was not observed for ixabepilone versus control at the time of the interim analysis .',\n  'line_number': 9,\n  'total_lines': 10},\n {'target': 'CONCLUSIONS',\n  'text': 'the safety results were consistent with the known safety profiles of ixabepilone and control .',\n  'line_number': 10,\n  'total_lines': 10},\n {'target': 'OBJECTIVE',\n  'text': 'to determine the impact of calcium and phosphorus on radiological and biochemical characteristics of osteopenia in premature infants .',\n  'line_number': 0,\n  'total_lines': 13},\n {'target': 'METHODS',\n  'text': 'the randomised clinical trial study was conducted at valie-e-asr hospital of zanjan city , iran , from december @ to june @ .',\n  'line_number': 1,\n  'total_lines': 13},\n {'target': 'METHODS',\n  'text': 'it involved monitoring @ premature neonates over a period of six months .',\n  'line_number': 2,\n  'total_lines': 13},\n {'target': 'METHODS',\n  'text': 'the babies , who were fed with breast milk and @ units of vitamin d daily , were randomly divided into two equal groups .',\n  'line_number': 3,\n  'total_lines': 13},\n {'target': 'METHODS',\n  'text': 'one group received supplement of calcium and phosphorus .',\n  'line_number': 4,\n  'total_lines': 13},\n {'target': 'METHODS',\n  'text': 'serum calcium , phosphorus and alkaline phosphatase levels as well as growth parameters ( including weight , height , and head circumference ) were measured every two weeks .',\n  'line_number': 5,\n  'total_lines': 13},\n {'target': 'METHODS',\n  'text': 'at the end of the study , wrist x-ray was done for evaluation of osteopenia .',\n  'line_number': 6,\n  'total_lines': 13},\n {'target': 'METHODS',\n  'text': 'data was analysed using spss @ .',\n  'line_number': 7,\n  'total_lines': 13},\n {'target': 'RESULTS',\n  'text': 'radiological changes , characteristic of osteopenia , were found in @ ( @ % ) cases and @ ( @ % ) controls ( p < @ ) .',\n  'line_number': 8,\n  'total_lines': 13},\n {'target': 'RESULTS',\n  'text': 'the mean of weight , length and head circumference increased significantly from second to sixth week during follow-up ( p < @ ) .',\n  'line_number': 9,\n  'total_lines': 13},\n {'target': 'RESULTS',\n  'text': 'phosphorus and alkaline phosphatase activity decreased significantly from second to sixth week of follow-up ( p < @ , p < @ respectively ) .',\n  'line_number': 10,\n  'total_lines': 13},\n {'target': 'RESULTS',\n  'text': 'however , repeated measurement analyses did not show significant effect of intervention in biochemical and growth parameters in the trial group .',\n  'line_number': 11,\n  'total_lines': 13},\n {'target': 'CONCLUSIONS',\n  'text': \"the study did n't show significant effect of calcium and phosphorus on prevention of osteopenia and improvement of growth .\",\n  'line_number': 12,\n  'total_lines': 13},\n {'target': 'CONCLUSIONS',\n  'text': 'further studies of longer duration and with different doses of supplement are recommended .',\n  'line_number': 13,\n  'total_lines': 13},\n {'target': 'OBJECTIVE',\n  'text': 'the purpose of this study was to test the efficacy of a @-month course of anti-inflammatory treatment with colchicinein improving functional status of patients with stable chronic heart failure ( chf ) .',\n  'line_number': 0,\n  'total_lines': 9},\n {'target': 'BACKGROUND',\n  'text': 'chf has been shown to be associated with inflammatory activation .',\n  'line_number': 1,\n  'total_lines': 9},\n {'target': 'BACKGROUND',\n  'text': 'inflammation has been designated as a therapeutic target in chf .',\n  'line_number': 2,\n  'total_lines': 9},\n {'target': 'METHODS',\n  'text': 'patients with stable chf were randomly assigned to colchicine ( @ mg twice daily ) or placebo for @ months .',\n  'line_number': 3,\n  'total_lines': 9},\n {'target': 'METHODS',\n  'text': 'theprimary endpoint was the proportion of patients achieving at least one-grade improvement in new york heartassociation class .',\n  'line_number': 4,\n  'total_lines': 9},\n {'target': 'RESULTS',\n  'text': 'two hundred sixty-seven patients were available for final evaluation of the primary endpoint : its rate was @ % in the control group and @ % in the colchicine group ( odds ratio : @ ; @ % confidence interval : @ to @ ; p = @ ) .',\n  'line_number': 5,\n  'total_lines': 9},\n {'target': 'RESULTS',\n  'text': 'the rate of the composite of death or hospital stay for heart failure was @ % in the control group , compared with @ % in the colchicine group ( p = @ ) .',\n  'line_number': 6,\n  'total_lines': 9},\n {'target': 'RESULTS',\n  'text': 'the changes in treadmill exercise time with treatment were insignificant and similar in the @ groups ( p = @ ) .',\n  'line_number': 7,\n  'total_lines': 9},\n {'target': 'RESULTS',\n  'text': 'c-reactive protein and interleukin-@ were both significantly reduced in the colchicine group ( -@ mg/l and -@ pg/ml , respectively ; p < @ for both , compared with the control group ) .',\n  'line_number': 8,\n  'total_lines': 9},\n {'target': 'CONCLUSIONS',\n  'text': 'according to this prospective , randomized study , anti-inflammatory treatment with colchicine in patients with stable chf , although effective in reducing inflammation biomarker levels , did not affect in any significant way patient functional status ( in terms of new york heart association class and objective treadmill exercise tolerance ) or the likelihood of death or hospital stay for heart failure .',\n  'line_number': 9,\n  'total_lines': 9},\n {'target': 'OBJECTIVE',\n  'text': 'to examine the comparative antidepressant efficacy of s-adenosyl-l-methionine ( same ) and escitalopram in a placebo-controlled , randomized , double-blind clinical trial .',\n  'line_number': 0,\n  'total_lines': 13},\n {'target': 'METHODS',\n  'text': 'one hundred eighty-nine outpatients ( @ % female , mean -lsb- sd -rsb- age = @ -lsb- @ -rsb- years ) with dsm-iv-diagnosed major depressive disorder ( mdd ) were recruited from april @ , @ , to december @ , @ , at the massachusetts general hospital and at butler hospital .',\n  'line_number': 1,\n  'total_lines': 13},\n {'target': 'METHODS',\n  'text': 'patients were randomized for @ weeks to same @,@-@ ,@ mg/d , escitalopram @-@ mg/d , or placebo .',\n  'line_number': 2,\n  'total_lines': 13},\n {'target': 'METHODS',\n  'text': 'doses were escalated at @ weeks in the event of nonresponse .',\n  'line_number': 3,\n  'total_lines': 13},\n {'target': 'METHODS',\n  'text': 'the main outcome measure was the @-item hamilton depression rating scale ( hdrs-@ ) .',\n  'line_number': 4,\n  'total_lines': 13},\n {'target': 'METHODS',\n  'text': 'tolerability was assessed by the systematic assessment for treatment of emergent events-specific inquiry ( saftee-si ) .',\n  'line_number': 5,\n  'total_lines': 13},\n ...]"
     },
     "execution_count": 52,
     "metadata": {},
     "output_type": "execute_result"
    }
   ],
   "source": [
    "train_samples"
   ]
  },
  {
   "cell_type": "code",
   "execution_count": 53,
   "id": "ac0dc278-5995-4cfa-b8e8-868ea00869d9",
   "metadata": {
    "tags": [],
    "ExecuteTime": {
     "end_time": "2024-03-20T06:40:37.603983100Z",
     "start_time": "2024-03-20T06:40:37.402510100Z"
    }
   },
   "outputs": [
    {
     "data": {
      "text/plain": "         target                                               text  \\\n0     OBJECTIVE  to investigate the efficacy of @ weeks of dail...   \n1       METHODS  a total of @ patients with primary knee oa wer...   \n2       METHODS  outcome measures included pain reduction and i...   \n3       METHODS  pain was assessed using the visual analog pain...   \n4       METHODS  secondary outcome measures included the wester...   \n5       METHODS  serum levels of interleukin @ ( il-@ ) , il-@ ...   \n6       RESULTS  there was a clinically relevant reduction in t...   \n7       RESULTS  the mean difference between treatment arms ( @...   \n8       RESULTS  further , there was a clinically relevant redu...   \n9       RESULTS  these differences remained significant at @ we...   \n10      RESULTS  the outcome measures in rheumatology clinical ...   \n11  CONCLUSIONS  low-dose oral prednisolone had both a short-te...   \n12   BACKGROUND  emotional eating is associated with overeating...   \n13   BACKGROUND  yet , empirical evidence for individual ( trai...   \n14    OBJECTIVE  the aim of this study was to test if attention...   \n\n    line_number  total_lines  \n0             0           11  \n1             1           11  \n2             2           11  \n3             3           11  \n4             4           11  \n5             5           11  \n6             6           11  \n7             7           11  \n8             8           11  \n9             9           11  \n10           10           11  \n11           11           11  \n12            0           10  \n13            1           10  \n14            2           10  ",
      "text/html": "<div>\n<style scoped>\n    .dataframe tbody tr th:only-of-type {\n        vertical-align: middle;\n    }\n\n    .dataframe tbody tr th {\n        vertical-align: top;\n    }\n\n    .dataframe thead th {\n        text-align: right;\n    }\n</style>\n<table border=\"1\" class=\"dataframe\">\n  <thead>\n    <tr style=\"text-align: right;\">\n      <th></th>\n      <th>target</th>\n      <th>text</th>\n      <th>line_number</th>\n      <th>total_lines</th>\n    </tr>\n  </thead>\n  <tbody>\n    <tr>\n      <th>0</th>\n      <td>OBJECTIVE</td>\n      <td>to investigate the efficacy of @ weeks of dail...</td>\n      <td>0</td>\n      <td>11</td>\n    </tr>\n    <tr>\n      <th>1</th>\n      <td>METHODS</td>\n      <td>a total of @ patients with primary knee oa wer...</td>\n      <td>1</td>\n      <td>11</td>\n    </tr>\n    <tr>\n      <th>2</th>\n      <td>METHODS</td>\n      <td>outcome measures included pain reduction and i...</td>\n      <td>2</td>\n      <td>11</td>\n    </tr>\n    <tr>\n      <th>3</th>\n      <td>METHODS</td>\n      <td>pain was assessed using the visual analog pain...</td>\n      <td>3</td>\n      <td>11</td>\n    </tr>\n    <tr>\n      <th>4</th>\n      <td>METHODS</td>\n      <td>secondary outcome measures included the wester...</td>\n      <td>4</td>\n      <td>11</td>\n    </tr>\n    <tr>\n      <th>5</th>\n      <td>METHODS</td>\n      <td>serum levels of interleukin @ ( il-@ ) , il-@ ...</td>\n      <td>5</td>\n      <td>11</td>\n    </tr>\n    <tr>\n      <th>6</th>\n      <td>RESULTS</td>\n      <td>there was a clinically relevant reduction in t...</td>\n      <td>6</td>\n      <td>11</td>\n    </tr>\n    <tr>\n      <th>7</th>\n      <td>RESULTS</td>\n      <td>the mean difference between treatment arms ( @...</td>\n      <td>7</td>\n      <td>11</td>\n    </tr>\n    <tr>\n      <th>8</th>\n      <td>RESULTS</td>\n      <td>further , there was a clinically relevant redu...</td>\n      <td>8</td>\n      <td>11</td>\n    </tr>\n    <tr>\n      <th>9</th>\n      <td>RESULTS</td>\n      <td>these differences remained significant at @ we...</td>\n      <td>9</td>\n      <td>11</td>\n    </tr>\n    <tr>\n      <th>10</th>\n      <td>RESULTS</td>\n      <td>the outcome measures in rheumatology clinical ...</td>\n      <td>10</td>\n      <td>11</td>\n    </tr>\n    <tr>\n      <th>11</th>\n      <td>CONCLUSIONS</td>\n      <td>low-dose oral prednisolone had both a short-te...</td>\n      <td>11</td>\n      <td>11</td>\n    </tr>\n    <tr>\n      <th>12</th>\n      <td>BACKGROUND</td>\n      <td>emotional eating is associated with overeating...</td>\n      <td>0</td>\n      <td>10</td>\n    </tr>\n    <tr>\n      <th>13</th>\n      <td>BACKGROUND</td>\n      <td>yet , empirical evidence for individual ( trai...</td>\n      <td>1</td>\n      <td>10</td>\n    </tr>\n    <tr>\n      <th>14</th>\n      <td>OBJECTIVE</td>\n      <td>the aim of this study was to test if attention...</td>\n      <td>2</td>\n      <td>10</td>\n    </tr>\n  </tbody>\n</table>\n</div>"
     },
     "execution_count": 53,
     "metadata": {},
     "output_type": "execute_result"
    }
   ],
   "source": [
    "#007 Performing visual data analysis on our preprocessed text\n",
    "import pandas as pd\n",
    "train_df = pd.DataFrame(train_samples)\n",
    "val_df = pd.DataFrame(val_samples)\n",
    "test_df = pd.DataFrame(test_samples)\n",
    "train_df.head(15)\n"
   ]
  },
  {
   "cell_type": "code",
   "execution_count": 54,
   "id": "176b5f4d-a14d-4d27-9dd8-4042f01a687c",
   "metadata": {
    "tags": [],
    "ExecuteTime": {
     "end_time": "2024-03-20T06:40:37.665010200Z",
     "start_time": "2024-03-20T06:40:37.603983100Z"
    }
   },
   "outputs": [
    {
     "data": {
      "text/plain": "target\nMETHODS        59353\nRESULTS        57953\nCONCLUSIONS    27168\nBACKGROUND     21727\nOBJECTIVE      13839\nName: count, dtype: int64"
     },
     "execution_count": 54,
     "metadata": {},
     "output_type": "execute_result"
    }
   ],
   "source": [
    "train_df.target.value_counts()"
   ]
  },
  {
   "cell_type": "code",
   "execution_count": 55,
   "id": "d3748306-da5c-4fc7-86ca-76074949815e",
   "metadata": {
    "tags": [],
    "ExecuteTime": {
     "end_time": "2024-03-20T06:40:37.790879200Z",
     "start_time": "2024-03-20T06:40:37.633696Z"
    }
   },
   "outputs": [
    {
     "data": {
      "text/plain": "<Axes: ylabel='Frequency'>"
     },
     "execution_count": 55,
     "metadata": {},
     "output_type": "execute_result"
    },
    {
     "data": {
      "text/plain": "<Figure size 640x480 with 1 Axes>",
      "image/png": "[encoded data removed]"
     },
     "metadata": {},
     "output_type": "display_data"
    }
   ],
   "source": [
    "train_df.total_lines.plot.hist()"
   ]
  },
  {
   "cell_type": "code",
   "execution_count": 56,
   "id": "39caf310-3cb5-46a5-a2ce-3c4bf5d70b47",
   "metadata": {
    "tags": [],
    "ExecuteTime": {
     "end_time": "2024-03-20T06:40:37.838955800Z",
     "start_time": "2024-03-20T06:40:37.778373200Z"
    }
   },
   "outputs": [
    {
     "data": {
      "text/plain": "(180040, 30212, 30135)"
     },
     "execution_count": 56,
     "metadata": {},
     "output_type": "execute_result"
    }
   ],
   "source": [
    "train_sentences = train_df[\"text\"].tolist()\n",
    "val_sentences = val_df[\"text\"].tolist()\n",
    "test_sentences = test_df[\"text\"].tolist()\n",
    "len(train_sentences),len(val_sentences),len(test_sentences)"
   ]
  },
  {
   "cell_type": "code",
   "execution_count": 57,
   "id": "c4afc3ec-f9f3-4a02-b393-a53b92096597",
   "metadata": {
    "tags": [],
    "ExecuteTime": {
     "end_time": "2024-03-20T06:40:37.842656800Z",
     "start_time": "2024-03-20T06:40:37.812464500Z"
    }
   },
   "outputs": [
    {
     "data": {
      "text/plain": "['to investigate the efficacy of @ weeks of daily low-dose oral prednisolone in improving pain , mobility , and systemic low-grade inflammation in the short term and whether the effect would be sustained at @ weeks in older adults with moderate to severe knee osteoarthritis ( oa ) .',\n 'a total of @ patients with primary knee oa were randomized @:@ ; @ received @ mg/day of prednisolone and @ received placebo for @ weeks .',\n 'outcome measures included pain reduction and improvement in function scores and systemic inflammation markers .',\n 'pain was assessed using the visual analog pain scale ( @-@ mm ) .',\n 'secondary outcome measures included the western ontario and mcmaster universities osteoarthritis index scores , patient global assessment ( pga ) of the severity of knee oa , and @-min walk distance ( @mwd ) .',\n 'serum levels of interleukin @ ( il-@ ) , il-@ , tumor necrosis factor ( tnf ) - , and high-sensitivity c-reactive protein ( hscrp ) were measured .',\n 'there was a clinically relevant reduction in the intervention group compared to the placebo group for knee pain , physical function , pga , and @mwd at @ weeks .',\n 'the mean difference between treatment arms ( @ % ci ) was @ ( @-@ @ ) , p < @ ; @ ( @-@ @ ) , p < @ ; @ ( @-@ @ ) , p < @ ; and @ ( @-@ @ ) , p < @ , respectively .',\n 'further , there was a clinically relevant reduction in the serum levels of il-@ , il-@ , tnf - , and hscrp at @ weeks in the intervention group when compared to the placebo group .',\n 'these differences remained significant at @ weeks .']"
     },
     "execution_count": 57,
     "metadata": {},
     "output_type": "execute_result"
    }
   ],
   "source": [
    "train_sentences[:10]"
   ]
  },
  {
   "cell_type": "code",
   "execution_count": 58,
   "id": "73690351-db48-47d6-8821-64654f87fe74",
   "metadata": {
    "tags": [],
    "ExecuteTime": {
     "end_time": "2024-03-20T06:40:37.920090700Z",
     "start_time": "2024-03-20T06:40:37.823799600Z"
    }
   },
   "outputs": [
    {
     "name": "stderr",
     "output_type": "stream",
     "text": [
      "C:\\Users\\vivek\\anaconda3\\envs\\tensorFlowEnv\\lib\\site-packages\\sklearn\\preprocessing\\_encoders.py:972: FutureWarning: `sparse` was renamed to `sparse_output` in version 1.2 and will be removed in 1.4. `sparse_output` is ignored unless you leave `sparse` to its default value.\n",
      "  warnings.warn(\n"
     ]
    },
    {
     "data": {
      "text/plain": "array([[1., 0., 0., 0., 0.],\n       [0., 0., 0., 0., 1.],\n       [0., 0., 0., 0., 1.],\n       ...,\n       [0., 0., 0., 0., 1.],\n       [0., 0., 0., 0., 1.],\n       [0., 1., 0., 0., 0.]])"
     },
     "execution_count": 58,
     "metadata": {},
     "output_type": "execute_result"
    }
   ],
   "source": [
    "#008 Turning our target labels into numbers (ML models require numbers)\n",
    "from sklearn.preprocessing import OneHotEncoder\n",
    "one_hot_encoder = OneHotEncoder(sparse = False)\n",
    "train_labels_one_hot = one_hot_encoder.fit_transform(train_df[\"target\"].to_numpy().reshape(-1,1))\n",
    "val_labels_one_hot = one_hot_encoder.transform(val_df[\"target\"].to_numpy().reshape(-1,1))\n",
    "test_labels_one_hot = one_hot_encoder.transform(test_df[\"target\"].to_numpy().reshape(-1,1))\n",
    "test_labels_one_hot"
   ]
  },
  {
   "cell_type": "code",
   "execution_count": 59,
   "id": "b74f1fd2-17c2-4f3d-966f-1f8df4389289",
   "metadata": {
    "tags": [],
    "ExecuteTime": {
     "end_time": "2024-03-20T06:40:37.940279300Z",
     "start_time": "2024-03-20T06:40:37.886287100Z"
    }
   },
   "outputs": [
    {
     "data": {
      "text/plain": "180040"
     },
     "execution_count": 59,
     "metadata": {},
     "output_type": "execute_result"
    }
   ],
   "source": [
    "from sklearn.preprocessing import LabelEncoder\n",
    "label_encoder = LabelEncoder()\n",
    "train_labels_encoded = label_encoder.fit_transform(train_df[\"target\"].to_numpy())\n",
    "val_labels_encoded = label_encoder.transform(val_df[\"target\"].to_numpy())\n",
    "test_labels_encoded = label_encoder.transform(test_df[\"target\"].to_numpy())\n",
    "\n",
    "len(train_labels_encoded)"
   ]
  },
  {
   "cell_type": "code",
   "execution_count": 60,
   "id": "e89e9261-c715-4831-aa7f-8770385bdb92",
   "metadata": {
    "tags": [],
    "ExecuteTime": {
     "end_time": "2024-03-20T06:40:38.010077100Z",
     "start_time": "2024-03-20T06:40:37.935576900Z"
    }
   },
   "outputs": [
    {
     "data": {
      "text/plain": "(5,\n array(['BACKGROUND', 'CONCLUSIONS', 'METHODS', 'OBJECTIVE', 'RESULTS'],\n       dtype=object))"
     },
     "execution_count": 60,
     "metadata": {},
     "output_type": "execute_result"
    }
   ],
   "source": [
    "num_classes = len(label_encoder.classes_)\n",
    "class_names = label_encoder.classes_\n",
    "num_classes,class_names"
   ]
  },
  {
   "cell_type": "code",
   "execution_count": 61,
   "id": "7eb1aaf6-9625-494a-96f5-40bea68d82b9",
   "metadata": {
    "ExecuteTime": {
     "end_time": "2024-03-20T06:40:40.938274300Z",
     "start_time": "2024-03-20T06:40:37.950283200Z"
    }
   },
   "outputs": [
    {
     "data": {
      "text/plain": "Pipeline(steps=[('tf-idf', TfidfVectorizer()), ('clf', MultinomialNB())])",
      "text/html": "<style>#sk-container-id-2 {color: black;}#sk-container-id-2 pre{padding: 0;}#sk-container-id-2 div.sk-toggleable {background-color: white;}#sk-container-id-2 label.sk-toggleable__label {cursor: pointer;display: block;width: 100%;margin-bottom: 0;padding: 0.3em;box-sizing: border-box;text-align: center;}#sk-container-id-2 label.sk-toggleable__label-arrow:before {content: \"▸\";float: left;margin-right: 0.25em;color: #696969;}#sk-container-id-2 label.sk-toggleable__label-arrow:hover:before {color: black;}#sk-container-id-2 div.sk-estimator:hover label.sk-toggleable__label-arrow:before {color: black;}#sk-container-id-2 div.sk-toggleable__content {max-height: 0;max-width: 0;overflow: hidden;text-align: left;background-color: #f0f8ff;}#sk-container-id-2 div.sk-toggleable__content pre {margin: 0.2em;color: black;border-radius: 0.25em;background-color: #f0f8ff;}#sk-container-id-2 input.sk-toggleable__control:checked~div.sk-toggleable__content {max-height: 200px;max-width: 100%;overflow: auto;}#sk-container-id-2 input.sk-toggleable__control:checked~label.sk-toggleable__label-arrow:before {content: \"▾\";}#sk-container-id-2 div.sk-estimator input.sk-toggleable__control:checked~label.sk-toggleable__label {background-color: #d4ebff;}#sk-container-id-2 div.sk-label input.sk-toggleable__control:checked~label.sk-toggleable__label {background-color: #d4ebff;}#sk-container-id-2 input.sk-hidden--visually {border: 0;clip: rect(1px 1px 1px 1px);clip: rect(1px, 1px, 1px, 1px);height: 1px;margin: -1px;overflow: hidden;padding: 0;position: absolute;width: 1px;}#sk-container-id-2 div.sk-estimator {font-family: monospace;background-color: #f0f8ff;border: 1px dotted black;border-radius: 0.25em;box-sizing: border-box;margin-bottom: 0.5em;}#sk-container-id-2 div.sk-estimator:hover {background-color: #d4ebff;}#sk-container-id-2 div.sk-parallel-item::after {content: \"\";width: 100%;border-bottom: 1px solid gray;flex-grow: 1;}#sk-container-id-2 div.sk-label:hover label.sk-toggleable__label {background-color: #d4ebff;}#sk-container-id-2 div.sk-serial::before {content: \"\";position: absolute;border-left: 1px solid gray;box-sizing: border-box;top: 0;bottom: 0;left: 50%;z-index: 0;}#sk-container-id-2 div.sk-serial {display: flex;flex-direction: column;align-items: center;background-color: white;padding-right: 0.2em;padding-left: 0.2em;position: relative;}#sk-container-id-2 div.sk-item {position: relative;z-index: 1;}#sk-container-id-2 div.sk-parallel {display: flex;align-items: stretch;justify-content: center;background-color: white;position: relative;}#sk-container-id-2 div.sk-item::before, #sk-container-id-2 div.sk-parallel-item::before {content: \"\";position: absolute;border-left: 1px solid gray;box-sizing: border-box;top: 0;bottom: 0;left: 50%;z-index: -1;}#sk-container-id-2 div.sk-parallel-item {display: flex;flex-direction: column;z-index: 1;position: relative;background-color: white;}#sk-container-id-2 div.sk-parallel-item:first-child::after {align-self: flex-end;width: 50%;}#sk-container-id-2 div.sk-parallel-item:last-child::after {align-self: flex-start;width: 50%;}#sk-container-id-2 div.sk-parallel-item:only-child::after {width: 0;}#sk-container-id-2 div.sk-dashed-wrapped {border: 1px dashed gray;margin: 0 0.4em 0.5em 0.4em;box-sizing: border-box;padding-bottom: 0.4em;background-color: white;}#sk-container-id-2 div.sk-label label {font-family: monospace;font-weight: bold;display: inline-block;line-height: 1.2em;}#sk-container-id-2 div.sk-label-container {text-align: center;}#sk-container-id-2 div.sk-container {/* jupyter's `normalize.less` sets `[hidden] { display: none; }` but bootstrap.min.css set `[hidden] { display: none !important; }` so we also need the `!important` here to be able to override the default hidden behavior on the sphinx rendered scikit-learn.org. See: https://github.com/scikit-learn/scikit-learn/issues/21755 */display: inline-block !important;position: relative;}#sk-container-id-2 div.sk-text-repr-fallback {display: none;}</style><div id=\"sk-container-id-2\" class=\"sk-top-container\"><div class=\"sk-text-repr-fallback\"><pre>Pipeline(steps=[(&#x27;tf-idf&#x27;, TfidfVectorizer()), (&#x27;clf&#x27;, MultinomialNB())])</pre><b>In a Jupyter environment, please rerun this cell to show the HTML representation or trust the notebook. <br />On GitHub, the HTML representation is unable to render, please try loading this page with nbviewer.org.</b></div><div class=\"sk-container\" hidden><div class=\"sk-item sk-dashed-wrapped\"><div class=\"sk-label-container\"><div class=\"sk-label sk-toggleable\"><input class=\"sk-toggleable__control sk-hidden--visually\" id=\"sk-estimator-id-4\" type=\"checkbox\" ><label for=\"sk-estimator-id-4\" class=\"sk-toggleable__label sk-toggleable__label-arrow\">Pipeline</label><div class=\"sk-toggleable__content\"><pre>Pipeline(steps=[(&#x27;tf-idf&#x27;, TfidfVectorizer()), (&#x27;clf&#x27;, MultinomialNB())])</pre></div></div></div><div class=\"sk-serial\"><div class=\"sk-item\"><div class=\"sk-estimator sk-toggleable\"><input class=\"sk-toggleable__control sk-hidden--visually\" id=\"sk-estimator-id-5\" type=\"checkbox\" ><label for=\"sk-estimator-id-5\" class=\"sk-toggleable__label sk-toggleable__label-arrow\">TfidfVectorizer</label><div class=\"sk-toggleable__content\"><pre>TfidfVectorizer()</pre></div></div></div><div class=\"sk-item\"><div class=\"sk-estimator sk-toggleable\"><input class=\"sk-toggleable__control sk-hidden--visually\" id=\"sk-estimator-id-6\" type=\"checkbox\" ><label for=\"sk-estimator-id-6\" class=\"sk-toggleable__label sk-toggleable__label-arrow\">MultinomialNB</label><div class=\"sk-toggleable__content\"><pre>MultinomialNB()</pre></div></div></div></div></div></div></div>"
     },
     "execution_count": 61,
     "metadata": {},
     "output_type": "execute_result"
    }
   ],
   "source": [
    "#009 Model 0 Creating, fitting and evaluating a baseline model for SkimLit\n",
    "#Starting a series of modelling experiments\n",
    "from sklearn.feature_extraction.text import TfidfVectorizer\n",
    "from sklearn.naive_bayes import MultinomialNB\n",
    "from sklearn.pipeline import Pipeline\n",
    "model_0 = Pipeline([\n",
    "    (\"tf-idf\",TfidfVectorizer()),\n",
    "    (\"clf\",MultinomialNB())\n",
    "])\n",
    "\n",
    "model_0.fit(X=train_sentences,y=train_labels_encoded)"
   ]
  },
  {
   "cell_type": "code",
   "execution_count": 62,
   "id": "4a012318",
   "metadata": {
    "collapsed": false,
    "jupyter": {
     "outputs_hidden": false
    },
    "ExecuteTime": {
     "end_time": "2024-03-20T06:40:41.379530500Z",
     "start_time": "2024-03-20T06:40:40.928687400Z"
    }
   },
   "outputs": [
    {
     "data": {
      "text/plain": "0.7218323844829869"
     },
     "execution_count": 62,
     "metadata": {},
     "output_type": "execute_result"
    }
   ],
   "source": [
    "model_0.score(X = val_sentences,\n",
    "              y=val_labels_encoded)"
   ]
  },
  {
   "cell_type": "code",
   "execution_count": 63,
   "id": "0251ba7a",
   "metadata": {
    "collapsed": false,
    "jupyter": {
     "outputs_hidden": false
    },
    "ExecuteTime": {
     "end_time": "2024-03-20T06:40:41.818180900Z",
     "start_time": "2024-03-20T06:40:41.382846800Z"
    }
   },
   "outputs": [
    {
     "data": {
      "text/plain": "array([4, 1, 3, ..., 4, 4, 1])"
     },
     "execution_count": 63,
     "metadata": {},
     "output_type": "execute_result"
    }
   ],
   "source": [
    "baseline_preds = model_0.predict(val_sentences)\n",
    "baseline_preds"
   ]
  },
  {
   "cell_type": "code",
   "execution_count": 64,
   "id": "782ae134",
   "metadata": {
    "collapsed": false,
    "jupyter": {
     "outputs_hidden": false
    },
    "ExecuteTime": {
     "end_time": "2024-03-20T06:40:41.834491900Z",
     "start_time": "2024-03-20T06:40:41.815275800Z"
    }
   },
   "outputs": [
    {
     "data": {
      "text/plain": "{'accuracy': 72.1832384482987,\n 'precision': 0.7186466952323352,\n 'recall': 0.7218323844829869,\n 'f1': 0.6989250353450294}"
     },
     "execution_count": 64,
     "metadata": {},
     "output_type": "execute_result"
    }
   ],
   "source": [
    "from helper_functions import calculate_results\n",
    "baseline_results = calculate_results(y_true=val_labels_encoded,\n",
    "                                     y_pred=baseline_preds)\n",
    "baseline_results"
   ]
  },
  {
   "cell_type": "code",
   "execution_count": 65,
   "id": "2c6bebb8",
   "metadata": {
    "collapsed": false,
    "jupyter": {
     "outputs_hidden": false
    },
    "ExecuteTime": {
     "end_time": "2024-03-20T06:40:42.057933800Z",
     "start_time": "2024-03-20T06:40:41.831115400Z"
    }
   },
   "outputs": [
    {
     "data": {
      "text/plain": "26.338269273494777"
     },
     "execution_count": 65,
     "metadata": {},
     "output_type": "execute_result"
    }
   ],
   "source": [
    "#010 Preparing our data for deep sequence models\n",
    "import numpy as np\n",
    "import tensorflow as tf\n",
    "from tensorflow.keras import layers\n",
    "\n",
    "#How long each sentence is on average?\n",
    "sent_lens = [len(sentence.split()) for sentence in train_sentences]\n",
    "avg_sent_len = np.mean(sent_lens)\n",
    "avg_sent_len"
   ]
  },
  {
   "cell_type": "code",
   "execution_count": 66,
   "id": "984aeecb",
   "metadata": {
    "collapsed": false,
    "jupyter": {
     "outputs_hidden": false
    },
    "ExecuteTime": {
     "end_time": "2024-03-20T06:40:42.535665200Z",
     "start_time": "2024-03-20T06:40:42.051543100Z"
    }
   },
   "outputs": [
    {
     "data": {
      "text/plain": "(array([4.2075e+04, 8.3771e+04, 3.6877e+04, 1.0945e+04, 3.9310e+03,\n        1.4450e+03, 5.6000e+02, 2.2600e+02, 1.0100e+02, 4.5000e+01,\n        2.0000e+01, 1.2000e+01, 9.0000e+00, 1.0000e+01, 6.0000e+00,\n        2.0000e+00, 3.0000e+00, 0.0000e+00, 1.0000e+00, 1.0000e+00]),\n array([  1.  ,  15.75,  30.5 ,  45.25,  60.  ,  74.75,  89.5 , 104.25,\n        119.  , 133.75, 148.5 , 163.25, 178.  , 192.75, 207.5 , 222.25,\n        237.  , 251.75, 266.5 , 281.25, 296.  ]),\n <BarContainer object of 20 artists>)"
     },
     "execution_count": 66,
     "metadata": {},
     "output_type": "execute_result"
    },
    {
     "data": {
      "text/plain": "<Figure size 640x480 with 1 Axes>",
      "image/png": "[encoded data removed]"
     },
     "metadata": {},
     "output_type": "display_data"
    }
   ],
   "source": [
    "#Distribution\n",
    "import matplotlib.pyplot as plt\n",
    "plt.hist(sent_lens,bins=20)"
   ]
  },
  {
   "cell_type": "code",
   "execution_count": 67,
   "id": "cb674cf7",
   "metadata": {
    "collapsed": false,
    "jupyter": {
     "outputs_hidden": false
    },
    "ExecuteTime": {
     "end_time": "2024-03-20T06:40:42.599657400Z",
     "start_time": "2024-03-20T06:40:42.535665200Z"
    }
   },
   "outputs": [
    {
     "data": {
      "text/plain": "55"
     },
     "execution_count": 67,
     "metadata": {},
     "output_type": "execute_result"
    }
   ],
   "source": [
    "output_seq_len = int(np.percentile(sent_lens,95))\n",
    "output_seq_len"
   ]
  },
  {
   "cell_type": "code",
   "execution_count": 68,
   "id": "6b85c1a4",
   "metadata": {
    "collapsed": false,
    "jupyter": {
     "outputs_hidden": false
    },
    "ExecuteTime": {
     "end_time": "2024-03-20T06:40:49.831968Z",
     "start_time": "2024-03-20T06:40:42.552678500Z"
    }
   },
   "outputs": [],
   "source": [
    "#011 Creating a text vectoriser to map our tokens (text) to numbers\n",
    "max_tokens = 68000\n",
    "from tensorflow.keras.layers.experimental.preprocessing import TextVectorization\n",
    "text_vectorizer = TextVectorization(max_tokens=max_tokens,\n",
    "                                    output_sequence_length = output_seq_len)\n",
    "text_vectorizer.adapt(train_sentences)"
   ]
  },
  {
   "cell_type": "code",
   "execution_count": 69,
   "id": "c8c96767",
   "metadata": {
    "collapsed": false,
    "jupyter": {
     "outputs_hidden": false
    },
    "ExecuteTime": {
     "end_time": "2024-03-20T06:40:49.845473100Z",
     "start_time": "2024-03-20T06:40:49.831968Z"
    }
   },
   "outputs": [
    {
     "name": "stdout",
     "output_type": "stream",
     "text": [
      "Text:\n",
      "the average age was @ years and most were male ( @/@ , @ % ) and white ( @/@ , @ % ) .\n",
      "\n",
      "Length of text: 25\n",
      "\n",
      "Vectorized text: [[   2  405  103   10   64    3  215    9  564    3 1115    0    0    0\n",
      "     0    0    0    0    0    0    0    0    0    0    0    0    0    0\n",
      "     0    0    0    0    0    0    0    0    0    0    0    0    0    0\n",
      "     0    0    0    0    0    0    0    0    0    0    0    0    0]]\n"
     ]
    }
   ],
   "source": [
    "import random\n",
    "target_sentence = random.choice(train_sentences)\n",
    "print(f\"Text:\\n{target_sentence}\")\n",
    "print(f\"\\nLength of text: {len(target_sentence.split())}\")\n",
    "print(f\"\\nVectorized text: {text_vectorizer([target_sentence])}\")"
   ]
  },
  {
   "cell_type": "code",
   "execution_count": 70,
   "id": "d672db16",
   "metadata": {
    "collapsed": false,
    "jupyter": {
     "outputs_hidden": false
    },
    "ExecuteTime": {
     "end_time": "2024-03-20T06:40:49.998021300Z",
     "start_time": "2024-03-20T06:40:49.845473100Z"
    }
   },
   "outputs": [
    {
     "name": "stdout",
     "output_type": "stream",
     "text": [
      "Number of words in vocab: 64841\n",
      "Most common words in the vocab: ['', '[UNK]', 'the', 'and', 'of']\n",
      "Least common words in the vocab: ['aainduced', 'aaigroup', 'aachener', 'aachen', 'aaacp']\n"
     ]
    }
   ],
   "source": [
    "rct_20k_text_vocab = text_vectorizer.get_vocabulary()\n",
    "print(f\"Number of words in vocab: {len(rct_20k_text_vocab)}\")\n",
    "print(f\"Most common words in the vocab: {rct_20k_text_vocab[:5]}\")\n",
    "print(f\"Least common words in the vocab: {rct_20k_text_vocab[-5:]}\")"
   ]
  },
  {
   "cell_type": "code",
   "execution_count": 71,
   "id": "dd631ebe",
   "metadata": {
    "collapsed": false,
    "jupyter": {
     "outputs_hidden": false
    },
    "ExecuteTime": {
     "end_time": "2024-03-20T06:40:50.005591200Z",
     "start_time": "2024-03-20T06:40:49.990952900Z"
    }
   },
   "outputs": [
    {
     "data": {
      "text/plain": "{'name': 'text_vectorization_1',\n 'trainable': True,\n 'batch_input_shape': (None,),\n 'dtype': 'string',\n 'max_tokens': 68000,\n 'standardize': 'lower_and_strip_punctuation',\n 'split': 'whitespace',\n 'ngrams': None,\n 'output_mode': 'int',\n 'output_sequence_length': 55,\n 'pad_to_max_tokens': False,\n 'sparse': False,\n 'ragged': False,\n 'vocabulary': None,\n 'idf_weights': None}"
     },
     "execution_count": 71,
     "metadata": {},
     "output_type": "execute_result"
    }
   ],
   "source": [
    "text_vectorizer.get_config()"
   ]
  },
  {
   "cell_type": "code",
   "execution_count": 72,
   "id": "df65dc23",
   "metadata": {
    "collapsed": false,
    "jupyter": {
     "outputs_hidden": false
    },
    "ExecuteTime": {
     "end_time": "2024-03-20T06:40:50.067258800Z",
     "start_time": "2024-03-20T06:40:50.005591200Z"
    }
   },
   "outputs": [],
   "source": [
    "#012 Creating a custom token embedding layer with TensorFlow\n",
    "token_embed = layers.Embedding(input_dim = len(rct_20k_text_vocab),\n",
    "                               output_dim = 128,\n",
    "                               mask_zero=True,\n",
    "                               name= \"token_embedding\")"
   ]
  },
  {
   "cell_type": "code",
   "execution_count": 73,
   "id": "a2145f07",
   "metadata": {
    "collapsed": false,
    "jupyter": {
     "outputs_hidden": false
    },
    "ExecuteTime": {
     "end_time": "2024-03-20T06:40:50.074616200Z",
     "start_time": "2024-03-20T06:40:50.023347600Z"
    }
   },
   "outputs": [
    {
     "data": {
      "text/plain": "<tf.Tensor: shape=(1, 55, 128), dtype=float32, numpy=\narray([[[-0.02284544, -0.00606073,  0.03727405, ...,  0.03923101,\n          0.02990457,  0.03815868],\n        [ 0.01182193,  0.04775507,  0.00064077, ...,  0.00072734,\n         -0.03559057, -0.03264104],\n        [-0.03359872, -0.03989742, -0.00807871, ...,  0.03282547,\n          0.02156555, -0.04890881],\n        ...,\n        [-0.02745329,  0.03353072,  0.02036579, ...,  0.03064563,\n          0.04382603, -0.02422937],\n        [-0.02745329,  0.03353072,  0.02036579, ...,  0.03064563,\n          0.04382603, -0.02422937],\n        [-0.02745329,  0.03353072,  0.02036579, ...,  0.03064563,\n          0.04382603, -0.02422937]]], dtype=float32)>"
     },
     "execution_count": 73,
     "metadata": {},
     "output_type": "execute_result"
    }
   ],
   "source": [
    "embedded_sentence=token_embed(text_vectorizer([target_sentence]))\n",
    "embedded_sentence"
   ]
  },
  {
   "cell_type": "code",
   "execution_count": 74,
   "id": "70ada985",
   "metadata": {
    "collapsed": false,
    "jupyter": {
     "outputs_hidden": false
    },
    "ExecuteTime": {
     "end_time": "2024-03-20T06:40:50.584329700Z",
     "start_time": "2024-03-20T06:40:50.071086300Z"
    }
   },
   "outputs": [
    {
     "data": {
      "text/plain": "<TensorSliceDataset element_spec=(TensorSpec(shape=(), dtype=tf.string, name=None), TensorSpec(shape=(5,), dtype=tf.float64, name=None))>"
     },
     "execution_count": 74,
     "metadata": {},
     "output_type": "execute_result"
    }
   ],
   "source": [
    "#013 Creating fast loading dataset with the TensorFlow tf.data API\n",
    "train_dataset = tf.data.Dataset.from_tensor_slices((train_sentences,train_labels_one_hot))\n",
    "valid_dataset = tf.data.Dataset.from_tensor_slices((val_sentences,val_labels_one_hot))\n",
    "test_dataset = tf.data.Dataset.from_tensor_slices((test_sentences,test_labels_one_hot))\n",
    "train_dataset"
   ]
  },
  {
   "cell_type": "code",
   "execution_count": 75,
   "id": "3e6dde2f",
   "metadata": {
    "collapsed": false,
    "jupyter": {
     "outputs_hidden": false
    },
    "ExecuteTime": {
     "end_time": "2024-03-20T06:40:50.647477100Z",
     "start_time": "2024-03-20T06:40:50.584329700Z"
    }
   },
   "outputs": [
    {
     "data": {
      "text/plain": "(180040, 5)"
     },
     "execution_count": 75,
     "metadata": {},
     "output_type": "execute_result"
    }
   ],
   "source": [
    "train_labels_one_hot.shape"
   ]
  },
  {
   "cell_type": "code",
   "execution_count": 76,
   "id": "e05a093d",
   "metadata": {
    "collapsed": false,
    "jupyter": {
     "outputs_hidden": false
    },
    "ExecuteTime": {
     "end_time": "2024-03-20T06:40:50.653159800Z",
     "start_time": "2024-03-20T06:40:50.600139700Z"
    }
   },
   "outputs": [
    {
     "data": {
      "text/plain": "<PrefetchDataset element_spec=(TensorSpec(shape=(None,), dtype=tf.string, name=None), TensorSpec(shape=(None, 5), dtype=tf.float64, name=None))>"
     },
     "execution_count": 76,
     "metadata": {},
     "output_type": "execute_result"
    }
   ],
   "source": [
    "train_dataset = train_dataset.batch(32).prefetch(tf.data.AUTOTUNE)\n",
    "valid_dataset = valid_dataset.batch(32).prefetch(tf.data.AUTOTUNE)\n",
    "test_dataset = test_dataset.batch(32).prefetch(tf.data.AUTOTUNE)\n",
    "\n",
    "test_dataset"
   ]
  },
  {
   "cell_type": "code",
   "execution_count": 77,
   "id": "744d28fc",
   "metadata": {
    "collapsed": false,
    "jupyter": {
     "outputs_hidden": false
    },
    "ExecuteTime": {
     "end_time": "2024-03-20T06:40:50.653159800Z",
     "start_time": "2024-03-20T06:40:50.615924500Z"
    }
   },
   "outputs": [
    {
     "data": {
      "text/plain": "<PrefetchDataset element_spec=(TensorSpec(shape=(None,), dtype=tf.string, name=None), TensorSpec(shape=(None, 5), dtype=tf.float64, name=None))>"
     },
     "execution_count": 77,
     "metadata": {},
     "output_type": "execute_result"
    }
   ],
   "source": [
    "#014 Model 1 Building, fitting and evaluating a Conv1D with token embeddings\n",
    "train_dataset"
   ]
  },
  {
   "cell_type": "code",
   "execution_count": 78,
   "id": "0464b1a2",
   "metadata": {
    "collapsed": false,
    "jupyter": {
     "outputs_hidden": false
    },
    "ExecuteTime": {
     "end_time": "2024-03-20T06:40:50.741712500Z",
     "start_time": "2024-03-20T06:40:50.647477100Z"
    }
   },
   "outputs": [],
   "source": [
    "#014 Model 1 Building, fitting and evaluating a Conv1D with token embeddings\n",
    "inputs = layers.Input(shape = (1,),dtype=tf.string)\n",
    "text_vectors = text_vectorizer(inputs)\n",
    "token_embeddings = token_embed(text_vectors)\n",
    "x = layers.Conv1D(64,kernel_size = 5,padding=\"same\",activation=\"relu\")(token_embeddings)\n",
    "x = layers.GlobalAveragePooling1D()(x)\n",
    "outputs = layers.Dense(num_classes,activation=\"softmax\")(x)\n",
    "model_1 = tf.keras.Model(inputs,outputs)\n",
    "\n",
    "#categorical_crossentropy =  when one hot encoded else sparsecategoricalcrossentropy when integers\n",
    "\n",
    "model_1.compile(loss=\"categorical_crossentropy\",\n",
    "                optimizer=tf.keras.optimizers.Adam(),\n",
    "                metrics = [\"accuracy\"])\n"
   ]
  },
  {
   "cell_type": "code",
   "execution_count": 79,
   "id": "3988efcc",
   "metadata": {
    "collapsed": false,
    "jupyter": {
     "outputs_hidden": false
    },
    "ExecuteTime": {
     "end_time": "2024-03-20T06:41:07.178324400Z",
     "start_time": "2024-03-20T06:40:50.714613100Z"
    }
   },
   "outputs": [
    {
     "name": "stdout",
     "output_type": "stream",
     "text": [
      "Epoch 1/3\n",
      "562/562 [==============================] - 6s 10ms/step - loss: 0.9097 - accuracy: 0.6421 - val_loss: 0.6862 - val_accuracy: 0.7387\n",
      "Epoch 2/3\n",
      "562/562 [==============================] - 5s 9ms/step - loss: 0.6585 - accuracy: 0.7562 - val_loss: 0.6322 - val_accuracy: 0.7729\n",
      "Epoch 3/3\n",
      "562/562 [==============================] - 5s 9ms/step - loss: 0.6186 - accuracy: 0.7749 - val_loss: 0.5961 - val_accuracy: 0.7852\n"
     ]
    }
   ],
   "source": [
    "\n",
    "history_model_1 = model_1.fit(train_dataset,\n",
    "                              steps_per_epoch=int(0.1*len(train_dataset)),\n",
    "                              epochs=3,\n",
    "                              validation_data=valid_dataset,\n",
    "                              validation_steps=int(0.1*len(valid_dataset)))"
   ]
  },
  {
   "cell_type": "code",
   "execution_count": 80,
   "id": "4a807b2e",
   "metadata": {
    "collapsed": false,
    "jupyter": {
     "outputs_hidden": false
    },
    "ExecuteTime": {
     "end_time": "2024-03-20T06:41:09.490565200Z",
     "start_time": "2024-03-20T06:41:07.181204400Z"
    }
   },
   "outputs": [
    {
     "name": "stdout",
     "output_type": "stream",
     "text": [
      "945/945 [==============================] - 2s 2ms/step - loss: 0.5974 - accuracy: 0.7857\n"
     ]
    },
    {
     "data": {
      "text/plain": "[0.5974007248878479, 0.7857474088668823]"
     },
     "execution_count": 80,
     "metadata": {},
     "output_type": "execute_result"
    }
   ],
   "source": [
    "#Evaluate on whole validation dataset\n",
    "model_1.evaluate(valid_dataset)"
   ]
  },
  {
   "cell_type": "code",
   "execution_count": 81,
   "id": "3bfd8608",
   "metadata": {
    "collapsed": false,
    "jupyter": {
     "outputs_hidden": false
    },
    "ExecuteTime": {
     "end_time": "2024-03-20T06:41:11.419559300Z",
     "start_time": "2024-03-20T06:41:09.459691900Z"
    }
   },
   "outputs": [
    {
     "name": "stdout",
     "output_type": "stream",
     "text": [
      "945/945 [==============================] - 2s 2ms/step\n"
     ]
    },
    {
     "data": {
      "text/plain": "(array([[4.0017742e-01, 2.2246841e-01, 7.8079320e-02, 2.6461491e-01,\n         3.4660015e-02],\n        [4.0263668e-01, 3.0869627e-01, 1.2695052e-02, 2.6628518e-01,\n         9.6869003e-03],\n        [1.5644908e-01, 7.6103741e-03, 1.9391477e-03, 8.3393002e-01,\n         7.1334704e-05],\n        ...,\n        [4.9571640e-06, 1.0648256e-03, 7.8447879e-04, 2.5808486e-06,\n         9.9814320e-01],\n        [5.6427810e-02, 4.8175937e-01, 8.5053056e-02, 8.1888668e-02,\n         2.9487100e-01],\n        [1.9794959e-01, 6.6222537e-01, 5.2566975e-02, 4.5506451e-02,\n         4.1751582e-02]], dtype=float32),\n (30212, 5))"
     },
     "execution_count": 81,
     "metadata": {},
     "output_type": "execute_result"
    }
   ],
   "source": [
    "model_1_pred_probs = model_1.predict(valid_dataset)\n",
    "model_1_pred_probs,model_1_pred_probs.shape"
   ]
  },
  {
   "cell_type": "code",
   "execution_count": 82,
   "id": "d6193e11",
   "metadata": {
    "collapsed": false,
    "jupyter": {
     "outputs_hidden": false
    },
    "ExecuteTime": {
     "end_time": "2024-03-20T06:41:11.483196900Z",
     "start_time": "2024-03-20T06:41:11.421726600Z"
    }
   },
   "outputs": [
    {
     "data": {
      "text/plain": "<tf.Tensor: shape=(30212,), dtype=int64, numpy=array([0, 0, 3, ..., 4, 1, 1], dtype=int64)>"
     },
     "execution_count": 82,
     "metadata": {},
     "output_type": "execute_result"
    }
   ],
   "source": [
    "model_1_preds = tf.argmax(model_1_pred_probs,axis=1)\n",
    "model_1_preds"
   ]
  },
  {
   "cell_type": "code",
   "execution_count": 83,
   "id": "0f09664f",
   "metadata": {
    "collapsed": false,
    "jupyter": {
     "outputs_hidden": false
    },
    "ExecuteTime": {
     "end_time": "2024-03-20T06:41:11.484418600Z",
     "start_time": "2024-03-20T06:41:11.437516600Z"
    }
   },
   "outputs": [
    {
     "data": {
      "text/plain": "{'accuracy': 78.57473851449755,\n 'precision': 0.7821180310802736,\n 'recall': 0.7857473851449756,\n 'f1': 0.7828842453348397}"
     },
     "execution_count": 83,
     "metadata": {},
     "output_type": "execute_result"
    }
   ],
   "source": [
    "model_1_results = calculate_results(y_true=val_labels_encoded,\n",
    "                                    y_pred=model_1_preds)\n",
    "model_1_results"
   ]
  },
  {
   "cell_type": "code",
   "execution_count": 84,
   "id": "2f05796d",
   "metadata": {
    "collapsed": false,
    "jupyter": {
     "outputs_hidden": false
    },
    "ExecuteTime": {
     "end_time": "2024-03-20T06:41:11.484418600Z",
     "start_time": "2024-03-20T06:41:11.453604100Z"
    }
   },
   "outputs": [
    {
     "data": {
      "text/plain": "{'accuracy': 72.1832384482987,\n 'precision': 0.7186466952323352,\n 'recall': 0.7218323844829869,\n 'f1': 0.6989250353450294}"
     },
     "execution_count": 84,
     "metadata": {},
     "output_type": "execute_result"
    }
   ],
   "source": [
    "baseline_results"
   ]
  },
  {
   "cell_type": "code",
   "execution_count": 85,
   "id": "c839afb4",
   "metadata": {
    "collapsed": false,
    "jupyter": {
     "outputs_hidden": false
    },
    "ExecuteTime": {
     "end_time": "2024-03-20T06:48:30.223406300Z",
     "start_time": "2024-03-20T06:41:11.472090500Z"
    }
   },
   "outputs": [],
   "source": [
    "#015 Preparing a pretrained embedding layer from TensorFlow Hub for Model 2\n",
    "import tensorflow_hub as hub\n",
    "tf_hub_embedding_layer = hub.KerasLayer(\"https://www.kaggle.com/models/google/universal-sentence-encoder/frameworks/TensorFlow2/variations/universal-sentence-encoder/versions/2\",\n",
    "                                        #C:\\Users\\vivek\\AppData\\Local\\Temp\\tfhub_modules\\744ecc8f0e54abfc94870bb7a86ec2c67e8724da\n",
    "                                        trainable=False,\n",
    "                                        name=\"universal_sentence_encoder\")"
   ]
  },
  {
   "cell_type": "code",
   "execution_count": 86,
   "id": "1d9aa49f",
   "metadata": {
    "collapsed": true,
    "jupyter": {
     "outputs_hidden": true
    },
    "tags": [],
    "ExecuteTime": {
     "end_time": "2024-03-20T06:48:30.569855900Z",
     "start_time": "2024-03-20T06:48:30.223406300Z"
    }
   },
   "outputs": [
    {
     "name": "stdout",
     "output_type": "stream",
     "text": [
      "Random sentence:\n",
      " between april @ and february @ , @ patients undergoing radiotherapy for prostate cancer were enrolled to receive either placebo or famotidine .\n",
      "Sentence after embedding:\n",
      "[[-0.06975283  0.03297024 -0.05426717 -0.03673415 -0.02177807 -0.05170482\n",
      "  -0.05229049 -0.05113872 -0.02786797 -0.06526966  0.08200877 -0.08018942\n",
      "   0.02762476 -0.04111555  0.04931935  0.02941422 -0.08234589 -0.04710849\n",
      "   0.02834892 -0.01881655  0.08058234  0.02092949  0.03154998  0.01934956\n",
      "   0.02723479  0.02019808 -0.05251407 -0.00188137  0.04320213  0.07525147\n",
      "  -0.01721473  0.0823499   0.04858397 -0.06832188 -0.07987413 -0.02133896\n",
      "  -0.06021655 -0.06461462 -0.0587427  -0.0789566  -0.00539208  0.02175332\n",
      "   0.03732007  0.00770326  0.03645644  0.07670718  0.00213287  0.01049349\n",
      "   0.01944349  0.02087012 -0.04123017 -0.05204813 -0.01859243 -0.02310412\n",
      "   0.05878683  0.005733   -0.06941391  0.07056347 -0.05830901  0.01879738\n",
      "  -0.05406749 -0.01233293  0.01579815  0.03568761  0.06170854  0.01443345\n",
      "  -0.0006932  -0.00062599 -0.00818385  0.03077494  0.02673519 -0.05678747\n",
      "  -0.03660711  0.01934133  0.0249925   0.01716239 -0.01079639  0.06610935\n",
      "   0.02409838 -0.01258476  0.06298299  0.04978682  0.04191286  0.05899451\n",
      "  -0.01325075 -0.036706   -0.04933072 -0.02412154  0.0025702  -0.06012598\n",
      "  -0.06521881  0.07107247 -0.01072973 -0.04667395 -0.02257519 -0.02605726\n",
      "   0.02119796 -0.02918912  0.0138069   0.01926208  0.06871455  0.04109882\n",
      "   0.06215853  0.01993434  0.06463394 -0.07946747  0.04472023 -0.01086579\n",
      "  -0.07028659  0.00649193 -0.00195745  0.06687615  0.03752833 -0.0115897\n",
      "  -0.07183733 -0.02423342  0.05460995 -0.02285265  0.05528975  0.04365633\n",
      "   0.0397399  -0.00740175  0.04869759 -0.00776034  0.05360868 -0.02719421\n",
      "  -0.07371594 -0.01341641  0.04356245 -0.00481692 -0.00760992  0.08234937\n",
      "  -0.02861169  0.02408608 -0.02786181 -0.02251152  0.04513444  0.04912831\n",
      "   0.034121   -0.02936697 -0.03469401  0.02752898  0.01597823  0.01541423\n",
      "   0.04836489  0.03707457  0.02656952  0.04734924 -0.0476952   0.04030182\n",
      "   0.01483826 -0.0056003  -0.01391046  0.01932487  0.0102797   0.03200963\n",
      "  -0.00336851  0.02937444 -0.01072405 -0.06567802 -0.00946089  0.00230102\n",
      "   0.02706023 -0.05354516  0.00291613 -0.02065834 -0.05355225  0.0072587\n",
      "  -0.00190962  0.0600873  -0.01134901 -0.0812468  -0.06950817  0.01931426\n",
      "  -0.06911818 -0.00351065 -0.02861485  0.00328916  0.03849792  0.04585735\n",
      "  -0.05669845  0.0142957   0.04060427  0.07475756  0.05030906  0.03481326\n",
      "   0.02190014 -0.02340207 -0.00047392 -0.01196693 -0.03513573 -0.05730915\n",
      "  -0.01178175  0.06492823 -0.03910008 -0.02787037 -0.0283085   0.05325655\n",
      "   0.00744813 -0.02840195 -0.02176913 -0.00182119  0.07312605 -0.05523291\n",
      "   0.00988086 -0.05063115  0.07324263 -0.06877173  0.00573311  0.00939785\n",
      "  -0.05603854  0.01343989  0.00196001 -0.07564966 -0.02616122  0.05305679\n",
      "   0.04116171  0.00439074  0.05435597  0.0298505   0.03550361  0.04666417\n",
      "   0.01995067  0.04221838  0.0007333   0.05087088  0.05551872  0.03477963\n",
      "  -0.02547071  0.0497076  -0.00949562  0.05102458 -0.06134373 -0.00479323\n",
      "  -0.03662828  0.05434752 -0.03251275  0.01827738  0.02295245 -0.06074728\n",
      "  -0.04954876  0.05754123 -0.06976838  0.06985105  0.06403039 -0.01462144\n",
      "  -0.02005892  0.0763822   0.06688361 -0.07552167  0.0521612   0.00148811\n",
      "   0.04705461 -0.02551699 -0.03824314 -0.00219159 -0.05511191 -0.05238564\n",
      "  -0.06229043 -0.03762641  0.01533517  0.0188837   0.05465488  0.00307605\n",
      "   0.04491481  0.01644595  0.06476618  0.05709605 -0.04957164  0.04179246\n",
      "  -0.00474789 -0.02185357  0.03840951 -0.01623419 -0.01345382 -0.0428622\n",
      "  -0.02742547 -0.00924366  0.01234857 -0.05877386 -0.00143753 -0.05139459\n",
      "  -0.07672932 -0.06035404 -0.03085682 -0.0026241   0.01387406  0.05012125\n",
      "   0.02535675  0.04194354  0.01522943 -0.05449725  0.03073222  0.02479259\n",
      "  -0.03723808 -0.0222137   0.02281722  0.00382006  0.04554274  0.0432661\n",
      "   0.07228804 -0.00631692 -0.0575884  -0.0472436  -0.04799419  0.00713706\n",
      "  -0.04333396 -0.03617101 -0.06671775  0.04785634  0.02672162 -0.01805476\n",
      "   0.01688178  0.031075    0.06730153 -0.06419468  0.0638536   0.05466518\n",
      "   0.0507563  -0.06416864  0.00520522 -0.01081559  0.07815313  0.05522554\n",
      "  -0.01919416  0.07050741 -0.06031881  0.01993709 -0.02609978  0.05656018\n",
      "  -0.00894921 -0.02971588 -0.01335678  0.06563104  0.04356609  0.04106034\n",
      "  -0.0182796   0.05303538 -0.00871341  0.06290559  0.01869431  0.04668024\n",
      "   0.0817119   0.06211538  0.0338118  -0.04566346 -0.00368684  0.04135849\n",
      "  -0.02677732 -0.02097365  0.02916533 -0.06272122  0.013097   -0.04026996\n",
      "   0.06101291 -0.00857401 -0.06272927 -0.03505881  0.05308748  0.0222716\n",
      "   0.07248834  0.04500772 -0.04808567 -0.06268224  0.04074394 -0.04828639\n",
      "   0.02824251 -0.01956734 -0.0529477   0.07296445  0.03366148 -0.04086935\n",
      "   0.03186212  0.00407801  0.06789149  0.05456766  0.0263543  -0.06608773\n",
      "   0.06821498  0.03531114  0.01011628 -0.0697428  -0.0622173  -0.0245901\n",
      "  -0.05736732  0.05905769 -0.04990938 -0.01784363  0.04704156 -0.03111923\n",
      "   0.02879527  0.06565646 -0.08005165  0.04325673 -0.03002534  0.07692339\n",
      "   0.01232371  0.03645989  0.00088539 -0.03825688  0.0396273   0.07141836\n",
      "   0.03811688  0.06562269 -0.00926895 -0.05524804  0.01065851 -0.01476797\n",
      "   0.02739249 -0.00756969  0.01457843  0.07493518  0.02569561  0.00142471\n",
      "  -0.06987983 -0.0776938  -0.01605055  0.03643847  0.04422094 -0.00359662\n",
      "  -0.01423121 -0.05817277 -0.00901122 -0.06272133 -0.0083356  -0.02265213\n",
      "  -0.00277895  0.02662873 -0.07522192 -0.00864397 -0.07765985 -0.02657433\n",
      "   0.04587123  0.08056811  0.05454981 -0.0550734   0.03300415  0.01666373\n",
      "   0.05769776  0.07679937 -0.00160454  0.03051304  0.04280667  0.04015499\n",
      "   0.07094961 -0.06664421 -0.03653632  0.01253053 -0.04873003  0.00383298\n",
      "  -0.04734185  0.04110287  0.0053257  -0.01913933 -0.06767005 -0.04582184\n",
      "   0.0318336   0.01802729  0.01333571  0.04669401  0.0735554  -0.00989692\n",
      "   0.06874763  0.02117016  0.07585859  0.01413661  0.05048199  0.0538209\n",
      "  -0.04496614  0.0724737  -0.04218365  0.05833999 -0.0512096  -0.03727316\n",
      "   0.06199692  0.0610016   0.04531441  0.07729134 -0.05465965  0.04666498\n",
      "   0.00411353  0.03318511 -0.02674082  0.0005444   0.02795768 -0.06341406\n",
      "  -0.0371985  -0.08042887 -0.06024845  0.01476922 -0.0026176   0.0496515\n",
      "   0.01866535 -0.03275741  0.00261398 -0.05608356  0.03924297  0.02823668\n",
      "   0.05616812  0.02967229 -0.0267405  -0.03088434  0.05278698  0.05179138\n",
      "   0.06742931 -0.08234947 -0.02959252  0.04047004  0.01544778  0.04123503\n",
      "  -0.07688567  0.0040615 ]]\n",
      "\n",
      "Length of sentence embedding: 512\n"
     ]
    }
   ],
   "source": [
    "random_train_sentence = random.choice(train_sentences)\n",
    "with tf.device('/CPU:0'):\n",
    "    print(f\"Random sentence:\\n {random_train_sentence}\")\n",
    "    use_embedded_sentence = tf_hub_embedding_layer([random_train_sentence])\n",
    "    print(f\"Sentence after embedding:\\n{use_embedded_sentence}\\n\")\n",
    "    print(f\"Length of sentence embedding: {len(use_embedded_sentence[0])}\")"
   ]
  },
  {
   "cell_type": "code",
   "execution_count": 87,
   "id": "fb58a1b8",
   "metadata": {
    "collapsed": false,
    "jupyter": {
     "outputs_hidden": false
    },
    "ExecuteTime": {
     "end_time": "2024-03-20T06:48:30.948538800Z",
     "start_time": "2024-03-20T06:48:30.569855900Z"
    }
   },
   "outputs": [],
   "source": [
    "#016 Model 2 Building, fitting and evaluating a Conv1D model with token embeddings\n",
    "inputs = layers.Input(shape = [],dtype = tf.string)\n",
    "pretrained_embedding = tf_hub_embedding_layer(inputs)\n",
    "x = layers.Dense(128,activation=\"relu\")(pretrained_embedding)\n",
    "outputs = layers.Dense(5,activation=\"softmax\")(x)\n",
    "model_2 = tf.keras.Model(inputs=inputs,outputs=outputs,name = \"model_2_USE_feature_extractor\")\n",
    "model_2.compile(loss=\"categorical_crossentropy\",optimizer=tf.keras.optimizers.Adam(),metrics=[\"accuracy\"])"
   ]
  },
  {
   "cell_type": "code",
   "execution_count": 88,
   "id": "d19dc6bc",
   "metadata": {
    "collapsed": false,
    "jupyter": {
     "outputs_hidden": false
    },
    "ExecuteTime": {
     "end_time": "2024-03-20T06:48:30.982449100Z",
     "start_time": "2024-03-20T06:48:30.948538800Z"
    }
   },
   "outputs": [
    {
     "name": "stdout",
     "output_type": "stream",
     "text": [
      "Model: \"model_2_USE_feature_extractor\"\n",
      "_________________________________________________________________\n",
      " Layer (type)                Output Shape              Param #   \n",
      "=================================================================\n",
      " input_3 (InputLayer)        [(None,)]                 0         \n",
      "                                                                 \n",
      " universal_sentence_encoder   (None, 512)              256797824 \n",
      " (KerasLayer)                                                    \n",
      "                                                                 \n",
      " dense_2 (Dense)             (None, 128)               65664     \n",
      "                                                                 \n",
      " dense_3 (Dense)             (None, 5)                 645       \n",
      "                                                                 \n",
      "=================================================================\n",
      "Total params: 256,864,133\n",
      "Trainable params: 66,309\n",
      "Non-trainable params: 256,797,824\n",
      "_________________________________________________________________\n"
     ]
    }
   ],
   "source": [
    "model_2.summary()"
   ]
  },
  {
   "cell_type": "code",
   "execution_count": 90,
   "id": "3c92c59b",
   "metadata": {
    "tags": [],
    "ExecuteTime": {
     "end_time": "2024-03-20T06:50:26.163161700Z",
     "start_time": "2024-03-20T06:50:02.339846500Z"
    }
   },
   "outputs": [
    {
     "name": "stdout",
     "output_type": "stream",
     "text": [
      "Epoch 1/3\n",
      "562/562 [==============================] - 9s 14ms/step - loss: 0.9201 - accuracy: 0.6481 - val_loss: 0.7962 - val_accuracy: 0.6892\n",
      "Epoch 2/3\n",
      "562/562 [==============================] - 7s 13ms/step - loss: 0.7680 - accuracy: 0.7023 - val_loss: 0.7532 - val_accuracy: 0.7061\n",
      "Epoch 3/3\n",
      "562/562 [==============================] - 8s 14ms/step - loss: 0.7510 - accuracy: 0.7126 - val_loss: 0.7350 - val_accuracy: 0.7154\n"
     ]
    }
   ],
   "source": [
    "# with tf.device('/CPU:0'):\n",
    "with tf.device('/CPU:0'):\n",
    "    history_model_2=model_2.fit(train_dataset,epochs=3,\n",
    "                                steps_per_epoch=int(0.1*len(train_dataset)),\n",
    "                                validation_data=valid_dataset,\n",
    "                                validation_steps=int(0.1*len(valid_dataset)))"
   ]
  },
  {
   "cell_type": "code",
   "execution_count": 92,
   "id": "4632787f",
   "metadata": {
    "collapsed": false,
    "jupyter": {
     "outputs_hidden": false
    },
    "ExecuteTime": {
     "end_time": "2024-03-20T06:52:00.520333Z",
     "start_time": "2024-03-20T06:51:49.539260200Z"
    }
   },
   "outputs": [
    {
     "name": "stdout",
     "output_type": "stream",
     "text": [
      "945/945 [==============================] - 11s 12ms/step - loss: 0.7395 - accuracy: 0.7160\n"
     ]
    }
   ],
   "source": [
    "# with tf.device('/CPU:0'):\n",
    "with tf.device('/CPU:0'):\n",
    "    model_2.evaluate(valid_dataset)"
   ]
  },
  {
   "cell_type": "code",
   "execution_count": 93,
   "id": "21a99cc9",
   "metadata": {
    "collapsed": false,
    "jupyter": {
     "outputs_hidden": false
    },
    "ExecuteTime": {
     "end_time": "2024-03-20T06:52:14.404394200Z",
     "start_time": "2024-03-20T06:52:03.321130Z"
    }
   },
   "outputs": [
    {
     "name": "stdout",
     "output_type": "stream",
     "text": [
      "945/945 [==============================] - 11s 11ms/step\n"
     ]
    }
   ],
   "source": [
    "# with tf.device('/CPU:0'):\n",
    "with tf.device('/CPU:0'):\n",
    "    model_2_pred_probs=model_2.predict(valid_dataset)\n",
    "    model_2_preds = tf.argmax(model_2_pred_probs,axis=1)\n",
    "    model_2_results = calculate_results(y_true=val_labels_encoded,y_pred=model_2_preds)\n",
    "    model_2_results"
   ]
  },
  {
   "cell_type": "code",
   "execution_count": 94,
   "id": "3ebb57da",
   "metadata": {
    "collapsed": false,
    "jupyter": {
     "outputs_hidden": false
    },
    "ExecuteTime": {
     "end_time": "2024-03-20T06:52:22.694373500Z",
     "start_time": "2024-03-20T06:52:22.685466Z"
    }
   },
   "outputs": [
    {
     "data": {
      "text/plain": "{'accuracy': 71.59737852508937,\n 'precision': 0.7163245813196902,\n 'recall': 0.7159737852508937,\n 'f1': 0.7129949894533723}"
     },
     "execution_count": 94,
     "metadata": {},
     "output_type": "execute_result"
    }
   ],
   "source": [
    "model_2_results"
   ]
  },
  {
   "cell_type": "code",
   "execution_count": 95,
   "id": "1d164a39",
   "metadata": {
    "collapsed": false,
    "jupyter": {
     "outputs_hidden": false
    },
    "ExecuteTime": {
     "end_time": "2024-03-20T06:52:24.033297500Z",
     "start_time": "2024-03-20T06:52:24.023211800Z"
    }
   },
   "outputs": [
    {
     "data": {
      "text/plain": "{'accuracy': 72.1832384482987,\n 'precision': 0.7186466952323352,\n 'recall': 0.7218323844829869,\n 'f1': 0.6989250353450294}"
     },
     "execution_count": 95,
     "metadata": {},
     "output_type": "execute_result"
    }
   ],
   "source": [
    "baseline_results"
   ]
  },
  {
   "cell_type": "code",
   "execution_count": 96,
   "id": "c29c410a",
   "metadata": {
    "collapsed": false,
    "jupyter": {
     "outputs_hidden": false
    },
    "ExecuteTime": {
     "end_time": "2024-03-20T06:52:25.711240200Z",
     "start_time": "2024-03-20T06:52:25.688866100Z"
    }
   },
   "outputs": [
    {
     "data": {
      "text/plain": "'b e t w e e n   a p r i l   @   a n d   f e b r u a r y   @   ,   @   p a t i e n t s   u n d e r g o i n g   r a d i o t h e r a p y   f o r   p r o s t a t e   c a n c e r   w e r e   e n r o l l e d   t o   r e c e i v e   e i t h e r   p l a c e b o   o r   f a m o t i d i n e   .'"
     },
     "execution_count": 96,
     "metadata": {},
     "output_type": "execute_result"
    }
   ],
   "source": [
    "#017 Creating a character-level tokeniser with TensorFlow's TextVectorization layer\n",
    "def split_chars(text):\n",
    "    return \" \".join(list(text))\n",
    "\n",
    "split_chars(random_train_sentence)"
   ]
  },
  {
   "cell_type": "code",
   "execution_count": 97,
   "id": "41b78ae1",
   "metadata": {
    "collapsed": false,
    "jupyter": {
     "outputs_hidden": false
    },
    "ExecuteTime": {
     "end_time": "2024-03-20T06:52:28.570937900Z",
     "start_time": "2024-03-20T06:52:27.631765Z"
    }
   },
   "outputs": [
    {
     "name": "stdout",
     "output_type": "stream",
     "text": [
      "['t o   i n v e s t i g a t e   t h e   e f f i c a c y   o f   @   w e e k s   o f   d a i l y   l o w - d o s e   o r a l   p r e d n i s o l o n e   i n   i m p r o v i n g   p a i n   ,   m o b i l i t y   ,   a n d   s y s t e m i c   l o w - g r a d e   i n f l a m m a t i o n   i n   t h e   s h o r t   t e r m   a n d   w h e t h e r   t h e   e f f e c t   w o u l d   b e   s u s t a i n e d   a t   @   w e e k s   i n   o l d e r   a d u l t s   w i t h   m o d e r a t e   t o   s e v e r e   k n e e   o s t e o a r t h r i t i s   (   o a   )   .', 'a   t o t a l   o f   @   p a t i e n t s   w i t h   p r i m a r y   k n e e   o a   w e r e   r a n d o m i z e d   @ : @   ;   @   r e c e i v e d   @   m g / d a y   o f   p r e d n i s o l o n e   a n d   @   r e c e i v e d   p l a c e b o   f o r   @   w e e k s   .', 'o u t c o m e   m e a s u r e s   i n c l u d e d   p a i n   r e d u c t i o n   a n d   i m p r o v e m e n t   i n   f u n c t i o n   s c o r e s   a n d   s y s t e m i c   i n f l a m m a t i o n   m a r k e r s   .', 'p a i n   w a s   a s s e s s e d   u s i n g   t h e   v i s u a l   a n a l o g   p a i n   s c a l e   (   @ - @   m m   )   .', 's e c o n d a r y   o u t c o m e   m e a s u r e s   i n c l u d e d   t h e   w e s t e r n   o n t a r i o   a n d   m c m a s t e r   u n i v e r s i t i e s   o s t e o a r t h r i t i s   i n d e x   s c o r e s   ,   p a t i e n t   g l o b a l   a s s e s s m e n t   (   p g a   )   o f   t h e   s e v e r i t y   o f   k n e e   o a   ,   a n d   @ - m i n   w a l k   d i s t a n c e   (   @ m w d   )   .']\n"
     ]
    }
   ],
   "source": [
    "train_chars = [split_chars(sentence) for sentence in train_sentences]\n",
    "val_chars = [split_chars(sentence) for sentence in val_sentences]\n",
    "test_chars = [split_chars(sentence) for sentence in test_sentences]\n",
    "print(train_chars[:5])"
   ]
  },
  {
   "cell_type": "code",
   "execution_count": 98,
   "id": "91cfacee",
   "metadata": {
    "collapsed": false,
    "jupyter": {
     "outputs_hidden": false
    },
    "ExecuteTime": {
     "end_time": "2024-03-20T06:52:29.688513200Z",
     "start_time": "2024-03-20T06:52:29.644233400Z"
    }
   },
   "outputs": [
    {
     "data": {
      "text/plain": "149.3662574983337"
     },
     "execution_count": 98,
     "metadata": {},
     "output_type": "execute_result"
    }
   ],
   "source": [
    "chars_lens = [len(sentence) for sentence in train_sentences]\n",
    "mean_char_len = np.mean(chars_lens)\n",
    "mean_char_len"
   ]
  },
  {
   "cell_type": "code",
   "execution_count": 99,
   "id": "34f1d8ae",
   "metadata": {
    "collapsed": true,
    "jupyter": {
     "outputs_hidden": true
    },
    "tags": [],
    "ExecuteTime": {
     "end_time": "2024-03-20T06:52:35.382127100Z",
     "start_time": "2024-03-20T06:52:35.319104400Z"
    }
   },
   "outputs": [
    {
     "data": {
      "text/plain": "[281,\n 137,\n 111,\n 65,\n 209,\n 147,\n 161,\n 164,\n 180,\n 51,\n 188,\n 248,\n 79,\n 167,\n 175,\n 245,\n 120,\n 140,\n 163,\n 186,\n 162,\n 191,\n 251,\n 114,\n 70,\n 131,\n 377,\n 93,\n 94,\n 130,\n 125,\n 209,\n 34,\n 90,\n 118,\n 26,\n 124,\n 43,\n 246,\n 285,\n 65,\n 120,\n 131,\n 131,\n 203,\n 245,\n 195,\n 106,\n 110,\n 144,\n 138,\n 87,\n 59,\n 113,\n 102,\n 146,\n 116,\n 108,\n 217,\n 155,\n 107,\n 112,\n 115,\n 59,\n 201,\n 37,\n 204,\n 129,\n 146,\n 154,\n 89,\n 105,\n 90,\n 66,\n 109,\n 65,\n 93,\n 114,\n 103,\n 212,\n 136,\n 86,\n 225,\n 194,\n 89,\n 263,\n 158,\n 407,\n 100,\n 228,\n 193,\n 106,\n 203,\n 134,\n 148,\n 257,\n 268,\n 296,\n 46,\n 90,\n 113,\n 230,\n 262,\n 193,\n 200,\n 37,\n 240,\n 273,\n 98,\n 176,\n 282,\n 101,\n 177,\n 235,\n 337,\n 100,\n 159,\n 222,\n 201,\n 214,\n 79,\n 132,\n 176,\n 133,\n 93,\n 133,\n 122,\n 241,\n 74,\n 96,\n 164,\n 157,\n 61,\n 166,\n 31,\n 94,\n 134,\n 188,\n 63,\n 128,\n 123,\n 81,\n 38,\n 77,\n 68,\n 120,\n 91,\n 109,\n 108,\n 150,\n 108,\n 265,\n 207,\n 140,\n 270,\n 123,\n 63,\n 161,\n 196,\n 86,\n 272,\n 116,\n 218,\n 48,\n 156,\n 64,\n 492,\n 159,\n 169,\n 206,\n 237,\n 111,\n 126,\n 102,\n 153,\n 79,\n 41,\n 80,\n 139,\n 204,\n 241,\n 116,\n 228,\n 124,\n 265,\n 135,\n 183,\n 185,\n 189,\n 113,\n 341,\n 108,\n 130,\n 221,\n 132,\n 59,\n 243,\n 64,\n 94,\n 134,\n 258,\n 217,\n 235,\n 96,\n 165,\n 287,\n 173,\n 140,\n 77,\n 196,\n 124,\n 300,\n 166,\n 84,\n 131,\n 202,\n 340,\n 125,\n 353,\n 78,\n 207,\n 209,\n 182,\n 121,\n 110,\n 147,\n 199,\n 65,\n 68,\n 99,\n 100,\n 26,\n 39,\n 240,\n 73,\n 57,\n 30,\n 113,\n 94,\n 204,\n 107,\n 78,\n 167,\n 98,\n 49,\n 154,\n 64,\n 95,\n 47,\n 152,\n 121,\n 205,\n 139,\n 48,\n 104,\n 150,\n 222,\n 157,\n 128,\n 91,\n 27,\n 9,\n 232,\n 140,\n 175,\n 210,\n 138,\n 182,\n 175,\n 156,\n 138,\n 128,\n 102,\n 60,\n 8,\n 285,\n 141,\n 235,\n 164,\n 90,\n 215,\n 69,\n 131,\n 269,\n 153,\n 90,\n 164,\n 285,\n 93,\n 51,\n 89,\n 62,\n 58,\n 464,\n 236,\n 210,\n 256,\n 119,\n 65,\n 126,\n 70,\n 44,\n 43,\n 175,\n 126,\n 111,\n 104,\n 115,\n 134,\n 184,\n 73,\n 148,\n 106,\n 116,\n 152,\n 132,\n 151,\n 86,\n 105,\n 89,\n 108,\n 98,\n 157,\n 46,\n 89,\n 120,\n 65,\n 228,\n 166,\n 76,\n 291,\n 338,\n 129,\n 56,\n 100,\n 169,\n 117,\n 69,\n 158,\n 168,\n 78,\n 55,\n 112,\n 132,\n 193,\n 89,\n 103,\n 166,\n 185,\n 150,\n 206,\n 152,\n 146,\n 143,\n 170,\n 238,\n 70,\n 148,\n 156,\n 232,\n 327,\n 196,\n 110,\n 50,\n 137,\n 190,\n 106,\n 393,\n 44,\n 72,\n 178,\n 79,\n 102,\n 48,\n 315,\n 78,\n 125,\n 137,\n 191,\n 153,\n 137,\n 112,\n 209,\n 56,\n 112,\n 236,\n 140,\n 73,\n 51,\n 162,\n 87,\n 68,\n 107,\n 97,\n 117,\n 107,\n 192,\n 95,\n 82,\n 76,\n 111,\n 81,\n 165,\n 175,\n 147,\n 88,\n 131,\n 90,\n 200,\n 133,\n 161,\n 119,\n 357,\n 87,\n 158,\n 164,\n 91,\n 90,\n 145,\n 44,\n 110,\n 125,\n 188,\n 101,\n 90,\n 114,\n 98,\n 165,\n 135,\n 100,\n 86,\n 75,\n 72,\n 451,\n 232,\n 298,\n 176,\n 79,\n 53,\n 166,\n 80,\n 137,\n 199,\n 225,\n 33,\n 393,\n 108,\n 174,\n 59,\n 180,\n 228,\n 88,\n 70,\n 116,\n 189,\n 115,\n 157,\n 113,\n 179,\n 292,\n 74,\n 180,\n 69,\n 173,\n 159,\n 139,\n 220,\n 270,\n 174,\n 222,\n 119,\n 121,\n 56,\n 63,\n 155,\n 125,\n 83,\n 108,\n 42,\n 120,\n 171,\n 208,\n 20,\n 4,\n 29,\n 122,\n 200,\n 219,\n 81,\n 151,\n 104,\n 42,\n 80,\n 52,\n 76,\n 48,\n 72,\n 296,\n 101,\n 193,\n 157,\n 43,\n 186,\n 260,\n 103,\n 187,\n 262,\n 97,\n 98,\n 87,\n 183,\n 135,\n 73,\n 140,\n 133,\n 82,\n 132,\n 199,\n 148,\n 238,\n 103,\n 64,\n 97,\n 174,\n 97,\n 152,\n 408,\n 121,\n 131,\n 140,\n 158,\n 127,\n 135,\n 130,\n 170,\n 290,\n 173,\n 133,\n 182,\n 264,\n 239,\n 129,\n 136,\n 218,\n 204,\n 150,\n 154,\n 165,\n 119,\n 89,\n 77,\n 145,\n 178,\n 177,\n 221,\n 118,\n 157,\n 146,\n 87,\n 44,\n 39,\n 211,\n 269,\n 160,\n 314,\n 268,\n 178,\n 177,\n 84,\n 127,\n 157,\n 260,\n 86,\n 365,\n 165,\n 181,\n 240,\n 170,\n 307,\n 94,\n 102,\n 187,\n 97,\n 122,\n 165,\n 65,\n 219,\n 92,\n 97,\n 124,\n 253,\n 44,\n 168,\n 211,\n 37,\n 212,\n 106,\n 410,\n 172,\n 242,\n 272,\n 408,\n 344,\n 242,\n 163,\n 144,\n 201,\n 93,\n 267,\n 294,\n 99,\n 266,\n 108,\n 63,\n 127,\n 185,\n 109,\n 127,\n 115,\n 125,\n 179,\n 156,\n 179,\n 122,\n 120,\n 136,\n 105,\n 170,\n 57,\n 182,\n 77,\n 69,\n 94,\n 204,\n 135,\n 159,\n 201,\n 30,\n 79,\n 181,\n 279,\n 182,\n 149,\n 158,\n 123,\n 92,\n 162,\n 209,\n 71,\n 151,\n 196,\n 163,\n 39,\n 149,\n 170,\n 299,\n 150,\n 108,\n 144,\n 196,\n 43,\n 295,\n 134,\n 167,\n 20,\n 177,\n 326,\n 76,\n 90,\n 227,\n 131,\n 113,\n 194,\n 94,\n 49,\n 185,\n 118,\n 124,\n 121,\n 143,\n 257,\n 164,\n 202,\n 131,\n 146,\n 121,\n 98,\n 205,\n 316,\n 88,\n 338,\n 215,\n 188,\n 287,\n 189,\n 166,\n 186,\n 310,\n 84,\n 98,\n 111,\n 101,\n 53,\n 93,\n 80,\n 179,\n 61,\n 60,\n 85,\n 95,\n 64,\n 109,\n 143,\n 87,\n 127,\n 60,\n 73,\n 112,\n 95,\n 77,\n 165,\n 79,\n 131,\n 157,\n 222,\n 179,\n 370,\n 187,\n 282,\n 144,\n 112,\n 75,\n 176,\n 121,\n 101,\n 138,\n 153,\n 120,\n 72,\n 36,\n 67,\n 120,\n 134,\n 145,\n 282,\n 111,\n 155,\n 398,\n 146,\n 124,\n 148,\n 152,\n 152,\n 140,\n 212,\n 229,\n 219,\n 108,\n 105,\n 86,\n 107,\n 49,\n 181,\n 97,\n 112,\n 167,\n 244,\n 115,\n 125,\n 144,\n 259,\n 299,\n 169,\n 377,\n 49,\n 187,\n 70,\n 110,\n 155,\n 127,\n 109,\n 233,\n 84,\n 292,\n 202,\n 140,\n 162,\n 238,\n 26,\n 166,\n 125,\n 16,\n 87,\n 136,\n 157,\n 159,\n 90,\n 117,\n 90,\n 132,\n 170,\n 42,\n 91,\n 15,\n 203,\n 123,\n 128,\n 189,\n 59,\n 131,\n 123,\n 113,\n 183,\n 263,\n 6,\n 143,\n 121,\n 175,\n 53,\n 45,\n 294,\n 186,\n 170,\n 147,\n 198,\n 147,\n 192,\n 167,\n 181,\n 219,\n 180,\n 173,\n 202,\n 76,\n 119,\n 160,\n 82,\n 105,\n 74,\n 79,\n 68,\n 137,\n 121,\n 168,\n 118,\n 93,\n 139,\n 176,\n 110,\n 174,\n 167,\n 191,\n 227,\n 193,\n 81,\n 80,\n 162,\n 117,\n 154,\n 156,\n 65,\n 177,\n 153,\n 58,\n 409,\n 261,\n 83,\n 103,\n 122,\n 100,\n 224,\n 166,\n 81,\n 221,\n 140,\n 147,\n 260,\n 244,\n 223,\n 167,\n 128,\n 211,\n 168,\n 155,\n 164,\n 198,\n 264,\n 314,\n 128,\n 94,\n 81,\n 139,\n 117,\n 168,\n 106,\n 173,\n 196,\n 58,\n 113,\n 115,\n 131,\n 264,\n 229,\n 165,\n 215,\n 179,\n 82,\n 109,\n 132,\n 310,\n 38,\n 77,\n 159,\n 155,\n 86,\n 43,\n 65,\n 76,\n 146,\n 167,\n 219,\n 202,\n 139,\n 204,\n 434,\n 196,\n 177,\n 51,\n 64,\n 160,\n 127,\n 123,\n 207,\n 158,\n 176,\n 298,\n 173,\n 109,\n 84,\n 245,\n 60,\n 384,\n 63,\n 112,\n 153,\n 146,\n 45,\n 135,\n 139,\n 135,\n 76,\n 174,\n 49,\n 69,\n 100,\n 143,\n 141,\n 35,\n 98,\n 390,\n 145,\n 168,\n 52,\n 165,\n 254,\n 60,\n 75,\n 126,\n 116,\n 94,\n 134,\n 125,\n 73,\n 121,\n 57,\n 174,\n 77,\n 32,\n 118,\n 129,\n 140,\n 145,\n 123,\n 91,\n 203,\n 66,\n 65,\n 108,\n 128,\n 228,\n 154,\n 112,\n 185,\n 407,\n 172,\n 273,\n 97,\n 61,\n 85,\n 120,\n ...]"
     },
     "execution_count": 99,
     "metadata": {},
     "output_type": "execute_result"
    }
   ],
   "source": [
    "chars_lens"
   ]
  },
  {
   "cell_type": "code",
   "execution_count": 100,
   "id": "fb82cd06",
   "metadata": {
    "collapsed": false,
    "jupyter": {
     "outputs_hidden": false
    },
    "ExecuteTime": {
     "end_time": "2024-03-20T06:52:38.846616200Z",
     "start_time": "2024-03-20T06:52:38.059913800Z"
    }
   },
   "outputs": [
    {
     "data": {
      "text/plain": "(array([1.41175e+05, 3.71110e+04, 1.60000e+03, 1.27000e+02, 2.10000e+01,\n        5.00000e+00, 1.00000e+00]),\n array([1.00000000e+00, 1.98857143e+02, 3.96714286e+02, 5.94571429e+02,\n        7.92428571e+02, 9.90285714e+02, 1.18814286e+03, 1.38600000e+03]),\n <BarContainer object of 7 artists>)"
     },
     "execution_count": 100,
     "metadata": {},
     "output_type": "execute_result"
    },
    {
     "data": {
      "text/plain": "<Figure size 640x480 with 1 Axes>",
      "image/png": "[encoded data removed]"
     },
     "metadata": {},
     "output_type": "display_data"
    }
   ],
   "source": [
    "import matplotlib.pyplot as plt\n",
    "plt.hist(chars_lens,bins=7)"
   ]
  },
  {
   "cell_type": "code",
   "execution_count": 101,
   "id": "eb9cfbe0",
   "metadata": {
    "collapsed": false,
    "jupyter": {
     "outputs_hidden": false
    },
    "ExecuteTime": {
     "end_time": "2024-03-20T06:52:40.248776700Z",
     "start_time": "2024-03-20T06:52:40.202388600Z"
    }
   },
   "outputs": [
    {
     "data": {
      "text/plain": "290"
     },
     "execution_count": 101,
     "metadata": {},
     "output_type": "execute_result"
    }
   ],
   "source": [
    "output_seq_char_len = int(np.percentile(chars_lens,95))\n",
    "output_seq_char_len"
   ]
  },
  {
   "cell_type": "code",
   "execution_count": 102,
   "id": "858d2806",
   "metadata": {
    "collapsed": false,
    "jupyter": {
     "outputs_hidden": false
    },
    "ExecuteTime": {
     "end_time": "2024-03-20T06:52:43.647995500Z",
     "start_time": "2024-03-20T06:52:43.633491500Z"
    }
   },
   "outputs": [
    {
     "data": {
      "text/plain": "'abcdefghijklmnopqrstuvwxyz0123456789!\"#$%&\\'()*+,-./:;<=>?@[\\\\]^_`{|}~'"
     },
     "execution_count": 102,
     "metadata": {},
     "output_type": "execute_result"
    }
   ],
   "source": [
    "import string\n",
    "alphabet = string.ascii_lowercase+string.digits+string.punctuation\n",
    "alphabet"
   ]
  },
  {
   "cell_type": "code",
   "execution_count": 103,
   "id": "4590a953",
   "metadata": {
    "collapsed": false,
    "jupyter": {
     "outputs_hidden": false
    },
    "ExecuteTime": {
     "end_time": "2024-03-20T06:52:45.323410Z",
     "start_time": "2024-03-20T06:52:45.302802700Z"
    }
   },
   "outputs": [],
   "source": [
    "NUM_CHAR_TOKENS = len(alphabet)+2 #ass 2 for space and OOV ([UNK])\n",
    "char_vectorizer = TextVectorization(max_tokens=NUM_CHAR_TOKENS,output_sequence_length=output_seq_char_len,name=\"char_vectorizer\") # set stanadardize = None if you want to leave punctuation in"
   ]
  },
  {
   "cell_type": "code",
   "execution_count": 104,
   "id": "d9fd37bb",
   "metadata": {
    "collapsed": false,
    "jupyter": {
     "outputs_hidden": false
    },
    "ExecuteTime": {
     "end_time": "2024-03-20T06:52:58.274358900Z",
     "start_time": "2024-03-20T06:52:48.620384100Z"
    }
   },
   "outputs": [],
   "source": [
    "char_vectorizer.adapt(train_chars)"
   ]
  },
  {
   "cell_type": "code",
   "execution_count": 105,
   "id": "8eb22bd7",
   "metadata": {
    "collapsed": false,
    "jupyter": {
     "outputs_hidden": false
    },
    "ExecuteTime": {
     "end_time": "2024-03-20T06:52:58.289988500Z",
     "start_time": "2024-03-20T06:52:58.274358900Z"
    }
   },
   "outputs": [
    {
     "name": "stdout",
     "output_type": "stream",
     "text": [
      "Number of different characters in character vocab: 28\n",
      "5 most common characters: ['', '[UNK]', 'e', 't', 'i']\n",
      "5 least common characters: ['k', 'x', 'z', 'q', 'j']\n"
     ]
    }
   ],
   "source": [
    "char_vocab = char_vectorizer.get_vocabulary()\n",
    "print(f\"Number of different characters in character vocab: {len(char_vocab)}\")\n",
    "print(f\"5 most common characters: {char_vocab[:5]}\")\n",
    "print(f\"5 least common characters: {char_vocab[-5:]}\")"
   ]
  },
  {
   "cell_type": "code",
   "execution_count": 106,
   "id": "27406543",
   "metadata": {
    "collapsed": false,
    "jupyter": {
     "outputs_hidden": false
    },
    "ExecuteTime": {
     "end_time": "2024-03-20T06:52:58.353247Z",
     "start_time": "2024-03-20T06:52:58.289988500Z"
    }
   },
   "outputs": [
    {
     "name": "stdout",
     "output_type": "stream",
     "text": [
      "Charified text:\n",
      " c a r e f u l   m o n i t o r i n g   a n d   a p p r o p r i a t e   d o s e   r e d u c t i o n s   o r   i n t e r r u p t i o n s   f o r   a e   m a n a g e m e n t   a r e   r e c o m m e n d e d   d u r i n g   t r e a t m e n t   w i t h   e v e   i n   t h i s   p a t i e n t   p o p u l a t i o n   .\n",
      "\n",
      "Length of random_train_chars:\n",
      " 135\n",
      "\n",
      "Vectorized chars:\n",
      " [[11  5  8  2 17 16 12 15  7  6  4  3  7  8  4  6 18  5  6 10  5 14 14  8\n",
      "   7 14  8  4  5  3  2 10  7  9  2  8  2 10 16 11  3  4  7  6  9  7  8  4\n",
      "   6  3  2  8  8 16 14  3  4  7  6  9 17  7  8  5  2 15  5  6  5 18  2 15\n",
      "   2  6  3  5  8  2  8  2 11  7 15 15  2  6 10  2 10 10 16  8  4  6 18  3\n",
      "   8  2  5  3 15  2  6  3 20  4  3 13  2 21  2  4  6  3 13  4  9 14  5  3\n",
      "   4  2  6  3 14  7 14 16 12  5  3  4  7  6  0  0  0  0  0  0  0  0  0  0\n",
      "   0  0  0  0  0  0  0  0  0  0  0  0  0  0  0  0  0  0  0  0  0  0  0  0\n",
      "   0  0  0  0  0  0  0  0  0  0  0  0  0  0  0  0  0  0  0  0  0  0  0  0\n",
      "   0  0  0  0  0  0  0  0  0  0  0  0  0  0  0  0  0  0  0  0  0  0  0  0\n",
      "   0  0  0  0  0  0  0  0  0  0  0  0  0  0  0  0  0  0  0  0  0  0  0  0\n",
      "   0  0  0  0  0  0  0  0  0  0  0  0  0  0  0  0  0  0  0  0  0  0  0  0\n",
      "   0  0  0  0  0  0  0  0  0  0  0  0  0  0  0  0  0  0  0  0  0  0  0  0\n",
      "   0  0]]\n",
      "\n",
      "Length of vectorized chars: 290\n"
     ]
    }
   ],
   "source": [
    "random_train_chars = random.choice(train_chars)\n",
    "print(f\"Charified text:\\n {random_train_chars}\")\n",
    "print(f\"\\nLength of random_train_chars:\\n {len(random_train_chars.split())}\")\n",
    "vectorized_chars = char_vectorizer([random_train_chars])\n",
    "print(f\"\\nVectorized chars:\\n {vectorized_chars}\")\n",
    "print(f\"\\nLength of vectorized chars: {len(vectorized_chars[0])}\")"
   ]
  },
  {
   "cell_type": "code",
   "execution_count": 107,
   "id": "e472f263",
   "metadata": {
    "collapsed": false,
    "jupyter": {
     "outputs_hidden": false
    },
    "ExecuteTime": {
     "end_time": "2024-03-20T06:52:58.355363500Z",
     "start_time": "2024-03-20T06:52:58.310754800Z"
    }
   },
   "outputs": [],
   "source": [
    "#018 Creating a character-level embedding layer with tf.keras.layers.Embedding\n",
    "char_embed = layers.Embedding(input_dim = len(char_vocab),\n",
    "                              output_dim = 25,\n",
    "                              mask_zero=True,\n",
    "                              name=\"char_embed\")"
   ]
  },
  {
   "cell_type": "code",
   "execution_count": 108,
   "id": "0eb731fc",
   "metadata": {
    "collapsed": false,
    "jupyter": {
     "outputs_hidden": false
    },
    "ExecuteTime": {
     "end_time": "2024-03-20T06:52:58.355363500Z",
     "start_time": "2024-03-20T06:52:58.323397900Z"
    }
   },
   "outputs": [
    {
     "data": {
      "text/plain": "<tf.Tensor: shape=(1, 290, 25), dtype=float32, numpy=\narray([[[-0.04708363,  0.01695439,  0.04458586, ..., -0.02082769,\n         -0.0011624 ,  0.0122964 ],\n        [ 0.0279346 ,  0.01381153,  0.02060399, ..., -0.01334257,\n         -0.00161904, -0.03515935],\n        [ 0.0153755 ,  0.01400333,  0.00207893, ..., -0.03756376,\n          0.04395881,  0.00222192],\n        ...,\n        [-0.0109712 ,  0.02406137, -0.0137084 , ...,  0.03445753,\n         -0.01875897,  0.03319472],\n        [-0.0109712 ,  0.02406137, -0.0137084 , ...,  0.03445753,\n         -0.01875897,  0.03319472],\n        [-0.0109712 ,  0.02406137, -0.0137084 , ...,  0.03445753,\n         -0.01875897,  0.03319472]]], dtype=float32)>"
     },
     "execution_count": 108,
     "metadata": {},
     "output_type": "execute_result"
    }
   ],
   "source": [
    "char_embed(char_vectorizer([random_train_chars]))"
   ]
  },
  {
   "cell_type": "code",
   "execution_count": 109,
   "id": "b01d1669",
   "metadata": {
    "collapsed": false,
    "jupyter": {
     "outputs_hidden": false
    },
    "ExecuteTime": {
     "end_time": "2024-03-20T06:53:00.078090600Z",
     "start_time": "2024-03-20T06:53:00.023118300Z"
    }
   },
   "outputs": [
    {
     "data": {
      "text/plain": "TensorShape([1, 290, 25])"
     },
     "execution_count": 109,
     "metadata": {},
     "output_type": "execute_result"
    }
   ],
   "source": [
    "char_embed(char_vectorizer([random_train_chars])).shape"
   ]
  },
  {
   "cell_type": "code",
   "execution_count": 110,
   "id": "0aba3699",
   "metadata": {
    "collapsed": false,
    "jupyter": {
     "outputs_hidden": false
    },
    "ExecuteTime": {
     "end_time": "2024-03-20T06:53:01.292709300Z",
     "start_time": "2024-03-20T06:53:01.227657Z"
    }
   },
   "outputs": [],
   "source": [
    "#019 Model 3 Building, fitting and evaluating a Conv1D model on character embeddings\n",
    "inputs = layers.Input(shape=(1,),dtype = \"string\")\n",
    "char_vectors = char_vectorizer(inputs)\n",
    "char_embeddings = char_embed(char_vectors)\n",
    "x = layers.Conv1D(64,kernel_size = 5,padding=\"same\",activation = \"relu\")(char_embeddings)\n",
    "x = layers.GlobalMaxPooling1D()(x)\n",
    "outputs = layers.Dense(num_classes,activation=\"softmax\")(x)\n",
    "model_3 = tf.keras.Model(inputs=inputs,\n",
    "                         outputs=outputs,\n",
    "                         name=\"model_3_conv1d_char_embeddings\")\n",
    "\n",
    "model_3.compile(loss=\"categorical_crossentropy\",\n",
    "                optimizer=tf.keras.optimizers.Adam(),\n",
    "                metrics = [\"accuracy\"])\n",
    "\n"
   ]
  },
  {
   "cell_type": "code",
   "execution_count": 111,
   "id": "d89a096d",
   "metadata": {
    "collapsed": false,
    "jupyter": {
     "outputs_hidden": false
    },
    "ExecuteTime": {
     "end_time": "2024-03-20T06:53:06.898204600Z",
     "start_time": "2024-03-20T06:53:06.830489900Z"
    }
   },
   "outputs": [
    {
     "name": "stdout",
     "output_type": "stream",
     "text": [
      "Model: \"model_3_conv1d_char_embeddings\"\n",
      "_________________________________________________________________\n",
      " Layer (type)                Output Shape              Param #   \n",
      "=================================================================\n",
      " input_4 (InputLayer)        [(None, 1)]               0         \n",
      "                                                                 \n",
      " char_vectorizer (TextVector  (None, 290)              0         \n",
      " ization)                                                        \n",
      "                                                                 \n",
      " char_embed (Embedding)      (None, 290, 25)           700       \n",
      "                                                                 \n",
      " conv1d_2 (Conv1D)           (None, 290, 64)           8064      \n",
      "                                                                 \n",
      " global_max_pooling1d (Globa  (None, 64)               0         \n",
      " lMaxPooling1D)                                                  \n",
      "                                                                 \n",
      " dense_4 (Dense)             (None, 5)                 325       \n",
      "                                                                 \n",
      "=================================================================\n",
      "Total params: 9,089\n",
      "Trainable params: 9,089\n",
      "Non-trainable params: 0\n",
      "_________________________________________________________________\n"
     ]
    }
   ],
   "source": [
    "model_3.summary()"
   ]
  },
  {
   "cell_type": "code",
   "execution_count": 112,
   "id": "05f5ac67",
   "metadata": {
    "collapsed": false,
    "jupyter": {
     "outputs_hidden": false
    },
    "ExecuteTime": {
     "end_time": "2024-03-20T06:53:08.626779900Z",
     "start_time": "2024-03-20T06:53:07.785805700Z"
    }
   },
   "outputs": [
    {
     "data": {
      "text/plain": "<PrefetchDataset element_spec=(TensorSpec(shape=(None,), dtype=tf.string, name=None), TensorSpec(shape=(None, 5), dtype=tf.float64, name=None))>"
     },
     "execution_count": 112,
     "metadata": {},
     "output_type": "execute_result"
    }
   ],
   "source": [
    "train_char_dataset = tf.data.Dataset.from_tensor_slices((train_chars,train_labels_one_hot)).batch(32).prefetch(tf.data.AUTOTUNE)\n",
    "val_char_dataset = tf.data.Dataset.from_tensor_slices((val_chars,val_labels_one_hot)).batch(32).prefetch(tf.data.AUTOTUNE)\n",
    "test_char_dataset = tf.data.Dataset.from_tensor_slices((test_chars,test_labels_one_hot)).batch(32).prefetch(tf.data.AUTOTUNE)\n",
    "train_char_dataset"
   ]
  },
  {
   "cell_type": "code",
   "execution_count": 113,
   "id": "d67f9ad0",
   "metadata": {
    "collapsed": false,
    "jupyter": {
     "outputs_hidden": false
    },
    "ExecuteTime": {
     "end_time": "2024-03-20T06:53:19.070086300Z",
     "start_time": "2024-03-20T06:53:10.651285600Z"
    }
   },
   "outputs": [
    {
     "name": "stdout",
     "output_type": "stream",
     "text": [
      "Epoch 1/3\n",
      "562/562 [==============================] - 3s 5ms/step - loss: 1.2755 - accuracy: 0.4913 - val_loss: 1.0460 - val_accuracy: 0.5898\n",
      "Epoch 2/3\n",
      "562/562 [==============================] - 2s 4ms/step - loss: 1.0044 - accuracy: 0.6002 - val_loss: 0.9457 - val_accuracy: 0.6277\n",
      "Epoch 3/3\n",
      "562/562 [==============================] - 2s 4ms/step - loss: 0.9237 - accuracy: 0.6388 - val_loss: 0.8657 - val_accuracy: 0.6705\n"
     ]
    }
   ],
   "source": [
    "model_3_history = model_3.fit(train_char_dataset,\n",
    "                              steps_per_epoch=int(0.1*len(train_char_dataset)),\n",
    "                              epochs=3,\n",
    "                              validation_data=val_char_dataset,\n",
    "                              validation_steps=int(0.1*len(val_char_dataset)))"
   ]
  },
  {
   "cell_type": "code",
   "execution_count": 114,
   "id": "efd25bd4",
   "metadata": {
    "collapsed": false,
    "jupyter": {
     "outputs_hidden": false
    },
    "ExecuteTime": {
     "end_time": "2024-03-20T06:53:22.199085300Z",
     "start_time": "2024-03-20T06:53:20.056332900Z"
    }
   },
   "outputs": [
    {
     "name": "stdout",
     "output_type": "stream",
     "text": [
      "945/945 [==============================] - 2s 2ms/step\n"
     ]
    },
    {
     "data": {
      "text/plain": "<tf.Tensor: shape=(30212,), dtype=int64, numpy=array([1, 1, 3, ..., 4, 4, 1], dtype=int64)>"
     },
     "execution_count": 114,
     "metadata": {},
     "output_type": "execute_result"
    }
   ],
   "source": [
    "model_3_pred_probs = model_3.predict(val_char_dataset)\n",
    "model_3_preds = tf.argmax(model_3_pred_probs,axis=1)\n",
    "model_3_preds"
   ]
  },
  {
   "cell_type": "code",
   "execution_count": 115,
   "id": "a0fdfdcc",
   "metadata": {
    "collapsed": false,
    "jupyter": {
     "outputs_hidden": false
    },
    "ExecuteTime": {
     "end_time": "2024-03-20T06:53:23.239324800Z",
     "start_time": "2024-03-20T06:53:23.188988200Z"
    }
   },
   "outputs": [
    {
     "data": {
      "text/plain": "{'accuracy': 66.05653382761817,\n 'precision': 0.6531586783664296,\n 'recall': 0.6605653382761817,\n 'f1': 0.6493164295187899}"
     },
     "execution_count": 115,
     "metadata": {},
     "output_type": "execute_result"
    }
   ],
   "source": [
    "model_3_results = calculate_results(y_true=val_labels_encoded,y_pred=model_3_preds)\n",
    "model_3_results"
   ]
  },
  {
   "cell_type": "code",
   "execution_count": 116,
   "id": "18cee8cb",
   "metadata": {
    "collapsed": false,
    "jupyter": {
     "outputs_hidden": false
    },
    "ExecuteTime": {
     "end_time": "2024-03-20T06:53:24.468143Z",
     "start_time": "2024-03-20T06:53:24.464991300Z"
    }
   },
   "outputs": [
    {
     "data": {
      "text/plain": "{'accuracy': 72.1832384482987,\n 'precision': 0.7186466952323352,\n 'recall': 0.7218323844829869,\n 'f1': 0.6989250353450294}"
     },
     "execution_count": 116,
     "metadata": {},
     "output_type": "execute_result"
    }
   ],
   "source": [
    "baseline_results"
   ]
  },
  {
   "cell_type": "code",
   "execution_count": 117,
   "id": "3634451c",
   "metadata": {
    "collapsed": false,
    "jupyter": {
     "outputs_hidden": false
    },
    "tags": [],
    "ExecuteTime": {
     "end_time": "2024-03-20T06:53:25.580366400Z",
     "start_time": "2024-03-20T06:53:25.487241100Z"
    }
   },
   "outputs": [],
   "source": [
    "#020 Discussing how we're going to build Model 4 (character + token embeddings)\n",
    "#021 Model 4 Building a multi-input model (hybrid token + character embeddings)\n",
    "#Keras Function api can be used to combine multiple layers\n",
    "token_inputs = layers.Input(shape=[],dtype=tf.string,name = \"token_input\")\n",
    "token_embeddings = tf_hub_embedding_layer(token_inputs)\n",
    "token_output = layers.Dense(128,activation=\"relu\")(token_embeddings)\n",
    "token_model = tf.keras.Model(inputs=token_inputs,\n",
    "                             outputs=token_output)"
   ]
  },
  {
   "cell_type": "code",
   "execution_count": 118,
   "id": "5c01b5f0-cb80-4ad9-b7ef-dcf64ab0cd90",
   "metadata": {
    "tags": [],
    "ExecuteTime": {
     "end_time": "2024-03-20T06:53:28.289221300Z",
     "start_time": "2024-03-20T06:53:26.524084300Z"
    }
   },
   "outputs": [],
   "source": [
    "char_inputs = layers.Input(shape=(1,),dtype=tf.string,name=\"char_input\")\n",
    "char_vectors = char_vectorizer(char_inputs)\n",
    "char_embeddings = char_embed(char_vectors)\n",
    "char_bi_lstm=layers.Bidirectional(layers.LSTM(25))(char_embeddings)\n",
    "char_model = tf.keras.Model(inputs = char_inputs,\n",
    "                            outputs = char_bi_lstm)"
   ]
  },
  {
   "cell_type": "code",
   "execution_count": 119,
   "id": "345c95b9-29a9-4808-a7fe-4256d0974468",
   "metadata": {
    "tags": [],
    "ExecuteTime": {
     "end_time": "2024-03-20T06:53:28.589017100Z",
     "start_time": "2024-03-20T06:53:28.550699600Z"
    }
   },
   "outputs": [],
   "source": [
    "#Concatenate token and Char inputs (Hybrid token embedding)\n",
    "token_char_concat = layers.Concatenate(name=\"token_char_hybrid\")([token_model.output,char_model.output])"
   ]
  },
  {
   "cell_type": "code",
   "execution_count": 120,
   "id": "3d39883b-fe35-4cc9-a841-43d5ec78d081",
   "metadata": {
    "tags": [],
    "ExecuteTime": {
     "end_time": "2024-03-20T06:53:29.982691600Z",
     "start_time": "2024-03-20T06:53:29.947154400Z"
    }
   },
   "outputs": [],
   "source": [
    "combined_dropout = layers.Dropout(0.5)(token_char_concat)\n",
    "combined_dense = layers.Dense(128,activation=\"relu\")(combined_dropout)\n",
    "final_dropout = layers.Dropout(0.5)(combined_dense)\n",
    "output_layer = layers.Dense(num_classes,activation=\"softmax\")(final_dropout)\n",
    "model_4 = tf.keras.Model(inputs=[token_model.input,char_model.input],outputs=output_layer,name = \"model_4_token_and_char_embedding\")"
   ]
  },
  {
   "cell_type": "code",
   "execution_count": 121,
   "id": "5eb8f0ae-9edf-4bec-a3fe-16bb895ca36a",
   "metadata": {
    "tags": [],
    "ExecuteTime": {
     "end_time": "2024-03-20T06:53:30.853836400Z",
     "start_time": "2024-03-20T06:53:30.784944700Z"
    }
   },
   "outputs": [
    {
     "name": "stdout",
     "output_type": "stream",
     "text": [
      "Model: \"model_4_token_and_char_embedding\"\n",
      "__________________________________________________________________________________________________\n",
      " Layer (type)                   Output Shape         Param #     Connected to                     \n",
      "==================================================================================================\n",
      " char_input (InputLayer)        [(None, 1)]          0           []                               \n",
      "                                                                                                  \n",
      " token_input (InputLayer)       [(None,)]            0           []                               \n",
      "                                                                                                  \n",
      " char_vectorizer (TextVectoriza  (None, 290)         0           ['char_input[0][0]']             \n",
      " tion)                                                                                            \n",
      "                                                                                                  \n",
      " universal_sentence_encoder (Ke  (None, 512)         256797824   ['token_input[0][0]']            \n",
      " rasLayer)                                                                                        \n",
      "                                                                                                  \n",
      " char_embed (Embedding)         (None, 290, 25)      700         ['char_vectorizer[1][0]']        \n",
      "                                                                                                  \n",
      " dense_5 (Dense)                (None, 128)          65664       ['universal_sentence_encoder[1][0\n",
      "                                                                 ]']                              \n",
      "                                                                                                  \n",
      " bidirectional (Bidirectional)  (None, 50)           10200       ['char_embed[1][0]']             \n",
      "                                                                                                  \n",
      " token_char_hybrid (Concatenate  (None, 178)         0           ['dense_5[0][0]',                \n",
      " )                                                                'bidirectional[0][0]']          \n",
      "                                                                                                  \n",
      " dropout (Dropout)              (None, 178)          0           ['token_char_hybrid[0][0]']      \n",
      "                                                                                                  \n",
      " dense_6 (Dense)                (None, 128)          22912       ['dropout[0][0]']                \n",
      "                                                                                                  \n",
      " dropout_1 (Dropout)            (None, 128)          0           ['dense_6[0][0]']                \n",
      "                                                                                                  \n",
      " dense_7 (Dense)                (None, 5)            645         ['dropout_1[0][0]']              \n",
      "                                                                                                  \n",
      "==================================================================================================\n",
      "Total params: 256,897,945\n",
      "Trainable params: 100,121\n",
      "Non-trainable params: 256,797,824\n",
      "__________________________________________________________________________________________________\n"
     ]
    }
   ],
   "source": [
    "model_4.summary()"
   ]
  },
  {
   "cell_type": "code",
   "execution_count": 122,
   "id": "3d2023e2-5404-4367-b177-d204ed27fc3a",
   "metadata": {
    "tags": [],
    "ExecuteTime": {
     "end_time": "2024-03-20T06:53:31.789351400Z",
     "start_time": "2024-03-20T06:53:31.775827200Z"
    }
   },
   "outputs": [
    {
     "name": "stdout",
     "output_type": "stream",
     "text": [
      "You must install pydot (`pip install pydot`) and install graphviz (see instructions at https://graphviz.gitlab.io/download/) for plot_model to work.\n"
     ]
    }
   ],
   "source": [
    "#022 Model 4 Plotting and visually exploring different data inputs\n",
    "#Plot hybrid token and character model\n",
    "from keras.utils import plot_model\n",
    "plot_model(model_4)"
   ]
  },
  {
   "cell_type": "code",
   "execution_count": 123,
   "id": "2859ee90-2262-40a6-bb91-e94113869cc5",
   "metadata": {
    "ExecuteTime": {
     "end_time": "2024-03-20T06:53:36.628599400Z",
     "start_time": "2024-03-20T06:53:36.609515300Z"
    }
   },
   "outputs": [],
   "source": [
    "#compile Model\n",
    "model_4.compile(loss=\"categorical_crossentropy\",\n",
    "                optimizer = tf.keras.optimizers.Adam(),\n",
    "                metrics = [\"accuracy\"])"
   ]
  },
  {
   "cell_type": "code",
   "execution_count": 124,
   "id": "469d25d7-163b-4649-9d3b-1342a7bd035c",
   "metadata": {
    "tags": [],
    "ExecuteTime": {
     "end_time": "2024-03-20T06:53:39.109301400Z",
     "start_time": "2024-03-20T06:53:37.910721800Z"
    }
   },
   "outputs": [],
   "source": [
    "#023 Crafting multi-input fast loading tf.data datasets for Model 4\n",
    "train_char_token_data = tf.data.Dataset.from_tensor_slices((train_sentences,train_chars))\n",
    "train_char_token_labels = tf.data.Dataset.from_tensor_slices(train_labels_one_hot)\n",
    "train_char_token_dataset = tf.data.Dataset.zip((train_char_token_data,train_char_token_labels))\n",
    "train_char_token_dataset=train_char_token_dataset.batch(32).prefetch(tf.data.AUTOTUNE)\n",
    "\n",
    "#for validation Data\n",
    "val_char_token_data = tf.data.Dataset.from_tensor_slices((val_sentences,val_chars))\n",
    "val_char_token_labels = tf.data.Dataset.from_tensor_slices(val_labels_one_hot)\n",
    "val_char_token_dataset = tf.data.Dataset.zip((val_char_token_data,val_char_token_labels))\n",
    "val_char_token_dataset=val_char_token_dataset.batch(32).prefetch(tf.data.AUTOTUNE)"
   ]
  },
  {
   "cell_type": "code",
   "execution_count": 125,
   "id": "184f9f26-c4ca-4ebe-9f90-f3ca3a45c3a2",
   "metadata": {
    "tags": [],
    "ExecuteTime": {
     "end_time": "2024-03-20T06:53:41.601123600Z",
     "start_time": "2024-03-20T06:53:41.594300400Z"
    }
   },
   "outputs": [
    {
     "data": {
      "text/plain": "(<PrefetchDataset element_spec=((TensorSpec(shape=(None,), dtype=tf.string, name=None), TensorSpec(shape=(None,), dtype=tf.string, name=None)), TensorSpec(shape=(None, 5), dtype=tf.float64, name=None))>,\n <PrefetchDataset element_spec=((TensorSpec(shape=(None,), dtype=tf.string, name=None), TensorSpec(shape=(None,), dtype=tf.string, name=None)), TensorSpec(shape=(None, 5), dtype=tf.float64, name=None))>)"
     },
     "execution_count": 125,
     "metadata": {},
     "output_type": "execute_result"
    }
   ],
   "source": [
    "train_char_token_dataset,val_char_token_dataset"
   ]
  },
  {
   "cell_type": "code",
   "execution_count": 127,
   "id": "b78a607a-6e60-4327-98a1-12d620723107",
   "metadata": {
    "tags": [],
    "ExecuteTime": {
     "end_time": "2024-03-20T06:56:30.798407100Z",
     "start_time": "2024-03-20T06:54:00.957058Z"
    }
   },
   "outputs": [
    {
     "name": "stdout",
     "output_type": "stream",
     "text": [
      "Epoch 1/3\n",
      "562/562 [==============================] - 53s 90ms/step - loss: 0.9885 - accuracy: 0.6061 - val_loss: 0.7744 - val_accuracy: 0.7031\n",
      "Epoch 2/3\n",
      "562/562 [==============================] - 49s 86ms/step - loss: 0.8007 - accuracy: 0.6922 - val_loss: 0.7175 - val_accuracy: 0.7301\n",
      "Epoch 3/3\n",
      "562/562 [==============================] - 49s 87ms/step - loss: 0.7735 - accuracy: 0.7048 - val_loss: 0.6928 - val_accuracy: 0.7340\n"
     ]
    }
   ],
   "source": [
    "#024 Model 4 Building, fitting and evaluating a hybrid embedding model\n",
    "# with tf.device('/CPU:0'):\n",
    "with tf.device('/CPU:0'):\n",
    "    history_model_4 = model_4.fit(train_char_token_dataset,\n",
    "                                  steps_per_epoch=int(0.1*len(train_char_token_dataset)),\n",
    "                                  epochs = 3,\n",
    "                                  validation_data=val_char_token_dataset,\n",
    "                                  validation_steps=int(0.1*len(val_char_token_dataset)))"
   ]
  },
  {
   "cell_type": "code",
   "execution_count": 129,
   "id": "effc1104-e7a1-4fcc-acd9-18b434913218",
   "metadata": {
    "tags": [],
    "ExecuteTime": {
     "end_time": "2024-03-20T06:57:13.969698500Z",
     "start_time": "2024-03-20T06:56:47.793070100Z"
    }
   },
   "outputs": [
    {
     "name": "stdout",
     "output_type": "stream",
     "text": [
      "945/945 [==============================] - 26s 28ms/step - loss: 0.6953 - accuracy: 0.7345\n"
     ]
    }
   ],
   "source": [
    "#Wvaluate on Wholde Val dataset\n",
    "with tf.device('/CPU:0'):\n",
    "    model_4.evaluate(val_char_token_dataset)"
   ]
  },
  {
   "cell_type": "code",
   "execution_count": 131,
   "id": "38891833-dab9-4b21-9b67-c74977a279f2",
   "metadata": {
    "tags": [],
    "ExecuteTime": {
     "end_time": "2024-03-20T06:58:01.613849600Z",
     "start_time": "2024-03-20T06:57:35.710878700Z"
    }
   },
   "outputs": [
    {
     "name": "stdout",
     "output_type": "stream",
     "text": [
      "945/945 [==============================] - 26s 26ms/step\n"
     ]
    }
   ],
   "source": [
    "with tf.device('/CPU:0'):\n",
    "    model_4_pred_probs = model_4.predict(val_char_token_dataset)\n",
    "    model_4_preds = tf.argmax(model_4_pred_probs,axis=1)"
   ]
  },
  {
   "cell_type": "code",
   "execution_count": 132,
   "id": "9b9bf10e-a86b-4779-9177-3f21d20f3209",
   "metadata": {
    "tags": [],
    "ExecuteTime": {
     "end_time": "2024-03-20T06:58:08.698790500Z",
     "start_time": "2024-03-20T06:58:08.635397600Z"
    }
   },
   "outputs": [],
   "source": [
    "with tf.device('/CPU:0'):\n",
    "    model_4_results = calculate_results(y_true=val_labels_encoded,\n",
    "                                        y_pred=model_4_preds)\n"
   ]
  },
  {
   "cell_type": "code",
   "execution_count": 133,
   "id": "6c4af0be-3b95-44c1-aa53-7890d601e05d",
   "metadata": {
    "tags": [],
    "ExecuteTime": {
     "end_time": "2024-03-20T06:58:10.680585300Z",
     "start_time": "2024-03-20T06:58:10.665581600Z"
    }
   },
   "outputs": [
    {
     "data": {
      "text/plain": "{'accuracy': 73.4542565867867,\n 'precision': 0.7349028864294518,\n 'recall': 0.734542565867867,\n 'f1': 0.731455806892954}"
     },
     "execution_count": 133,
     "metadata": {},
     "output_type": "execute_result"
    }
   ],
   "source": [
    "model_4_results"
   ]
  },
  {
   "cell_type": "code",
   "execution_count": 134,
   "id": "52e0ee9d-2f6a-45bd-ab99-9eca36e07662",
   "metadata": {
    "tags": [],
    "ExecuteTime": {
     "end_time": "2024-03-20T06:58:12.161842200Z",
     "start_time": "2024-03-20T06:58:12.149695400Z"
    }
   },
   "outputs": [
    {
     "data": {
      "text/plain": "      target                                               text  line_number  \\\n0  OBJECTIVE  to investigate the efficacy of @ weeks of dail...            0   \n1    METHODS  a total of @ patients with primary knee oa wer...            1   \n2    METHODS  outcome measures included pain reduction and i...            2   \n3    METHODS  pain was assessed using the visual analog pain...            3   \n4    METHODS  secondary outcome measures included the wester...            4   \n\n   total_lines  \n0           11  \n1           11  \n2           11  \n3           11  \n4           11  ",
      "text/html": "<div>\n<style scoped>\n    .dataframe tbody tr th:only-of-type {\n        vertical-align: middle;\n    }\n\n    .dataframe tbody tr th {\n        vertical-align: top;\n    }\n\n    .dataframe thead th {\n        text-align: right;\n    }\n</style>\n<table border=\"1\" class=\"dataframe\">\n  <thead>\n    <tr style=\"text-align: right;\">\n      <th></th>\n      <th>target</th>\n      <th>text</th>\n      <th>line_number</th>\n      <th>total_lines</th>\n    </tr>\n  </thead>\n  <tbody>\n    <tr>\n      <th>0</th>\n      <td>OBJECTIVE</td>\n      <td>to investigate the efficacy of @ weeks of dail...</td>\n      <td>0</td>\n      <td>11</td>\n    </tr>\n    <tr>\n      <th>1</th>\n      <td>METHODS</td>\n      <td>a total of @ patients with primary knee oa wer...</td>\n      <td>1</td>\n      <td>11</td>\n    </tr>\n    <tr>\n      <th>2</th>\n      <td>METHODS</td>\n      <td>outcome measures included pain reduction and i...</td>\n      <td>2</td>\n      <td>11</td>\n    </tr>\n    <tr>\n      <th>3</th>\n      <td>METHODS</td>\n      <td>pain was assessed using the visual analog pain...</td>\n      <td>3</td>\n      <td>11</td>\n    </tr>\n    <tr>\n      <th>4</th>\n      <td>METHODS</td>\n      <td>secondary outcome measures included the wester...</td>\n      <td>4</td>\n      <td>11</td>\n    </tr>\n  </tbody>\n</table>\n</div>"
     },
     "execution_count": 134,
     "metadata": {},
     "output_type": "execute_result"
    }
   ],
   "source": [
    "#025 Model 5 Adding positional embeddings via feature engineering (overview)\n",
    "#Pretrained token embedding+character Embedding+Positional Embedding\n",
    "train_df.head()\n"
   ]
  },
  {
   "cell_type": "code",
   "execution_count": 135,
   "id": "3e623603-ae17-4005-ab4c-e88c030053e5",
   "metadata": {
    "collapsed": true,
    "jupyter": {
     "outputs_hidden": true
    },
    "tags": [],
    "ExecuteTime": {
     "end_time": "2024-03-20T06:58:13.337115800Z",
     "start_time": "2024-03-20T06:58:13.323304100Z"
    }
   },
   "outputs": [
    {
     "data": {
      "text/plain": "line_number\n0     15000\n1     15000\n2     15000\n3     15000\n4     14992\n5     14949\n6     14758\n7     14279\n8     13346\n9     11981\n10    10041\n11     7892\n12     5853\n13     4152\n14     2835\n15     1861\n16     1188\n17      751\n18      462\n19      286\n20      162\n21      101\n22       66\n23       33\n24       22\n25       14\n26        7\n27        4\n28        3\n29        1\n30        1\nName: count, dtype: int64"
     },
     "execution_count": 135,
     "metadata": {},
     "output_type": "execute_result"
    }
   ],
   "source": [
    "#026 Encoding the line number feature to used with Model 5\n",
    "train_df[\"line_number\"].value_counts()"
   ]
  },
  {
   "cell_type": "code",
   "execution_count": 136,
   "id": "dad3c6c5-c492-44f4-86f4-b713dc27e377",
   "metadata": {
    "tags": [],
    "ExecuteTime": {
     "end_time": "2024-03-20T06:58:14.401019700Z",
     "start_time": "2024-03-20T06:58:14.266842700Z"
    }
   },
   "outputs": [
    {
     "data": {
      "text/plain": "<Axes: ylabel='Frequency'>"
     },
     "execution_count": 136,
     "metadata": {},
     "output_type": "execute_result"
    },
    {
     "data": {
      "text/plain": "<Figure size 640x480 with 1 Axes>",
      "image/png": "[encoded data removed]"
     },
     "metadata": {},
     "output_type": "display_data"
    }
   ],
   "source": [
    "#Cheking the distributuion of line number col\n",
    "train_df.line_number.plot.hist()"
   ]
  },
  {
   "cell_type": "code",
   "execution_count": 137,
   "id": "ae262604-f658-4be3-b15c-796e749359a3",
   "metadata": {
    "tags": [],
    "ExecuteTime": {
     "end_time": "2024-03-20T06:58:15.375187500Z",
     "start_time": "2024-03-20T06:58:15.322839300Z"
    }
   },
   "outputs": [
    {
     "data": {
      "text/plain": "(<tf.Tensor: shape=(10, 15), dtype=float32, numpy=\n array([[1., 0., 0., 0., 0., 0., 0., 0., 0., 0., 0., 0., 0., 0., 0.],\n        [0., 1., 0., 0., 0., 0., 0., 0., 0., 0., 0., 0., 0., 0., 0.],\n        [0., 0., 1., 0., 0., 0., 0., 0., 0., 0., 0., 0., 0., 0., 0.],\n        [0., 0., 0., 1., 0., 0., 0., 0., 0., 0., 0., 0., 0., 0., 0.],\n        [0., 0., 0., 0., 1., 0., 0., 0., 0., 0., 0., 0., 0., 0., 0.],\n        [0., 0., 0., 0., 0., 1., 0., 0., 0., 0., 0., 0., 0., 0., 0.],\n        [0., 0., 0., 0., 0., 0., 1., 0., 0., 0., 0., 0., 0., 0., 0.],\n        [0., 0., 0., 0., 0., 0., 0., 1., 0., 0., 0., 0., 0., 0., 0.],\n        [0., 0., 0., 0., 0., 0., 0., 0., 1., 0., 0., 0., 0., 0., 0.],\n        [0., 0., 0., 0., 0., 0., 0., 0., 0., 1., 0., 0., 0., 0., 0.]],\n       dtype=float32)>,\n TensorShape([180040, 15]))"
     },
     "execution_count": 137,
     "metadata": {},
     "output_type": "execute_result"
    }
   ],
   "source": [
    "train_line_numbers_one_hot = tf.one_hot(train_df[\"line_number\"].to_numpy(),depth=15)\n",
    "val_line_numbers_one_hot = tf.one_hot(val_df[\"line_number\"].to_numpy(),depth=15)\n",
    "test_line_numbers_one_hot = tf.one_hot(test_df[\"line_number\"].to_numpy(),depth=15)\n",
    "train_line_numbers_one_hot[:10],train_line_numbers_one_hot.shape"
   ]
  },
  {
   "cell_type": "code",
   "execution_count": 138,
   "id": "8b4a7bbb-1001-4f16-98d7-8ad4102499fe",
   "metadata": {
    "tags": [],
    "ExecuteTime": {
     "end_time": "2024-03-20T06:58:16.650667900Z",
     "start_time": "2024-03-20T06:58:16.617409300Z"
    }
   },
   "outputs": [
    {
     "data": {
      "text/plain": "total_lines\n11    24468\n10    23639\n12    22113\n9     19400\n13    18438\n14    14610\n8     12285\n15    10768\n7      7464\n16     7429\n17     5202\n6      3353\n18     3344\n19     2480\n20     1281\n5      1146\n21      770\n22      759\n23      264\n4       215\n24      200\n25      182\n26       81\n28       58\n3        32\n30       31\n27       28\nName: count, dtype: int64"
     },
     "execution_count": 138,
     "metadata": {},
     "output_type": "execute_result"
    }
   ],
   "source": [
    "#027 Encoding the total lines feature to be used with Model 5\n",
    "train_df[\"total_lines\"].value_counts()"
   ]
  },
  {
   "cell_type": "code",
   "execution_count": 139,
   "id": "d097fccc-ffc3-4f7e-846b-5a4951b08c4e",
   "metadata": {
    "tags": [],
    "ExecuteTime": {
     "end_time": "2024-03-20T06:58:17.731317700Z",
     "start_time": "2024-03-20T06:58:17.597576Z"
    }
   },
   "outputs": [
    {
     "data": {
      "text/plain": "<Axes: ylabel='Frequency'>"
     },
     "execution_count": 139,
     "metadata": {},
     "output_type": "execute_result"
    },
    {
     "data": {
      "text/plain": "<Figure size 640x480 with 1 Axes>",
      "image/png": "[encoded data removed]"
     },
     "metadata": {},
     "output_type": "display_data"
    }
   ],
   "source": [
    "train_df.total_lines.plot.hist()"
   ]
  },
  {
   "cell_type": "code",
   "execution_count": 140,
   "id": "e1ed1da5-a5ea-45c6-ae1e-b7aa08528580",
   "metadata": {
    "tags": [],
    "ExecuteTime": {
     "end_time": "2024-03-20T06:58:18.625590700Z",
     "start_time": "2024-03-20T06:58:18.593629Z"
    }
   },
   "outputs": [
    {
     "data": {
      "text/plain": "20.0"
     },
     "execution_count": 140,
     "metadata": {},
     "output_type": "execute_result"
    }
   ],
   "source": [
    "np.percentile(train_df.total_lines,98)"
   ]
  },
  {
   "cell_type": "code",
   "execution_count": 141,
   "id": "1580adac-cb43-47b0-a3ef-0e0f97c011fa",
   "metadata": {
    "tags": [],
    "ExecuteTime": {
     "end_time": "2024-03-20T06:58:19.983010Z",
     "start_time": "2024-03-20T06:58:19.932611200Z"
    }
   },
   "outputs": [
    {
     "data": {
      "text/plain": "(TensorShape([180040, 20]),\n <tf.Tensor: shape=(10, 20), dtype=float32, numpy=\n array([[0., 0., 0., 0., 0., 0., 0., 0., 0., 0., 0., 1., 0., 0., 0., 0.,\n         0., 0., 0., 0.],\n        [0., 0., 0., 0., 0., 0., 0., 0., 0., 0., 0., 1., 0., 0., 0., 0.,\n         0., 0., 0., 0.],\n        [0., 0., 0., 0., 0., 0., 0., 0., 0., 0., 0., 1., 0., 0., 0., 0.,\n         0., 0., 0., 0.],\n        [0., 0., 0., 0., 0., 0., 0., 0., 0., 0., 0., 1., 0., 0., 0., 0.,\n         0., 0., 0., 0.],\n        [0., 0., 0., 0., 0., 0., 0., 0., 0., 0., 0., 1., 0., 0., 0., 0.,\n         0., 0., 0., 0.],\n        [0., 0., 0., 0., 0., 0., 0., 0., 0., 0., 0., 1., 0., 0., 0., 0.,\n         0., 0., 0., 0.],\n        [0., 0., 0., 0., 0., 0., 0., 0., 0., 0., 0., 1., 0., 0., 0., 0.,\n         0., 0., 0., 0.],\n        [0., 0., 0., 0., 0., 0., 0., 0., 0., 0., 0., 1., 0., 0., 0., 0.,\n         0., 0., 0., 0.],\n        [0., 0., 0., 0., 0., 0., 0., 0., 0., 0., 0., 1., 0., 0., 0., 0.,\n         0., 0., 0., 0.],\n        [0., 0., 0., 0., 0., 0., 0., 0., 0., 0., 0., 1., 0., 0., 0., 0.,\n         0., 0., 0., 0.]], dtype=float32)>)"
     },
     "execution_count": 141,
     "metadata": {},
     "output_type": "execute_result"
    }
   ],
   "source": [
    "train_total_lines_one_hot= tf.one_hot(train_df[\"total_lines\"].to_numpy(),depth=20)\n",
    "val_total_lines_one_hot= tf.one_hot(val_df[\"total_lines\"].to_numpy(),depth=20)\n",
    "test_total_lines_one_hot= tf.one_hot(test_df[\"total_lines\"].to_numpy(),depth=20)\n",
    "train_total_lines_one_hot.shape,train_total_lines_one_hot[:10]"
   ]
  },
  {
   "cell_type": "code",
   "execution_count": 142,
   "id": "79f28996-f690-43d3-8fc9-4f0154c69585",
   "metadata": {
    "tags": [],
    "ExecuteTime": {
     "end_time": "2024-03-20T06:58:22.409126800Z",
     "start_time": "2024-03-20T06:58:20.939973900Z"
    }
   },
   "outputs": [],
   "source": [
    "#028 Model 5 Building the foundations of a tribrid embedding model\n",
    "#029 Model 5 Completing the build of a tribrid embedding model for sequences\n",
    "token_inputs = layers.Input(shape = [],dtype = \"string\",name = \"token_inputs\")\n",
    "token_embeddings = tf_hub_embedding_layer(token_inputs)\n",
    "token_outputs = layers.Dense(128,activation=\"relu\")(token_embeddings)\n",
    "token_model = tf.keras.Model(inputs = token_inputs,\n",
    "                            outputs = token_outputs)\n",
    "\n",
    "char_inputs = layers.Input(shape = (1,),dtype = \"string\",name = \"char_inputs\")\n",
    "char_vectors = char_vectorizer(char_inputs)\n",
    "char_embeddings = char_embed(char_vectors)\n",
    "char_bi_lstm = layers.Bidirectional(layers.LSTM(24))(char_embeddings)\n",
    "char_model = tf.keras.Model(inputs = char_inputs,\n",
    "                           outputs = char_bi_lstm)\n",
    "\n",
    "\n",
    "\n",
    "line_numbers_inputs=layers.Input(shape = (15,),dtype = tf.float32,name=\"line_number_input\")\n",
    "x = layers.Dense(32,activation=\"relu\")(line_numbers_inputs)\n",
    "line_number_model = tf.keras.Model(inputs = line_numbers_inputs,outputs=x )\n",
    "\n",
    "\n",
    "total_lines_inputs = layers.Input(shape = (20,),dtype = tf.float32,name=\"total_lines_input\")\n",
    "y = layers.Dense(32,activation=\"relu\")(total_lines_inputs)\n",
    "total_lines_model = tf.keras.Model(inputs = total_lines_inputs,outputs=y )\n",
    "\n",
    "\n",
    "\n",
    "combined_embeddings = layers.Concatenate(name=\"char_token_hybrid_embedding\")([token_model.output,\n",
    "                                                                             char_model.output])\n",
    "\n",
    "\n",
    "z = layers.Dense(256,activation=\"relu\")(combined_embeddings)\n",
    "z = layers.Dropout(0.5)(z)\n",
    "\n",
    "tribrid_embeddings = layers.Concatenate(name= \"char_token_positional\")([line_number_model.output,\n",
    "                                                                       total_lines_model.output,\n",
    "                                                                       z])\n",
    "\n",
    "output_layer = layers.Dense(5,activation=\"softmax\",name=\"output_layer\")(tribrid_embeddings)\n",
    "\n",
    "model_5 = tf.keras.Model(inputs = [line_number_model.input,\n",
    "                                  total_lines_model.input,\n",
    "                                  token_model.input,\n",
    "                                  char_model.input],\n",
    "                        outputs = output_layer,name=\"model_5_tribrid_embedding_model\")"
   ]
  },
  {
   "cell_type": "code",
   "execution_count": 143,
   "id": "2fe58662-65c3-41a1-9779-1a5cb6c73934",
   "metadata": {
    "tags": [],
    "ExecuteTime": {
     "end_time": "2024-03-20T06:58:23.773688300Z",
     "start_time": "2024-03-20T06:58:23.707329600Z"
    }
   },
   "outputs": [
    {
     "name": "stdout",
     "output_type": "stream",
     "text": [
      "Model: \"model_5_tribrid_embedding_model\"\n",
      "__________________________________________________________________________________________________\n",
      " Layer (type)                   Output Shape         Param #     Connected to                     \n",
      "==================================================================================================\n",
      " char_inputs (InputLayer)       [(None, 1)]          0           []                               \n",
      "                                                                                                  \n",
      " token_inputs (InputLayer)      [(None,)]            0           []                               \n",
      "                                                                                                  \n",
      " char_vectorizer (TextVectoriza  (None, 290)         0           ['char_inputs[0][0]']            \n",
      " tion)                                                                                            \n",
      "                                                                                                  \n",
      " universal_sentence_encoder (Ke  (None, 512)         256797824   ['token_inputs[0][0]']           \n",
      " rasLayer)                                                                                        \n",
      "                                                                                                  \n",
      " char_embed (Embedding)         (None, 290, 25)      700         ['char_vectorizer[2][0]']        \n",
      "                                                                                                  \n",
      " dense_8 (Dense)                (None, 128)          65664       ['universal_sentence_encoder[2][0\n",
      "                                                                 ]']                              \n",
      "                                                                                                  \n",
      " bidirectional_1 (Bidirectional  (None, 48)          9600        ['char_embed[2][0]']             \n",
      " )                                                                                                \n",
      "                                                                                                  \n",
      " char_token_hybrid_embedding (C  (None, 176)         0           ['dense_8[0][0]',                \n",
      " oncatenate)                                                      'bidirectional_1[0][0]']        \n",
      "                                                                                                  \n",
      " line_number_input (InputLayer)  [(None, 15)]        0           []                               \n",
      "                                                                                                  \n",
      " total_lines_input (InputLayer)  [(None, 20)]        0           []                               \n",
      "                                                                                                  \n",
      " dense_11 (Dense)               (None, 256)          45312       ['char_token_hybrid_embedding[0][\n",
      "                                                                 0]']                             \n",
      "                                                                                                  \n",
      " dense_9 (Dense)                (None, 32)           512         ['line_number_input[0][0]']      \n",
      "                                                                                                  \n",
      " dense_10 (Dense)               (None, 32)           672         ['total_lines_input[0][0]']      \n",
      "                                                                                                  \n",
      " dropout_2 (Dropout)            (None, 256)          0           ['dense_11[0][0]']               \n",
      "                                                                                                  \n",
      " char_token_positional (Concate  (None, 320)         0           ['dense_9[0][0]',                \n",
      " nate)                                                            'dense_10[0][0]',               \n",
      "                                                                  'dropout_2[0][0]']              \n",
      "                                                                                                  \n",
      " output_layer (Dense)           (None, 5)            1605        ['char_token_positional[0][0]']  \n",
      "                                                                                                  \n",
      "==================================================================================================\n",
      "Total params: 256,921,889\n",
      "Trainable params: 124,065\n",
      "Non-trainable params: 256,797,824\n",
      "__________________________________________________________________________________________________\n"
     ]
    }
   ],
   "source": [
    "model_5.summary()"
   ]
  },
  {
   "cell_type": "code",
   "execution_count": 144,
   "id": "f2f10438-1663-4a64-9d3f-dde69bf316cf",
   "metadata": {
    "ExecuteTime": {
     "end_time": "2024-03-20T06:58:24.607784500Z",
     "start_time": "2024-03-20T06:58:24.572426600Z"
    }
   },
   "outputs": [],
   "source": [
    "#030 Visually inspecting the architecture of our tribrid embedding model\n",
    "#https://towardsdatascience.com/what-is-label-smoothing-108debd7ef06\n",
    "model_5.compile(loss = tf.keras.losses.CategoricalCrossentropy(label_smoothing=0.2),\n",
    "               optimizer=tf.keras.optimizers.Adam(),\n",
    "               metrics = [\"accuracy\"])\n"
   ]
  },
  {
   "cell_type": "code",
   "execution_count": 145,
   "id": "4237939b-500e-4133-a49c-5639baa3e802",
   "metadata": {
    "tags": [],
    "ExecuteTime": {
     "end_time": "2024-03-20T06:58:27.148721700Z",
     "start_time": "2024-03-20T06:58:25.988255300Z"
    }
   },
   "outputs": [],
   "source": [
    "#031 Creating multi-level data input pipelines for Model 5 with the tf.data API\n",
    "train_char_token_pos_data = tf.data.Dataset.from_tensor_slices((train_line_numbers_one_hot,train_total_lines_one_hot,train_sentences,train_chars))\n",
    "train_char_token_pos_labels = tf.data.Dataset.from_tensor_slices(train_labels_one_hot)\n",
    "train_char_token_pos_dataset  = tf.data.Dataset.zip((train_char_token_pos_data,train_char_token_pos_labels))\n",
    "train_char_token_pos_dataset = train_char_token_pos_dataset.batch(32).prefetch(tf.data.AUTOTUNE)\n",
    "\n",
    "\n",
    "val_char_token_pos_data = tf.data.Dataset.from_tensor_slices((val_line_numbers_one_hot,val_total_lines_one_hot,val_sentences,val_chars))\n",
    "val_char_token_pos_labels = tf.data.Dataset.from_tensor_slices(val_labels_one_hot)\n",
    "val_char_token_pos_dataset  = tf.data.Dataset.zip((val_char_token_pos_data,val_char_token_pos_labels))\n",
    "val_char_token_pos_dataset = val_char_token_pos_dataset.batch(32).prefetch(tf.data.AUTOTUNE)"
   ]
  },
  {
   "cell_type": "code",
   "execution_count": 146,
   "id": "58639085-9973-46eb-8e50-4b9046cea694",
   "metadata": {
    "tags": [],
    "ExecuteTime": {
     "end_time": "2024-03-20T06:58:29.758861100Z",
     "start_time": "2024-03-20T06:58:29.710699800Z"
    }
   },
   "outputs": [
    {
     "data": {
      "text/plain": "(<PrefetchDataset element_spec=((TensorSpec(shape=(None, 15), dtype=tf.float32, name=None), TensorSpec(shape=(None, 20), dtype=tf.float32, name=None), TensorSpec(shape=(None,), dtype=tf.string, name=None), TensorSpec(shape=(None,), dtype=tf.string, name=None)), TensorSpec(shape=(None, 5), dtype=tf.float64, name=None))>,\n <PrefetchDataset element_spec=((TensorSpec(shape=(None, 15), dtype=tf.float32, name=None), TensorSpec(shape=(None, 20), dtype=tf.float32, name=None), TensorSpec(shape=(None,), dtype=tf.string, name=None), TensorSpec(shape=(None,), dtype=tf.string, name=None)), TensorSpec(shape=(None, 5), dtype=tf.float64, name=None))>)"
     },
     "execution_count": 146,
     "metadata": {},
     "output_type": "execute_result"
    }
   ],
   "source": [
    "train_char_token_pos_dataset,val_char_token_pos_dataset"
   ]
  },
  {
   "cell_type": "code",
   "execution_count": 148,
   "id": "6c24d1ad-50cc-4118-865a-7a37fe83f9f4",
   "metadata": {
    "tags": [],
    "ExecuteTime": {
     "end_time": "2024-03-20T07:01:25.629148100Z",
     "start_time": "2024-03-20T06:58:58.598670900Z"
    }
   },
   "outputs": [
    {
     "name": "stdout",
     "output_type": "stream",
     "text": [
      "Epoch 1/3\n",
      "562/562 [==============================] - 51s 88ms/step - loss: 1.1101 - accuracy: 0.7118 - val_loss: 0.9871 - val_accuracy: 0.8012\n",
      "Epoch 2/3\n",
      "562/562 [==============================] - 48s 85ms/step - loss: 0.9667 - accuracy: 0.8174 - val_loss: 0.9494 - val_accuracy: 0.8245\n",
      "Epoch 3/3\n",
      "562/562 [==============================] - 48s 86ms/step - loss: 0.9510 - accuracy: 0.8207 - val_loss: 0.9402 - val_accuracy: 0.8298\n"
     ]
    }
   ],
   "source": [
    "#032 Bringing SkimLit to life!!! (fitting and evaluating Model 5)\n",
    "with tf.device('/CPU:0'):\n",
    "    history_model_5 = model_5.fit(train_char_token_pos_dataset,\n",
    "                                  steps_per_epoch=int(0.1*len(train_char_token_pos_dataset)),\n",
    "                                  epochs = 3,\n",
    "                                 validation_data=val_char_token_pos_dataset,\n",
    "                                 validation_steps=int(0.1*len(val_char_token_pos_dataset)))"
   ]
  },
  {
   "cell_type": "code",
   "execution_count": 149,
   "id": "c2674dcd-c87c-404e-9519-01f580994944",
   "metadata": {
    "tags": [],
    "ExecuteTime": {
     "end_time": "2024-03-20T07:01:55.616903700Z",
     "start_time": "2024-03-20T07:01:30.224303300Z"
    }
   },
   "outputs": [
    {
     "name": "stdout",
     "output_type": "stream",
     "text": [
      "945/945 [==============================] - 25s 24ms/step\n"
     ]
    }
   ],
   "source": [
    "with tf.device('/CPU:0'):\n",
    "    model_5_pred_probs = model_5.predict(val_char_token_pos_dataset,verbose = 1)\n",
    "    model_5_preds = tf.argmax(model_5_pred_probs,axis=1)"
   ]
  },
  {
   "cell_type": "code",
   "execution_count": 150,
   "id": "a39408e7-87ba-43a1-be47-cea13cb39f07",
   "metadata": {
    "tags": [],
    "ExecuteTime": {
     "end_time": "2024-03-20T07:02:05.344917300Z",
     "start_time": "2024-03-20T07:02:05.313042Z"
    }
   },
   "outputs": [],
   "source": [
    "with tf.device('/CPU:0'):\n",
    "    model_5_results = calculate_results(y_true = val_labels_encoded,y_pred=model_5_preds)"
   ]
  },
  {
   "cell_type": "code",
   "execution_count": 151,
   "id": "7f442ea7-93fd-4c5e-b92b-4a7f48ba491a",
   "metadata": {
    "tags": [],
    "ExecuteTime": {
     "end_time": "2024-03-20T07:02:07.810254300Z",
     "start_time": "2024-03-20T07:02:07.802319200Z"
    }
   },
   "outputs": [
    {
     "data": {
      "text/plain": "{'accuracy': 83.19541903879252,\n 'precision': 0.8308962190850673,\n 'recall': 0.8319541903879253,\n 'f1': 0.8311213798495926}"
     },
     "execution_count": 151,
     "metadata": {},
     "output_type": "execute_result"
    }
   ],
   "source": [
    "model_5_results"
   ]
  },
  {
   "cell_type": "code",
   "execution_count": 152,
   "id": "84fe193e-adba-4572-887f-9664b6a0f2f0",
   "metadata": {
    "tags": [],
    "ExecuteTime": {
     "end_time": "2024-03-20T07:02:09.090979200Z",
     "start_time": "2024-03-20T07:02:09.042291200Z"
    }
   },
   "outputs": [
    {
     "data": {
      "text/plain": "{'accuracy': 73.4542565867867,\n 'precision': 0.7349028864294518,\n 'recall': 0.734542565867867,\n 'f1': 0.731455806892954}"
     },
     "execution_count": 152,
     "metadata": {},
     "output_type": "execute_result"
    }
   ],
   "source": [
    "model_4_results"
   ]
  },
  {
   "cell_type": "code",
   "execution_count": null,
   "id": "7463c842-d09e-45c5-bc4d-5ce5269a8aae",
   "metadata": {},
   "outputs": [],
   "source": [
    "#033 Comparing the performance of all of our modelling experiments"
   ]
  }
 ],
 "metadata": {
  "availableInstances": [
   {
    "_defaultOrder": 0,
    "_isFastLaunch": true,
    "category": "General purpose",
    "gpuNum": 0,
    "hideHardwareSpecs": false,
    "memoryGiB": 4,
    "name": "ml.t3.medium",
    "vcpuNum": 2
   },
   {
    "_defaultOrder": 1,
    "_isFastLaunch": false,
    "category": "General purpose",
    "gpuNum": 0,
    "hideHardwareSpecs": false,
    "memoryGiB": 8,
    "name": "ml.t3.large",
    "vcpuNum": 2
   },
   {
    "_defaultOrder": 2,
    "_isFastLaunch": false,
    "category": "General purpose",
    "gpuNum": 0,
    "hideHardwareSpecs": false,
    "memoryGiB": 16,
    "name": "ml.t3.xlarge",
    "vcpuNum": 4
   },
   {
    "_defaultOrder": 3,
    "_isFastLaunch": false,
    "category": "General purpose",
    "gpuNum": 0,
    "hideHardwareSpecs": false,
    "memoryGiB": 32,
    "name": "ml.t3.2xlarge",
    "vcpuNum": 8
   },
   {
    "_defaultOrder": 4,
    "_isFastLaunch": true,
    "category": "General purpose",
    "gpuNum": 0,
    "hideHardwareSpecs": false,
    "memoryGiB": 8,
    "name": "ml.m5.large",
    "vcpuNum": 2
   },
   {
    "_defaultOrder": 5,
    "_isFastLaunch": false,
    "category": "General purpose",
    "gpuNum": 0,
    "hideHardwareSpecs": false,
    "memoryGiB": 16,
    "name": "ml.m5.xlarge",
    "vcpuNum": 4
   },
   {
    "_defaultOrder": 6,
    "_isFastLaunch": false,
    "category": "General purpose",
    "gpuNum": 0,
    "hideHardwareSpecs": false,
    "memoryGiB": 32,
    "name": "ml.m5.2xlarge",
    "vcpuNum": 8
   },
   {
    "_defaultOrder": 7,
    "_isFastLaunch": false,
    "category": "General purpose",
    "gpuNum": 0,
    "hideHardwareSpecs": false,
    "memoryGiB": 64,
    "name": "ml.m5.4xlarge",
    "vcpuNum": 16
   },
   {
    "_defaultOrder": 8,
    "_isFastLaunch": false,
    "category": "General purpose",
    "gpuNum": 0,
    "hideHardwareSpecs": false,
    "memoryGiB": 128,
    "name": "ml.m5.8xlarge",
    "vcpuNum": 32
   },
   {
    "_defaultOrder": 9,
    "_isFastLaunch": false,
    "category": "General purpose",
    "gpuNum": 0,
    "hideHardwareSpecs": false,
    "memoryGiB": 192,
    "name": "ml.m5.12xlarge",
    "vcpuNum": 48
   },
   {
    "_defaultOrder": 10,
    "_isFastLaunch": false,
    "category": "General purpose",
    "gpuNum": 0,
    "hideHardwareSpecs": false,
    "memoryGiB": 256,
    "name": "ml.m5.16xlarge",
    "vcpuNum": 64
   },
   {
    "_defaultOrder": 11,
    "_isFastLaunch": false,
    "category": "General purpose",
    "gpuNum": 0,
    "hideHardwareSpecs": false,
    "memoryGiB": 384,
    "name": "ml.m5.24xlarge",
    "vcpuNum": 96
   },
   {
    "_defaultOrder": 12,
    "_isFastLaunch": false,
    "category": "General purpose",
    "gpuNum": 0,
    "hideHardwareSpecs": false,
    "memoryGiB": 8,
    "name": "ml.m5d.large",
    "vcpuNum": 2
   },
   {
    "_defaultOrder": 13,
    "_isFastLaunch": false,
    "category": "General purpose",
    "gpuNum": 0,
    "hideHardwareSpecs": false,
    "memoryGiB": 16,
    "name": "ml.m5d.xlarge",
    "vcpuNum": 4
   },
   {
    "_defaultOrder": 14,
    "_isFastLaunch": false,
    "category": "General purpose",
    "gpuNum": 0,
    "hideHardwareSpecs": false,
    "memoryGiB": 32,
    "name": "ml.m5d.2xlarge",
    "vcpuNum": 8
   },
   {
    "_defaultOrder": 15,
    "_isFastLaunch": false,
    "category": "General purpose",
    "gpuNum": 0,
    "hideHardwareSpecs": false,
    "memoryGiB": 64,
    "name": "ml.m5d.4xlarge",
    "vcpuNum": 16
   },
   {
    "_defaultOrder": 16,
    "_isFastLaunch": false,
    "category": "General purpose",
    "gpuNum": 0,
    "hideHardwareSpecs": false,
    "memoryGiB": 128,
    "name": "ml.m5d.8xlarge",
    "vcpuNum": 32
   },
   {
    "_defaultOrder": 17,
    "_isFastLaunch": false,
    "category": "General purpose",
    "gpuNum": 0,
    "hideHardwareSpecs": false,
    "memoryGiB": 192,
    "name": "ml.m5d.12xlarge",
    "vcpuNum": 48
   },
   {
    "_defaultOrder": 18,
    "_isFastLaunch": false,
    "category": "General purpose",
    "gpuNum": 0,
    "hideHardwareSpecs": false,
    "memoryGiB": 256,
    "name": "ml.m5d.16xlarge",
    "vcpuNum": 64
   },
   {
    "_defaultOrder": 19,
    "_isFastLaunch": false,
    "category": "General purpose",
    "gpuNum": 0,
    "hideHardwareSpecs": false,
    "memoryGiB": 384,
    "name": "ml.m5d.24xlarge",
    "vcpuNum": 96
   },
   {
    "_defaultOrder": 20,
    "_isFastLaunch": false,
    "category": "General purpose",
    "gpuNum": 0,
    "hideHardwareSpecs": true,
    "memoryGiB": 0,
    "name": "ml.geospatial.interactive",
    "supportedImageNames": [
     "sagemaker-geospatial-v1-0"
    ],
    "vcpuNum": 0
   },
   {
    "_defaultOrder": 21,
    "_isFastLaunch": true,
    "category": "Compute optimized",
    "gpuNum": 0,
    "hideHardwareSpecs": false,
    "memoryGiB": 4,
    "name": "ml.c5.large",
    "vcpuNum": 2
   },
   {
    "_defaultOrder": 22,
    "_isFastLaunch": false,
    "category": "Compute optimized",
    "gpuNum": 0,
    "hideHardwareSpecs": false,
    "memoryGiB": 8,
    "name": "ml.c5.xlarge",
    "vcpuNum": 4
   },
   {
    "_defaultOrder": 23,
    "_isFastLaunch": false,
    "category": "Compute optimized",
    "gpuNum": 0,
    "hideHardwareSpecs": false,
    "memoryGiB": 16,
    "name": "ml.c5.2xlarge",
    "vcpuNum": 8
   },
   {
    "_defaultOrder": 24,
    "_isFastLaunch": false,
    "category": "Compute optimized",
    "gpuNum": 0,
    "hideHardwareSpecs": false,
    "memoryGiB": 32,
    "name": "ml.c5.4xlarge",
    "vcpuNum": 16
   },
   {
    "_defaultOrder": 25,
    "_isFastLaunch": false,
    "category": "Compute optimized",
    "gpuNum": 0,
    "hideHardwareSpecs": false,
    "memoryGiB": 72,
    "name": "ml.c5.9xlarge",
    "vcpuNum": 36
   },
   {
    "_defaultOrder": 26,
    "_isFastLaunch": false,
    "category": "Compute optimized",
    "gpuNum": 0,
    "hideHardwareSpecs": false,
    "memoryGiB": 96,
    "name": "ml.c5.12xlarge",
    "vcpuNum": 48
   },
   {
    "_defaultOrder": 27,
    "_isFastLaunch": false,
    "category": "Compute optimized",
    "gpuNum": 0,
    "hideHardwareSpecs": false,
    "memoryGiB": 144,
    "name": "ml.c5.18xlarge",
    "vcpuNum": 72
   },
   {
    "_defaultOrder": 28,
    "_isFastLaunch": false,
    "category": "Compute optimized",
    "gpuNum": 0,
    "hideHardwareSpecs": false,
    "memoryGiB": 192,
    "name": "ml.c5.24xlarge",
    "vcpuNum": 96
   },
   {
    "_defaultOrder": 29,
    "_isFastLaunch": true,
    "category": "Accelerated computing",
    "gpuNum": 1,
    "hideHardwareSpecs": false,
    "memoryGiB": 16,
    "name": "ml.g4dn.xlarge",
    "vcpuNum": 4
   },
   {
    "_defaultOrder": 30,
    "_isFastLaunch": false,
    "category": "Accelerated computing",
    "gpuNum": 1,
    "hideHardwareSpecs": false,
    "memoryGiB": 32,
    "name": "ml.g4dn.2xlarge",
    "vcpuNum": 8
   },
   {
    "_defaultOrder": 31,
    "_isFastLaunch": false,
    "category": "Accelerated computing",
    "gpuNum": 1,
    "hideHardwareSpecs": false,
    "memoryGiB": 64,
    "name": "ml.g4dn.4xlarge",
    "vcpuNum": 16
   },
   {
    "_defaultOrder": 32,
    "_isFastLaunch": false,
    "category": "Accelerated computing",
    "gpuNum": 1,
    "hideHardwareSpecs": false,
    "memoryGiB": 128,
    "name": "ml.g4dn.8xlarge",
    "vcpuNum": 32
   },
   {
    "_defaultOrder": 33,
    "_isFastLaunch": false,
    "category": "Accelerated computing",
    "gpuNum": 4,
    "hideHardwareSpecs": false,
    "memoryGiB": 192,
    "name": "ml.g4dn.12xlarge",
    "vcpuNum": 48
   },
   {
    "_defaultOrder": 34,
    "_isFastLaunch": false,
    "category": "Accelerated computing",
    "gpuNum": 1,
    "hideHardwareSpecs": false,
    "memoryGiB": 256,
    "name": "ml.g4dn.16xlarge",
    "vcpuNum": 64
   },
   {
    "_defaultOrder": 35,
    "_isFastLaunch": false,
    "category": "Accelerated computing",
    "gpuNum": 1,
    "hideHardwareSpecs": false,
    "memoryGiB": 61,
    "name": "ml.p3.2xlarge",
    "vcpuNum": 8
   },
   {
    "_defaultOrder": 36,
    "_isFastLaunch": false,
    "category": "Accelerated computing",
    "gpuNum": 4,
    "hideHardwareSpecs": false,
    "memoryGiB": 244,
    "name": "ml.p3.8xlarge",
    "vcpuNum": 32
   },
   {
    "_defaultOrder": 37,
    "_isFastLaunch": false,
    "category": "Accelerated computing",
    "gpuNum": 8,
    "hideHardwareSpecs": false,
    "memoryGiB": 488,
    "name": "ml.p3.16xlarge",
    "vcpuNum": 64
   },
   {
    "_defaultOrder": 38,
    "_isFastLaunch": false,
    "category": "Accelerated computing",
    "gpuNum": 8,
    "hideHardwareSpecs": false,
    "memoryGiB": 768,
    "name": "ml.p3dn.24xlarge",
    "vcpuNum": 96
   },
   {
    "_defaultOrder": 39,
    "_isFastLaunch": false,
    "category": "Memory Optimized",
    "gpuNum": 0,
    "hideHardwareSpecs": false,
    "memoryGiB": 16,
    "name": "ml.r5.large",
    "vcpuNum": 2
   },
   {
    "_defaultOrder": 40,
    "_isFastLaunch": false,
    "category": "Memory Optimized",
    "gpuNum": 0,
    "hideHardwareSpecs": false,
    "memoryGiB": 32,
    "name": "ml.r5.xlarge",
    "vcpuNum": 4
   },
   {
    "_defaultOrder": 41,
    "_isFastLaunch": false,
    "category": "Memory Optimized",
    "gpuNum": 0,
    "hideHardwareSpecs": false,
    "memoryGiB": 64,
    "name": "ml.r5.2xlarge",
    "vcpuNum": 8
   },
   {
    "_defaultOrder": 42,
    "_isFastLaunch": false,
    "category": "Memory Optimized",
    "gpuNum": 0,
    "hideHardwareSpecs": false,
    "memoryGiB": 128,
    "name": "ml.r5.4xlarge",
    "vcpuNum": 16
   },
   {
    "_defaultOrder": 43,
    "_isFastLaunch": false,
    "category": "Memory Optimized",
    "gpuNum": 0,
    "hideHardwareSpecs": false,
    "memoryGiB": 256,
    "name": "ml.r5.8xlarge",
    "vcpuNum": 32
   },
   {
    "_defaultOrder": 44,
    "_isFastLaunch": false,
    "category": "Memory Optimized",
    "gpuNum": 0,
    "hideHardwareSpecs": false,
    "memoryGiB": 384,
    "name": "ml.r5.12xlarge",
    "vcpuNum": 48
   },
   {
    "_defaultOrder": 45,
    "_isFastLaunch": false,
    "category": "Memory Optimized",
    "gpuNum": 0,
    "hideHardwareSpecs": false,
    "memoryGiB": 512,
    "name": "ml.r5.16xlarge",
    "vcpuNum": 64
   },
   {
    "_defaultOrder": 46,
    "_isFastLaunch": false,
    "category": "Memory Optimized",
    "gpuNum": 0,
    "hideHardwareSpecs": false,
    "memoryGiB": 768,
    "name": "ml.r5.24xlarge",
    "vcpuNum": 96
   },
   {
    "_defaultOrder": 47,
    "_isFastLaunch": false,
    "category": "Accelerated computing",
    "gpuNum": 1,
    "hideHardwareSpecs": false,
    "memoryGiB": 16,
    "name": "ml.g5.xlarge",
    "vcpuNum": 4
   },
   {
    "_defaultOrder": 48,
    "_isFastLaunch": false,
    "category": "Accelerated computing",
    "gpuNum": 1,
    "hideHardwareSpecs": false,
    "memoryGiB": 32,
    "name": "ml.g5.2xlarge",
    "vcpuNum": 8
   },
   {
    "_defaultOrder": 49,
    "_isFastLaunch": false,
    "category": "Accelerated computing",
    "gpuNum": 1,
    "hideHardwareSpecs": false,
    "memoryGiB": 64,
    "name": "ml.g5.4xlarge",
    "vcpuNum": 16
   },
   {
    "_defaultOrder": 50,
    "_isFastLaunch": false,
    "category": "Accelerated computing",
    "gpuNum": 1,
    "hideHardwareSpecs": false,
    "memoryGiB": 128,
    "name": "ml.g5.8xlarge",
    "vcpuNum": 32
   },
   {
    "_defaultOrder": 51,
    "_isFastLaunch": false,
    "category": "Accelerated computing",
    "gpuNum": 1,
    "hideHardwareSpecs": false,
    "memoryGiB": 256,
    "name": "ml.g5.16xlarge",
    "vcpuNum": 64
   },
   {
    "_defaultOrder": 52,
    "_isFastLaunch": false,
    "category": "Accelerated computing",
    "gpuNum": 4,
    "hideHardwareSpecs": false,
    "memoryGiB": 192,
    "name": "ml.g5.12xlarge",
    "vcpuNum": 48
   },
   {
    "_defaultOrder": 53,
    "_isFastLaunch": false,
    "category": "Accelerated computing",
    "gpuNum": 4,
    "hideHardwareSpecs": false,
    "memoryGiB": 384,
    "name": "ml.g5.24xlarge",
    "vcpuNum": 96
   },
   {
    "_defaultOrder": 54,
    "_isFastLaunch": false,
    "category": "Accelerated computing",
    "gpuNum": 8,
    "hideHardwareSpecs": false,
    "memoryGiB": 768,
    "name": "ml.g5.48xlarge",
    "vcpuNum": 192
   },
   {
    "_defaultOrder": 55,
    "_isFastLaunch": false,
    "category": "Accelerated computing",
    "gpuNum": 8,
    "hideHardwareSpecs": false,
    "memoryGiB": 1152,
    "name": "ml.p4d.24xlarge",
    "vcpuNum": 96
   },
   {
    "_defaultOrder": 56,
    "_isFastLaunch": false,
    "category": "Accelerated computing",
    "gpuNum": 8,
    "hideHardwareSpecs": false,
    "memoryGiB": 1152,
    "name": "ml.p4de.24xlarge",
    "vcpuNum": 96
   },
   {
    "_defaultOrder": 57,
    "_isFastLaunch": false,
    "category": "Accelerated computing",
    "gpuNum": 0,
    "hideHardwareSpecs": false,
    "memoryGiB": 32,
    "name": "ml.trn1.2xlarge",
    "vcpuNum": 8
   },
   {
    "_defaultOrder": 58,
    "_isFastLaunch": false,
    "category": "Accelerated computing",
    "gpuNum": 0,
    "hideHardwareSpecs": false,
    "memoryGiB": 512,
    "name": "ml.trn1.32xlarge",
    "vcpuNum": 128
   },
   {
    "_defaultOrder": 59,
    "_isFastLaunch": false,
    "category": "Accelerated computing",
    "gpuNum": 0,
    "hideHardwareSpecs": false,
    "memoryGiB": 512,
    "name": "ml.trn1n.32xlarge",
    "vcpuNum": 128
   }
  ],
  "instance_type": "ml.m5.large",
  "kernelspec": {
   "name": "python3",
   "language": "python",
   "display_name": "Python 3 (ipykernel)"
  },
  "language_info": {
   "codemirror_mode": {
    "name": "ipython",
    "version": 3
   },
   "file_extension": ".py",
   "mimetype": "text/x-python",
   "name": "python",
   "nbconvert_exporter": "python",
   "pygments_lexer": "ipython3",
   "version": "3.9.16"
  },
  "widgets": {
   "application/vnd.jupyter.widget-state+json": {
    "state": {},
    "version_major": 2,
    "version_minor": 0
   }
  }
 },
 "nbformat": 4,
 "nbformat_minor": 5
}
