{
  "nbformat": 4,
  "nbformat_minor": 0,
  "metadata": {
    "colab": {
      "name": "TF_Basic_tensor_operations.ipynb",
      "provenance": [],
      "authorship_tag": "ABX9TyPvD01GryHAFQfJwwInxz9I",
      "include_colab_link": true
    },
    "kernelspec": {
      "name": "python3",
      "display_name": "Python 3"
    },
    "language_info": {
      "name": "python"
    }
  },
  "cells": [
    {
      "cell_type": "markdown",
      "metadata": {
        "id": "view-in-github",
        "colab_type": "text"
      },
      "source": [
        "<a href=\"https://colab.research.google.com/github/vivek11416/tensorflow/blob/master/TF_Basic_tensor_operations.ipynb\" target=\"_parent\"><img src=\"https://colab.research.google.com/assets/colab-badge.svg\" alt=\"Open In Colab\"/></a>"
      ]
    },
    {
      "cell_type": "code",
      "metadata": {
        "id": "jqclYHENh8gk"
      },
      "source": [
        "import tensorflow as tf"
      ],
      "execution_count": 1,
      "outputs": []
    },
    {
      "cell_type": "code",
      "metadata": {
        "id": "mKSruNF4iRu8"
      },
      "source": [
        "a = tf.constant(2)\n",
        "b = tf.constant(3)\n",
        "c = tf.constant(5)"
      ],
      "execution_count": 4,
      "outputs": []
    },
    {
      "cell_type": "code",
      "metadata": {
        "colab": {
          "base_uri": "https://localhost:8080/"
        },
        "id": "R4haymxjibXY",
        "outputId": "e63f5ce7-fcb0-4930-b75e-00f1fe3c8788"
      },
      "source": [
        "#Tensor operations\n",
        "add = tf.add(a,b)\n",
        "sub = tf.subtract(a,b)\n",
        "mul = tf.multiply(a,b)\n",
        "div = tf.divide(a,b)\n",
        "\n",
        "# print values\n",
        "print(\"add = \",add.numpy())\n",
        "print(\"sub = \",sub.numpy())\n",
        "print(\"mul = \",mul.numpy())\n",
        "print(\"div = \",div.numpy())"
      ],
      "execution_count": 5,
      "outputs": [
        {
          "output_type": "stream",
          "name": "stdout",
          "text": [
            "add =  5\n",
            "sub =  -1\n",
            "mul =  6\n",
            "div =  0.6666666666666666\n"
          ]
        }
      ]
    },
    {
      "cell_type": "code",
      "metadata": {
        "colab": {
          "base_uri": "https://localhost:8080/"
        },
        "id": "7WUodB1VjoOJ",
        "outputId": "c6203fb8-aa20-4c68-eaa3-20e639a55c5c"
      },
      "source": [
        "#mean and reduced sum\n",
        "mean = tf.reduce_mean([a,b,c])\n",
        "sum = tf.reduce_sum([a,b,c]) # reduce sum reduces a matrix along their rows(0) or column(1) and adds them up\n",
        "print(mean.numpy())\n",
        "print(sum.numpy())"
      ],
      "execution_count": 6,
      "outputs": [
        {
          "output_type": "stream",
          "name": "stdout",
          "text": [
            "3\n",
            "10\n"
          ]
        }
      ]
    },
    {
      "cell_type": "code",
      "metadata": {
        "colab": {
          "base_uri": "https://localhost:8080/"
        },
        "id": "LNCSk7hmkMrK",
        "outputId": "a089be8e-c342-437f-b18c-219de751a89d"
      },
      "source": [
        "#matMul\n",
        "matrix1 = tf.constant([[1,2],[3,4]])\n",
        "matrix2 = tf.constant([[5,6],[7,8]])\n",
        "\n",
        "product = tf.matmul(matrix1,matrix2)\n",
        "print(product.numpy())"
      ],
      "execution_count": 9,
      "outputs": [
        {
          "output_type": "stream",
          "name": "stdout",
          "text": [
            "[[19 22]\n",
            " [43 50]]\n"
          ]
        }
      ]
    }
  ]
}