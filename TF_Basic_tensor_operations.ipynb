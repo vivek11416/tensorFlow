{
 "nbformat": 4,
 "nbformat_minor": 0,
 "metadata": {
  "colab": {
   "name": "TF_Basic_tensor_operations.ipynb",
   "provenance": [],
   "authorship_tag": "ABX9TyPvD01GryHAFQfJwwInxz9I",
   "include_colab_link": true
  },
  "kernelspec": {
   "name": "python3",
   "language": "python",
   "display_name": "Python 3 (ipykernel)"
  },
  "language_info": {
   "name": "python"
  }
 },
 "cells": [
  {
   "cell_type": "markdown",
   "metadata": {
    "id": "view-in-github",
    "colab_type": "text"
   },
   "source": [
    "<a href=\"https://colab.research.google.com/github/vivek11416/tensorflow/blob/master/TF_Basic_tensor_operations.ipynb\" target=\"_parent\"><img src=\"https://colab.research.google.com/assets/colab-badge.svg\" alt=\"Open In Colab\"/></a>"
   ]
  },
  {
   "cell_type": "code",
   "metadata": {
    "id": "jqclYHENh8gk",
    "ExecuteTime": {
     "end_time": "2023-10-09T10:12:32.810994600Z",
     "start_time": "2023-10-09T10:12:24.647983300Z"
    }
   },
   "source": [
    "import tensorflow as tf"
   ],
   "execution_count": 1,
   "outputs": []
  },
  {
   "cell_type": "code",
   "metadata": {
    "id": "mKSruNF4iRu8",
    "ExecuteTime": {
     "end_time": "2023-10-09T10:12:34.632614500Z",
     "start_time": "2023-10-09T10:12:32.811994700Z"
    }
   },
   "source": [
    "a = tf.constant(2)\n",
    "b = tf.constant(3)\n",
    "c = tf.constant(5)"
   ],
   "execution_count": 2,
   "outputs": []
  },
  {
   "cell_type": "code",
   "metadata": {
    "colab": {
     "base_uri": "https://localhost:8080/"
    },
    "id": "R4haymxjibXY",
    "outputId": "e63f5ce7-fcb0-4930-b75e-00f1fe3c8788",
    "ExecuteTime": {
     "end_time": "2023-10-09T10:12:34.950332Z",
     "start_time": "2023-10-09T10:12:34.635615600Z"
    }
   },
   "source": [
    "#Tensor operations\n",
    "add = tf.add(a,b)\n",
    "sub = tf.subtract(a,b)\n",
    "mul = tf.multiply(a,b)\n",
    "div = tf.divide(a,b)\n",
    "\n",
    "# print values\n",
    "print(\"add = \",add.numpy())\n",
    "print(\"sub = \",sub.numpy())\n",
    "print(\"mul = \",mul.numpy())\n",
    "print(\"div = \",div.numpy())"
   ],
   "execution_count": 3,
   "outputs": [
    {
     "name": "stdout",
     "output_type": "stream",
     "text": [
      "add =  5\n",
      "sub =  -1\n",
      "mul =  6\n",
      "div =  0.6666666666666666\n"
     ]
    }
   ]
  },
  {
   "cell_type": "code",
   "metadata": {
    "colab": {
     "base_uri": "https://localhost:8080/"
    },
    "id": "7WUodB1VjoOJ",
    "outputId": "c6203fb8-aa20-4c68-eaa3-20e639a55c5c",
    "ExecuteTime": {
     "end_time": "2023-10-09T10:12:35.026349800Z",
     "start_time": "2023-10-09T10:12:34.956333800Z"
    }
   },
   "source": [
    "#mean and reduced sum\n",
    "mean = tf.reduce_mean([a,b,c])\n",
    "sum = tf.reduce_sum([a,b,c]) # reduce sum reduces a matrix along their rows(0) or column(1) and adds them up\n",
    "print(mean.numpy())\n",
    "print(sum.numpy())"
   ],
   "execution_count": 4,
   "outputs": [
    {
     "name": "stdout",
     "output_type": "stream",
     "text": [
      "3\n",
      "10\n"
     ]
    }
   ]
  },
  {
   "cell_type": "code",
   "metadata": {
    "colab": {
     "base_uri": "https://localhost:8080/"
    },
    "id": "LNCSk7hmkMrK",
    "outputId": "a089be8e-c342-437f-b18c-219de751a89d",
    "ExecuteTime": {
     "end_time": "2023-10-09T10:12:35.059356400Z",
     "start_time": "2023-10-09T10:12:35.006345100Z"
    }
   },
   "source": [
    "#matMul\n",
    "matrix1 = tf.constant([[1,2],[3,4]])\n",
    "matrix2 = tf.constant([[5,6],[7,8]])\n",
    "\n",
    "product = tf.matmul(matrix1,matrix2)\n",
    "print(product.numpy())"
   ],
   "execution_count": 5,
   "outputs": [
    {
     "name": "stdout",
     "output_type": "stream",
     "text": [
      "[[19 22]\n",
      " [43 50]]\n"
     ]
    }
   ]
  },
  {
   "cell_type": "code",
   "execution_count": 7,
   "outputs": [],
   "source": [
    "import numpy as np\n",
    "X = np.array([-7.0,-4.0,-1.0,2.0,5.0,8.0,11.0,14.0])\n",
    "\n",
    "y = np.array([3.0,6.0,9.0,12.0,15.0,18.0,21.0,24.0])"
   ],
   "metadata": {
    "collapsed": false,
    "ExecuteTime": {
     "end_time": "2023-10-09T10:17:30.038026300Z",
     "start_time": "2023-10-09T10:17:30.028247700Z"
    }
   }
  },
  {
   "cell_type": "code",
   "execution_count": 20,
   "outputs": [
    {
     "name": "stdout",
     "output_type": "stream",
     "text": [
      "(8, 1) (8,)\n",
      "tf.Tensor(\n",
      "[[-7.]\n",
      " [-4.]\n",
      " [-1.]\n",
      " [ 2.]\n",
      " [ 5.]\n",
      " [ 8.]\n",
      " [11.]\n",
      " [14.]], shape=(8, 1), dtype=float64) [-7. -4. -1.  2.  5.  8. 11. 14.]\n"
     ]
    }
   ],
   "source": [
    "import tensorflow as tf\n",
    "print(tf.expand_dims(X,axis=-1).shape,X.shape)\n",
    "print(tf.expand_dims(X,axis=1),X)"
   ],
   "metadata": {
    "collapsed": false,
    "ExecuteTime": {
     "end_time": "2023-10-09T11:05:54.361928Z",
     "start_time": "2023-10-09T11:05:54.356355900Z"
    }
   }
  }
 ]
}
