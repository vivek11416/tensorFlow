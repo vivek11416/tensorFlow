{
  "cells": [
    {
      "cell_type": "markdown",
      "metadata": {
        "colab_type": "text",
        "id": "view-in-github"
      },
      "source": [
        "<a href=\"https://colab.research.google.com/github/vivek11416/tensorflow/blob/master/TF_hello_world.ipynb\" target=\"_parent\"><img src=\"https://colab.research.google.com/assets/colab-badge.svg\" alt=\"Open In Colab\"/></a>"
      ]
    },
    {
      "cell_type": "code",
      "execution_count": 10,
      "metadata": {
        "id": "cAvrHMvteWo3"
      },
      "outputs": [
        {
          "name": "stdout",
          "output_type": "stream",
          "text": [
            "2.10.1\n"
          ]
        }
      ],
      "source": [
        "import tensorflow as tf\n",
        "print(tf.__version__)"
      ]
    },
    {
      "cell_type": "code",
      "execution_count": 11,
      "metadata": {},
      "outputs": [
        {
          "data": {
            "text/plain": [
              "<tf.Tensor: shape=(), dtype=int32, numpy=7>"
            ]
          },
          "execution_count": 11,
          "metadata": {},
          "output_type": "execute_result"
        }
      ],
      "source": [
        "scaler = tf.constant(7)\n",
        "scaler"
      ]
    },
    {
      "cell_type": "code",
      "execution_count": 12,
      "metadata": {},
      "outputs": [
        {
          "data": {
            "text/plain": [
              "0"
            ]
          },
          "execution_count": 12,
          "metadata": {},
          "output_type": "execute_result"
        }
      ],
      "source": [
        "scaler.ndim"
      ]
    },
    {
      "cell_type": "code",
      "execution_count": 13,
      "metadata": {},
      "outputs": [
        {
          "data": {
            "text/plain": [
              "<tf.Tensor: shape=(2,), dtype=int32, numpy=array([10, 10])>"
            ]
          },
          "execution_count": 13,
          "metadata": {},
          "output_type": "execute_result"
        }
      ],
      "source": [
        "vector = tf.constant([10,10])\n",
        "vector"
      ]
    },
    {
      "cell_type": "code",
      "execution_count": 14,
      "metadata": {},
      "outputs": [
        {
          "data": {
            "text/plain": [
              "1"
            ]
          },
          "execution_count": 14,
          "metadata": {},
          "output_type": "execute_result"
        }
      ],
      "source": [
        "vector.ndim"
      ]
    },
    {
      "cell_type": "code",
      "execution_count": 15,
      "metadata": {},
      "outputs": [
        {
          "data": {
            "text/plain": [
              "2"
            ]
          },
          "execution_count": 15,
          "metadata": {},
          "output_type": "execute_result"
        }
      ],
      "source": [
        "matrix  = tf.constant([[10,7],[7,10]])\n",
        "matrix.ndim"
      ]
    },
    {
      "cell_type": "code",
      "execution_count": 16,
      "metadata": {},
      "outputs": [
        {
          "data": {
            "text/plain": [
              "3"
            ]
          },
          "execution_count": 16,
          "metadata": {},
          "output_type": "execute_result"
        }
      ],
      "source": [
        "tensor = tf.constant([[[1, 2, 3],\n",
        "                       [4, 5, 6]],\n",
        "                      [[7, 8, 9],\n",
        "                       [10, 11, 12]],\n",
        "                      [[13, 14, 15],\n",
        "                       [16, 17, 18]]])\n",
        "tensor.ndim"
      ]
    },
    {
      "cell_type": "code",
      "execution_count": 17,
      "metadata": {},
      "outputs": [],
      "source": [
        "changable_tensor = tf.Variable([4,5])\n",
        "non_changable_tensor = tf.constant([6,7])"
      ]
    },
    {
      "cell_type": "code",
      "execution_count": 18,
      "metadata": {},
      "outputs": [
        {
          "data": {
            "text/plain": [
              "<tf.Variable 'UnreadVariable' shape=(2,) dtype=int32, numpy=array([8, 5])>"
            ]
          },
          "execution_count": 18,
          "metadata": {},
          "output_type": "execute_result"
        }
      ],
      "source": [
        "changable_tensor[0].assign(8)\n",
        "#non_changable_tensor[0].assign(8)"
      ]
    },
    {
      "cell_type": "code",
      "execution_count": 19,
      "metadata": {},
      "outputs": [],
      "source": [
        "random_1 = tf.random.Generator.from_seed(42)\n",
        "random_1 = random_1.normal(shape=(3,2))\n",
        "\n",
        "random_2 = tf.random.Generator.from_seed(42)\n",
        "random_2 = random_2.normal(shape=(3,2))"
      ]
    },
    {
      "cell_type": "code",
      "execution_count": 20,
      "metadata": {},
      "outputs": [
        {
          "data": {
            "text/plain": [
              "(<tf.Tensor: shape=(3, 2), dtype=float32, numpy=\n",
              " array([[-0.7565803 , -0.06854702],\n",
              "        [ 0.07595026, -1.2573844 ],\n",
              "        [-0.23193765, -1.8107855 ]], dtype=float32)>,\n",
              " <tf.Tensor: shape=(3, 2), dtype=float32, numpy=\n",
              " array([[-0.7565803 , -0.06854702],\n",
              "        [ 0.07595026, -1.2573844 ],\n",
              "        [-0.23193765, -1.8107855 ]], dtype=float32)>)"
            ]
          },
          "execution_count": 20,
          "metadata": {},
          "output_type": "execute_result"
        }
      ],
      "source": [
        "random_1 , random_2"
      ]
    },
    {
      "cell_type": "code",
      "execution_count": 21,
      "metadata": {},
      "outputs": [],
      "source": [
        "random_3 = tf.random.Generator.from_seed(42)\n",
        "random_3 = random_3.normal(shape=(3,2))\n",
        "\n",
        "random_4 = tf.random.Generator.from_seed(43)\n",
        "random_4 = random_4.normal(shape=(3,2))"
      ]
    },
    {
      "cell_type": "code",
      "execution_count": 22,
      "metadata": {},
      "outputs": [
        {
          "data": {
            "text/plain": [
              "(<tf.Tensor: shape=(3, 2), dtype=float32, numpy=\n",
              " array([[-0.7565803 , -0.06854702],\n",
              "        [ 0.07595026, -1.2573844 ],\n",
              "        [-0.23193765, -1.8107855 ]], dtype=float32)>,\n",
              " <tf.Tensor: shape=(3, 2), dtype=float32, numpy=\n",
              " array([[-0.23193765, -1.8107855 ],\n",
              "        [ 0.09988727, -0.50998646],\n",
              "        [-0.7535806 , -0.5716629 ]], dtype=float32)>)"
            ]
          },
          "execution_count": 22,
          "metadata": {},
          "output_type": "execute_result"
        }
      ],
      "source": [
        "random_3 , random_4"
      ]
    },
    {
      "cell_type": "code",
      "execution_count": 23,
      "metadata": {},
      "outputs": [
        {
          "data": {
            "text/plain": [
              "<tf.Tensor: shape=(4, 2), dtype=int32, numpy=\n",
              "array([[5, 6],\n",
              "       [8, 2],\n",
              "       [2, 3],\n",
              "       [1, 0]])>"
            ]
          },
          "execution_count": 23,
          "metadata": {},
          "output_type": "execute_result"
        }
      ],
      "source": [
        "not_shuffled = tf.constant([[2,3],\n",
        "                            [5,6],\n",
        "                            [8,2],\n",
        "                            [1,0]])\n",
        "\n",
        "tf.random.set_seed(seed=42)\n",
        "tf.random.shuffle(not_shuffled,seed=42)"
      ]
    },
    {
      "cell_type": "code",
      "execution_count": 24,
      "metadata": {},
      "outputs": [
        {
          "data": {
            "text/plain": [
              "<tf.Tensor: shape=(3, 2), dtype=float32, numpy=\n",
              "array([[0., 0.],\n",
              "       [0., 0.],\n",
              "       [0., 0.]], dtype=float32)>"
            ]
          },
          "execution_count": 24,
          "metadata": {},
          "output_type": "execute_result"
        }
      ],
      "source": [
        "tf.ones(shape=(3,2))\n",
        "tf.zeros(shape=(3,2))"
      ]
    },
    {
      "cell_type": "code",
      "execution_count": 25,
      "metadata": {},
      "outputs": [],
      "source": [
        "import numpy as np\n",
        "numpy_a = np.arange(1,25,dtype=np.int32)\n",
        "A = tf.constant(numpy_a,shape=(2,3,4))"
      ]
    },
    {
      "cell_type": "code",
      "execution_count": 26,
      "metadata": {},
      "outputs": [
        {
          "data": {
            "text/plain": [
              "<tf.Tensor: shape=(2, 3, 4), dtype=int32, numpy=\n",
              "array([[[ 1,  2,  3,  4],\n",
              "        [ 5,  6,  7,  8],\n",
              "        [ 9, 10, 11, 12]],\n",
              "\n",
              "       [[13, 14, 15, 16],\n",
              "        [17, 18, 19, 20],\n",
              "        [21, 22, 23, 24]]])>"
            ]
          },
          "execution_count": 26,
          "metadata": {},
          "output_type": "execute_result"
        }
      ],
      "source": [
        "A"
      ]
    },
    {
      "cell_type": "code",
      "execution_count": 27,
      "metadata": {},
      "outputs": [
        {
          "data": {
            "text/plain": [
              "<tf.Tensor: shape=(2, 3, 4, 5), dtype=float32, numpy=\n",
              "array([[[[0., 0., 0., 0., 0.],\n",
              "         [0., 0., 0., 0., 0.],\n",
              "         [0., 0., 0., 0., 0.],\n",
              "         [0., 0., 0., 0., 0.]],\n",
              "\n",
              "        [[0., 0., 0., 0., 0.],\n",
              "         [0., 0., 0., 0., 0.],\n",
              "         [0., 0., 0., 0., 0.],\n",
              "         [0., 0., 0., 0., 0.]],\n",
              "\n",
              "        [[0., 0., 0., 0., 0.],\n",
              "         [0., 0., 0., 0., 0.],\n",
              "         [0., 0., 0., 0., 0.],\n",
              "         [0., 0., 0., 0., 0.]]],\n",
              "\n",
              "\n",
              "       [[[0., 0., 0., 0., 0.],\n",
              "         [0., 0., 0., 0., 0.],\n",
              "         [0., 0., 0., 0., 0.],\n",
              "         [0., 0., 0., 0., 0.]],\n",
              "\n",
              "        [[0., 0., 0., 0., 0.],\n",
              "         [0., 0., 0., 0., 0.],\n",
              "         [0., 0., 0., 0., 0.],\n",
              "         [0., 0., 0., 0., 0.]],\n",
              "\n",
              "        [[0., 0., 0., 0., 0.],\n",
              "         [0., 0., 0., 0., 0.],\n",
              "         [0., 0., 0., 0., 0.],\n",
              "         [0., 0., 0., 0., 0.]]]], dtype=float32)>"
            ]
          },
          "execution_count": 27,
          "metadata": {},
          "output_type": "execute_result"
        }
      ],
      "source": [
        "rank_4_tensor = tf.zeros([2, 3, 4, 5])\n",
        "rank_4_tensor"
      ]
    },
    {
      "cell_type": "code",
      "execution_count": 28,
      "metadata": {},
      "outputs": [
        {
          "data": {
            "text/plain": [
              "(TensorShape([2, 3, 4, 5]), <tf.Tensor: shape=(), dtype=int32, numpy=120>, 4)"
            ]
          },
          "execution_count": 28,
          "metadata": {},
          "output_type": "execute_result"
        }
      ],
      "source": [
        "rank_4_tensor.shape,tf.size(rank_4_tensor),rank_4_tensor.ndim"
      ]
    },
    {
      "cell_type": "code",
      "execution_count": 29,
      "metadata": {},
      "outputs": [
        {
          "data": {
            "text/plain": [
              "(tf.float32,\n",
              " 4,\n",
              " TensorShape([2, 3, 4, 5]),\n",
              " 2,\n",
              " 5,\n",
              " <tf.Tensor: shape=(), dtype=int32, numpy=120>)"
            ]
          },
          "execution_count": 29,
          "metadata": {},
          "output_type": "execute_result"
        }
      ],
      "source": [
        "rank_4_tensor.dtype,rank_4_tensor.ndim,rank_4_tensor.shape,rank_4_tensor.shape[0],rank_4_tensor.shape[-1],tf.size(rank_4_tensor)"
      ]
    },
    {
      "cell_type": "code",
      "execution_count": 30,
      "metadata": {},
      "outputs": [
        {
          "data": {
            "text/plain": [
              "<tf.Tensor: shape=(2, 2, 2, 2), dtype=float32, numpy=\n",
              "array([[[[0., 0.],\n",
              "         [0., 0.]],\n",
              "\n",
              "        [[0., 0.],\n",
              "         [0., 0.]]],\n",
              "\n",
              "\n",
              "       [[[0., 0.],\n",
              "         [0., 0.]],\n",
              "\n",
              "        [[0., 0.],\n",
              "         [0., 0.]]]], dtype=float32)>"
            ]
          },
          "execution_count": 30,
          "metadata": {},
          "output_type": "execute_result"
        }
      ],
      "source": [
        "rank_4_tensor[:2,:2,:2,:2]"
      ]
    },
    {
      "cell_type": "code",
      "execution_count": 31,
      "metadata": {},
      "outputs": [
        {
          "data": {
            "text/plain": [
              "<tf.Tensor: shape=(2, 2), dtype=int32, numpy=\n",
              "array([[2, 3],\n",
              "       [6, 7]])>"
            ]
          },
          "execution_count": 31,
          "metadata": {},
          "output_type": "execute_result"
        }
      ],
      "source": [
        "rank_2_tensor = tf.constant([[2,3],\n",
        "                             [6,7]])\n",
        "rank_2_tensor"
      ]
    },
    {
      "cell_type": "code",
      "execution_count": 32,
      "metadata": {},
      "outputs": [
        {
          "data": {
            "text/plain": [
              "<tf.Tensor: shape=(2, 2, 1), dtype=int32, numpy=\n",
              "array([[[2],\n",
              "        [3]],\n",
              "\n",
              "       [[6],\n",
              "        [7]]])>"
            ]
          },
          "execution_count": 32,
          "metadata": {},
          "output_type": "execute_result"
        }
      ],
      "source": [
        "rank_3_tensor = rank_2_tensor[...,tf.newaxis]\n",
        "rank_3_tensor"
      ]
    },
    {
      "cell_type": "code",
      "execution_count": 33,
      "metadata": {},
      "outputs": [
        {
          "data": {
            "text/plain": [
              "<tf.Tensor: shape=(2, 2, 1, 1), dtype=int32, numpy=\n",
              "array([[[[2]],\n",
              "\n",
              "        [[3]]],\n",
              "\n",
              "\n",
              "       [[[6]],\n",
              "\n",
              "        [[7]]]])>"
            ]
          },
          "execution_count": 33,
          "metadata": {},
          "output_type": "execute_result"
        }
      ],
      "source": [
        "tf.expand_dims(rank_3_tensor,axis=-1)"
      ]
    },
    {
      "cell_type": "code",
      "execution_count": 34,
      "metadata": {},
      "outputs": [],
      "source": [
        "tensor = tf.constant([[10,7],\n",
        "                      [3,4]])"
      ]
    },
    {
      "cell_type": "code",
      "execution_count": 35,
      "metadata": {},
      "outputs": [
        {
          "data": {
            "text/plain": [
              "<tf.Tensor: shape=(2, 2), dtype=int32, numpy=\n",
              "array([[ 0, -3],\n",
              "       [-7, -6]])>"
            ]
          },
          "execution_count": 35,
          "metadata": {},
          "output_type": "execute_result"
        }
      ],
      "source": [
        "tensor - 10"
      ]
    },
    {
      "cell_type": "code",
      "execution_count": 36,
      "metadata": {},
      "outputs": [
        {
          "data": {
            "text/plain": [
              "<tf.Tensor: shape=(2, 2), dtype=int32, numpy=\n",
              "array([[100,  70],\n",
              "       [ 30,  40]])>"
            ]
          },
          "execution_count": 36,
          "metadata": {},
          "output_type": "execute_result"
        }
      ],
      "source": [
        "tf.multiply(tensor,10)"
      ]
    },
    {
      "cell_type": "code",
      "execution_count": 37,
      "metadata": {},
      "outputs": [
        {
          "data": {
            "text/plain": [
              "<tf.Tensor: shape=(2, 2), dtype=int32, numpy=\n",
              "array([[10,  7],\n",
              "       [ 3,  4]])>"
            ]
          },
          "execution_count": 37,
          "metadata": {},
          "output_type": "execute_result"
        }
      ],
      "source": [
        "tensor"
      ]
    },
    {
      "cell_type": "code",
      "execution_count": 38,
      "metadata": {},
      "outputs": [
        {
          "data": {
            "text/plain": [
              "<tf.Tensor: shape=(2, 2), dtype=int32, numpy=\n",
              "array([[121,  98],\n",
              "       [ 42,  37]])>"
            ]
          },
          "execution_count": 38,
          "metadata": {},
          "output_type": "execute_result"
        }
      ],
      "source": [
        "tensor @ tensor"
      ]
    },
    {
      "cell_type": "code",
      "execution_count": 39,
      "metadata": {},
      "outputs": [
        {
          "data": {
            "text/plain": [
              "(<tf.Tensor: shape=(3, 2), dtype=int32, numpy=\n",
              " array([[1, 2],\n",
              "        [3, 4],\n",
              "        [5, 6]])>,\n",
              " <tf.Tensor: shape=(3, 2), dtype=int32, numpy=\n",
              " array([[ 7,  8],\n",
              "        [ 9, 10],\n",
              "        [11, 12]])>)"
            ]
          },
          "execution_count": 39,
          "metadata": {},
          "output_type": "execute_result"
        }
      ],
      "source": [
        "\n",
        "# Create (3, 2) tensor\n",
        "X = tf.constant([[1, 2],\n",
        "                 [3, 4],\n",
        "                 [5, 6]])\n",
        "\n",
        "# Create another (3, 2) tensor\n",
        "Y = tf.constant([[7, 8],\n",
        "                 [9, 10],\n",
        "                 [11, 12]])\n",
        "X, Y"
      ]
    },
    {
      "cell_type": "code",
      "execution_count": 40,
      "metadata": {},
      "outputs": [
        {
          "data": {
            "text/plain": [
              "<tf.Tensor: shape=(2, 3), dtype=int32, numpy=\n",
              "array([[1, 2, 3],\n",
              "       [4, 5, 6]])>"
            ]
          },
          "execution_count": 40,
          "metadata": {},
          "output_type": "execute_result"
        }
      ],
      "source": [
        "tf.reshape(X,shape=(2,3))"
      ]
    },
    {
      "cell_type": "code",
      "execution_count": 41,
      "metadata": {},
      "outputs": [
        {
          "data": {
            "text/plain": [
              "<tf.Tensor: shape=(2, 2), dtype=int32, numpy=\n",
              "array([[ 58,  64],\n",
              "       [139, 154]])>"
            ]
          },
          "execution_count": 41,
          "metadata": {},
          "output_type": "execute_result"
        }
      ],
      "source": [
        "tf.matmul(tf.reshape(X,shape=(2,3)),Y)"
      ]
    },
    {
      "cell_type": "code",
      "execution_count": 42,
      "metadata": {},
      "outputs": [
        {
          "data": {
            "text/plain": [
              "<tf.Tensor: shape=(2, 3), dtype=int32, numpy=\n",
              "array([[1, 3, 5],\n",
              "       [2, 4, 6]])>"
            ]
          },
          "execution_count": 42,
          "metadata": {},
          "output_type": "execute_result"
        }
      ],
      "source": [
        "tf.transpose(X)"
      ]
    },
    {
      "cell_type": "code",
      "execution_count": 44,
      "metadata": {},
      "outputs": [
        {
          "data": {
            "text/plain": [
              "<tf.Tensor: shape=(2, 2), dtype=int32, numpy=\n",
              "array([[ 89,  98],\n",
              "       [116, 128]])>"
            ]
          },
          "execution_count": 44,
          "metadata": {},
          "output_type": "execute_result"
        }
      ],
      "source": [
        "tf.matmul(X,Y,transpose_a=True)"
      ]
    },
    {
      "cell_type": "code",
      "execution_count": 63,
      "metadata": {},
      "outputs": [
        {
          "data": {
            "text/plain": [
              "(<tf.Tensor: shape=(3, 2), dtype=int32, numpy=\n",
              " array([[1, 2],\n",
              "        [3, 4],\n",
              "        [5, 6]])>,\n",
              " <tf.Tensor: shape=(2, 3), dtype=int32, numpy=\n",
              " array([[ 7,  9, 11],\n",
              "        [ 8, 10, 12]])>)"
            ]
          },
          "execution_count": 63,
          "metadata": {},
          "output_type": "execute_result"
        }
      ],
      "source": [
        "X,tf.transpose(Y)"
      ]
    },
    {
      "cell_type": "code",
      "execution_count": 67,
      "metadata": {},
      "outputs": [
        {
          "data": {
            "text/plain": [
              "<tf.Tensor: shape=(3, 3), dtype=int32, numpy=\n",
              "array([[ 23,  29,  35],\n",
              "       [ 53,  67,  81],\n",
              "       [ 83, 105, 127]])>"
            ]
          },
          "execution_count": 67,
          "metadata": {},
          "output_type": "execute_result"
        }
      ],
      "source": [
        "tf.tensordot(X,tf.transpose(Y),axes=((1),(0)))"
      ]
    },
    {
      "cell_type": "code",
      "execution_count": 68,
      "metadata": {},
      "outputs": [],
      "source": [
        "B= tf.constant([2,3])"
      ]
    },
    {
      "cell_type": "code",
      "execution_count": 72,
      "metadata": {},
      "outputs": [
        {
          "data": {
            "text/plain": [
              "<tf.Tensor: shape=(2,), dtype=float16, numpy=array([2., 3.], dtype=float16)>"
            ]
          },
          "execution_count": 72,
          "metadata": {},
          "output_type": "execute_result"
        }
      ],
      "source": [
        "B = tf.cast(B,dtype=tf.float16)\n",
        "B"
      ]
    },
    {
      "cell_type": "code",
      "execution_count": 80,
      "metadata": {},
      "outputs": [],
      "source": [
        "E = tf.constant(np.random.randint(low=0,high=100,size=70),dtype=tf.float16)"
      ]
    },
    {
      "cell_type": "code",
      "execution_count": 82,
      "metadata": {},
      "outputs": [
        {
          "data": {
            "text/plain": [
              "<tf.Tensor: shape=(), dtype=float16, numpy=831.0>"
            ]
          },
          "execution_count": 82,
          "metadata": {},
          "output_type": "execute_result"
        }
      ],
      "source": [
        "tf.math.reduce_variance(E)"
      ]
    },
    {
      "cell_type": "code",
      "execution_count": 84,
      "metadata": {},
      "outputs": [
        {
          "data": {
            "text/plain": [
              "<tf.Tensor: shape=(), dtype=int64, numpy=62>"
            ]
          },
          "execution_count": 84,
          "metadata": {},
          "output_type": "execute_result"
        }
      ],
      "source": [
        "tf.argmin(E)"
      ]
    },
    {
      "cell_type": "code",
      "execution_count": 87,
      "metadata": {},
      "outputs": [
        {
          "data": {
            "text/plain": [
              "<tf.Tensor: shape=(4, 2), dtype=float32, numpy=\n",
              "array([[1., 0.],\n",
              "       [0., 1.],\n",
              "       [0., 0.],\n",
              "       [0., 0.]], dtype=float32)>"
            ]
          },
          "execution_count": 87,
          "metadata": {},
          "output_type": "execute_result"
        }
      ],
      "source": [
        "tf.one_hot([0,1,2,3],depth=2)"
      ]
    },
    {
      "cell_type": "code",
      "execution_count": 95,
      "metadata": {},
      "outputs": [
        {
          "data": {
            "text/plain": [
              "<tf.Tensor: shape=(9,), dtype=float16, numpy=array([1., 2., 3., 4., 5., 6., 7., 8., 9.], dtype=float16)>"
            ]
          },
          "execution_count": 95,
          "metadata": {},
          "output_type": "execute_result"
        }
      ],
      "source": [
        "H = tf.constant(np.arange(1,10),dtype=tf.float16)\n",
        "H"
      ]
    },
    {
      "cell_type": "code",
      "execution_count": 96,
      "metadata": {},
      "outputs": [
        {
          "data": {
            "text/plain": [
              "<tf.Tensor: shape=(9,), dtype=float16, numpy=array([ 1.,  4.,  9., 16., 25., 36., 49., 64., 81.], dtype=float16)>"
            ]
          },
          "execution_count": 96,
          "metadata": {},
          "output_type": "execute_result"
        }
      ],
      "source": [
        "tf.square(H)"
      ]
    },
    {
      "cell_type": "code",
      "execution_count": 97,
      "metadata": {},
      "outputs": [
        {
          "data": {
            "text/plain": [
              "<tf.Tensor: shape=(9,), dtype=float16, numpy=\n",
              "array([1.   , 1.414, 1.732, 2.   , 2.236, 2.45 , 2.646, 2.828, 3.   ],\n",
              "      dtype=float16)>"
            ]
          },
          "execution_count": 97,
          "metadata": {},
          "output_type": "execute_result"
        }
      ],
      "source": [
        "tf.sqrt(H)"
      ]
    },
    {
      "cell_type": "code",
      "execution_count": 98,
      "metadata": {},
      "outputs": [
        {
          "name": "stdout",
          "output_type": "stream",
          "text": [
            "[PhysicalDevice(name='/physical_device:GPU:0', device_type='GPU')]\n"
          ]
        }
      ],
      "source": [
        "\n",
        "print(tf.config.list_physical_devices('GPU'))"
      ]
    },
    {
      "cell_type": "code",
      "execution_count": 99,
      "metadata": {},
      "outputs": [
        {
          "name": "stdout",
          "output_type": "stream",
          "text": [
            "Sun Oct  8 15:04:00 2023       \n",
            "+---------------------------------------------------------------------------------------+\n",
            "| NVIDIA-SMI 537.34                 Driver Version: 537.34       CUDA Version: 12.2     |\n",
            "|-----------------------------------------+----------------------+----------------------+\n",
            "| GPU  Name                     TCC/WDDM  | Bus-Id        Disp.A | Volatile Uncorr. ECC |\n",
            "| Fan  Temp   Perf          Pwr:Usage/Cap |         Memory-Usage | GPU-Util  Compute M. |\n",
            "|                                         |                      |               MIG M. |\n",
            "|=========================================+======================+======================|\n",
            "|   0  NVIDIA GeForce RTX 3050 ...  WDDM  | 00000000:01:00.0  On |                  N/A |\n",
            "| N/A   53C    P8               9W /  80W |   2025MiB /  4096MiB |     13%      Default |\n",
            "|                                         |                      |                  N/A |\n",
            "+-----------------------------------------+----------------------+----------------------+\n",
            "                                                                                         \n",
            "+---------------------------------------------------------------------------------------+\n",
            "| Processes:                                                                            |\n",
            "|  GPU   GI   CI        PID   Type   Process name                            GPU Memory |\n",
            "|        ID   ID                                                             Usage      |\n",
            "|=======================================================================================|\n",
            "|    0   N/A  N/A      6492    C+G   C:\\Windows\\explorer.exe                   N/A      |\n",
            "|    0   N/A  N/A     22100      C   ...onda3\\envs\\tensorFlowEnv\\python.exe    N/A      |\n",
            "+---------------------------------------------------------------------------------------+\n"
          ]
        }
      ],
      "source": [
        "!nvidia-smi"
      ]
    },
    {
      "cell_type": "code",
      "execution_count": 104,
      "metadata": {},
      "outputs": [
        {
          "data": {
            "text/plain": [
              "<tf.Tensor: shape=(224, 224, 3, 1), dtype=float64, numpy=\n",
              "array([[[[0.88401833],\n",
              "         [0.82698046],\n",
              "         [0.95736148]],\n",
              "\n",
              "        [[0.12119183],\n",
              "         [0.25291235],\n",
              "         [0.7135389 ]],\n",
              "\n",
              "        [[0.56637462],\n",
              "         [0.07520753],\n",
              "         [0.50390864]],\n",
              "\n",
              "        ...,\n",
              "\n",
              "        [[0.031026  ],\n",
              "         [0.58391319],\n",
              "         [0.72565753]],\n",
              "\n",
              "        [[0.70230855],\n",
              "         [0.09795269],\n",
              "         [0.93131631]],\n",
              "\n",
              "        [[0.23185455],\n",
              "         [0.9799064 ],\n",
              "         [0.53104535]]],\n",
              "\n",
              "\n",
              "       [[[0.7401734 ],\n",
              "         [0.0381098 ],\n",
              "         [0.39437092]],\n",
              "\n",
              "        [[0.99584559],\n",
              "         [0.03685216],\n",
              "         [0.99826143]],\n",
              "\n",
              "        [[0.03176084],\n",
              "         [0.43504496],\n",
              "         [0.5454544 ]],\n",
              "\n",
              "        ...,\n",
              "\n",
              "        [[0.60779405],\n",
              "         [0.83006736],\n",
              "         [0.52475244]],\n",
              "\n",
              "        [[0.90467356],\n",
              "         [0.30701889],\n",
              "         [0.31596545]],\n",
              "\n",
              "        [[0.73722202],\n",
              "         [0.25800816],\n",
              "         [0.46861684]]],\n",
              "\n",
              "\n",
              "       [[[0.85831383],\n",
              "         [0.08259724],\n",
              "         [0.76953603]],\n",
              "\n",
              "        [[0.04092467],\n",
              "         [0.89895634],\n",
              "         [0.54025363]],\n",
              "\n",
              "        [[0.60095882],\n",
              "         [0.08926305],\n",
              "         [0.26012793]],\n",
              "\n",
              "        ...,\n",
              "\n",
              "        [[0.59812867],\n",
              "         [0.78791701],\n",
              "         [0.16865473]],\n",
              "\n",
              "        [[0.34948956],\n",
              "         [0.92626783],\n",
              "         [0.63925428]],\n",
              "\n",
              "        [[0.83865061],\n",
              "         [0.32632932],\n",
              "         [0.54465894]]],\n",
              "\n",
              "\n",
              "       ...,\n",
              "\n",
              "\n",
              "       [[[0.17636469],\n",
              "         [0.14197033],\n",
              "         [0.9733833 ]],\n",
              "\n",
              "        [[0.32227968],\n",
              "         [0.06422337],\n",
              "         [0.47065137]],\n",
              "\n",
              "        [[0.5039401 ],\n",
              "         [0.73886702],\n",
              "         [0.23446056]],\n",
              "\n",
              "        ...,\n",
              "\n",
              "        [[0.3549046 ],\n",
              "         [0.74043886],\n",
              "         [0.46632722]],\n",
              "\n",
              "        [[0.06695595],\n",
              "         [0.01187406],\n",
              "         [0.96390958]],\n",
              "\n",
              "        [[0.63056701],\n",
              "         [0.25169997],\n",
              "         [0.35341281]]],\n",
              "\n",
              "\n",
              "       [[[0.86379646],\n",
              "         [0.47659125],\n",
              "         [0.0255037 ]],\n",
              "\n",
              "        [[0.14042222],\n",
              "         [0.2309205 ],\n",
              "         [0.37294283]],\n",
              "\n",
              "        [[0.46838242],\n",
              "         [0.37059785],\n",
              "         [0.81715939]],\n",
              "\n",
              "        ...,\n",
              "\n",
              "        [[0.53822567],\n",
              "         [0.56999867],\n",
              "         [0.28447304]],\n",
              "\n",
              "        [[0.02164384],\n",
              "         [0.6972254 ],\n",
              "         [0.48133727]],\n",
              "\n",
              "        [[0.99444653],\n",
              "         [0.6953627 ],\n",
              "         [0.35923509]]],\n",
              "\n",
              "\n",
              "       [[[0.86915941],\n",
              "         [0.58353771],\n",
              "         [0.7457085 ]],\n",
              "\n",
              "        [[0.89422292],\n",
              "         [0.48842991],\n",
              "         [0.0591773 ]],\n",
              "\n",
              "        [[0.4115239 ],\n",
              "         [0.32676201],\n",
              "         [0.8414886 ]],\n",
              "\n",
              "        ...,\n",
              "\n",
              "        [[0.463809  ],\n",
              "         [0.15185353],\n",
              "         [0.5262023 ]],\n",
              "\n",
              "        [[0.63375556],\n",
              "         [0.21120581],\n",
              "         [0.53734039]],\n",
              "\n",
              "        [[0.85256299],\n",
              "         [0.14127827],\n",
              "         [0.88883863]]]])>"
            ]
          },
          "execution_count": 104,
          "metadata": {},
          "output_type": "execute_result"
        }
      ],
      "source": [
        "tf.constant(np.random.uniform(low=0,high=1,size=150528),shape=(224,224,3,1))"
      ]
    },
    {
      "cell_type": "code",
      "execution_count": 105,
      "metadata": {},
      "outputs": [
        {
          "data": {
            "text/plain": [
              "<tf.Tensor: shape=(224, 224, 3), dtype=float64, numpy=\n",
              "array([[[0.89505617, 0.37454326, 0.99326957],\n",
              "        [0.23976144, 0.98616133, 0.92056787],\n",
              "        [0.84283347, 0.15900529, 0.71452421],\n",
              "        ...,\n",
              "        [0.40480121, 0.6919604 , 0.71195737],\n",
              "        [0.81231676, 0.65939279, 0.73435746],\n",
              "        [0.37076779, 0.41389867, 0.24606618]],\n",
              "\n",
              "       [[0.96654689, 0.73362987, 0.54279313],\n",
              "        [0.63862292, 0.99073325, 0.60944408],\n",
              "        [0.91720155, 0.86236526, 0.68783832],\n",
              "        ...,\n",
              "        [0.63990639, 0.85898124, 0.24425756],\n",
              "        [0.95730166, 0.51165589, 0.71880425],\n",
              "        [0.80570738, 0.5237278 , 0.92315659]],\n",
              "\n",
              "       [[0.58911641, 0.10110301, 0.21736882],\n",
              "        [0.4086371 , 0.09796169, 0.86991903],\n",
              "        [0.15881767, 0.11376323, 0.97395496],\n",
              "        ...,\n",
              "        [0.68115667, 0.99334967, 0.70830799],\n",
              "        [0.44703926, 0.37097904, 0.44519163],\n",
              "        [0.25525622, 0.24244816, 0.36808048]],\n",
              "\n",
              "       ...,\n",
              "\n",
              "       [[0.45841115, 0.84221788, 0.7292663 ],\n",
              "        [0.74645887, 0.30007442, 0.12927119],\n",
              "        [0.4526092 , 0.49095994, 0.10967628],\n",
              "        ...,\n",
              "        [0.03504114, 0.04304965, 0.9725175 ],\n",
              "        [0.80439764, 0.4721597 , 0.48351775],\n",
              "        [0.05907278, 0.7828379 , 0.9922493 ]],\n",
              "\n",
              "       [[0.41664876, 0.4254613 , 0.69625107],\n",
              "        [0.21843256, 0.15168538, 0.86685892],\n",
              "        [0.98747754, 0.98264505, 0.91285274],\n",
              "        ...,\n",
              "        [0.03504352, 0.64364109, 0.25637475],\n",
              "        [0.59237031, 0.99298072, 0.4455149 ],\n",
              "        [0.54762749, 0.97627845, 0.90135943]],\n",
              "\n",
              "       [[0.23747218, 0.17125812, 0.86934305],\n",
              "        [0.69458326, 0.79517282, 0.86681029],\n",
              "        [0.2783313 , 0.47830971, 0.15586666],\n",
              "        ...,\n",
              "        [0.20211689, 0.18715411, 0.54582149],\n",
              "        [0.49353447, 0.89792553, 0.11235037],\n",
              "        [0.21668247, 0.76025263, 0.56917736]]])>"
            ]
          },
          "execution_count": 105,
          "metadata": {},
          "output_type": "execute_result"
        }
      ],
      "source": [
        "tf.squeeze(tf.constant(np.random.uniform(low=0,high=1,size=150528),shape=(224,224,3,1)))"
      ]
    }
  ],
  "metadata": {
    "colab": {
      "authorship_tag": "ABX9TyNhkfAxawvYtLi+AON3GW/r",
      "include_colab_link": true,
      "name": "TF_hello_world.ipynb",
      "provenance": []
    },
    "kernelspec": {
      "display_name": "Python 3",
      "name": "python3"
    },
    "language_info": {
      "codemirror_mode": {
        "name": "ipython",
        "version": 3
      },
      "file_extension": ".py",
      "mimetype": "text/x-python",
      "name": "python",
      "nbconvert_exporter": "python",
      "pygments_lexer": "ipython3",
      "version": "3.9.18"
    }
  },
  "nbformat": 4,
  "nbformat_minor": 0
}
