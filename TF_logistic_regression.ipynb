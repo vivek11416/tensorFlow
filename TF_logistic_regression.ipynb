{
  "nbformat": 4,
  "nbformat_minor": 0,
  "metadata": {
    "colab": {
      "name": "TF_logistic_regression.ipynb",
      "provenance": [],
      "authorship_tag": "ABX9TyPiFd2D10rv8NnprQ1jt6aQ",
      "include_colab_link": true
    },
    "kernelspec": {
      "name": "python3",
      "display_name": "Python 3"
    },
    "language_info": {
      "name": "python"
    }
  },
  "cells": [
    {
      "cell_type": "markdown",
      "metadata": {
        "id": "view-in-github",
        "colab_type": "text"
      },
      "source": [
        "<a href=\"https://colab.research.google.com/github/vivek11416/tensorflow/blob/master/TF_logistic_regression.ipynb\" target=\"_parent\"><img src=\"https://colab.research.google.com/assets/colab-badge.svg\" alt=\"Open In Colab\"/></a>"
      ]
    },
    {
      "cell_type": "code",
      "metadata": {
        "id": "rs2o2j6vKLie"
      },
      "source": [
        "import tensorflow as tf\n",
        "import numpy as np"
      ],
      "execution_count": 2,
      "outputs": []
    },
    {
      "cell_type": "code",
      "metadata": {
        "id": "05R4WcRVN2jg"
      },
      "source": [
        "#MNIST dataset parameters\n",
        "num_classes = 10 # 0 to 9 digits\n",
        "num_features = 28*28\n",
        "\n",
        "# training parameters\n",
        "learning_rate = 0.01\n",
        "training_steps = 1000\n",
        "batch_size = 256\n",
        "displaystep = 50"
      ],
      "execution_count": 3,
      "outputs": []
    },
    {
      "cell_type": "code",
      "metadata": {
        "colab": {
          "base_uri": "https://localhost:8080/"
        },
        "id": "68nLbp4GORtI",
        "outputId": "aa8b550a-918c-4fab-8efe-387908bf89d9"
      },
      "source": [
        "#prepare MNIST dataset\n",
        "from tensorflow.keras.datasets import mnist\n",
        "(x_train,y_train),(x_test,y_test) = mnist.load_data()\n",
        "\n",
        "# convert to float32\n",
        "x_train,x_test = np.array(x_train,np.float32),np.array(x_test,np.float32)\n",
        "#flatten imaged to 1-d vector\n",
        "x_train,x_test = x_train.reshape([-1,num_features]),x_test.reshape([-1,num_features])\n",
        "#normalize image\n",
        "x_train,x_test = x_train / 255. , x_test / 255."
      ],
      "execution_count": 4,
      "outputs": [
        {
          "output_type": "stream",
          "name": "stdout",
          "text": [
            "Downloading data from https://storage.googleapis.com/tensorflow/tf-keras-datasets/mnist.npz\n",
            "11493376/11490434 [==============================] - 0s 0us/step\n",
            "11501568/11490434 [==============================] - 0s 0us/step\n"
          ]
        }
      ]
    },
    {
      "cell_type": "code",
      "metadata": {
        "id": "15e3UYX6QuAs"
      },
      "source": [
        "# shuffle and batch data\n",
        "train_data = tf.data.Dataset.from_tensor_slices((x_train,y_train))\n",
        "train_data = train_data.repeat().shuffle(5000).batch(batch_size).prefetch(1)"
      ],
      "execution_count": 5,
      "outputs": []
    },
    {
      "cell_type": "code",
      "metadata": {
        "id": "yz4REa8lWdxf"
      },
      "source": [
        "#Weight and Bias\n",
        "W = tf.Variable(tf.ones([num_features,num_classes]),name = \"weight\")\n",
        "b = tf.Variable(tf.zeros([num_classes]),name=\"bias\")\n",
        "\n",
        "# Logistic regression (Wx+b)\n",
        "def logistic_regression(x):\n",
        "  #softmax to normalize the logits to a probability distribution\n",
        "  return tf.nn.softmax(tf.matmul(x,W) + b)\n",
        "\n",
        "#cross-Entroy loss funtion\n",
        "def cross_entropy(y_pred,y_true):\n",
        "  y_true = tf.one_hot(y_true,depth=num_classes)\n",
        "  #clip prediction value to avoid log(0) error\n",
        "  y_pred = tf.clip_by_value(y_pred,1e-9,1.)\n",
        "  # compute cross-entropy\n",
        "  #return tf.reduce_mean(-tf.reduce_sum(y_true*tf.math.log(y_pred)),1) #https://stackoverflow.com/questions/42521400/calculating-cross-entropy-in-tensorflow\n",
        "  return tf.nn.softmax_cross_entropy_with_logits(y_pred,y_true)\n",
        "\n",
        "#Accuracy Metric\n",
        "def accuracy(y_pred,y_true):\n",
        "  correct_prediction = tf.equal(tf.argmax(y_pred,1),tf.cast(y_true,tf.int64))\n",
        "  return tf.reduce_mean(tf.cast(correct_prediction,tf.float32))\n",
        "\n",
        "#stochastic gradient descent optimizer\n",
        "optimizer = tf.optimizers.SGD(learning_rate)"
      ],
      "execution_count": 6,
      "outputs": []
    },
    {
      "cell_type": "code",
      "metadata": {
        "id": "iw4nVgzDDRY2"
      },
      "source": [
        ""
      ],
      "execution_count": 6,
      "outputs": []
    }
  ]
}