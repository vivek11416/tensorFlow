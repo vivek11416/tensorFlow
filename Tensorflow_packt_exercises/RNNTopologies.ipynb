{
 "cells": [
  {
   "cell_type": "raw",
   "source": [
    "#One_to_many_learning to generate text"
   ],
   "metadata": {
    "collapsed": false
   },
   "id": "76bac3f49d656828"
  },
  {
   "cell_type": "code",
   "outputs": [],
   "source": [
    "import os\n",
    "import numpy as np\n",
    "import re\n",
    "import shutil\n",
    "import tensorflow as tf\n",
    "DATA_DIR = './data'\n",
    "CHEKPOINT_DIR = os.path.join(DATA_DIR,\"chekpoints\")\n"
   ],
   "metadata": {
    "collapsed": false,
    "ExecuteTime": {
     "end_time": "2024-04-08T14:25:51.979720Z",
     "start_time": "2024-04-08T14:25:49.271642Z"
    }
   },
   "id": "a4f0f3cbc9b3f11b",
   "execution_count": 1
  },
  {
   "cell_type": "code",
   "outputs": [
    {
     "name": "stdout",
     "output_type": "stream",
     "text": [
      "Downloading data from https://www.gutenberg.org/files/12/12-0.txt\n",
      "196464/196464 [==============================] - 2s 12us/step\n"
     ]
    }
   ],
   "source": [
    "def download_and_read(urls):\n",
    "    texts = []\n",
    "    for i, url in enumerate(urls):\n",
    "        p = tf.keras.utils.get_file(\"ex1-{:d}.txt\".format(i), url,cache_dir=\".\")\n",
    "        text = open(p,\"r\", encoding=\"utf8\").read()\n",
    "        text = text.replace(\"\\ufeff\",\"\")\n",
    "        text = text.replace(\"\\n\",\"\")\n",
    "        text = re.sub(r'\\s+',\"\",text)\n",
    "        texts.extend(text)\n",
    "        \n",
    "    return texts\n",
    "texts = download_and_read([\n",
    "    \"http://www.gutenberg.org/cache/epub/28885/pg28885.txt\",\n",
    "    \"https://www.gutenberg.org/files/12/12-0.txt\"\n",
    "])\n",
    "        "
   ],
   "metadata": {
    "collapsed": false,
    "ExecuteTime": {
     "end_time": "2024-04-08T14:34:09.494613Z",
     "start_time": "2024-04-08T14:34:05.099888Z"
    }
   },
   "id": "40dd490c516191c8",
   "execution_count": 3
  },
  {
   "cell_type": "code",
   "outputs": [
    {
     "name": "stdout",
     "output_type": "stream",
     "text": [
      "vocab size: 92\n"
     ]
    }
   ],
   "source": [
    "vocab = sorted(set(texts))\n",
    "print(\"vocab size: {:d}\".format(len(vocab)))\n",
    "\n",
    "char2idx = {c:i for i,c in enumerate(vocab)}\n",
    "idx2char = {i:c for c,i in char2idx.items()}"
   ],
   "metadata": {
    "collapsed": false,
    "ExecuteTime": {
     "end_time": "2024-04-08T14:36:47.937877Z",
     "start_time": "2024-04-08T14:36:47.926138Z"
    }
   },
   "id": "5938a0cce72bb836",
   "execution_count": 5
  },
  {
   "cell_type": "code",
   "outputs": [],
   "source": [
    "texts_as_ints = np.array([char2idx[c] for c in texts], )\n",
    "data = tf.data.Dataset.from_tensor_slices(texts_as_ints)"
   ],
   "metadata": {
    "collapsed": false,
    "ExecuteTime": {
     "end_time": "2024-04-08T14:39:13.053349Z",
     "start_time": "2024-04-08T14:39:11.612518Z"
    }
   },
   "id": "e759632f0f1c788d",
   "execution_count": 8
  },
  {
   "cell_type": "code",
   "outputs": [],
   "source": [
    "seq_length = 100\n",
    "sequences = data.batch(seq_length+1,drop_remainder=True)\n",
    "def split_train_labels(sequence,):\n",
    "    input_seq = sequence[0:-1]\n",
    "    output_seq = sequence[1:]\n",
    "    return input_seq,output_seq\n",
    "\n",
    "sequences = sequences.map(split_train_labels)\n",
    "\n",
    "batch_size = 64\n",
    "steps_per_epoch = len(texts) // seq_length // batch_size\n",
    "\n",
    "dataset = sequences.shuffle(10000).batch(batch_size, drop_remainder=True)\n",
    "    "
   ],
   "metadata": {
    "collapsed": false,
    "ExecuteTime": {
     "end_time": "2024-04-08T14:46:23.129364Z",
     "start_time": "2024-04-08T14:46:23.064435Z"
    }
   },
   "id": "d6ed43d365569389",
   "execution_count": 14
  },
  {
   "cell_type": "code",
   "outputs": [
    {
     "data": {
      "text/plain": "<MapDataset element_spec=(TensorSpec(shape=(100,), dtype=tf.int32, name=None), TensorSpec(shape=(100,), dtype=tf.int32, name=None))>"
     },
     "execution_count": 15,
     "metadata": {},
     "output_type": "execute_result"
    }
   ],
   "source": [
    "sequences"
   ],
   "metadata": {
    "collapsed": false,
    "ExecuteTime": {
     "end_time": "2024-04-08T14:46:32.960311Z",
     "start_time": "2024-04-08T14:46:32.952124Z"
    }
   },
   "id": "15a50359f7751a87",
   "execution_count": 15
  },
  {
   "cell_type": "code",
   "outputs": [],
   "source": [
    "class CharGenModel(tf.keras.Model):\n",
    "    def __init__(self,vocab_size,num_timesteps,embedding_dim,**kwargs):\n",
    "        super(CharGenModel, self).__init__(**kwargs)\n",
    "        self.embedding_layer = tf.keras.layers.Embedding(\n",
    "            vocab_size, embedding_dim\n",
    "        )\n",
    "        self.rnn_layer = tf.keras.layers.GRU(\n",
    "            num_timesteps,\n",
    "            recurrent_initializer=\"glorot_uniform\",\n",
    "            recurrent_activation=\"sigmoid\",\n",
    "            stateful=True,\n",
    "            return_sequences=True\n",
    "        )\n",
    "        self.dense_layer = tf.keras.layers.Dense(vocab_size)\n",
    "    \n",
    "    def call(self,x):\n",
    "        x = self.embedding_layer(x)\n",
    "        x = self.rnn_layer(x)\n",
    "        x = self.dense_layer(x)\n",
    "        return x\n",
    "    \n",
    "vocab_size = len(vocab)\n",
    "embedding_dim = 256\n",
    "\n",
    "model = CharGenModel(vocab_size,seq_length,embedding_dim)\n",
    "model.build(input_shape=(batch_size,seq_length))\n",
    "\n",
    "def loss(labels,predictions):\n",
    "    return tf.losses.sparse_categorical_crossentropy(\n",
    "        labels,\n",
    "        predictions,from_logits=True\n",
    "    )\n",
    "\n",
    "model.compile(optimizer=tf.optimizers.Adam(),loss=loss)"
   ],
   "metadata": {
    "collapsed": false,
    "ExecuteTime": {
     "end_time": "2024-04-08T15:02:34.216024Z",
     "start_time": "2024-04-08T15:02:33.987495Z"
    }
   },
   "id": "ab2a13387895afd0",
   "execution_count": 16
  },
  {
   "cell_type": "code",
   "outputs": [],
   "source": [
    "def generate_text(model,prefix_string,char2idx,idx2char,num_chars_to_generate=1000,temperature=1.0):\n",
    "    input = [char2idx[s] for s in prefix_string]\n",
    "    input = tf.expand_dims(input,0)\n",
    "    \n",
    "    text_generated = []\n",
    "    model.reset_states()\n",
    "    \n",
    "    for i in range(num_chars_to_generate):\n",
    "        preds = model(input)\n",
    "        preds = tf.squeeze(preds,0)/temperature\n",
    "        pred_id = tf.random.categorical(preds,num_samples=1)[-1,0].numpy()\n",
    "        text_generated.append(idx2char[pred_id])\n",
    "        input = tf.expand_dims([pred_id],0)\n",
    "    return prefix_string+\"\".join(text_generated)\n",
    "\n"
   ],
   "metadata": {
    "collapsed": false,
    "ExecuteTime": {
     "end_time": "2024-04-08T15:42:28.939940Z",
     "start_time": "2024-04-08T15:42:28.927439Z"
    }
   },
   "id": "7e6fb04665755e4a",
   "execution_count": 17
  },
  {
   "cell_type": "code",
   "outputs": [
    {
     "name": "stdout",
     "output_type": "stream",
     "text": [
      "Epoch 1/10\n",
      "44/44 [==============================] - 1s 15ms/step - loss: 1.7603\n",
      "Epoch 2/10\n",
      "44/44 [==============================] - 1s 10ms/step - loss: 1.7565\n",
      "Epoch 3/10\n",
      "44/44 [==============================] - 1s 10ms/step - loss: 1.7529\n",
      "Epoch 4/10\n",
      "44/44 [==============================] - 1s 10ms/step - loss: 1.7485\n",
      "Epoch 5/10\n",
      "44/44 [==============================] - 1s 10ms/step - loss: 1.7447\n",
      "Epoch 6/10\n",
      "44/44 [==============================] - 1s 10ms/step - loss: 1.7422\n",
      "Epoch 7/10\n",
      "44/44 [==============================] - 1s 10ms/step - loss: 1.7375\n",
      "Epoch 8/10\n",
      "44/44 [==============================] - 1s 10ms/step - loss: 1.7325\n",
      "Epoch 9/10\n",
      "44/44 [==============================] - 1s 10ms/step - loss: 1.7313\n",
      "Epoch 10/10\n",
      "44/44 [==============================] - 1s 11ms/step - loss: 1.7274\n",
      "WARNING:tensorflow:Detecting that an object or model or tf.train.Checkpoint is being deleted with unrestored values. See the following logs for the specific values in question. To silence these warnings, use `status.expect_partial()`. See https://www.tensorflow.org/api_docs/python/tf/train/Checkpoint#restorefor details about the status object returned by the restore function.\n",
      "WARNING:tensorflow:Value in checkpoint could not be found in the restored object: (root).optimizer.iter\n",
      "WARNING:tensorflow:Value in checkpoint could not be found in the restored object: (root).optimizer.beta_1\n",
      "WARNING:tensorflow:Value in checkpoint could not be found in the restored object: (root).optimizer.beta_2\n",
      "WARNING:tensorflow:Value in checkpoint could not be found in the restored object: (root).optimizer.decay\n",
      "WARNING:tensorflow:Value in checkpoint could not be found in the restored object: (root).optimizer.learning_rate\n",
      "WARNING:tensorflow:Value in checkpoint could not be found in the restored object: (root).optimizer's state 'm' for (root).embedding_layer.embeddings\n",
      "WARNING:tensorflow:Value in checkpoint could not be found in the restored object: (root).optimizer's state 'm' for (root).dense_layer.kernel\n",
      "WARNING:tensorflow:Value in checkpoint could not be found in the restored object: (root).optimizer's state 'm' for (root).dense_layer.bias\n",
      "WARNING:tensorflow:Value in checkpoint could not be found in the restored object: (root).optimizer's state 'm' for (root).rnn_layer.cell.kernel\n",
      "WARNING:tensorflow:Value in checkpoint could not be found in the restored object: (root).optimizer's state 'm' for (root).rnn_layer.cell.recurrent_kernel\n",
      "WARNING:tensorflow:Value in checkpoint could not be found in the restored object: (root).optimizer's state 'm' for (root).rnn_layer.cell.bias\n",
      "WARNING:tensorflow:Value in checkpoint could not be found in the restored object: (root).optimizer's state 'v' for (root).embedding_layer.embeddings\n",
      "WARNING:tensorflow:Value in checkpoint could not be found in the restored object: (root).optimizer's state 'v' for (root).dense_layer.kernel\n",
      "WARNING:tensorflow:Value in checkpoint could not be found in the restored object: (root).optimizer's state 'v' for (root).dense_layer.bias\n",
      "WARNING:tensorflow:Value in checkpoint could not be found in the restored object: (root).optimizer's state 'v' for (root).rnn_layer.cell.kernel\n",
      "WARNING:tensorflow:Value in checkpoint could not be found in the restored object: (root).optimizer's state 'v' for (root).rnn_layer.cell.recurrent_kernel\n",
      "WARNING:tensorflow:Value in checkpoint could not be found in the restored object: (root).optimizer's state 'v' for (root).rnn_layer.cell.bias\n",
      "After epoch: 1 After epoch: 1 After epoch: 1 After epoch: 1 After epoch: 1 After epoch: 1 After epoch: 1 After epoch: 1 After epoch: 1 After epoch: 1 \n",
      "AliceIstabeIbegansuchavegoneaworcamequietchilledthatlookedaverylookingveryWhiteQueenanlinan?hewandArchabut,why,withareonethisquitetrougcharationofthethink(“whereail.\"\"Shesometurnthegreat,nowthepoor—theshartrong,‘I'mouthourseyoufaslewellmeanthe_pilptget,ifaWilestherementlykeothermanageuse,ottheMarchHare;\"yougottershecouldgetwasdowayshehadsay.“Itwoulderdeamedthecookthatitwastoasarkadmefitshouse.“Andwhenshethoughtit,andAlicewasjustonequeerwwo!Therememberymeatrecesethittleupsnothercopy.”“Deen,oram,youmakoughtilagividianotLoxaretereworked.“Itwassarebody_someantheotherrese:Adon'tknowtoherhimmudderandfan,\"shourad!\"mentsureinherhand,”theKingwassayone,andsaidtheCSheepsetonect;\"inthere—ongedshesaidtoAlice,wholingaboutfourion,”theDucheepensstobeginnonsopengilselmedvidect,doyoumight,ocattrygo,I'llhewasnoughSuchavoiceameadonlywillcrydowntoherseringunesposy.Ancearygfor:“Isureardliketrangetogetexallneverwith_mustonatelectrangerwyoumfreehthisagreement,that_hadsaidascourtseen,tillgoffromonder.You-greatdownf\n",
      "---\n",
      "Epoch 1/10\n",
      "44/44 [==============================] - 1s 16ms/step - loss: 1.7239\n",
      "Epoch 2/10\n",
      "44/44 [==============================] - 1s 10ms/step - loss: 1.7231\n",
      "Epoch 3/10\n",
      "44/44 [==============================] - 1s 10ms/step - loss: 1.7176\n",
      "Epoch 4/10\n",
      "44/44 [==============================] - 1s 10ms/step - loss: 1.7157\n",
      "Epoch 5/10\n",
      "44/44 [==============================] - 1s 10ms/step - loss: 1.7139\n",
      "Epoch 6/10\n",
      "44/44 [==============================] - 1s 11ms/step - loss: 1.7107\n",
      "Epoch 7/10\n",
      "44/44 [==============================] - 1s 10ms/step - loss: 1.7081\n",
      "Epoch 8/10\n",
      "44/44 [==============================] - 1s 10ms/step - loss: 1.7056\n",
      "Epoch 9/10\n",
      "44/44 [==============================] - 1s 10ms/step - loss: 1.7040\n",
      "Epoch 10/10\n",
      "44/44 [==============================] - 1s 10ms/step - loss: 1.6997\n",
      "WARNING:tensorflow:Detecting that an object or model or tf.train.Checkpoint is being deleted with unrestored values. See the following logs for the specific values in question. To silence these warnings, use `status.expect_partial()`. See https://www.tensorflow.org/api_docs/python/tf/train/Checkpoint#restorefor details about the status object returned by the restore function.\n",
      "WARNING:tensorflow:Value in checkpoint could not be found in the restored object: (root).optimizer.iter\n",
      "WARNING:tensorflow:Value in checkpoint could not be found in the restored object: (root).optimizer.beta_1\n",
      "WARNING:tensorflow:Value in checkpoint could not be found in the restored object: (root).optimizer.beta_2\n",
      "WARNING:tensorflow:Value in checkpoint could not be found in the restored object: (root).optimizer.decay\n",
      "WARNING:tensorflow:Value in checkpoint could not be found in the restored object: (root).optimizer.learning_rate\n",
      "WARNING:tensorflow:Value in checkpoint could not be found in the restored object: (root).optimizer's state 'm' for (root).embedding_layer.embeddings\n",
      "WARNING:tensorflow:Value in checkpoint could not be found in the restored object: (root).optimizer's state 'm' for (root).dense_layer.kernel\n",
      "WARNING:tensorflow:Value in checkpoint could not be found in the restored object: (root).optimizer's state 'm' for (root).dense_layer.bias\n",
      "WARNING:tensorflow:Value in checkpoint could not be found in the restored object: (root).optimizer's state 'm' for (root).rnn_layer.cell.kernel\n",
      "WARNING:tensorflow:Value in checkpoint could not be found in the restored object: (root).optimizer's state 'm' for (root).rnn_layer.cell.recurrent_kernel\n",
      "WARNING:tensorflow:Value in checkpoint could not be found in the restored object: (root).optimizer's state 'm' for (root).rnn_layer.cell.bias\n",
      "WARNING:tensorflow:Value in checkpoint could not be found in the restored object: (root).optimizer's state 'v' for (root).embedding_layer.embeddings\n",
      "WARNING:tensorflow:Value in checkpoint could not be found in the restored object: (root).optimizer's state 'v' for (root).dense_layer.kernel\n",
      "WARNING:tensorflow:Value in checkpoint could not be found in the restored object: (root).optimizer's state 'v' for (root).dense_layer.bias\n",
      "WARNING:tensorflow:Value in checkpoint could not be found in the restored object: (root).optimizer's state 'v' for (root).rnn_layer.cell.kernel\n",
      "WARNING:tensorflow:Value in checkpoint could not be found in the restored object: (root).optimizer's state 'v' for (root).rnn_layer.cell.recurrent_kernel\n",
      "WARNING:tensorflow:Value in checkpoint could not be found in the restored object: (root).optimizer's state 'v' for (root).rnn_layer.cell.bias\n",
      "After epoch: 2 After epoch: 2 After epoch: 2 After epoch: 2 After epoch: 2 After epoch: 2 After epoch: 2 After epoch: 2 After epoch: 2 After epoch: 2 \n",
      "Alice:Iwillsosuartofinddrectthebebookin,Thoughttobeingthatif,’doneamomationicelister:withthebrork,andreportagain,\"thoughtAlice.Alice;manyer,shegoveriouslyandpustthemalltheto-deor—andsarebyit,whatisit)andH.ToKLicace.”“IsveakIback.“Iwonderwalking,youknow,asshegrown.Thereseituneathin?Why,-E_you,”hedontion,andnaweranddownbyupandsheverythingsHailofthegreatwaqueeinmthattheworksand—theylook,thatshehadpokear.Home,Isuppingthelittlelikeityou'dplakestotheCa—Putten,geptirgroumbleshowyourhead.Andhowasshegotawerun,forhourgb-amoughtself.\"Whatswereyou’rhedtheProjectGutenberg™wosshout,andthelittlepuddingandwithyour_tookhermedtingbleseellI_meaningitplacewiththatserigt!Betterthandlookisitaboutinsarttheswor“ShadgistlyasAlicethattheirtocatisuptherewouldnever_wathelaythatsoesofthelassnexttoceredweredheringtheconvertbettobty:\"youwantatittoletextur-netting’sasuninallmay!\"thentheMowectreptorwellbeforeclose,”Alicesaidtofluthethat,thatasedroundtothecolebive!\"Bythetablethedalltheground,quite—Tofindofseveninginwithyour\n",
      "---\n",
      "Epoch 1/10\n",
      "44/44 [==============================] - 1s 14ms/step - loss: 1.6973\n",
      "Epoch 2/10\n",
      "44/44 [==============================] - 1s 10ms/step - loss: 1.6956\n",
      "Epoch 3/10\n",
      "44/44 [==============================] - 1s 11ms/step - loss: 1.6925\n",
      "Epoch 4/10\n",
      "44/44 [==============================] - 1s 10ms/step - loss: 1.6905\n",
      "Epoch 5/10\n",
      "44/44 [==============================] - 1s 10ms/step - loss: 1.6880\n",
      "Epoch 6/10\n",
      "44/44 [==============================] - 1s 10ms/step - loss: 1.6864\n",
      "Epoch 7/10\n",
      "44/44 [==============================] - 1s 10ms/step - loss: 1.6848\n",
      "Epoch 8/10\n",
      "44/44 [==============================] - 1s 11ms/step - loss: 1.6827\n",
      "Epoch 9/10\n",
      "44/44 [==============================] - 1s 10ms/step - loss: 1.6801\n",
      "Epoch 10/10\n",
      "44/44 [==============================] - 1s 10ms/step - loss: 1.6777\n",
      "WARNING:tensorflow:Detecting that an object or model or tf.train.Checkpoint is being deleted with unrestored values. See the following logs for the specific values in question. To silence these warnings, use `status.expect_partial()`. See https://www.tensorflow.org/api_docs/python/tf/train/Checkpoint#restorefor details about the status object returned by the restore function.\n",
      "WARNING:tensorflow:Value in checkpoint could not be found in the restored object: (root).optimizer.iter\n",
      "WARNING:tensorflow:Value in checkpoint could not be found in the restored object: (root).optimizer.beta_1\n",
      "WARNING:tensorflow:Value in checkpoint could not be found in the restored object: (root).optimizer.beta_2\n",
      "WARNING:tensorflow:Value in checkpoint could not be found in the restored object: (root).optimizer.decay\n",
      "WARNING:tensorflow:Value in checkpoint could not be found in the restored object: (root).optimizer.learning_rate\n",
      "WARNING:tensorflow:Value in checkpoint could not be found in the restored object: (root).optimizer's state 'm' for (root).embedding_layer.embeddings\n",
      "WARNING:tensorflow:Value in checkpoint could not be found in the restored object: (root).optimizer's state 'm' for (root).dense_layer.kernel\n",
      "WARNING:tensorflow:Value in checkpoint could not be found in the restored object: (root).optimizer's state 'm' for (root).dense_layer.bias\n",
      "WARNING:tensorflow:Value in checkpoint could not be found in the restored object: (root).optimizer's state 'm' for (root).rnn_layer.cell.kernel\n",
      "WARNING:tensorflow:Value in checkpoint could not be found in the restored object: (root).optimizer's state 'm' for (root).rnn_layer.cell.recurrent_kernel\n",
      "WARNING:tensorflow:Value in checkpoint could not be found in the restored object: (root).optimizer's state 'm' for (root).rnn_layer.cell.bias\n",
      "WARNING:tensorflow:Value in checkpoint could not be found in the restored object: (root).optimizer's state 'v' for (root).embedding_layer.embeddings\n",
      "WARNING:tensorflow:Value in checkpoint could not be found in the restored object: (root).optimizer's state 'v' for (root).dense_layer.kernel\n",
      "WARNING:tensorflow:Value in checkpoint could not be found in the restored object: (root).optimizer's state 'v' for (root).dense_layer.bias\n",
      "WARNING:tensorflow:Value in checkpoint could not be found in the restored object: (root).optimizer's state 'v' for (root).rnn_layer.cell.kernel\n",
      "WARNING:tensorflow:Value in checkpoint could not be found in the restored object: (root).optimizer's state 'v' for (root).rnn_layer.cell.recurrent_kernel\n",
      "WARNING:tensorflow:Value in checkpoint could not be found in the restored object: (root).optimizer's state 'v' for (root).rnn_layer.cell.bias\n",
      "After epoch: 3 After epoch: 3 After epoch: 3 After epoch: 3 After epoch: 3 After epoch: 3 After epoch: 3 After epoch: 3 After epoch: 3 After epoch: 3 \n",
      "Alice.“Don’tlookofquiteas—ifyouagreetoones;there'sanmat_!saidArditbeearchargeas_),ydo.\"Alicecouldthissandmustexplay.“Inanother!”,\"Adeapit,”saidAndawringran_thatheireddresentenverytwwonhelledaindoallthesamout,ands,andbeforedfor_you,butI'mbeenhappeerncictinginst;\"werehead,jussinceneinkint.“Idodeeredbytheswas’sgoonthecrostwithalarbly.\"Adingshelvyinfromheredassuchathreetofits:_bottledoe-facionbefelledindimieddearher-etherfainthat,”shesaid,twnotalrwatherfirsttheMogsty,Alicehadhear.However.Ifyouonlyseenothelabropatis?Why?\"Andputtherlefrontsoanlyunthatthisselflikeher,\"saidtheMarchHareofcomethethinghisshallyou,tosayit.\"Andscalledlessingherneitdyet.\"Andthisall,andthengotherhear?”“yougopeon!\"saidAlice.\"Whatallingof.Yexerflonthetheretherquitesigersideroumthat,”Huppyandnotledherintheotherpenceonmoumbeetedsomughtlightfourso,Allkernotice,orgoon?\"saidfellover,shestalkene-child.\"\"Butdownapingedthecrongabeofthemwhiltinningitselfoftheybegan.\"Well,tillhave_poonfinsingbytherowlyquiteandmisysfreeamorguestoneofE\n",
      "---\n",
      "Epoch 1/10\n",
      "44/44 [==============================] - 1s 13ms/step - loss: 1.6754\n",
      "Epoch 2/10\n",
      "44/44 [==============================] - 1s 10ms/step - loss: 1.6731\n",
      "Epoch 3/10\n",
      "44/44 [==============================] - 1s 10ms/step - loss: 1.6711\n",
      "Epoch 4/10\n",
      "44/44 [==============================] - 1s 11ms/step - loss: 1.6709\n",
      "Epoch 5/10\n",
      "44/44 [==============================] - 1s 10ms/step - loss: 1.6699\n",
      "Epoch 6/10\n",
      "44/44 [==============================] - 1s 10ms/step - loss: 1.6677\n",
      "Epoch 7/10\n",
      "44/44 [==============================] - 1s 10ms/step - loss: 1.6644\n",
      "Epoch 8/10\n",
      "44/44 [==============================] - 1s 10ms/step - loss: 1.6627\n",
      "Epoch 9/10\n",
      "44/44 [==============================] - 1s 10ms/step - loss: 1.6611\n",
      "Epoch 10/10\n",
      "44/44 [==============================] - 1s 10ms/step - loss: 1.6612\n",
      "WARNING:tensorflow:Detecting that an object or model or tf.train.Checkpoint is being deleted with unrestored values. See the following logs for the specific values in question. To silence these warnings, use `status.expect_partial()`. See https://www.tensorflow.org/api_docs/python/tf/train/Checkpoint#restorefor details about the status object returned by the restore function.\n",
      "WARNING:tensorflow:Value in checkpoint could not be found in the restored object: (root).optimizer.iter\n",
      "WARNING:tensorflow:Value in checkpoint could not be found in the restored object: (root).optimizer.beta_1\n",
      "WARNING:tensorflow:Value in checkpoint could not be found in the restored object: (root).optimizer.beta_2\n",
      "WARNING:tensorflow:Value in checkpoint could not be found in the restored object: (root).optimizer.decay\n",
      "WARNING:tensorflow:Value in checkpoint could not be found in the restored object: (root).optimizer.learning_rate\n",
      "WARNING:tensorflow:Value in checkpoint could not be found in the restored object: (root).optimizer's state 'm' for (root).embedding_layer.embeddings\n",
      "WARNING:tensorflow:Value in checkpoint could not be found in the restored object: (root).optimizer's state 'm' for (root).dense_layer.kernel\n",
      "WARNING:tensorflow:Value in checkpoint could not be found in the restored object: (root).optimizer's state 'm' for (root).dense_layer.bias\n",
      "WARNING:tensorflow:Value in checkpoint could not be found in the restored object: (root).optimizer's state 'm' for (root).rnn_layer.cell.kernel\n",
      "WARNING:tensorflow:Value in checkpoint could not be found in the restored object: (root).optimizer's state 'm' for (root).rnn_layer.cell.recurrent_kernel\n",
      "WARNING:tensorflow:Value in checkpoint could not be found in the restored object: (root).optimizer's state 'm' for (root).rnn_layer.cell.bias\n",
      "WARNING:tensorflow:Value in checkpoint could not be found in the restored object: (root).optimizer's state 'v' for (root).embedding_layer.embeddings\n",
      "WARNING:tensorflow:Value in checkpoint could not be found in the restored object: (root).optimizer's state 'v' for (root).dense_layer.kernel\n",
      "WARNING:tensorflow:Value in checkpoint could not be found in the restored object: (root).optimizer's state 'v' for (root).dense_layer.bias\n",
      "WARNING:tensorflow:Value in checkpoint could not be found in the restored object: (root).optimizer's state 'v' for (root).rnn_layer.cell.kernel\n",
      "WARNING:tensorflow:Value in checkpoint could not be found in the restored object: (root).optimizer's state 'v' for (root).rnn_layer.cell.recurrent_kernel\n",
      "WARNING:tensorflow:Value in checkpoint could not be found in the restored object: (root).optimizer's state 'v' for (root).rnn_layer.cell.bias\n",
      "After epoch: 4 After epoch: 4 After epoch: 4 After epoch: 4 After epoch: 4 After epoch: 4 After epoch: 4 After epoch: 4 After epoch: 4 After epoch: 4 \n",
      "Alice.go----\"\"Theautcuriousainday,”theRocktheotherplanneroftheyglock.Mypaythemumptopatallsosedbeaftillhantbeina,holobstrangeProjectGutenbergLOFTREN·TTHEFUBLUTHAPRABEREEMETHALBROFUKTOROFKOLLTurrying,noughucovingeveryis,\"Youcan'tremnedding,ify’Tgreensean,whosaidlyshetuprest:“What_inatrathersands,andcameall,togettotheseven’tliketohaveters,wewalargetimthings!”AliceandtheRedQueenbecamedookanyit-oormilltherigh,asshehadknow.\"DistapponthethoughtthatyoudhiddatvoAkning,”theRedQueenshedidforawaysigherather,andtheProjectGutenberg™Lifenceidturnagreemanagoundatthepook.“Hearthem-satelyshehadneNe“Plantionnownormightthat’llteversatedtherewatch\"changedtoprotud.’See,hesaid,addedit.\"AndtheKing.“Butherebegbehindjustaisishonlymentsand-anyow,and_whichthemationabouttheeagonoprushh—AlicefelttheEandtotheMessengersomeditnothegonionlyshestel!”twentcursion.TheQueenderhillyeinsomethingmadeyouhard,andtheMarchHare,\"shehearthoughtheswertudapilycreatdreamitshewas—upalkyouputdenedthefirt!\"saidtheGnerturtakesfowinham--andHatc\n",
      "---\n",
      "Epoch 1/10\n",
      "44/44 [==============================] - 1s 12ms/step - loss: 1.6589\n",
      "Epoch 2/10\n",
      "44/44 [==============================] - 1s 11ms/step - loss: 1.6572\n",
      "Epoch 3/10\n",
      "44/44 [==============================] - 1s 10ms/step - loss: 1.6562\n",
      "Epoch 4/10\n",
      "44/44 [==============================] - 1s 10ms/step - loss: 1.6538\n",
      "Epoch 5/10\n",
      "44/44 [==============================] - 1s 10ms/step - loss: 1.6525\n",
      "Epoch 6/10\n",
      "44/44 [==============================] - 1s 10ms/step - loss: 1.6518\n",
      "Epoch 7/10\n",
      "44/44 [==============================] - 1s 10ms/step - loss: 1.6485\n",
      "Epoch 8/10\n",
      "44/44 [==============================] - 1s 10ms/step - loss: 1.6473\n",
      "Epoch 9/10\n",
      "44/44 [==============================] - 1s 10ms/step - loss: 1.6465\n",
      "Epoch 10/10\n",
      "44/44 [==============================] - 1s 10ms/step - loss: 1.6446\n",
      "WARNING:tensorflow:Detecting that an object or model or tf.train.Checkpoint is being deleted with unrestored values. See the following logs for the specific values in question. To silence these warnings, use `status.expect_partial()`. See https://www.tensorflow.org/api_docs/python/tf/train/Checkpoint#restorefor details about the status object returned by the restore function.\n",
      "WARNING:tensorflow:Value in checkpoint could not be found in the restored object: (root).optimizer.iter\n",
      "WARNING:tensorflow:Value in checkpoint could not be found in the restored object: (root).optimizer.beta_1\n",
      "WARNING:tensorflow:Value in checkpoint could not be found in the restored object: (root).optimizer.beta_2\n",
      "WARNING:tensorflow:Value in checkpoint could not be found in the restored object: (root).optimizer.decay\n",
      "WARNING:tensorflow:Value in checkpoint could not be found in the restored object: (root).optimizer.learning_rate\n",
      "WARNING:tensorflow:Value in checkpoint could not be found in the restored object: (root).optimizer's state 'm' for (root).embedding_layer.embeddings\n",
      "WARNING:tensorflow:Value in checkpoint could not be found in the restored object: (root).optimizer's state 'm' for (root).dense_layer.kernel\n",
      "WARNING:tensorflow:Value in checkpoint could not be found in the restored object: (root).optimizer's state 'm' for (root).dense_layer.bias\n",
      "WARNING:tensorflow:Value in checkpoint could not be found in the restored object: (root).optimizer's state 'm' for (root).rnn_layer.cell.kernel\n",
      "WARNING:tensorflow:Value in checkpoint could not be found in the restored object: (root).optimizer's state 'm' for (root).rnn_layer.cell.recurrent_kernel\n",
      "WARNING:tensorflow:Value in checkpoint could not be found in the restored object: (root).optimizer's state 'm' for (root).rnn_layer.cell.bias\n",
      "WARNING:tensorflow:Value in checkpoint could not be found in the restored object: (root).optimizer's state 'v' for (root).embedding_layer.embeddings\n",
      "WARNING:tensorflow:Value in checkpoint could not be found in the restored object: (root).optimizer's state 'v' for (root).dense_layer.kernel\n",
      "WARNING:tensorflow:Value in checkpoint could not be found in the restored object: (root).optimizer's state 'v' for (root).dense_layer.bias\n",
      "WARNING:tensorflow:Value in checkpoint could not be found in the restored object: (root).optimizer's state 'v' for (root).rnn_layer.cell.kernel\n",
      "WARNING:tensorflow:Value in checkpoint could not be found in the restored object: (root).optimizer's state 'v' for (root).rnn_layer.cell.recurrent_kernel\n",
      "WARNING:tensorflow:Value in checkpoint could not be found in the restored object: (root).optimizer's state 'v' for (root).rnn_layer.cell.bias\n",
      "After epoch: 5 After epoch: 5 After epoch: 5 After epoch: 5 After epoch: 5 After epoch: 5 After epoch: 5 After epoch: 5 After epoch: 5 After epoch: 5 \n",
      "Alice,“You_wouldbegoe,peab_youmustchild),\"Ithatwofbrushtoherterestardonhtfeeningneet.“I’vedrepliedsandhorstillwardturnsidyou'venprosiffalleddistrow.”“Ohornwillmycallthenovedneoffishofanywithaconturedlowed,andputatI’monthetollost!\"shesoousunderst;\"heloot,whatdoes!Inexliseday,heseityoudon’t,whokonyomfortabeaftiveray!\"she’sfherhuslookingverullyoualreadoutlovingit.”“Whonalittlethrowsweretotheworkofface_haveholsetthecouldonlyworkwhat'senorofbefull,\"saidtheDuchess.“DUTERTGITHIMETOFRICTLATTit'scomberybeganagain(fortheporysuctlyintertoexplay,noune——sothetraedAlice,butthey’repickaboutit,\"itspoked,youknow,that—justyou’veswerealittlebutwhentheotherglis,stuptedhercompamperdrenting-Glastcompettontheotherby.Shewalkedwithtumbststribuedon-runnems,andinthem,thatwerefromin;creathery-thehousesnotyofthreeandtheMeaseafallshadeshewouldthandowner,addenly,\"saidtheCatIwouldnotversanare,tosniveon?\"----\"Near!”Thiswingininthebedsee!\"(sothelastime,”Aliceofmakes!Oh,onotyo,hem;andit’shands!\"\"Ilagcairit.Twasalittlequeedin\n",
      "---\n"
     ]
    }
   ],
   "source": [
    "num_epochs = 50\n",
    "for i in range(num_epochs//10):\n",
    "    model.fit(\n",
    "        dataset.repeat(),\n",
    "        epochs = 10,\n",
    "        steps_per_epoch=steps_per_epoch\n",
    "    )\n",
    "    checkpoint_file = os.path.join(CHEKPOINT_DIR,\"model_epoch_{:d}\".format(i+1))\n",
    "    model.save_weights(checkpoint_file)\n",
    "    gen_model = CharGenModel(vocab_size,seq_length,embedding_dim)\n",
    "    gen_model.load_weights(checkpoint_file)\n",
    "    gen_model.build(input_shape=(1,seq_length))\n",
    "    print(\"After epoch: {:d} \".format(i+1)*10)\n",
    "    print(generate_text(gen_model,\"Alice\",char2idx,idx2char))\n",
    "    print(\"---\")"
   ],
   "metadata": {
    "collapsed": false,
    "ExecuteTime": {
     "end_time": "2024-04-08T15:50:36.195367Z",
     "start_time": "2024-04-08T15:49:36.638384Z"
    }
   },
   "id": "91f9f03cdbc30bc2",
   "execution_count": 19
  },
  {
   "cell_type": "code",
   "outputs": [],
   "source": [],
   "metadata": {
    "collapsed": false
   },
   "id": "80f5841f3feb33d4"
  }
 ],
 "metadata": {
  "kernelspec": {
   "display_name": "Python 3",
   "language": "python",
   "name": "python3"
  },
  "language_info": {
   "codemirror_mode": {
    "name": "ipython",
    "version": 2
   },
   "file_extension": ".py",
   "mimetype": "text/x-python",
   "name": "python",
   "nbconvert_exporter": "python",
   "pygments_lexer": "ipython2",
   "version": "2.7.6"
  }
 },
 "nbformat": 4,
 "nbformat_minor": 5
}
