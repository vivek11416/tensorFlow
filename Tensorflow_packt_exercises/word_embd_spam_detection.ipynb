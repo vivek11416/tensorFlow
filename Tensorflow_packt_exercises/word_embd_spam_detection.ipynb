{
 "cells": [
  {
   "cell_type": "code",
   "execution_count": 48,
   "metadata": {
    "collapsed": true,
    "ExecuteTime": {
     "end_time": "2024-03-22T07:29:47.759686800Z",
     "start_time": "2024-03-22T07:29:47.750088700Z"
    }
   },
   "outputs": [],
   "source": [
    "import argparse\n",
    "import gensim.downloader as api\n",
    "import numpy as np\n",
    "import os\n",
    "import shutil\n",
    "import tensorflow as tf\n",
    "from sklearn.metrics import accuracy_score,confusion_matrix"
   ]
  },
  {
   "cell_type": "code",
   "execution_count": 49,
   "outputs": [],
   "source": [
    "#https://archive.ics.uci.edu/static/public/228/sms+spam+collection.zip\n",
    "def read_local_file():\n",
    "    labels,texts = [],[]\n",
    "    with open('SMSSpamCollection',\"r\") as fin:\n",
    "        for line in fin:\n",
    "            label,text = line.strip().split(\"\\t\")\n",
    "            labels.append(1 if label == \"spam\" else 0)\n",
    "            texts.append(text)\n",
    "    return texts,labels\n",
    "# DATASET_URL = \"https://archive.ics.uci.edu/static/public/228/sms+spam+collection.zip\"\n",
    "texts,labels = read_local_file()"
   ],
   "metadata": {
    "collapsed": false,
    "ExecuteTime": {
     "end_time": "2024-03-22T07:29:47.794728600Z",
     "start_time": "2024-03-22T07:29:47.758682700Z"
    }
   }
  },
  {
   "cell_type": "code",
   "execution_count": 50,
   "outputs": [
    {
     "data": {
      "text/plain": "'Go until jurong point, crazy.. Available only in bugis n great world la e buffet... Cine there got amore wat...'"
     },
     "execution_count": 50,
     "metadata": {},
     "output_type": "execute_result"
    }
   ],
   "source": [
    "texts[0]"
   ],
   "metadata": {
    "collapsed": false,
    "ExecuteTime": {
     "end_time": "2024-03-22T07:29:47.801231600Z",
     "start_time": "2024-03-22T07:29:47.769825500Z"
    }
   }
  },
  {
   "cell_type": "code",
   "execution_count": 51,
   "outputs": [],
   "source": [
    "tokenizer = tf.keras.preprocessing.text.Tokenizer()\n",
    "tokenizer.fit_on_texts(texts)\n",
    "text_sequences = tokenizer.texts_to_sequences(texts)\n",
    "text_sequences=tf.keras.preprocessing.sequence.pad_sequences(text_sequences)"
   ],
   "metadata": {
    "collapsed": false,
    "ExecuteTime": {
     "end_time": "2024-03-22T07:29:47.953856100Z",
     "start_time": "2024-03-22T07:29:47.786598500Z"
    }
   }
  },
  {
   "cell_type": "code",
   "execution_count": 52,
   "outputs": [],
   "source": [
    "num_records,max_seqlen=len(text_sequences),len(text_sequences[0])"
   ],
   "metadata": {
    "collapsed": false,
    "ExecuteTime": {
     "end_time": "2024-03-22T07:29:47.966795Z",
     "start_time": "2024-03-22T07:29:47.953856100Z"
    }
   }
  },
  {
   "cell_type": "code",
   "execution_count": 53,
   "outputs": [],
   "source": [
    "NUM_CLASSES = 2\n",
    "cat_labels = tf.keras.utils.to_categorical(labels,num_classes=NUM_CLASSES)"
   ],
   "metadata": {
    "collapsed": false,
    "ExecuteTime": {
     "end_time": "2024-03-22T07:29:47.985343100Z",
     "start_time": "2024-03-22T07:29:47.966795Z"
    }
   }
  },
  {
   "cell_type": "code",
   "execution_count": 54,
   "outputs": [
    {
     "data": {
      "text/plain": "array([[1., 0.],\n       [1., 0.],\n       [0., 1.],\n       ...,\n       [1., 0.],\n       [1., 0.],\n       [1., 0.]], dtype=float32)"
     },
     "execution_count": 54,
     "metadata": {},
     "output_type": "execute_result"
    }
   ],
   "source": [
    "cat_labels"
   ],
   "metadata": {
    "collapsed": false,
    "ExecuteTime": {
     "end_time": "2024-03-22T07:29:47.998348700Z",
     "start_time": "2024-03-22T07:29:47.985343100Z"
    }
   }
  },
  {
   "cell_type": "code",
   "execution_count": 55,
   "outputs": [
    {
     "data": {
      "text/plain": "9013"
     },
     "execution_count": 55,
     "metadata": {},
     "output_type": "execute_result"
    }
   ],
   "source": [
    "word2idx = tokenizer.word_index\n",
    "idx2word = {v:k for k,v in word2idx.items()}\n",
    "word2idx[\"PAD\"] = 0\n",
    "idx2word[0]=\"PAD\"\n",
    "vocab_size = len(word2idx)\n",
    "vocab_size"
   ],
   "metadata": {
    "collapsed": false,
    "ExecuteTime": {
     "end_time": "2024-03-22T07:29:48.035327400Z",
     "start_time": "2024-03-22T07:29:47.998348700Z"
    }
   }
  },
  {
   "cell_type": "code",
   "execution_count": 56,
   "outputs": [],
   "source": [
    "dataset = tf.data.Dataset.from_tensor_slices((text_sequences,cat_labels)).batch(32).prefetch(tf.data.AUTOTUNE)\n",
    "dataset = dataset.shuffle(10000)\n",
    "test_size = num_records//4\n",
    "val_size = (num_records - test_size) // 10\n",
    "test_dataset = dataset.take(test_size)\n",
    "val_dataset = dataset.skip(test_size).take(val_size)\n",
    "train_dataset = dataset.skip(test_size+val_size)\n",
    "BATCH_SIZE = 128\n",
    "test_dataset=test_dataset.batch(BATCH_SIZE,drop_remainder=True)\n",
    "val_dataset = val_dataset.batch(BATCH_SIZE,drop_remainder=True)\n",
    "train_dataset = train_dataset.batch(BATCH_SIZE,drop_remainder=True)"
   ],
   "metadata": {
    "collapsed": false,
    "ExecuteTime": {
     "end_time": "2024-03-22T07:29:48.049921800Z",
     "start_time": "2024-03-22T07:29:48.019687100Z"
    }
   }
  },
  {
   "cell_type": "code",
   "execution_count": 57,
   "outputs": [
    {
     "data": {
      "text/plain": "dict_keys(['fasttext-wiki-news-subwords-300', 'conceptnet-numberbatch-17-06-300', 'word2vec-ruscorpora-300', 'word2vec-google-news-300', 'glove-wiki-gigaword-50', 'glove-wiki-gigaword-100', 'glove-wiki-gigaword-200', 'glove-wiki-gigaword-300', 'glove-twitter-25', 'glove-twitter-50', 'glove-twitter-100', 'glove-twitter-200', '__testing_word2vec-matrix-synopsis'])"
     },
     "execution_count": 57,
     "metadata": {},
     "output_type": "execute_result"
    }
   ],
   "source": [
    "import gensim.downloader as api\n",
    "api.info()['models'].keys()"
   ],
   "metadata": {
    "collapsed": false,
    "ExecuteTime": {
     "end_time": "2024-03-22T07:29:48.307254100Z",
     "start_time": "2024-03-22T07:29:48.049921800Z"
    }
   }
  },
  {
   "cell_type": "code",
   "execution_count": 58,
   "outputs": [
    {
     "name": "stdout",
     "output_type": "stream",
     "text": [
      "Embedding matrix :  (9013, 300)\n"
     ]
    }
   ],
   "source": [
    "def build_embedding_matrix(sequences,word2idx,embedding_dim,embedding_file):\n",
    "    if os.path.exists(embedding_file):\n",
    "        E = np.load(embedding_file)\n",
    "    else:\n",
    "        vocab_size = len(word2idx)\n",
    "        E = np.zeros((vocab_size,embedding_dim))\n",
    "        word_vectors = api.load(EMBEDDING_MODEL)\n",
    "        for word,idx in word2idx.items():\n",
    "            try:\n",
    "                E[idx] = word_vectors.word_vec(word)\n",
    "            except KeyError:\n",
    "                pass\n",
    "        np.save(embedding_file,E)\n",
    "    return E\n",
    "\n",
    "EMBEDDING_DIM = 300\n",
    "DATA_DIR = \"data\"\n",
    "EMBEDDING_NUMPY_FILE = os.path.join(DATA_DIR,\"E.npy\")\n",
    "EMBEDDING_MODEL = 'glove-wiki-gigaword-300'\n",
    "E = build_embedding_matrix(text_sequences,word2idx,EMBEDDING_DIM,EMBEDDING_NUMPY_FILE)\n",
    "print(\"Embedding matrix : \",E.shape)"
   ],
   "metadata": {
    "collapsed": false,
    "ExecuteTime": {
     "end_time": "2024-03-22T07:29:48.354636100Z",
     "start_time": "2024-03-22T07:29:48.311734500Z"
    }
   }
  },
  {
   "cell_type": "code",
   "execution_count": 59,
   "outputs": [],
   "source": [
    "class SpamClassifierModel(tf.keras.Model):\n",
    "    def __init__(self,vocab_sz,embed_sz,input_length,num_fiilters,kernel_sz,output_sz,run_mode,embedding_weights,**kwargs):\n",
    "        super(SpamClassifierModel,self).__init__(**kwargs)\n",
    "        if run_mode==\"scratch\":\n",
    "            self.embedding=tf.keras.layers.Embedding(vocab_sz,embed_sz,input_length=input_length,trainable=True)\n",
    "        elif run_mode==\"vectorizer\":\n",
    "            self.embedding=tf.keras.layers.Embedding(vocab_sz,embed_sz,input_length=input_length,weights=[embedding_weights],trainable=False)\n",
    "\n",
    "        else:\n",
    "            self.embedding=tf.keras.layers.Embedding(vocab_sz,embed_sz,input_length=input_length,weights=[embedding_weights],trainable=True)\n",
    "\n",
    "        self.conv = tf.keras.layers.Conv1D(filters=num_fiilters,kernel_size=kernel_sz,activation=\"relu\")\n",
    "        self.dropout = tf.keras.layers.SpatialDropout1D(0.2)\n",
    "        self.pool = tf.keras.layers.GlobalMaxPooling1D()\n",
    "        self.dense = tf.keras.layers.Dense(output_sz,activation=\"softmax\")\n",
    "\n",
    "    def call(self,x):\n",
    "        x = self.embedding(x)\n",
    "        x = self.conv(x)\n",
    "        x = self.dropout(x)\n",
    "        x = self.pool(x)\n",
    "        x = self.dense(x)\n",
    "        return x\n",
    "\n",
    "conv_num_filters = 256\n",
    "conv_kernal_size = 3\n",
    "\n",
    "model = SpamClassifierModel(vocab_size,EMBEDDING_DIM,max_seqlen,conv_num_filters,conv_kernal_size,NUM_CLASSES,\"finetune\",E)\n",
    "model.build(input_shape=(None,max_seqlen))"
   ],
   "metadata": {
    "collapsed": false,
    "ExecuteTime": {
     "end_time": "2024-03-22T07:29:48.401513Z",
     "start_time": "2024-03-22T07:29:48.326048900Z"
    }
   }
  },
  {
   "cell_type": "code",
   "execution_count": 60,
   "outputs": [],
   "source": [
    "model.compile(optimizer=tf.keras.optimizers.Adam(),loss = \"categorical_crossentropy\",metrics=[\"accuracy\"])"
   ],
   "metadata": {
    "collapsed": false,
    "ExecuteTime": {
     "end_time": "2024-03-22T07:29:48.406364800Z",
     "start_time": "2024-03-22T07:29:48.372976600Z"
    }
   }
  },
  {
   "cell_type": "code",
   "execution_count": 61,
   "outputs": [
    {
     "name": "stdout",
     "output_type": "stream",
     "text": [
      "Epoch 1/3\n"
     ]
    },
    {
     "ename": "ValueError",
     "evalue": "Unexpected result of `train_function` (Empty logs). Please use `Model.compile(..., run_eagerly=True)`, or `tf.config.run_functions_eagerly(True)` for more information of where went wrong, or file a issue/bug to `tf.keras`.",
     "output_type": "error",
     "traceback": [
      "\u001B[1;31m---------------------------------------------------------------------------\u001B[0m",
      "\u001B[1;31mValueError\u001B[0m                                Traceback (most recent call last)",
      "Cell \u001B[1;32mIn[61], line 4\u001B[0m\n\u001B[0;32m      1\u001B[0m NUM_EPOCHS \u001B[38;5;241m=\u001B[39m \u001B[38;5;241m3\u001B[39m\n\u001B[0;32m      2\u001B[0m \u001B[38;5;66;03m# CLASS_WEIGHTS = {0:1,1:8}\u001B[39;00m\n\u001B[0;32m      3\u001B[0m \u001B[38;5;66;03m#,class_weight=CLASS_WEIGHTS\u001B[39;00m\n\u001B[1;32m----> 4\u001B[0m \u001B[43mmodel\u001B[49m\u001B[38;5;241;43m.\u001B[39;49m\u001B[43mfit\u001B[49m\u001B[43m(\u001B[49m\u001B[43mtrain_dataset\u001B[49m\u001B[43m,\u001B[49m\u001B[43mepochs\u001B[49m\u001B[38;5;241;43m=\u001B[39;49m\u001B[43mNUM_EPOCHS\u001B[49m\u001B[43m,\u001B[49m\u001B[43mvalidation_data\u001B[49m\u001B[38;5;241;43m=\u001B[39;49m\u001B[43mval_dataset\u001B[49m\u001B[43m)\u001B[49m\n\u001B[0;32m      6\u001B[0m labels,predictions \u001B[38;5;241m=\u001B[39m [],[]\n\u001B[0;32m      8\u001B[0m \u001B[38;5;28;01mfor\u001B[39;00m Xtest , Ytest \u001B[38;5;129;01min\u001B[39;00m test_dataset:\n",
      "File \u001B[1;32m~\\anaconda3\\envs\\tensorFlowEnv\\lib\\site-packages\\keras\\utils\\traceback_utils.py:70\u001B[0m, in \u001B[0;36mfilter_traceback.<locals>.error_handler\u001B[1;34m(*args, **kwargs)\u001B[0m\n\u001B[0;32m     67\u001B[0m     filtered_tb \u001B[38;5;241m=\u001B[39m _process_traceback_frames(e\u001B[38;5;241m.\u001B[39m__traceback__)\n\u001B[0;32m     68\u001B[0m     \u001B[38;5;66;03m# To get the full stack trace, call:\u001B[39;00m\n\u001B[0;32m     69\u001B[0m     \u001B[38;5;66;03m# `tf.debugging.disable_traceback_filtering()`\u001B[39;00m\n\u001B[1;32m---> 70\u001B[0m     \u001B[38;5;28;01mraise\u001B[39;00m e\u001B[38;5;241m.\u001B[39mwith_traceback(filtered_tb) \u001B[38;5;28;01mfrom\u001B[39;00m \u001B[38;5;28;01mNone\u001B[39;00m\n\u001B[0;32m     71\u001B[0m \u001B[38;5;28;01mfinally\u001B[39;00m:\n\u001B[0;32m     72\u001B[0m     \u001B[38;5;28;01mdel\u001B[39;00m filtered_tb\n",
      "File \u001B[1;32m~\\anaconda3\\envs\\tensorFlowEnv\\lib\\site-packages\\keras\\engine\\training.py:1576\u001B[0m, in \u001B[0;36mModel.fit\u001B[1;34m(self, x, y, batch_size, epochs, verbose, callbacks, validation_split, validation_data, shuffle, class_weight, sample_weight, initial_epoch, steps_per_epoch, validation_steps, validation_batch_size, validation_freq, max_queue_size, workers, use_multiprocessing)\u001B[0m\n\u001B[0;32m   1574\u001B[0m logs \u001B[38;5;241m=\u001B[39m tf_utils\u001B[38;5;241m.\u001B[39msync_to_numpy_or_python_type(logs)\n\u001B[0;32m   1575\u001B[0m \u001B[38;5;28;01mif\u001B[39;00m logs \u001B[38;5;129;01mis\u001B[39;00m \u001B[38;5;28;01mNone\u001B[39;00m:\n\u001B[1;32m-> 1576\u001B[0m     \u001B[38;5;28;01mraise\u001B[39;00m \u001B[38;5;167;01mValueError\u001B[39;00m(\n\u001B[0;32m   1577\u001B[0m         \u001B[38;5;124m\"\u001B[39m\u001B[38;5;124mUnexpected result of `train_function` \u001B[39m\u001B[38;5;124m\"\u001B[39m\n\u001B[0;32m   1578\u001B[0m         \u001B[38;5;124m\"\u001B[39m\u001B[38;5;124m(Empty logs). Please use \u001B[39m\u001B[38;5;124m\"\u001B[39m\n\u001B[0;32m   1579\u001B[0m         \u001B[38;5;124m\"\u001B[39m\u001B[38;5;124m`Model.compile(..., run_eagerly=True)`, or \u001B[39m\u001B[38;5;124m\"\u001B[39m\n\u001B[0;32m   1580\u001B[0m         \u001B[38;5;124m\"\u001B[39m\u001B[38;5;124m`tf.config.run_functions_eagerly(True)` for more \u001B[39m\u001B[38;5;124m\"\u001B[39m\n\u001B[0;32m   1581\u001B[0m         \u001B[38;5;124m\"\u001B[39m\u001B[38;5;124minformation of where went wrong, or file a \u001B[39m\u001B[38;5;124m\"\u001B[39m\n\u001B[0;32m   1582\u001B[0m         \u001B[38;5;124m\"\u001B[39m\u001B[38;5;124missue/bug to `tf.keras`.\u001B[39m\u001B[38;5;124m\"\u001B[39m\n\u001B[0;32m   1583\u001B[0m     )\n\u001B[0;32m   1584\u001B[0m epoch_logs \u001B[38;5;241m=\u001B[39m copy\u001B[38;5;241m.\u001B[39mcopy(logs)\n\u001B[0;32m   1586\u001B[0m \u001B[38;5;66;03m# Run validation.\u001B[39;00m\n",
      "\u001B[1;31mValueError\u001B[0m: Unexpected result of `train_function` (Empty logs). Please use `Model.compile(..., run_eagerly=True)`, or `tf.config.run_functions_eagerly(True)` for more information of where went wrong, or file a issue/bug to `tf.keras`."
     ]
    }
   ],
   "source": [
    "NUM_EPOCHS = 3\n",
    "# CLASS_WEIGHTS = {0:1,1:8}\n",
    "#,class_weight=CLASS_WEIGHTS\n",
    "model.fit(train_dataset,epochs=NUM_EPOCHS,validation_data=val_dataset)\n",
    "\n",
    "labels,predictions = [],[]\n",
    "\n",
    "for Xtest , Ytest in test_dataset:\n",
    "    Ytest_ = model.predict_on_batch(Xtest)\n",
    "    ytest = np.argmax(Ytest,axis=1)\n",
    "    ytest_ = np.argmax(Ytest_,axis=1)\n",
    "    labels.extend(ytest.tolist())\n",
    "    predictions.extend(ytest.tolist())\n",
    "\n",
    "print(accuracy_score(labels,predictions))\n",
    "print(confusion_matrix(labels,predictions))"
   ],
   "metadata": {
    "collapsed": false,
    "ExecuteTime": {
     "end_time": "2024-03-22T07:29:48.451724500Z",
     "start_time": "2024-03-22T07:29:48.401513Z"
    }
   }
  },
  {
   "cell_type": "code",
   "execution_count": null,
   "outputs": [],
   "source": [],
   "metadata": {
    "collapsed": false
   }
  }
 ],
 "metadata": {
  "kernelspec": {
   "display_name": "Python 3",
   "language": "python",
   "name": "python3"
  },
  "language_info": {
   "codemirror_mode": {
    "name": "ipython",
    "version": 2
   },
   "file_extension": ".py",
   "mimetype": "text/x-python",
   "name": "python",
   "nbconvert_exporter": "python",
   "pygments_lexer": "ipython2",
   "version": "2.7.6"
  }
 },
 "nbformat": 4,
 "nbformat_minor": 0
}
