{
 "cells": [
  {
   "cell_type": "code",
   "execution_count": 3,
   "metadata": {
    "collapsed": true,
    "ExecuteTime": {
     "end_time": "2024-01-06T18:12:36.886165600Z",
     "start_time": "2024-01-06T18:12:31.552641100Z"
    }
   },
   "outputs": [],
   "source": [
    "from extras.helper_functions import create_tensorboard_callback, plot_loss_curves, unzip_data, walk_through_dir"
   ]
  },
  {
   "cell_type": "code",
   "execution_count": 2,
   "outputs": [
    {
     "name": "stdout",
     "output_type": "stream",
     "text": [
      "There are 2 directories and 0 images in '10_food_classes_10_percent'.\n",
      "There are 10 directories and 0 images in '10_food_classes_10_percent\\test'.\n",
      "There are 0 directories and 250 images in '10_food_classes_10_percent\\test\\chicken_curry'.\n",
      "There are 0 directories and 250 images in '10_food_classes_10_percent\\test\\chicken_wings'.\n",
      "There are 0 directories and 250 images in '10_food_classes_10_percent\\test\\fried_rice'.\n",
      "There are 0 directories and 250 images in '10_food_classes_10_percent\\test\\grilled_salmon'.\n",
      "There are 0 directories and 250 images in '10_food_classes_10_percent\\test\\hamburger'.\n",
      "There are 0 directories and 250 images in '10_food_classes_10_percent\\test\\ice_cream'.\n",
      "There are 0 directories and 250 images in '10_food_classes_10_percent\\test\\pizza'.\n",
      "There are 0 directories and 250 images in '10_food_classes_10_percent\\test\\ramen'.\n",
      "There are 0 directories and 250 images in '10_food_classes_10_percent\\test\\steak'.\n",
      "There are 0 directories and 250 images in '10_food_classes_10_percent\\test\\sushi'.\n",
      "There are 10 directories and 0 images in '10_food_classes_10_percent\\train'.\n",
      "There are 0 directories and 75 images in '10_food_classes_10_percent\\train\\chicken_curry'.\n",
      "There are 0 directories and 75 images in '10_food_classes_10_percent\\train\\chicken_wings'.\n",
      "There are 0 directories and 75 images in '10_food_classes_10_percent\\train\\fried_rice'.\n",
      "There are 0 directories and 75 images in '10_food_classes_10_percent\\train\\grilled_salmon'.\n",
      "There are 0 directories and 75 images in '10_food_classes_10_percent\\train\\hamburger'.\n",
      "There are 0 directories and 75 images in '10_food_classes_10_percent\\train\\ice_cream'.\n",
      "There are 0 directories and 75 images in '10_food_classes_10_percent\\train\\pizza'.\n",
      "There are 0 directories and 75 images in '10_food_classes_10_percent\\train\\ramen'.\n",
      "There are 0 directories and 75 images in '10_food_classes_10_percent\\train\\steak'.\n",
      "There are 0 directories and 75 images in '10_food_classes_10_percent\\train\\sushi'.\n"
     ]
    }
   ],
   "source": [
    "walk_through_dir('10_food_classes_10_percent')"
   ],
   "metadata": {
    "collapsed": false,
    "ExecuteTime": {
     "end_time": "2023-12-27T07:11:57.766926Z",
     "start_time": "2023-12-27T07:11:57.753419200Z"
    }
   }
  },
  {
   "cell_type": "code",
   "execution_count": 3,
   "outputs": [],
   "source": [
    "train_dir = \"10_food_classes_10_percent/train\"\n",
    "test_dir = \"10_food_classes_10_percent/test\""
   ],
   "metadata": {
    "collapsed": false,
    "ExecuteTime": {
     "end_time": "2023-12-27T07:11:57.810931Z",
     "start_time": "2023-12-27T07:11:57.765923400Z"
    }
   }
  },
  {
   "cell_type": "code",
   "execution_count": 4,
   "outputs": [
    {
     "name": "stdout",
     "output_type": "stream",
     "text": [
      "Found 750 files belonging to 10 classes.\n",
      "Found 2500 files belonging to 10 classes.\n"
     ]
    }
   ],
   "source": [
    "import tensorflow as tf\n",
    "IMG_SIZE = (224,224)\n",
    "BATCH_SIZE = 32\n",
    "train_data_10_percent = tf.keras.preprocessing.image_dataset_from_directory(directory=train_dir,image_size=IMG_SIZE,label_mode=\"categorical\",batch_size=BATCH_SIZE)\n",
    "test_data = tf.keras.preprocessing.image_dataset_from_directory(directory=test_dir,image_size=IMG_SIZE,label_mode=\"categorical\",batch_size=BATCH_SIZE)"
   ],
   "metadata": {
    "collapsed": false,
    "ExecuteTime": {
     "end_time": "2023-12-27T07:11:59.683016300Z",
     "start_time": "2023-12-27T07:11:57.785130400Z"
    }
   }
  },
  {
   "cell_type": "code",
   "execution_count": 6,
   "outputs": [
    {
     "data": {
      "text/plain": "['chicken_curry',\n 'chicken_wings',\n 'fried_rice',\n 'grilled_salmon',\n 'hamburger',\n 'ice_cream',\n 'pizza',\n 'ramen',\n 'steak',\n 'sushi']"
     },
     "execution_count": 6,
     "metadata": {},
     "output_type": "execute_result"
    }
   ],
   "source": [
    "train_data_10_percent.class_names"
   ],
   "metadata": {
    "collapsed": false,
    "ExecuteTime": {
     "end_time": "2023-12-27T07:48:40.218969100Z",
     "start_time": "2023-12-27T07:48:40.205778500Z"
    }
   }
  },
  {
   "cell_type": "code",
   "execution_count": 7,
   "outputs": [
    {
     "name": "stdout",
     "output_type": "stream",
     "text": [
      "tf.Tensor(\n",
      "[[[[1.32943878e+02 1.32943878e+02 1.24943878e+02]\n",
      "   [1.34428574e+02 1.34428574e+02 1.26428566e+02]\n",
      "   [1.35637756e+02 1.35637756e+02 1.27637756e+02]\n",
      "   ...\n",
      "   [8.87757206e+00 9.87757206e+00 3.87757206e+00]\n",
      "   [1.35714808e+01 1.45714808e+01 8.57148075e+00]\n",
      "   [1.44846954e+01 1.70255051e+01 1.02551003e+01]]\n",
      "\n",
      "  [[1.32357147e+02 1.32357147e+02 1.24357140e+02]\n",
      "   [1.34071426e+02 1.34071426e+02 1.26071426e+02]\n",
      "   [1.35000000e+02 1.35000000e+02 1.27000000e+02]\n",
      "   ...\n",
      "   [3.99999046e+00 2.99999046e+00 5.61215878e-02]\n",
      "   [4.93880749e+00 4.07146263e+00 6.63275123e-02]\n",
      "   [1.10459042e+01 1.13826313e+01 5.71426773e+00]]\n",
      "\n",
      "  [[1.27928574e+02 1.27928574e+02 1.19928566e+02]\n",
      "   [1.29642853e+02 1.29642853e+02 1.21642853e+02]\n",
      "   [1.30739792e+02 1.30739792e+02 1.22739792e+02]\n",
      "   ...\n",
      "   [5.81124020e+00 2.38266850e+00 0.00000000e+00]\n",
      "   [1.07296581e+01 7.30108595e+00 2.58678317e+00]\n",
      "   [1.63418255e+01 1.29132538e+01 8.12753963e+00]]\n",
      "\n",
      "  ...\n",
      "\n",
      "  [[1.30000000e+02 1.35000000e+02 1.41000000e+02]\n",
      "   [1.30198959e+02 1.35198959e+02 1.41198959e+02]\n",
      "   [1.29382629e+02 1.34382629e+02 1.40382629e+02]\n",
      "   ...\n",
      "   [1.88826584e+02 1.97255112e+02 1.98872528e+02]\n",
      "   [1.97173828e+02 2.05602356e+02 2.08173828e+02]\n",
      "   [1.87326660e+02 1.94969452e+02 2.00112396e+02]]\n",
      "\n",
      "  [[1.30045929e+02 1.35045929e+02 1.41045929e+02]\n",
      "   [1.29066345e+02 1.34066345e+02 1.40066345e+02]\n",
      "   [1.28214279e+02 1.33214279e+02 1.39214279e+02]\n",
      "   ...\n",
      "   [1.79653030e+02 1.87438736e+02 1.91081619e+02]\n",
      "   [1.88663193e+02 1.95663193e+02 2.01663193e+02]\n",
      "   [1.89469345e+02 1.96469345e+02 2.04469345e+02]]\n",
      "\n",
      "  [[1.31770416e+02 1.36770416e+02 1.42770416e+02]\n",
      "   [1.29928574e+02 1.34928574e+02 1.40928574e+02]\n",
      "   [1.28494919e+02 1.33494919e+02 1.39494919e+02]\n",
      "   ...\n",
      "   [1.79500244e+02 1.86500244e+02 1.92928833e+02]\n",
      "   [1.76648056e+02 1.83648056e+02 1.91648056e+02]\n",
      "   [1.85969452e+02 1.89969452e+02 2.00969452e+02]]]\n",
      "\n",
      "\n",
      " [[[5.28571415e+00 6.28571415e+00 1.28571439e+00]\n",
      "   [5.38265276e+00 6.38265276e+00 1.38265276e+00]\n",
      "   [7.20918369e+00 8.20918369e+00 3.20918369e+00]\n",
      "   ...\n",
      "   [5.82753944e+01 4.75509872e+01 3.05664444e+01]\n",
      "   [4.57855835e+01 4.49539833e+01 4.47857285e+01]\n",
      "   [2.14233227e+01 2.57243996e+01 4.52500534e+01]]\n",
      "\n",
      "  [[5.42857122e+00 6.42857122e+00 1.42857146e+00]\n",
      "   [5.35204029e+00 6.35204029e+00 1.35204041e+00]\n",
      "   [7.35714245e+00 8.35714245e+00 3.35714269e+00]\n",
      "   ...\n",
      "   [7.38979187e+01 6.84694366e+01 7.48572540e+01]\n",
      "   [5.86885872e+01 6.21886253e+01 8.04744339e+01]\n",
      "   [3.20662498e+01 3.91581497e+01 7.31072617e+01]]\n",
      "\n",
      "  [[1.12142849e+01 1.22142849e+01 7.21428490e+00]\n",
      "   [1.14693871e+01 1.24693871e+01 7.46938705e+00]\n",
      "   [1.43571424e+01 1.53571424e+01 1.03571424e+01]\n",
      "   ...\n",
      "   [7.52857132e+01 7.98622818e+01 1.09244934e+02]\n",
      "   [6.55661316e+01 7.81681900e+01 1.11999878e+02]\n",
      "   [3.12344093e+01 4.56477585e+01 9.00100403e+01]]\n",
      "\n",
      "  ...\n",
      "\n",
      "  [[2.49285984e+01 1.56479893e+01 6.64798880e+00]\n",
      "   [2.76020241e+01 1.97857056e+01 9.01530647e+00]\n",
      "   [2.48316269e+01 1.88316269e+01 6.40305424e+00]\n",
      "   ...\n",
      "   [6.01021614e+01 5.31021614e+01 3.52705688e+01]\n",
      "   [5.71071053e+01 5.18928108e+01 3.35356941e+01]\n",
      "   [5.65867996e+01 5.13725052e+01 3.30153885e+01]]\n",
      "\n",
      "  [[3.10663986e+01 2.20663986e+01 1.30663967e+01]\n",
      "   [2.61428566e+01 1.91326542e+01 9.13775539e+00]\n",
      "   [2.44132690e+01 1.84132690e+01 5.98469782e+00]\n",
      "   ...\n",
      "   [5.64437981e+01 4.94437981e+01 3.30152702e+01]\n",
      "   [6.82860413e+01 6.22860413e+01 4.62860413e+01]\n",
      "   [6.56375046e+01 5.96375046e+01 4.36375046e+01]]\n",
      "\n",
      "  [[2.95561314e+01 2.05561314e+01 1.15561323e+01]\n",
      "   [2.44081688e+01 1.74081688e+01 7.40816784e+00]\n",
      "   [2.54336739e+01 2.00765324e+01 7.43367386e+00]\n",
      "   ...\n",
      "   [7.08520966e+01 6.38520966e+01 4.78520966e+01]\n",
      "   [6.97653275e+01 6.37653236e+01 4.97653236e+01]\n",
      "   [6.20253754e+01 5.60253754e+01 4.20253754e+01]]]\n",
      "\n",
      "\n",
      " [[[1.77260208e+02 1.04260208e+02 3.62602043e+01]\n",
      "   [1.78051025e+02 1.04051018e+02 3.90510216e+01]\n",
      "   [1.77448975e+02 1.03448982e+02 3.88775520e+01]\n",
      "   ...\n",
      "   [1.52647934e+02 1.18647926e+02 8.32193985e+01]\n",
      "   [1.48142868e+02 1.13142868e+02 8.11428680e+01]\n",
      "   [1.47714218e+02 1.12714218e+02 8.07142181e+01]]\n",
      "\n",
      "  [[1.83285721e+02 1.10285721e+02 4.22857132e+01]\n",
      "   [1.80785721e+02 1.07785721e+02 3.97857170e+01]\n",
      "   [1.84158173e+02 1.10943871e+02 4.35867348e+01]\n",
      "   ...\n",
      "   [1.64658142e+02 1.30658142e+02 9.52296143e+01]\n",
      "   [1.56367325e+02 1.22367325e+02 8.73673248e+01]\n",
      "   [1.52928497e+02 1.18928505e+02 8.39285049e+01]]\n",
      "\n",
      "  [[1.80290817e+02 1.07290817e+02 3.82908173e+01]\n",
      "   [1.80729599e+02 1.07729591e+02 3.87295952e+01]\n",
      "   [1.82214279e+02 1.09214287e+02 4.03826523e+01]\n",
      "   ...\n",
      "   [1.80096939e+02 1.45882660e+02 1.08668373e+02]\n",
      "   [1.71015289e+02 1.36800995e+02 9.94999619e+01]\n",
      "   [1.68076508e+02 1.33862213e+02 9.62142181e+01]]\n",
      "\n",
      "  ...\n",
      "\n",
      "  [[1.41194046e+02 8.56225662e+01 3.88368301e+01]\n",
      "   [1.36826553e+02 8.26581879e+01 3.67143097e+01]\n",
      "   [1.36301102e+02 8.25153656e+01 3.72806396e+01]\n",
      "   ...\n",
      "   [2.14377701e+02 1.91331802e+02 1.60469528e+02]\n",
      "   [2.17744965e+02 1.93173492e+02 1.62173492e+02]\n",
      "   [2.21352036e+02 1.96780563e+02 1.65780563e+02]]\n",
      "\n",
      "  [[1.43545944e+02 8.55459442e+01 3.95459366e+01]\n",
      "   [1.41933670e+02 8.56581421e+01 3.87959061e+01]\n",
      "   [1.42117310e+02 8.57142334e+01 4.05152550e+01]\n",
      "   ...\n",
      "   [2.19612305e+02 1.95040833e+02 1.64040833e+02]\n",
      "   [2.17270462e+02 1.92270462e+02 1.61270462e+02]\n",
      "   [2.20831696e+02 1.96831696e+02 1.62831696e+02]]\n",
      "\n",
      "  [[1.54699127e+02 9.66991348e+01 4.86991310e+01]\n",
      "   [1.46188873e+02 8.81888733e+01 4.21888771e+01]\n",
      "   [1.41566605e+02 8.47910309e+01 3.85002441e+01]\n",
      "   ...\n",
      "   [2.17300995e+02 1.92729523e+02 1.61729523e+02]\n",
      "   [2.22719254e+02 1.98719254e+02 1.64719254e+02]\n",
      "   [2.19326691e+02 1.95326691e+02 1.61326691e+02]]]\n",
      "\n",
      "\n",
      " ...\n",
      "\n",
      "\n",
      " [[[2.93418369e+01 5.56989784e+01 8.16683655e+01]\n",
      "   [2.06428566e+01 4.70000000e+01 7.15204086e+01]\n",
      "   [8.53571415e+00 3.33265305e+01 5.58979607e+01]\n",
      "   ...\n",
      "   [3.98520050e+01 8.42805328e+01 1.09494797e+02]\n",
      "   [2.79540596e+01 6.99540634e+01 9.49540634e+01]\n",
      "   [3.42195702e+01 7.42195663e+01 1.00219566e+02]]\n",
      "\n",
      "  [[3.05969391e+01 6.39540825e+01 9.60000000e+01]\n",
      "   [3.19132633e+01 6.32040787e+01 9.24285660e+01]\n",
      "   [2.15867329e+01 5.11734695e+01 7.76989822e+01]\n",
      "   ...\n",
      "   [4.61989594e+01 9.06274872e+01 1.17413223e+02]\n",
      "   [5.01377678e+01 9.21377640e+01 1.17137764e+02]\n",
      "   [4.88570366e+01 8.88570404e+01 1.14857040e+02]]\n",
      "\n",
      "  [[3.11938763e+01 7.31224442e+01 1.13913261e+02]\n",
      "   [2.61530609e+01 6.66683655e+01 1.03525505e+02]\n",
      "   [2.75051022e+01 6.40050964e+01 9.81683655e+01]\n",
      "   ...\n",
      "   [4.66173630e+01 9.10458908e+01 1.17831627e+02]\n",
      "   [5.02142868e+01 9.14285736e+01 1.18785713e+02]\n",
      "   [5.03418121e+01 8.95560989e+01 1.17913239e+02]]\n",
      "\n",
      "  ...\n",
      "\n",
      "  [[1.34857147e+02 1.45642853e+02 1.68285736e+02]\n",
      "   [1.37928574e+02 1.48714279e+02 1.71357162e+02]\n",
      "   [1.36617355e+02 1.47617355e+02 1.69617355e+02]\n",
      "   ...\n",
      "   [1.79999695e+01 4.46427917e+01 6.14285889e+01]\n",
      "   [1.36428223e+01 3.90714111e+01 5.92857056e+01]\n",
      "   [9.35198689e+00 3.47805748e+01 5.49948692e+01]]\n",
      "\n",
      "  [[1.35974503e+02 1.45974503e+02 1.70974503e+02]\n",
      "   [1.37066315e+02 1.47066315e+02 1.72066315e+02]\n",
      "   [1.36785721e+02 1.47785721e+02 1.69785721e+02]\n",
      "   ...\n",
      "   [1.09131050e+01 3.98008842e+01 5.74284668e+01]\n",
      "   [1.11326189e+01 3.81326180e+01 5.91326180e+01]\n",
      "   [8.61731625e+00 3.46887283e+01 5.75459061e+01]]\n",
      "\n",
      "  [[1.35586746e+02 1.45586746e+02 1.70586746e+02]\n",
      "   [1.34760208e+02 1.44760208e+02 1.69760208e+02]\n",
      "   [1.35357147e+02 1.45571426e+02 1.69928574e+02]\n",
      "   ...\n",
      "   [3.06115532e+00 3.40611572e+01 5.36326294e+01]\n",
      "   [9.83166218e+00 3.78316612e+01 5.98316612e+01]\n",
      "   [9.92849731e+00 3.79284973e+01 6.19284973e+01]]]\n",
      "\n",
      "\n",
      " [[[3.04132652e+01 1.44132652e+01 2.74132652e+01]\n",
      "   [3.10000000e+01 1.50000000e+01 2.80000000e+01]\n",
      "   [3.10000000e+01 1.50000000e+01 2.80000000e+01]\n",
      "   ...\n",
      "   [6.00000000e+01 4.40000000e+01 4.40000000e+01]\n",
      "   [6.00000000e+01 4.40000000e+01 4.40000000e+01]\n",
      "   [6.00000000e+01 4.40000000e+01 4.40000000e+01]]\n",
      "\n",
      "  [[3.00714283e+01 1.40714283e+01 2.70714283e+01]\n",
      "   [3.00714283e+01 1.40714283e+01 2.70714283e+01]\n",
      "   [3.00714283e+01 1.40714283e+01 2.70714283e+01]\n",
      "   ...\n",
      "   [6.00000000e+01 4.40000000e+01 4.50000000e+01]\n",
      "   [6.00000000e+01 4.40000000e+01 4.50000000e+01]\n",
      "   [6.00000000e+01 4.40000000e+01 4.50000000e+01]]\n",
      "\n",
      "  [[2.61428566e+01 1.21428566e+01 2.71428566e+01]\n",
      "   [2.55867348e+01 1.15867348e+01 2.65867348e+01]\n",
      "   [2.45714283e+01 1.05714283e+01 2.55714283e+01]\n",
      "   ...\n",
      "   [6.00000000e+01 4.40000000e+01 4.50000000e+01]\n",
      "   [6.00000000e+01 4.40000000e+01 4.50000000e+01]\n",
      "   [6.00000000e+01 4.40000000e+01 4.50000000e+01]]\n",
      "\n",
      "  ...\n",
      "\n",
      "  [[3.77857361e+01 1.77857361e+01 2.95714722e+01]\n",
      "   [3.77857361e+01 1.77857361e+01 2.95714722e+01]\n",
      "   [3.80000000e+01 1.80000000e+01 2.97857361e+01]\n",
      "   ...\n",
      "   [3.75714722e+01 2.40000000e+01 3.67857361e+01]\n",
      "   [3.77857361e+01 2.42142639e+01 3.85714722e+01]\n",
      "   [3.77857361e+01 2.42142639e+01 3.85714722e+01]]\n",
      "\n",
      "  [[4.00000000e+01 1.80000000e+01 3.10000000e+01]\n",
      "   [3.91377640e+01 1.71377678e+01 3.01377678e+01]\n",
      "   [3.90000000e+01 1.70000000e+01 3.00000000e+01]\n",
      "   ...\n",
      "   [3.99285583e+01 2.39285583e+01 3.69285583e+01]\n",
      "   [3.89285583e+01 2.19285583e+01 3.79285583e+01]\n",
      "   [3.85254555e+01 2.15254555e+01 3.75254555e+01]]\n",
      "\n",
      "  [[4.10000000e+01 1.90000000e+01 3.20000000e+01]\n",
      "   [4.00255127e+01 1.80255127e+01 3.10255127e+01]\n",
      "   [3.87857132e+01 1.67857132e+01 2.97857132e+01]\n",
      "   ...\n",
      "   [3.90000000e+01 2.10000000e+01 3.65714722e+01]\n",
      "   [3.76428223e+01 1.96428223e+01 3.56428223e+01]\n",
      "   [3.66428223e+01 1.76428223e+01 3.66428223e+01]]]\n",
      "\n",
      "\n",
      " [[[2.21357132e+02 2.63571415e+01 5.83571434e+01]\n",
      "   [2.26642853e+02 2.86428566e+01 6.16428604e+01]\n",
      "   [2.25061234e+02 2.92193871e+01 6.15000000e+01]\n",
      "   ...\n",
      "   [1.99979538e+02 1.36903015e+02 1.28387726e+02]\n",
      "   [1.95357101e+02 1.35622406e+02 1.32193878e+02]\n",
      "   [1.72545502e+02 1.13958740e+02 1.14974136e+02]]\n",
      "\n",
      "  [[2.23571426e+02 2.85714283e+01 6.05714264e+01]\n",
      "   [2.25928574e+02 3.09285717e+01 6.29285736e+01]\n",
      "   [2.24586731e+02 3.14438782e+01 6.25153046e+01]\n",
      "   ...\n",
      "   [1.87663345e+02 1.26852180e+02 1.17122566e+02]\n",
      "   [1.93494843e+02 1.34494843e+02 1.26647911e+02]\n",
      "   [1.88989792e+02 1.29918350e+02 1.24275497e+02]]\n",
      "\n",
      "  [[2.20428574e+02 2.70714283e+01 6.10714264e+01]\n",
      "   [2.22515305e+02 2.91581631e+01 6.29438782e+01]\n",
      "   [2.19188782e+02 2.90459175e+01 6.03826523e+01]\n",
      "   ...\n",
      "   [1.91194000e+02 1.31239914e+02 1.21668434e+02]\n",
      "   [1.83331619e+02 1.23602036e+02 1.11760162e+02]\n",
      "   [1.89954010e+02 1.30311157e+02 1.16096870e+02]]\n",
      "\n",
      "  ...\n",
      "\n",
      "  [[2.33494904e+02 1.84494904e+02 1.43571426e+02]\n",
      "   [2.39928574e+02 1.95714294e+02 1.50928574e+02]\n",
      "   [2.40642853e+02 2.02642853e+02 1.53642853e+02]\n",
      "   ...\n",
      "   [1.81689011e+02 1.28836868e+02 1.01219482e+02]\n",
      "   [1.87311401e+02 1.34739929e+02 1.04081718e+02]\n",
      "   [1.81244827e+02 1.28673355e+02 9.68876190e+01]]\n",
      "\n",
      "  [[2.32857178e+02 1.85857178e+02 1.40520447e+02]\n",
      "   [2.32214310e+02 1.90071457e+02 1.42010208e+02]\n",
      "   [2.37642883e+02 2.00642883e+02 1.48571442e+02]\n",
      "   ...\n",
      "   [1.94566254e+02 1.40550949e+02 1.15137665e+02]\n",
      "   [1.82331696e+02 1.29265350e+02 9.83980255e+01]\n",
      "   [1.85602005e+02 1.31556091e+02 9.76938553e+01]]\n",
      "\n",
      "  [[2.36158157e+02 1.89158157e+02 1.43158157e+02]\n",
      "   [2.38642929e+02 1.96500076e+02 1.46571503e+02]\n",
      "   [2.42489822e+02 2.05489822e+02 1.52336746e+02]\n",
      "   ...\n",
      "   [1.86142792e+02 1.31142792e+02 1.10637703e+02]\n",
      "   [1.91163223e+02 1.35163223e+02 1.10683670e+02]\n",
      "   [1.84326691e+02 1.29097076e+02 9.95562897e+01]]]], shape=(32, 224, 224, 3), dtype=float32) tf.Tensor(\n",
      "[[0. 0. 1. 0. 0. 0. 0. 0. 0. 0.]\n",
      " [0. 1. 0. 0. 0. 0. 0. 0. 0. 0.]\n",
      " [0. 0. 0. 0. 0. 0. 0. 0. 0. 1.]\n",
      " [0. 1. 0. 0. 0. 0. 0. 0. 0. 0.]\n",
      " [0. 0. 0. 0. 0. 1. 0. 0. 0. 0.]\n",
      " [0. 0. 0. 0. 0. 1. 0. 0. 0. 0.]\n",
      " [0. 0. 0. 0. 1. 0. 0. 0. 0. 0.]\n",
      " [0. 0. 0. 0. 0. 0. 0. 0. 0. 1.]\n",
      " [0. 1. 0. 0. 0. 0. 0. 0. 0. 0.]\n",
      " [0. 0. 0. 1. 0. 0. 0. 0. 0. 0.]\n",
      " [0. 0. 0. 0. 0. 0. 1. 0. 0. 0.]\n",
      " [0. 0. 0. 0. 1. 0. 0. 0. 0. 0.]\n",
      " [0. 0. 0. 0. 0. 1. 0. 0. 0. 0.]\n",
      " [0. 0. 0. 0. 0. 0. 1. 0. 0. 0.]\n",
      " [0. 0. 0. 0. 0. 0. 0. 0. 1. 0.]\n",
      " [1. 0. 0. 0. 0. 0. 0. 0. 0. 0.]\n",
      " [0. 0. 0. 0. 0. 0. 0. 1. 0. 0.]\n",
      " [0. 0. 0. 0. 0. 0. 0. 1. 0. 0.]\n",
      " [0. 0. 0. 0. 0. 0. 0. 0. 0. 1.]\n",
      " [0. 0. 1. 0. 0. 0. 0. 0. 0. 0.]\n",
      " [0. 0. 0. 0. 0. 0. 1. 0. 0. 0.]\n",
      " [0. 0. 0. 0. 0. 1. 0. 0. 0. 0.]\n",
      " [0. 0. 0. 0. 0. 1. 0. 0. 0. 0.]\n",
      " [0. 0. 0. 0. 0. 0. 1. 0. 0. 0.]\n",
      " [0. 0. 0. 0. 0. 0. 1. 0. 0. 0.]\n",
      " [0. 0. 0. 0. 0. 1. 0. 0. 0. 0.]\n",
      " [0. 0. 0. 0. 0. 0. 1. 0. 0. 0.]\n",
      " [0. 0. 0. 0. 0. 0. 0. 1. 0. 0.]\n",
      " [0. 0. 0. 1. 0. 0. 0. 0. 0. 0.]\n",
      " [1. 0. 0. 0. 0. 0. 0. 0. 0. 0.]\n",
      " [0. 1. 0. 0. 0. 0. 0. 0. 0. 0.]\n",
      " [0. 0. 0. 0. 0. 1. 0. 0. 0. 0.]], shape=(32, 10), dtype=float32)\n"
     ]
    }
   ],
   "source": [
    "for images,labels in train_data_10_percent.take(1):\n",
    "    print(images,labels)"
   ],
   "metadata": {
    "collapsed": false,
    "ExecuteTime": {
     "end_time": "2023-12-27T07:56:10.028292400Z",
     "start_time": "2023-12-27T07:56:09.469106Z"
    }
   }
  },
  {
   "cell_type": "code",
   "execution_count": 8,
   "outputs": [
    {
     "name": "stdout",
     "output_type": "stream",
     "text": [
      "Downloading data from https://storage.googleapis.com/keras-applications/efficientnetb0_notop.h5\n",
      "16705208/16705208 [==============================] - 4s 0us/step\n",
      "Shape after passing inputs through base model: (None, 7, 7, 1280)\n",
      "Shape after GlobalAveragePooling2D: (None, 1280)\n",
      "Saving TensorBoard log files to: transfer_learning/10_percent_feature_extraction/20231227-144509\n",
      "WARNING:tensorflow:Model failed to serialize as JSON. Ignoring... Unable to serialize [2.0896919 2.1128857 2.1081853] to JSON. Unrecognized type <class 'tensorflow.python.framework.ops.EagerTensor'>.\n",
      "Epoch 1/5\n",
      "24/24 [==============================] - 15s 191ms/step - loss: 1.9314 - accuracy: 0.4013 - val_loss: 1.3025 - val_accuracy: 0.7615\n",
      "Epoch 2/5\n",
      "24/24 [==============================] - 3s 143ms/step - loss: 1.1306 - accuracy: 0.7587 - val_loss: 0.8728 - val_accuracy: 0.8339\n",
      "Epoch 3/5\n",
      "24/24 [==============================] - 4s 146ms/step - loss: 0.8118 - accuracy: 0.8253 - val_loss: 0.6921 - val_accuracy: 0.8586\n",
      "Epoch 4/5\n",
      "24/24 [==============================] - 4s 144ms/step - loss: 0.6535 - accuracy: 0.8600 - val_loss: 0.5869 - val_accuracy: 0.8734\n",
      "Epoch 5/5\n",
      "24/24 [==============================] - 3s 144ms/step - loss: 0.5541 - accuracy: 0.8653 - val_loss: 0.5644 - val_accuracy: 0.8635\n"
     ]
    }
   ],
   "source": [
    "#004 Discussing the four (actually five) modelling experiments we're running\n",
    "#005 Comparing the TensorFlow Keras Sequential API versus the Functional API\n",
    "#006 Creating our first model with the TensorFlow Keras Functional API\n",
    "base_model = tf.keras.applications.EfficientNetB0(include_top=False)\n",
    "base_model.trainable = False\n",
    "inputs = tf.keras.layers.Input(shape=(224,224,3),name=\"input_layer\")\n",
    "#If using Resnet50V2 - we need to normalize - if the model tends to not learn anything maybe try normalizing it\n",
    "#x = tf.keras.layers.experimental.preprocessing.Rescaling(1./255)(inputs)\n",
    "x= base_model(inputs)\n",
    "print(f\"Shape after passing inputs through base model: {x.shape}\")\n",
    "x=tf.keras.layers.GlobalAveragePooling2D(name=\"global_average_pooling_layer\")(x)\n",
    "print(f\"Shape after GlobalAveragePooling2D: {x.shape}\")\n",
    "outputs  = tf.keras.layers.Dense(10,activation=\"softmax\",name=\"output_layer\")(x)\n",
    "model_0 = tf.keras.Model(inputs,outputs )\n",
    "\n",
    "#007 Compiling and fitting our first Functional API model\n",
    "model_0.compile(loss=\"categorical_crossentropy\",\n",
    "                optimizer=tf.keras.optimizers.Adam(),\n",
    "                metrics=[\"accuracy\"])\n",
    "\n",
    "history_10_percent = model_0.fit(train_data_10_percent,epochs=5,steps_per_epoch=len(train_data_10_percent),validation_data=test_data,validation_steps=int(0.25*len(test_data)),\n",
    "                                 callbacks=[create_tensorboard_callback(dir_name=\"transfer_learning\",experiment_name=\"10_percent_feature_extraction\")])"
   ],
   "metadata": {
    "collapsed": false,
    "ExecuteTime": {
     "end_time": "2023-12-27T09:15:39.229664600Z",
     "start_time": "2023-12-27T09:15:03.222172300Z"
    }
   }
  },
  {
   "cell_type": "code",
   "execution_count": 9,
   "outputs": [
    {
     "name": "stdout",
     "output_type": "stream",
     "text": [
      "79/79 [==============================] - 7s 80ms/step - loss: 0.5536 - accuracy: 0.8640\n"
     ]
    },
    {
     "data": {
      "text/plain": "[0.553627073764801, 0.8640000224113464]"
     },
     "execution_count": 9,
     "metadata": {},
     "output_type": "execute_result"
    }
   ],
   "source": [
    "model_0.evaluate(test_data)"
   ],
   "metadata": {
    "collapsed": false,
    "ExecuteTime": {
     "end_time": "2023-12-27T09:30:45.726499300Z",
     "start_time": "2023-12-27T09:30:38.919483100Z"
    }
   }
  },
  {
   "cell_type": "code",
   "execution_count": 10,
   "outputs": [
    {
     "name": "stdout",
     "output_type": "stream",
     "text": [
      "0 input_1\n",
      "1 rescaling\n",
      "2 normalization\n",
      "3 rescaling_1\n",
      "4 stem_conv_pad\n",
      "5 stem_conv\n",
      "6 stem_bn\n",
      "7 stem_activation\n",
      "8 block1a_dwconv\n",
      "9 block1a_bn\n",
      "10 block1a_activation\n",
      "11 block1a_se_squeeze\n",
      "12 block1a_se_reshape\n",
      "13 block1a_se_reduce\n",
      "14 block1a_se_expand\n",
      "15 block1a_se_excite\n",
      "16 block1a_project_conv\n",
      "17 block1a_project_bn\n",
      "18 block2a_expand_conv\n",
      "19 block2a_expand_bn\n",
      "20 block2a_expand_activation\n",
      "21 block2a_dwconv_pad\n",
      "22 block2a_dwconv\n",
      "23 block2a_bn\n",
      "24 block2a_activation\n",
      "25 block2a_se_squeeze\n",
      "26 block2a_se_reshape\n",
      "27 block2a_se_reduce\n",
      "28 block2a_se_expand\n",
      "29 block2a_se_excite\n",
      "30 block2a_project_conv\n",
      "31 block2a_project_bn\n",
      "32 block2b_expand_conv\n",
      "33 block2b_expand_bn\n",
      "34 block2b_expand_activation\n",
      "35 block2b_dwconv\n",
      "36 block2b_bn\n",
      "37 block2b_activation\n",
      "38 block2b_se_squeeze\n",
      "39 block2b_se_reshape\n",
      "40 block2b_se_reduce\n",
      "41 block2b_se_expand\n",
      "42 block2b_se_excite\n",
      "43 block2b_project_conv\n",
      "44 block2b_project_bn\n",
      "45 block2b_drop\n",
      "46 block2b_add\n",
      "47 block3a_expand_conv\n",
      "48 block3a_expand_bn\n",
      "49 block3a_expand_activation\n",
      "50 block3a_dwconv_pad\n",
      "51 block3a_dwconv\n",
      "52 block3a_bn\n",
      "53 block3a_activation\n",
      "54 block3a_se_squeeze\n",
      "55 block3a_se_reshape\n",
      "56 block3a_se_reduce\n",
      "57 block3a_se_expand\n",
      "58 block3a_se_excite\n",
      "59 block3a_project_conv\n",
      "60 block3a_project_bn\n",
      "61 block3b_expand_conv\n",
      "62 block3b_expand_bn\n",
      "63 block3b_expand_activation\n",
      "64 block3b_dwconv\n",
      "65 block3b_bn\n",
      "66 block3b_activation\n",
      "67 block3b_se_squeeze\n",
      "68 block3b_se_reshape\n",
      "69 block3b_se_reduce\n",
      "70 block3b_se_expand\n",
      "71 block3b_se_excite\n",
      "72 block3b_project_conv\n",
      "73 block3b_project_bn\n",
      "74 block3b_drop\n",
      "75 block3b_add\n",
      "76 block4a_expand_conv\n",
      "77 block4a_expand_bn\n",
      "78 block4a_expand_activation\n",
      "79 block4a_dwconv_pad\n",
      "80 block4a_dwconv\n",
      "81 block4a_bn\n",
      "82 block4a_activation\n",
      "83 block4a_se_squeeze\n",
      "84 block4a_se_reshape\n",
      "85 block4a_se_reduce\n",
      "86 block4a_se_expand\n",
      "87 block4a_se_excite\n",
      "88 block4a_project_conv\n",
      "89 block4a_project_bn\n",
      "90 block4b_expand_conv\n",
      "91 block4b_expand_bn\n",
      "92 block4b_expand_activation\n",
      "93 block4b_dwconv\n",
      "94 block4b_bn\n",
      "95 block4b_activation\n",
      "96 block4b_se_squeeze\n",
      "97 block4b_se_reshape\n",
      "98 block4b_se_reduce\n",
      "99 block4b_se_expand\n",
      "100 block4b_se_excite\n",
      "101 block4b_project_conv\n",
      "102 block4b_project_bn\n",
      "103 block4b_drop\n",
      "104 block4b_add\n",
      "105 block4c_expand_conv\n",
      "106 block4c_expand_bn\n",
      "107 block4c_expand_activation\n",
      "108 block4c_dwconv\n",
      "109 block4c_bn\n",
      "110 block4c_activation\n",
      "111 block4c_se_squeeze\n",
      "112 block4c_se_reshape\n",
      "113 block4c_se_reduce\n",
      "114 block4c_se_expand\n",
      "115 block4c_se_excite\n",
      "116 block4c_project_conv\n",
      "117 block4c_project_bn\n",
      "118 block4c_drop\n",
      "119 block4c_add\n",
      "120 block5a_expand_conv\n",
      "121 block5a_expand_bn\n",
      "122 block5a_expand_activation\n",
      "123 block5a_dwconv\n",
      "124 block5a_bn\n",
      "125 block5a_activation\n",
      "126 block5a_se_squeeze\n",
      "127 block5a_se_reshape\n",
      "128 block5a_se_reduce\n",
      "129 block5a_se_expand\n",
      "130 block5a_se_excite\n",
      "131 block5a_project_conv\n",
      "132 block5a_project_bn\n",
      "133 block5b_expand_conv\n",
      "134 block5b_expand_bn\n",
      "135 block5b_expand_activation\n",
      "136 block5b_dwconv\n",
      "137 block5b_bn\n",
      "138 block5b_activation\n",
      "139 block5b_se_squeeze\n",
      "140 block5b_se_reshape\n",
      "141 block5b_se_reduce\n",
      "142 block5b_se_expand\n",
      "143 block5b_se_excite\n",
      "144 block5b_project_conv\n",
      "145 block5b_project_bn\n",
      "146 block5b_drop\n",
      "147 block5b_add\n",
      "148 block5c_expand_conv\n",
      "149 block5c_expand_bn\n",
      "150 block5c_expand_activation\n",
      "151 block5c_dwconv\n",
      "152 block5c_bn\n",
      "153 block5c_activation\n",
      "154 block5c_se_squeeze\n",
      "155 block5c_se_reshape\n",
      "156 block5c_se_reduce\n",
      "157 block5c_se_expand\n",
      "158 block5c_se_excite\n",
      "159 block5c_project_conv\n",
      "160 block5c_project_bn\n",
      "161 block5c_drop\n",
      "162 block5c_add\n",
      "163 block6a_expand_conv\n",
      "164 block6a_expand_bn\n",
      "165 block6a_expand_activation\n",
      "166 block6a_dwconv_pad\n",
      "167 block6a_dwconv\n",
      "168 block6a_bn\n",
      "169 block6a_activation\n",
      "170 block6a_se_squeeze\n",
      "171 block6a_se_reshape\n",
      "172 block6a_se_reduce\n",
      "173 block6a_se_expand\n",
      "174 block6a_se_excite\n",
      "175 block6a_project_conv\n",
      "176 block6a_project_bn\n",
      "177 block6b_expand_conv\n",
      "178 block6b_expand_bn\n",
      "179 block6b_expand_activation\n",
      "180 block6b_dwconv\n",
      "181 block6b_bn\n",
      "182 block6b_activation\n",
      "183 block6b_se_squeeze\n",
      "184 block6b_se_reshape\n",
      "185 block6b_se_reduce\n",
      "186 block6b_se_expand\n",
      "187 block6b_se_excite\n",
      "188 block6b_project_conv\n",
      "189 block6b_project_bn\n",
      "190 block6b_drop\n",
      "191 block6b_add\n",
      "192 block6c_expand_conv\n",
      "193 block6c_expand_bn\n",
      "194 block6c_expand_activation\n",
      "195 block6c_dwconv\n",
      "196 block6c_bn\n",
      "197 block6c_activation\n",
      "198 block6c_se_squeeze\n",
      "199 block6c_se_reshape\n",
      "200 block6c_se_reduce\n",
      "201 block6c_se_expand\n",
      "202 block6c_se_excite\n",
      "203 block6c_project_conv\n",
      "204 block6c_project_bn\n",
      "205 block6c_drop\n",
      "206 block6c_add\n",
      "207 block6d_expand_conv\n",
      "208 block6d_expand_bn\n",
      "209 block6d_expand_activation\n",
      "210 block6d_dwconv\n",
      "211 block6d_bn\n",
      "212 block6d_activation\n",
      "213 block6d_se_squeeze\n",
      "214 block6d_se_reshape\n",
      "215 block6d_se_reduce\n",
      "216 block6d_se_expand\n",
      "217 block6d_se_excite\n",
      "218 block6d_project_conv\n",
      "219 block6d_project_bn\n",
      "220 block6d_drop\n",
      "221 block6d_add\n",
      "222 block7a_expand_conv\n",
      "223 block7a_expand_bn\n",
      "224 block7a_expand_activation\n",
      "225 block7a_dwconv\n",
      "226 block7a_bn\n",
      "227 block7a_activation\n",
      "228 block7a_se_squeeze\n",
      "229 block7a_se_reshape\n",
      "230 block7a_se_reduce\n",
      "231 block7a_se_expand\n",
      "232 block7a_se_excite\n",
      "233 block7a_project_conv\n",
      "234 block7a_project_bn\n",
      "235 top_conv\n",
      "236 top_bn\n",
      "237 top_activation\n"
     ]
    }
   ],
   "source": [
    "for layer_number,layer in enumerate(base_model.layers):\n",
    "    print(layer_number,layer.name)"
   ],
   "metadata": {
    "collapsed": false,
    "ExecuteTime": {
     "end_time": "2023-12-27T09:31:52.510843400Z",
     "start_time": "2023-12-27T09:31:52.497100500Z"
    }
   }
  },
  {
   "cell_type": "code",
   "execution_count": 12,
   "outputs": [
    {
     "name": "stdout",
     "output_type": "stream",
     "text": [
      "Model: \"model\"\n",
      "_________________________________________________________________\n",
      " Layer (type)                Output Shape              Param #   \n",
      "=================================================================\n",
      " input_layer (InputLayer)    [(None, 224, 224, 3)]     0         \n",
      "                                                                 \n",
      " efficientnetb0 (Functional)  (None, None, None, 1280)  4049571  \n",
      "                                                                 \n",
      " global_average_pooling_laye  (None, 1280)             0         \n",
      " r (GlobalAveragePooling2D)                                      \n",
      "                                                                 \n",
      " output_layer (Dense)        (None, 10)                12810     \n",
      "                                                                 \n",
      "=================================================================\n",
      "Total params: 4,062,381\n",
      "Trainable params: 12,810\n",
      "Non-trainable params: 4,049,571\n",
      "_________________________________________________________________\n"
     ]
    }
   ],
   "source": [
    "model_0.summary()"
   ],
   "metadata": {
    "collapsed": false,
    "ExecuteTime": {
     "end_time": "2023-12-27T09:35:07.065679300Z",
     "start_time": "2023-12-27T09:35:07.048867600Z"
    }
   }
  },
  {
   "cell_type": "code",
   "execution_count": 13,
   "outputs": [
    {
     "data": {
      "text/plain": "<Figure size 640x480 with 1 Axes>",
      "image/png": "[encoded data removed]"
     },
     "metadata": {},
     "output_type": "display_data"
    },
    {
     "data": {
      "text/plain": "<Figure size 640x480 with 1 Axes>",
      "image/png": "[encoded data removed]"
     },
     "metadata": {},
     "output_type": "display_data"
    }
   ],
   "source": [
    "plot_loss_curves(history=history_10_percent)"
   ],
   "metadata": {
    "collapsed": false,
    "ExecuteTime": {
     "end_time": "2023-12-27T09:37:46.678748400Z",
     "start_time": "2023-12-27T09:37:46.255075600Z"
    }
   }
  },
  {
   "cell_type": "code",
   "execution_count": 17,
   "outputs": [
    {
     "name": "stdout",
     "output_type": "stream",
     "text": [
      "Random input tensor :\n",
      " [[[[ 0.3274685  -0.8426258   0.3194337 ]\n",
      "   [-1.4075519  -2.3880599  -1.0392479 ]\n",
      "   [-0.5573232   0.539707    1.6994323 ]\n",
      "   [ 0.28893656 -1.5066116  -0.2645474 ]]\n",
      "\n",
      "  [[-0.59722406 -1.9171132  -0.62044144]\n",
      "   [ 0.8504023  -0.40604794 -3.0258412 ]\n",
      "   [ 0.9058464   0.29855987 -0.22561555]\n",
      "   [-0.7616443  -1.8917141  -0.93847126]]\n",
      "\n",
      "  [[ 0.77852213 -0.47338897  0.97772694]\n",
      "   [ 0.24694404  0.20573747 -0.5256233 ]\n",
      "   [ 0.32410017  0.02545409 -0.10638497]\n",
      "   [-0.6369475   1.1603122   0.2507359 ]]\n",
      "\n",
      "  [[-0.41728503  0.4012578  -1.4145443 ]\n",
      "   [-0.5931857  -1.6617213   0.33567193]\n",
      "   [ 0.10815629  0.23479682 -0.56668764]\n",
      "   [-0.35819843  0.88698614  0.52744764]]]]\n",
      "\n",
      "2D global average pooled randon tensor:\n",
      " [[-0.09368646 -0.45840448 -0.2885598 ]]\n",
      "\n",
      "shape of input tensor: (1, 4, 4, 3)\n",
      "shape of Global Average Pooled 2D tensor: (1, 3)\n"
     ]
    }
   ],
   "source": [
    "#008 Getting a feature vector from our trained model\n",
    "#demostrate GlobalAvgPoolingLayer2D\n",
    "input_shape = (1,4,4,3)\n",
    "tf.random.set_seed(42)\n",
    "input_tensor = tf.random.normal(input_shape)\n",
    "print(f\"Random input tensor :\\n {input_tensor}\\n\")\n",
    "\n",
    "#pass tensor through GlobalAvgPoolingLayer2D layer\n",
    "global_average_pooled_tensor = tf.keras.layers.GlobalAveragePooling2D()(input_tensor)\n",
    "print(f\"2D global average pooled randon tensor:\\n {global_average_pooled_tensor}\\n\")\n",
    "\n",
    "# check shape of tensors\n",
    "print(f\"shape of input tensor: {input_tensor.shape}\")\n",
    "print(f\"shape of Global Average Pooled 2D tensor: {global_average_pooled_tensor.shape}\")"
   ],
   "metadata": {
    "collapsed": false,
    "ExecuteTime": {
     "end_time": "2023-12-27T10:04:14.951587500Z",
     "start_time": "2023-12-27T10:04:14.925016200Z"
    }
   }
  },
  {
   "cell_type": "code",
   "execution_count": 18,
   "outputs": [
    {
     "data": {
      "text/plain": "<tf.Tensor: shape=(1, 3), dtype=float32, numpy=array([[-0.09368646, -0.45840448, -0.2885598 ]], dtype=float32)>"
     },
     "execution_count": 18,
     "metadata": {},
     "output_type": "execute_result"
    }
   ],
   "source": [
    "# replicating the layer\n",
    "tf.reduce_mean(input_tensor,axis=[1,2])"
   ],
   "metadata": {
    "collapsed": false,
    "ExecuteTime": {
     "end_time": "2023-12-27T10:17:14.786022300Z",
     "start_time": "2023-12-27T10:17:14.690184Z"
    }
   }
  },
  {
   "cell_type": "code",
   "execution_count": 7,
   "outputs": [],
   "source": [
    "#009 Drilling into the concept of a feature vector (a learned representation)\n",
    "#010 Downloading and preparing the data for Model 1 (1 percent of training data)\n",
    "train_dir_1_percent = \"10_food_classes_1_percent/train\"\n",
    "test_dir = \"10_food_classes_1_percent/test\""
   ],
   "metadata": {
    "collapsed": false,
    "ExecuteTime": {
     "end_time": "2024-01-06T18:17:51.874589400Z",
     "start_time": "2024-01-06T18:17:51.852519300Z"
    }
   }
  },
  {
   "cell_type": "code",
   "execution_count": 8,
   "outputs": [
    {
     "name": "stdout",
     "output_type": "stream",
     "text": [
      "There are 2 directories and 0 images in '10_food_classes_1_percent'.\n",
      "There are 10 directories and 0 images in '10_food_classes_1_percent\\test'.\n",
      "There are 0 directories and 250 images in '10_food_classes_1_percent\\test\\chicken_curry'.\n",
      "There are 0 directories and 250 images in '10_food_classes_1_percent\\test\\chicken_wings'.\n",
      "There are 0 directories and 250 images in '10_food_classes_1_percent\\test\\fried_rice'.\n",
      "There are 0 directories and 250 images in '10_food_classes_1_percent\\test\\grilled_salmon'.\n",
      "There are 0 directories and 250 images in '10_food_classes_1_percent\\test\\hamburger'.\n",
      "There are 0 directories and 250 images in '10_food_classes_1_percent\\test\\ice_cream'.\n",
      "There are 0 directories and 250 images in '10_food_classes_1_percent\\test\\pizza'.\n",
      "There are 0 directories and 250 images in '10_food_classes_1_percent\\test\\ramen'.\n",
      "There are 0 directories and 250 images in '10_food_classes_1_percent\\test\\steak'.\n",
      "There are 0 directories and 250 images in '10_food_classes_1_percent\\test\\sushi'.\n",
      "There are 10 directories and 0 images in '10_food_classes_1_percent\\train'.\n",
      "There are 0 directories and 7 images in '10_food_classes_1_percent\\train\\chicken_curry'.\n",
      "There are 0 directories and 7 images in '10_food_classes_1_percent\\train\\chicken_wings'.\n",
      "There are 0 directories and 7 images in '10_food_classes_1_percent\\train\\fried_rice'.\n",
      "There are 0 directories and 7 images in '10_food_classes_1_percent\\train\\grilled_salmon'.\n",
      "There are 0 directories and 7 images in '10_food_classes_1_percent\\train\\hamburger'.\n",
      "There are 0 directories and 7 images in '10_food_classes_1_percent\\train\\ice_cream'.\n",
      "There are 0 directories and 7 images in '10_food_classes_1_percent\\train\\pizza'.\n",
      "There are 0 directories and 7 images in '10_food_classes_1_percent\\train\\ramen'.\n",
      "There are 0 directories and 7 images in '10_food_classes_1_percent\\train\\steak'.\n",
      "There are 0 directories and 7 images in '10_food_classes_1_percent\\train\\sushi'.\n"
     ]
    }
   ],
   "source": [
    "walk_through_dir(\"10_food_classes_1_percent\")"
   ],
   "metadata": {
    "collapsed": false,
    "ExecuteTime": {
     "end_time": "2024-01-06T18:17:53.972587500Z",
     "start_time": "2024-01-06T18:17:53.958509900Z"
    }
   }
  },
  {
   "cell_type": "code",
   "execution_count": 10,
   "outputs": [
    {
     "name": "stdout",
     "output_type": "stream",
     "text": [
      "Found 70 files belonging to 10 classes.\n",
      "Found 2500 files belonging to 10 classes.\n"
     ]
    }
   ],
   "source": [
    "import tensorflow as tf\n",
    "IMG_SIZE=(224,224)\n",
    "BATCH_SIZE = 32\n",
    "train_data_1_percent = tf.keras.preprocessing.image_dataset_from_directory(train_dir_1_percent,label_mode='categorical',image_size=IMG_SIZE,batch_size=BATCH_SIZE)\n",
    "test_data = tf.keras.preprocessing.image_dataset_from_directory(test_dir,label_mode='categorical',image_size=IMG_SIZE,batch_size=BATCH_SIZE)"
   ],
   "metadata": {
    "collapsed": false,
    "ExecuteTime": {
     "end_time": "2024-01-06T18:24:09.414999800Z",
     "start_time": "2024-01-06T18:24:09.111809400Z"
    }
   }
  },
  {
   "cell_type": "code",
   "execution_count": null,
   "outputs": [],
   "source": [
    "#011 Building a data augmentation layer to use inside our model"
   ],
   "metadata": {
    "collapsed": false
   }
  }
 ],
 "metadata": {
  "kernelspec": {
   "display_name": "Python 3",
   "language": "python",
   "name": "python3"
  },
  "language_info": {
   "codemirror_mode": {
    "name": "ipython",
    "version": 2
   },
   "file_extension": ".py",
   "mimetype": "text/x-python",
   "name": "python",
   "nbconvert_exporter": "python",
   "pygments_lexer": "ipython2",
   "version": "2.7.6"
  }
 },
 "nbformat": 4,
 "nbformat_minor": 0
}
