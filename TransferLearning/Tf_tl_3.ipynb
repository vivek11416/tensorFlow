{
 "cells": [
  {
   "cell_type": "code",
   "execution_count": 30,
   "metadata": {
    "collapsed": true,
    "ExecuteTime": {
     "end_time": "2024-02-02T17:36:56.695743700Z",
     "start_time": "2024-02-02T17:36:56.587175200Z"
    }
   },
   "outputs": [
    {
     "name": "stdout",
     "output_type": "stream",
     "text": [
      "Fri Feb  2 23:06:56 2024       \n",
      "+---------------------------------------------------------------------------------------+\n",
      "| NVIDIA-SMI 537.58                 Driver Version: 537.58       CUDA Version: 12.2     |\n",
      "|-----------------------------------------+----------------------+----------------------+\n",
      "| GPU  Name                     TCC/WDDM  | Bus-Id        Disp.A | Volatile Uncorr. ECC |\n",
      "| Fan  Temp   Perf          Pwr:Usage/Cap |         Memory-Usage | GPU-Util  Compute M. |\n",
      "|                                         |                      |               MIG M. |\n",
      "|=========================================+======================+======================|\n",
      "|   0  NVIDIA GeForce RTX 3050 ...  WDDM  | 00000000:01:00.0 Off |                  N/A |\n",
      "| N/A   48C    P8               9W /  80W |   2674MiB /  4096MiB |      0%      Default |\n",
      "|                                         |                      |                  N/A |\n",
      "+-----------------------------------------+----------------------+----------------------+\n",
      "                                                                                         \n",
      "+---------------------------------------------------------------------------------------+\n",
      "| Processes:                                                                            |\n",
      "|  GPU   GI   CI        PID   Type   Process name                            GPU Memory |\n",
      "|        ID   ID                                                             Usage      |\n",
      "|=======================================================================================|\n",
      "|    0   N/A  N/A       936      C   ...onda3\\envs\\tensorFlowEnv\\python.exe    N/A      |\n",
      "+---------------------------------------------------------------------------------------+\n"
     ]
    }
   ],
   "source": [
    "#Transfer leraning with Tensorfow part 3 : Scaling up\n",
    "!nvidia-smi"
   ]
  },
  {
   "cell_type": "code",
   "execution_count": 31,
   "outputs": [],
   "source": [
    "# creating helper functions\n",
    "from extras.helper_functions import create_tensorboard_callback, plot_loss_curves, unzip_data, walk_through_dir,compare_historys"
   ],
   "metadata": {
    "collapsed": false,
    "ExecuteTime": {
     "end_time": "2024-02-02T17:36:56.742474900Z",
     "start_time": "2024-02-02T17:36:56.697268Z"
    }
   }
  },
  {
   "cell_type": "code",
   "execution_count": 32,
   "outputs": [],
   "source": [
    "train_dir = \"101_food_classes_10_percent/train/\"\n",
    "test_dir = \"101_food_classes_10_percent/test/\""
   ],
   "metadata": {
    "collapsed": false,
    "ExecuteTime": {
     "end_time": "2024-02-02T17:36:56.744361800Z",
     "start_time": "2024-02-02T17:36:56.710824700Z"
    }
   }
  },
  {
   "cell_type": "code",
   "execution_count": 33,
   "outputs": [
    {
     "name": "stdout",
     "output_type": "stream",
     "text": [
      "There are 2 directories and 0 images in '101_food_classes_10_percent'.\n",
      "There are 101 directories and 0 images in '101_food_classes_10_percent\\test'.\n",
      "There are 0 directories and 250 images in '101_food_classes_10_percent\\test\\apple_pie'.\n",
      "There are 0 directories and 250 images in '101_food_classes_10_percent\\test\\baby_back_ribs'.\n",
      "There are 0 directories and 250 images in '101_food_classes_10_percent\\test\\baklava'.\n",
      "There are 0 directories and 250 images in '101_food_classes_10_percent\\test\\beef_carpaccio'.\n",
      "There are 0 directories and 250 images in '101_food_classes_10_percent\\test\\beef_tartare'.\n",
      "There are 0 directories and 250 images in '101_food_classes_10_percent\\test\\beet_salad'.\n",
      "There are 0 directories and 250 images in '101_food_classes_10_percent\\test\\beignets'.\n",
      "There are 0 directories and 250 images in '101_food_classes_10_percent\\test\\bibimbap'.\n",
      "There are 0 directories and 250 images in '101_food_classes_10_percent\\test\\bread_pudding'.\n",
      "There are 0 directories and 250 images in '101_food_classes_10_percent\\test\\breakfast_burrito'.\n",
      "There are 0 directories and 250 images in '101_food_classes_10_percent\\test\\bruschetta'.\n",
      "There are 0 directories and 250 images in '101_food_classes_10_percent\\test\\caesar_salad'.\n",
      "There are 0 directories and 250 images in '101_food_classes_10_percent\\test\\cannoli'.\n",
      "There are 0 directories and 250 images in '101_food_classes_10_percent\\test\\caprese_salad'.\n",
      "There are 0 directories and 250 images in '101_food_classes_10_percent\\test\\carrot_cake'.\n",
      "There are 0 directories and 250 images in '101_food_classes_10_percent\\test\\ceviche'.\n",
      "There are 0 directories and 250 images in '101_food_classes_10_percent\\test\\cheesecake'.\n",
      "There are 0 directories and 250 images in '101_food_classes_10_percent\\test\\cheese_plate'.\n",
      "There are 0 directories and 250 images in '101_food_classes_10_percent\\test\\chicken_curry'.\n",
      "There are 0 directories and 250 images in '101_food_classes_10_percent\\test\\chicken_quesadilla'.\n",
      "There are 0 directories and 250 images in '101_food_classes_10_percent\\test\\chicken_wings'.\n",
      "There are 0 directories and 250 images in '101_food_classes_10_percent\\test\\chocolate_cake'.\n",
      "There are 0 directories and 250 images in '101_food_classes_10_percent\\test\\chocolate_mousse'.\n",
      "There are 0 directories and 250 images in '101_food_classes_10_percent\\test\\churros'.\n",
      "There are 0 directories and 250 images in '101_food_classes_10_percent\\test\\clam_chowder'.\n",
      "There are 0 directories and 250 images in '101_food_classes_10_percent\\test\\club_sandwich'.\n",
      "There are 0 directories and 250 images in '101_food_classes_10_percent\\test\\crab_cakes'.\n",
      "There are 0 directories and 250 images in '101_food_classes_10_percent\\test\\creme_brulee'.\n",
      "There are 0 directories and 250 images in '101_food_classes_10_percent\\test\\croque_madame'.\n",
      "There are 0 directories and 250 images in '101_food_classes_10_percent\\test\\cup_cakes'.\n",
      "There are 0 directories and 250 images in '101_food_classes_10_percent\\test\\deviled_eggs'.\n",
      "There are 0 directories and 250 images in '101_food_classes_10_percent\\test\\donuts'.\n",
      "There are 0 directories and 250 images in '101_food_classes_10_percent\\test\\dumplings'.\n",
      "There are 0 directories and 250 images in '101_food_classes_10_percent\\test\\edamame'.\n",
      "There are 0 directories and 250 images in '101_food_classes_10_percent\\test\\eggs_benedict'.\n",
      "There are 0 directories and 250 images in '101_food_classes_10_percent\\test\\escargots'.\n",
      "There are 0 directories and 250 images in '101_food_classes_10_percent\\test\\falafel'.\n",
      "There are 0 directories and 250 images in '101_food_classes_10_percent\\test\\filet_mignon'.\n",
      "There are 0 directories and 250 images in '101_food_classes_10_percent\\test\\fish_and_chips'.\n",
      "There are 0 directories and 250 images in '101_food_classes_10_percent\\test\\foie_gras'.\n",
      "There are 0 directories and 250 images in '101_food_classes_10_percent\\test\\french_fries'.\n",
      "There are 0 directories and 250 images in '101_food_classes_10_percent\\test\\french_onion_soup'.\n",
      "There are 0 directories and 250 images in '101_food_classes_10_percent\\test\\french_toast'.\n",
      "There are 0 directories and 250 images in '101_food_classes_10_percent\\test\\fried_calamari'.\n",
      "There are 0 directories and 250 images in '101_food_classes_10_percent\\test\\fried_rice'.\n",
      "There are 0 directories and 250 images in '101_food_classes_10_percent\\test\\frozen_yogurt'.\n",
      "There are 0 directories and 250 images in '101_food_classes_10_percent\\test\\garlic_bread'.\n",
      "There are 0 directories and 250 images in '101_food_classes_10_percent\\test\\gnocchi'.\n",
      "There are 0 directories and 250 images in '101_food_classes_10_percent\\test\\greek_salad'.\n",
      "There are 0 directories and 250 images in '101_food_classes_10_percent\\test\\grilled_cheese_sandwich'.\n",
      "There are 0 directories and 250 images in '101_food_classes_10_percent\\test\\grilled_salmon'.\n",
      "There are 0 directories and 250 images in '101_food_classes_10_percent\\test\\guacamole'.\n",
      "There are 0 directories and 250 images in '101_food_classes_10_percent\\test\\gyoza'.\n",
      "There are 0 directories and 250 images in '101_food_classes_10_percent\\test\\hamburger'.\n",
      "There are 0 directories and 250 images in '101_food_classes_10_percent\\test\\hot_and_sour_soup'.\n",
      "There are 0 directories and 250 images in '101_food_classes_10_percent\\test\\hot_dog'.\n",
      "There are 0 directories and 250 images in '101_food_classes_10_percent\\test\\huevos_rancheros'.\n",
      "There are 0 directories and 250 images in '101_food_classes_10_percent\\test\\hummus'.\n",
      "There are 0 directories and 250 images in '101_food_classes_10_percent\\test\\ice_cream'.\n",
      "There are 0 directories and 250 images in '101_food_classes_10_percent\\test\\lasagna'.\n",
      "There are 0 directories and 250 images in '101_food_classes_10_percent\\test\\lobster_bisque'.\n",
      "There are 0 directories and 250 images in '101_food_classes_10_percent\\test\\lobster_roll_sandwich'.\n",
      "There are 0 directories and 250 images in '101_food_classes_10_percent\\test\\macaroni_and_cheese'.\n",
      "There are 0 directories and 250 images in '101_food_classes_10_percent\\test\\macarons'.\n",
      "There are 0 directories and 250 images in '101_food_classes_10_percent\\test\\miso_soup'.\n",
      "There are 0 directories and 250 images in '101_food_classes_10_percent\\test\\mussels'.\n",
      "There are 0 directories and 250 images in '101_food_classes_10_percent\\test\\nachos'.\n",
      "There are 0 directories and 250 images in '101_food_classes_10_percent\\test\\omelette'.\n",
      "There are 0 directories and 250 images in '101_food_classes_10_percent\\test\\onion_rings'.\n",
      "There are 0 directories and 250 images in '101_food_classes_10_percent\\test\\oysters'.\n",
      "There are 0 directories and 250 images in '101_food_classes_10_percent\\test\\pad_thai'.\n",
      "There are 0 directories and 250 images in '101_food_classes_10_percent\\test\\paella'.\n",
      "There are 0 directories and 250 images in '101_food_classes_10_percent\\test\\pancakes'.\n",
      "There are 0 directories and 250 images in '101_food_classes_10_percent\\test\\panna_cotta'.\n",
      "There are 0 directories and 250 images in '101_food_classes_10_percent\\test\\peking_duck'.\n",
      "There are 0 directories and 250 images in '101_food_classes_10_percent\\test\\pho'.\n",
      "There are 0 directories and 250 images in '101_food_classes_10_percent\\test\\pizza'.\n",
      "There are 0 directories and 250 images in '101_food_classes_10_percent\\test\\pork_chop'.\n",
      "There are 0 directories and 250 images in '101_food_classes_10_percent\\test\\poutine'.\n",
      "There are 0 directories and 250 images in '101_food_classes_10_percent\\test\\prime_rib'.\n",
      "There are 0 directories and 250 images in '101_food_classes_10_percent\\test\\pulled_pork_sandwich'.\n",
      "There are 0 directories and 250 images in '101_food_classes_10_percent\\test\\ramen'.\n",
      "There are 0 directories and 250 images in '101_food_classes_10_percent\\test\\ravioli'.\n",
      "There are 0 directories and 250 images in '101_food_classes_10_percent\\test\\red_velvet_cake'.\n",
      "There are 0 directories and 250 images in '101_food_classes_10_percent\\test\\risotto'.\n",
      "There are 0 directories and 250 images in '101_food_classes_10_percent\\test\\samosa'.\n",
      "There are 0 directories and 250 images in '101_food_classes_10_percent\\test\\sashimi'.\n",
      "There are 0 directories and 250 images in '101_food_classes_10_percent\\test\\scallops'.\n",
      "There are 0 directories and 250 images in '101_food_classes_10_percent\\test\\seaweed_salad'.\n",
      "There are 0 directories and 250 images in '101_food_classes_10_percent\\test\\shrimp_and_grits'.\n",
      "There are 0 directories and 250 images in '101_food_classes_10_percent\\test\\spaghetti_bolognese'.\n",
      "There are 0 directories and 250 images in '101_food_classes_10_percent\\test\\spaghetti_carbonara'.\n",
      "There are 0 directories and 250 images in '101_food_classes_10_percent\\test\\spring_rolls'.\n",
      "There are 0 directories and 250 images in '101_food_classes_10_percent\\test\\steak'.\n",
      "There are 0 directories and 250 images in '101_food_classes_10_percent\\test\\strawberry_shortcake'.\n",
      "There are 0 directories and 250 images in '101_food_classes_10_percent\\test\\sushi'.\n",
      "There are 0 directories and 250 images in '101_food_classes_10_percent\\test\\tacos'.\n",
      "There are 0 directories and 250 images in '101_food_classes_10_percent\\test\\takoyaki'.\n",
      "There are 0 directories and 250 images in '101_food_classes_10_percent\\test\\tiramisu'.\n",
      "There are 0 directories and 250 images in '101_food_classes_10_percent\\test\\tuna_tartare'.\n",
      "There are 0 directories and 250 images in '101_food_classes_10_percent\\test\\waffles'.\n",
      "There are 101 directories and 0 images in '101_food_classes_10_percent\\train'.\n",
      "There are 0 directories and 75 images in '101_food_classes_10_percent\\train\\apple_pie'.\n",
      "There are 0 directories and 75 images in '101_food_classes_10_percent\\train\\baby_back_ribs'.\n",
      "There are 0 directories and 75 images in '101_food_classes_10_percent\\train\\baklava'.\n",
      "There are 0 directories and 75 images in '101_food_classes_10_percent\\train\\beef_carpaccio'.\n",
      "There are 0 directories and 75 images in '101_food_classes_10_percent\\train\\beef_tartare'.\n",
      "There are 0 directories and 75 images in '101_food_classes_10_percent\\train\\beet_salad'.\n",
      "There are 0 directories and 75 images in '101_food_classes_10_percent\\train\\beignets'.\n",
      "There are 0 directories and 75 images in '101_food_classes_10_percent\\train\\bibimbap'.\n",
      "There are 0 directories and 75 images in '101_food_classes_10_percent\\train\\bread_pudding'.\n",
      "There are 0 directories and 75 images in '101_food_classes_10_percent\\train\\breakfast_burrito'.\n",
      "There are 0 directories and 75 images in '101_food_classes_10_percent\\train\\bruschetta'.\n",
      "There are 0 directories and 75 images in '101_food_classes_10_percent\\train\\caesar_salad'.\n",
      "There are 0 directories and 75 images in '101_food_classes_10_percent\\train\\cannoli'.\n",
      "There are 0 directories and 75 images in '101_food_classes_10_percent\\train\\caprese_salad'.\n",
      "There are 0 directories and 75 images in '101_food_classes_10_percent\\train\\carrot_cake'.\n",
      "There are 0 directories and 75 images in '101_food_classes_10_percent\\train\\ceviche'.\n",
      "There are 0 directories and 75 images in '101_food_classes_10_percent\\train\\cheesecake'.\n",
      "There are 0 directories and 75 images in '101_food_classes_10_percent\\train\\cheese_plate'.\n",
      "There are 0 directories and 75 images in '101_food_classes_10_percent\\train\\chicken_curry'.\n",
      "There are 0 directories and 75 images in '101_food_classes_10_percent\\train\\chicken_quesadilla'.\n",
      "There are 0 directories and 75 images in '101_food_classes_10_percent\\train\\chicken_wings'.\n",
      "There are 0 directories and 75 images in '101_food_classes_10_percent\\train\\chocolate_cake'.\n",
      "There are 0 directories and 75 images in '101_food_classes_10_percent\\train\\chocolate_mousse'.\n",
      "There are 0 directories and 75 images in '101_food_classes_10_percent\\train\\churros'.\n",
      "There are 0 directories and 75 images in '101_food_classes_10_percent\\train\\clam_chowder'.\n",
      "There are 0 directories and 75 images in '101_food_classes_10_percent\\train\\club_sandwich'.\n",
      "There are 0 directories and 75 images in '101_food_classes_10_percent\\train\\crab_cakes'.\n",
      "There are 0 directories and 75 images in '101_food_classes_10_percent\\train\\creme_brulee'.\n",
      "There are 0 directories and 75 images in '101_food_classes_10_percent\\train\\croque_madame'.\n",
      "There are 0 directories and 75 images in '101_food_classes_10_percent\\train\\cup_cakes'.\n",
      "There are 0 directories and 75 images in '101_food_classes_10_percent\\train\\deviled_eggs'.\n",
      "There are 0 directories and 75 images in '101_food_classes_10_percent\\train\\donuts'.\n",
      "There are 0 directories and 75 images in '101_food_classes_10_percent\\train\\dumplings'.\n",
      "There are 0 directories and 75 images in '101_food_classes_10_percent\\train\\edamame'.\n",
      "There are 0 directories and 75 images in '101_food_classes_10_percent\\train\\eggs_benedict'.\n",
      "There are 0 directories and 75 images in '101_food_classes_10_percent\\train\\escargots'.\n",
      "There are 0 directories and 75 images in '101_food_classes_10_percent\\train\\falafel'.\n",
      "There are 0 directories and 75 images in '101_food_classes_10_percent\\train\\filet_mignon'.\n",
      "There are 0 directories and 75 images in '101_food_classes_10_percent\\train\\fish_and_chips'.\n",
      "There are 0 directories and 75 images in '101_food_classes_10_percent\\train\\foie_gras'.\n",
      "There are 0 directories and 75 images in '101_food_classes_10_percent\\train\\french_fries'.\n",
      "There are 0 directories and 75 images in '101_food_classes_10_percent\\train\\french_onion_soup'.\n",
      "There are 0 directories and 75 images in '101_food_classes_10_percent\\train\\french_toast'.\n",
      "There are 0 directories and 75 images in '101_food_classes_10_percent\\train\\fried_calamari'.\n",
      "There are 0 directories and 75 images in '101_food_classes_10_percent\\train\\fried_rice'.\n",
      "There are 0 directories and 75 images in '101_food_classes_10_percent\\train\\frozen_yogurt'.\n",
      "There are 0 directories and 75 images in '101_food_classes_10_percent\\train\\garlic_bread'.\n",
      "There are 0 directories and 75 images in '101_food_classes_10_percent\\train\\gnocchi'.\n",
      "There are 0 directories and 75 images in '101_food_classes_10_percent\\train\\greek_salad'.\n",
      "There are 0 directories and 75 images in '101_food_classes_10_percent\\train\\grilled_cheese_sandwich'.\n",
      "There are 0 directories and 75 images in '101_food_classes_10_percent\\train\\grilled_salmon'.\n",
      "There are 0 directories and 75 images in '101_food_classes_10_percent\\train\\guacamole'.\n",
      "There are 0 directories and 75 images in '101_food_classes_10_percent\\train\\gyoza'.\n",
      "There are 0 directories and 75 images in '101_food_classes_10_percent\\train\\hamburger'.\n",
      "There are 0 directories and 75 images in '101_food_classes_10_percent\\train\\hot_and_sour_soup'.\n",
      "There are 0 directories and 75 images in '101_food_classes_10_percent\\train\\hot_dog'.\n",
      "There are 0 directories and 75 images in '101_food_classes_10_percent\\train\\huevos_rancheros'.\n",
      "There are 0 directories and 75 images in '101_food_classes_10_percent\\train\\hummus'.\n",
      "There are 0 directories and 75 images in '101_food_classes_10_percent\\train\\ice_cream'.\n",
      "There are 0 directories and 75 images in '101_food_classes_10_percent\\train\\lasagna'.\n",
      "There are 0 directories and 75 images in '101_food_classes_10_percent\\train\\lobster_bisque'.\n",
      "There are 0 directories and 75 images in '101_food_classes_10_percent\\train\\lobster_roll_sandwich'.\n",
      "There are 0 directories and 75 images in '101_food_classes_10_percent\\train\\macaroni_and_cheese'.\n",
      "There are 0 directories and 75 images in '101_food_classes_10_percent\\train\\macarons'.\n",
      "There are 0 directories and 75 images in '101_food_classes_10_percent\\train\\miso_soup'.\n",
      "There are 0 directories and 75 images in '101_food_classes_10_percent\\train\\mussels'.\n",
      "There are 0 directories and 75 images in '101_food_classes_10_percent\\train\\nachos'.\n",
      "There are 0 directories and 75 images in '101_food_classes_10_percent\\train\\omelette'.\n",
      "There are 0 directories and 75 images in '101_food_classes_10_percent\\train\\onion_rings'.\n",
      "There are 0 directories and 75 images in '101_food_classes_10_percent\\train\\oysters'.\n",
      "There are 0 directories and 75 images in '101_food_classes_10_percent\\train\\pad_thai'.\n",
      "There are 0 directories and 75 images in '101_food_classes_10_percent\\train\\paella'.\n",
      "There are 0 directories and 75 images in '101_food_classes_10_percent\\train\\pancakes'.\n",
      "There are 0 directories and 75 images in '101_food_classes_10_percent\\train\\panna_cotta'.\n",
      "There are 0 directories and 75 images in '101_food_classes_10_percent\\train\\peking_duck'.\n",
      "There are 0 directories and 75 images in '101_food_classes_10_percent\\train\\pho'.\n",
      "There are 0 directories and 75 images in '101_food_classes_10_percent\\train\\pizza'.\n",
      "There are 0 directories and 75 images in '101_food_classes_10_percent\\train\\pork_chop'.\n",
      "There are 0 directories and 75 images in '101_food_classes_10_percent\\train\\poutine'.\n",
      "There are 0 directories and 75 images in '101_food_classes_10_percent\\train\\prime_rib'.\n",
      "There are 0 directories and 75 images in '101_food_classes_10_percent\\train\\pulled_pork_sandwich'.\n",
      "There are 0 directories and 75 images in '101_food_classes_10_percent\\train\\ramen'.\n",
      "There are 0 directories and 75 images in '101_food_classes_10_percent\\train\\ravioli'.\n",
      "There are 0 directories and 75 images in '101_food_classes_10_percent\\train\\red_velvet_cake'.\n",
      "There are 0 directories and 75 images in '101_food_classes_10_percent\\train\\risotto'.\n",
      "There are 0 directories and 75 images in '101_food_classes_10_percent\\train\\samosa'.\n",
      "There are 0 directories and 75 images in '101_food_classes_10_percent\\train\\sashimi'.\n",
      "There are 0 directories and 75 images in '101_food_classes_10_percent\\train\\scallops'.\n",
      "There are 0 directories and 75 images in '101_food_classes_10_percent\\train\\seaweed_salad'.\n",
      "There are 0 directories and 75 images in '101_food_classes_10_percent\\train\\shrimp_and_grits'.\n",
      "There are 0 directories and 75 images in '101_food_classes_10_percent\\train\\spaghetti_bolognese'.\n",
      "There are 0 directories and 75 images in '101_food_classes_10_percent\\train\\spaghetti_carbonara'.\n",
      "There are 0 directories and 75 images in '101_food_classes_10_percent\\train\\spring_rolls'.\n",
      "There are 0 directories and 75 images in '101_food_classes_10_percent\\train\\steak'.\n",
      "There are 0 directories and 75 images in '101_food_classes_10_percent\\train\\strawberry_shortcake'.\n",
      "There are 0 directories and 75 images in '101_food_classes_10_percent\\train\\sushi'.\n",
      "There are 0 directories and 75 images in '101_food_classes_10_percent\\train\\tacos'.\n",
      "There are 0 directories and 75 images in '101_food_classes_10_percent\\train\\takoyaki'.\n",
      "There are 0 directories and 75 images in '101_food_classes_10_percent\\train\\tiramisu'.\n",
      "There are 0 directories and 75 images in '101_food_classes_10_percent\\train\\tuna_tartare'.\n",
      "There are 0 directories and 75 images in '101_food_classes_10_percent\\train\\waffles'.\n"
     ]
    }
   ],
   "source": [
    "walk_through_dir(\"101_food_classes_10_percent\")"
   ],
   "metadata": {
    "collapsed": false,
    "ExecuteTime": {
     "end_time": "2024-02-02T17:36:56.790731800Z",
     "start_time": "2024-02-02T17:36:56.742474900Z"
    }
   }
  },
  {
   "cell_type": "code",
   "execution_count": 34,
   "outputs": [
    {
     "name": "stdout",
     "output_type": "stream",
     "text": [
      "Found 7575 files belonging to 101 classes.\n",
      "Found 25250 files belonging to 101 classes.\n"
     ]
    }
   ],
   "source": [
    "#Setup Data inputs\n",
    "import tensorflow as tf\n",
    "IMG_SIZE = (224,224)\n",
    "train_data_all_10_percent = tf.keras.preprocessing.image_dataset_from_directory(train_dir,label_mode=\"categorical\",image_size=IMG_SIZE)\n",
    "test_data = tf.keras.preprocessing.image_dataset_from_directory(test_dir,label_mode=\"categorical\",image_size=IMG_SIZE,shuffle=False) # dont shuffle test data"
   ],
   "metadata": {
    "collapsed": false,
    "ExecuteTime": {
     "end_time": "2024-02-02T17:36:59.632605800Z",
     "start_time": "2024-02-02T17:36:56.790731800Z"
    }
   }
  },
  {
   "cell_type": "code",
   "execution_count": 35,
   "outputs": [],
   "source": [
    "#create checkpoint callback\n",
    "checkpoint_path = \"transfer_learning/101_classes_10_percent_data_model_checkpoint\"\n",
    "checkpoint_callback = tf.keras.callbacks.ModelCheckpoint(checkpoint_path,\n",
    "                                                         save_weights_only=True,\n",
    "                                                         monitor=\"val_accuracy\",\n",
    "                                                         save_best_only=True,)"
   ],
   "metadata": {
    "collapsed": false,
    "ExecuteTime": {
     "end_time": "2024-02-02T17:36:59.648659300Z",
     "start_time": "2024-02-02T17:36:59.632605800Z"
    }
   }
  },
  {
   "cell_type": "code",
   "execution_count": 36,
   "outputs": [],
   "source": [
    "#create data augmentation layer to incorporate it into model\n",
    "from tensorflow.keras import layers\n",
    "from tensorflow.keras.layers.experimental import preprocessing\n",
    "from tensorflow.keras.models import Sequential\n",
    "\n",
    "\n",
    "#setup data augmentation\n",
    "data_augmentation = Sequential([\n",
    "    preprocessing.RandomFlip(\"horizontal\"),\n",
    "    preprocessing.RandomRotation(0.2),\n",
    "    preprocessing.RandomHeight(0.2),\n",
    "    preprocessing.RandomWidth(0.2),\n",
    "    preprocessing.RandomZoom(0.2),\n",
    "    #preprocessing.Rescaling(1/255.) #Rescale input of images between 0 & 1 , required for model like resnet50\n",
    "] ,name = \"data_augmentation\")"
   ],
   "metadata": {
    "collapsed": false,
    "ExecuteTime": {
     "end_time": "2024-02-02T17:36:59.667061800Z",
     "start_time": "2024-02-02T17:36:59.648659300Z"
    }
   }
  },
  {
   "cell_type": "code",
   "execution_count": 37,
   "outputs": [
    {
     "name": "stdout",
     "output_type": "stream",
     "text": [
      "Downloading data from https://storage.googleapis.com/tensorflow/keras-applications/efficientnet_v2/efficientnetv2-b0_notop.h5\n",
      "24274472/24274472 [==============================] - 6s 0us/step\n"
     ]
    }
   ],
   "source": [
    "# setup the base model and freeze its layers\n",
    "#005 Creating a headless EfficientNetB0 model with data augmentation built in\n",
    "base_model = tf.keras.applications.EfficientNetV2B0(include_top=False)\n",
    "base_model.trainable=False\n",
    "\n",
    "#Setup model architecuture with trainable top layers\n",
    "inputs = layers.Input(shape=(224,224,3),name=\"input_layer\")\n",
    "x= data_augmentation(inputs) #augment images (only happens during training phase\n",
    "x = base_model(x,training=False) # put the base model in inference mode so weights are frozen\n",
    "x = layers.GlobalAveragePooling2D(name=\"global_avg_pool_layer\")(x) # in case of models (like sequential) input go inside model in layers inputs go outside model\n",
    "outputs = layers.Dense(len(train_data_all_10_percent.class_names),activation=\"softmax\",name=\"output_layer\")(x)\n",
    "model = tf.keras.Model(inputs,outputs)"
   ],
   "metadata": {
    "collapsed": false,
    "ExecuteTime": {
     "end_time": "2024-02-02T17:37:08.455245600Z",
     "start_time": "2024-02-02T17:36:59.667061800Z"
    }
   }
  },
  {
   "cell_type": "code",
   "execution_count": 38,
   "outputs": [
    {
     "name": "stdout",
     "output_type": "stream",
     "text": [
      "Model: \"model_2\"\n",
      "_________________________________________________________________\n",
      " Layer (type)                Output Shape              Param #   \n",
      "=================================================================\n",
      " input_layer (InputLayer)    [(None, 224, 224, 3)]     0         \n",
      "                                                                 \n",
      " data_augmentation (Sequenti  (None, 224, 224, 3)      0         \n",
      " al)                                                             \n",
      "                                                                 \n",
      " efficientnetv2-b0 (Function  (None, None, None, 1280)  5919312  \n",
      " al)                                                             \n",
      "                                                                 \n",
      " global_avg_pool_layer (Glob  (None, 1280)             0         \n",
      " alAveragePooling2D)                                             \n",
      "                                                                 \n",
      " output_layer (Dense)        (None, 101)               129381    \n",
      "                                                                 \n",
      "=================================================================\n",
      "Total params: 6,048,693\n",
      "Trainable params: 129,381\n",
      "Non-trainable params: 5,919,312\n",
      "_________________________________________________________________\n"
     ]
    }
   ],
   "source": [
    "# get summary of model created\n",
    "model.summary() # transfer learning feature extraction model"
   ],
   "metadata": {
    "collapsed": false,
    "ExecuteTime": {
     "end_time": "2024-02-02T17:37:08.518414100Z",
     "start_time": "2024-02-02T17:37:08.455245600Z"
    }
   }
  },
  {
   "cell_type": "code",
   "execution_count": 39,
   "outputs": [
    {
     "name": "stdout",
     "output_type": "stream",
     "text": [
      "Epoch 1/5\n",
      "WARNING:tensorflow:Using a while_loop for converting RngReadAndSkip cause there is no registered converter for this op.\n"
     ]
    },
    {
     "name": "stderr",
     "output_type": "stream",
     "text": [
      "WARNING:tensorflow:Using a while_loop for converting RngReadAndSkip cause there is no registered converter for this op.\n"
     ]
    },
    {
     "name": "stdout",
     "output_type": "stream",
     "text": [
      "WARNING:tensorflow:Using a while_loop for converting Bitcast cause there is no registered converter for this op.\n"
     ]
    },
    {
     "name": "stderr",
     "output_type": "stream",
     "text": [
      "WARNING:tensorflow:Using a while_loop for converting Bitcast cause there is no registered converter for this op.\n"
     ]
    },
    {
     "name": "stdout",
     "output_type": "stream",
     "text": [
      "WARNING:tensorflow:Using a while_loop for converting Bitcast cause there is no registered converter for this op.\n"
     ]
    },
    {
     "name": "stderr",
     "output_type": "stream",
     "text": [
      "WARNING:tensorflow:Using a while_loop for converting Bitcast cause there is no registered converter for this op.\n"
     ]
    },
    {
     "name": "stdout",
     "output_type": "stream",
     "text": [
      "WARNING:tensorflow:Using a while_loop for converting StatelessRandomUniformV2 cause there is no registered converter for this op.\n"
     ]
    },
    {
     "name": "stderr",
     "output_type": "stream",
     "text": [
      "WARNING:tensorflow:Using a while_loop for converting StatelessRandomUniformV2 cause there is no registered converter for this op.\n"
     ]
    },
    {
     "name": "stdout",
     "output_type": "stream",
     "text": [
      "WARNING:tensorflow:Using a while_loop for converting ImageProjectiveTransformV3 cause there is no registered converter for this op.\n"
     ]
    },
    {
     "name": "stderr",
     "output_type": "stream",
     "text": [
      "WARNING:tensorflow:Using a while_loop for converting ImageProjectiveTransformV3 cause there is no registered converter for this op.\n"
     ]
    },
    {
     "name": "stdout",
     "output_type": "stream",
     "text": [
      "WARNING:tensorflow:Using a while_loop for converting RngReadAndSkip cause there is no registered converter for this op.\n"
     ]
    },
    {
     "name": "stderr",
     "output_type": "stream",
     "text": [
      "WARNING:tensorflow:Using a while_loop for converting RngReadAndSkip cause there is no registered converter for this op.\n"
     ]
    },
    {
     "name": "stdout",
     "output_type": "stream",
     "text": [
      "WARNING:tensorflow:Using a while_loop for converting Bitcast cause there is no registered converter for this op.\n"
     ]
    },
    {
     "name": "stderr",
     "output_type": "stream",
     "text": [
      "WARNING:tensorflow:Using a while_loop for converting Bitcast cause there is no registered converter for this op.\n"
     ]
    },
    {
     "name": "stdout",
     "output_type": "stream",
     "text": [
      "WARNING:tensorflow:Using a while_loop for converting Bitcast cause there is no registered converter for this op.\n"
     ]
    },
    {
     "name": "stderr",
     "output_type": "stream",
     "text": [
      "WARNING:tensorflow:Using a while_loop for converting Bitcast cause there is no registered converter for this op.\n"
     ]
    },
    {
     "name": "stdout",
     "output_type": "stream",
     "text": [
      "WARNING:tensorflow:Using a while_loop for converting StatelessRandomUniformV2 cause there is no registered converter for this op.\n"
     ]
    },
    {
     "name": "stderr",
     "output_type": "stream",
     "text": [
      "WARNING:tensorflow:Using a while_loop for converting StatelessRandomUniformV2 cause there is no registered converter for this op.\n"
     ]
    },
    {
     "name": "stdout",
     "output_type": "stream",
     "text": [
      "WARNING:tensorflow:Using a while_loop for converting ImageProjectiveTransformV3 cause there is no registered converter for this op.\n"
     ]
    },
    {
     "name": "stderr",
     "output_type": "stream",
     "text": [
      "WARNING:tensorflow:Using a while_loop for converting ImageProjectiveTransformV3 cause there is no registered converter for this op.\n"
     ]
    },
    {
     "name": "stdout",
     "output_type": "stream",
     "text": [
      "WARNING:tensorflow:Using a while_loop for converting RngReadAndSkip cause there is no registered converter for this op.\n"
     ]
    },
    {
     "name": "stderr",
     "output_type": "stream",
     "text": [
      "WARNING:tensorflow:Using a while_loop for converting RngReadAndSkip cause there is no registered converter for this op.\n"
     ]
    },
    {
     "name": "stdout",
     "output_type": "stream",
     "text": [
      "WARNING:tensorflow:Using a while_loop for converting Bitcast cause there is no registered converter for this op.\n"
     ]
    },
    {
     "name": "stderr",
     "output_type": "stream",
     "text": [
      "WARNING:tensorflow:Using a while_loop for converting Bitcast cause there is no registered converter for this op.\n"
     ]
    },
    {
     "name": "stdout",
     "output_type": "stream",
     "text": [
      "WARNING:tensorflow:Using a while_loop for converting Bitcast cause there is no registered converter for this op.\n"
     ]
    },
    {
     "name": "stderr",
     "output_type": "stream",
     "text": [
      "WARNING:tensorflow:Using a while_loop for converting Bitcast cause there is no registered converter for this op.\n"
     ]
    },
    {
     "name": "stdout",
     "output_type": "stream",
     "text": [
      "WARNING:tensorflow:Using a while_loop for converting StatelessRandomUniformV2 cause there is no registered converter for this op.\n"
     ]
    },
    {
     "name": "stderr",
     "output_type": "stream",
     "text": [
      "WARNING:tensorflow:Using a while_loop for converting StatelessRandomUniformV2 cause there is no registered converter for this op.\n"
     ]
    },
    {
     "name": "stdout",
     "output_type": "stream",
     "text": [
      "WARNING:tensorflow:Using a while_loop for converting ImageProjectiveTransformV3 cause there is no registered converter for this op.\n"
     ]
    },
    {
     "name": "stderr",
     "output_type": "stream",
     "text": [
      "WARNING:tensorflow:Using a while_loop for converting ImageProjectiveTransformV3 cause there is no registered converter for this op.\n"
     ]
    },
    {
     "name": "stdout",
     "output_type": "stream",
     "text": [
      "WARNING:tensorflow:Using a while_loop for converting RngReadAndSkip cause there is no registered converter for this op.\n"
     ]
    },
    {
     "name": "stderr",
     "output_type": "stream",
     "text": [
      "WARNING:tensorflow:Using a while_loop for converting RngReadAndSkip cause there is no registered converter for this op.\n"
     ]
    },
    {
     "name": "stdout",
     "output_type": "stream",
     "text": [
      "WARNING:tensorflow:Using a while_loop for converting Bitcast cause there is no registered converter for this op.\n"
     ]
    },
    {
     "name": "stderr",
     "output_type": "stream",
     "text": [
      "WARNING:tensorflow:Using a while_loop for converting Bitcast cause there is no registered converter for this op.\n"
     ]
    },
    {
     "name": "stdout",
     "output_type": "stream",
     "text": [
      "WARNING:tensorflow:Using a while_loop for converting Bitcast cause there is no registered converter for this op.\n"
     ]
    },
    {
     "name": "stderr",
     "output_type": "stream",
     "text": [
      "WARNING:tensorflow:Using a while_loop for converting Bitcast cause there is no registered converter for this op.\n"
     ]
    },
    {
     "name": "stdout",
     "output_type": "stream",
     "text": [
      "WARNING:tensorflow:Using a while_loop for converting StatelessRandomUniformV2 cause there is no registered converter for this op.\n"
     ]
    },
    {
     "name": "stderr",
     "output_type": "stream",
     "text": [
      "WARNING:tensorflow:Using a while_loop for converting StatelessRandomUniformV2 cause there is no registered converter for this op.\n"
     ]
    },
    {
     "name": "stdout",
     "output_type": "stream",
     "text": [
      "WARNING:tensorflow:Using a while_loop for converting ImageProjectiveTransformV3 cause there is no registered converter for this op.\n"
     ]
    },
    {
     "name": "stderr",
     "output_type": "stream",
     "text": [
      "WARNING:tensorflow:Using a while_loop for converting ImageProjectiveTransformV3 cause there is no registered converter for this op.\n"
     ]
    },
    {
     "name": "stdout",
     "output_type": "stream",
     "text": [
      "237/237 [==============================] - 87s 339ms/step - loss: 3.5199 - accuracy: 0.2399 - val_loss: 2.6752 - val_accuracy: 0.4314\n",
      "Epoch 2/5\n",
      "237/237 [==============================] - 72s 302ms/step - loss: 2.4323 - accuracy: 0.4446 - val_loss: 2.1660 - val_accuracy: 0.4984\n",
      "Epoch 3/5\n",
      "237/237 [==============================] - 67s 284ms/step - loss: 2.0529 - accuracy: 0.5149 - val_loss: 1.9982 - val_accuracy: 0.5127\n",
      "Epoch 4/5\n",
      "237/237 [==============================] - 65s 273ms/step - loss: 1.8467 - accuracy: 0.5533 - val_loss: 1.8902 - val_accuracy: 0.5238\n",
      "Epoch 5/5\n",
      "237/237 [==============================] - 63s 267ms/step - loss: 1.6907 - accuracy: 0.5850 - val_loss: 1.8282 - val_accuracy: 0.5281\n"
     ]
    }
   ],
   "source": [
    "#006 Fitting and evaluating our biggest transfer learning model yet\n",
    "model.compile(loss=\"categorical_crossentropy\", optimizer=tf.keras.optimizers.Adam(),metrics=['accuracy'])\n",
    "history_all_classes_10_percent = model.fit(train_data_all_10_percent,\n",
    "                                           epochs=5,\n",
    "                                           validation_data=test_data,\n",
    "                                           validation_steps=int(0.15*len(test_data)),\n",
    "                                           callbacks=[checkpoint_callback])"
   ],
   "metadata": {
    "collapsed": false,
    "ExecuteTime": {
     "end_time": "2024-02-02T17:43:02.373096100Z",
     "start_time": "2024-02-02T17:37:08.489349400Z"
    }
   }
  },
  {
   "cell_type": "code",
   "execution_count": 40,
   "outputs": [
    {
     "name": "stdout",
     "output_type": "stream",
     "text": [
      "790/790 [==============================] - 57s 72ms/step - loss: 1.6372 - accuracy: 0.5686\n"
     ]
    },
    {
     "data": {
      "text/plain": "[1.6371843814849854, 0.5685940384864807]"
     },
     "execution_count": 40,
     "metadata": {},
     "output_type": "execute_result"
    }
   ],
   "source": [
    "feature_extraction_results = model.evaluate(test_data)\n",
    "feature_extraction_results"
   ],
   "metadata": {
    "collapsed": false,
    "ExecuteTime": {
     "end_time": "2024-02-02T17:43:59.404026900Z",
     "start_time": "2024-02-02T17:43:02.376027700Z"
    }
   }
  },
  {
   "cell_type": "code",
   "execution_count": 41,
   "outputs": [
    {
     "data": {
      "text/plain": "<Figure size 640x480 with 1 Axes>",
      "image/png": "[encoded data removed]"
     },
     "metadata": {},
     "output_type": "display_data"
    },
    {
     "data": {
      "text/plain": "<Figure size 640x480 with 1 Axes>",
      "image/png": "[encoded data removed]"
     },
     "metadata": {},
     "output_type": "display_data"
    }
   ],
   "source": [
    "plot_loss_curves(history_all_classes_10_percent)"
   ],
   "metadata": {
    "collapsed": false,
    "ExecuteTime": {
     "end_time": "2024-02-02T17:43:59.895897800Z",
     "start_time": "2024-02-02T17:43:59.406898300Z"
    }
   }
  },
  {
   "cell_type": "code",
   "execution_count": 42,
   "outputs": [],
   "source": [
    "#007 Unfreezing some layers in our base model to prepare for fine-tuning\n",
    "# Unfreeze all of the layers in the base model\n",
    "base_model.trainable = True\n",
    "\n",
    "# Refreeze every layer except last file\n",
    "for layer in base_model.layers[:-5]:\n",
    "    layer.trainable = False"
   ],
   "metadata": {
    "collapsed": false,
    "ExecuteTime": {
     "end_time": "2024-02-02T17:43:59.976143200Z",
     "start_time": "2024-02-02T17:43:59.895897800Z"
    }
   }
  },
  {
   "cell_type": "code",
   "execution_count": 43,
   "outputs": [],
   "source": [
    "model.compile(loss=\"categorical_crossentropy\", optimizer=tf.keras.optimizers.Adam(learning_rate=0.0001),metrics=['accuracy'])"
   ],
   "metadata": {
    "collapsed": false,
    "ExecuteTime": {
     "end_time": "2024-02-02T17:43:59.976143200Z",
     "start_time": "2024-02-02T17:43:59.945872300Z"
    }
   }
  },
  {
   "cell_type": "code",
   "execution_count": 44,
   "outputs": [
    {
     "name": "stdout",
     "output_type": "stream",
     "text": [
      "Epoch 5/10\n",
      "WARNING:tensorflow:Using a while_loop for converting RngReadAndSkip cause there is no registered converter for this op.\n"
     ]
    },
    {
     "name": "stderr",
     "output_type": "stream",
     "text": [
      "WARNING:tensorflow:Using a while_loop for converting RngReadAndSkip cause there is no registered converter for this op.\n"
     ]
    },
    {
     "name": "stdout",
     "output_type": "stream",
     "text": [
      "WARNING:tensorflow:Using a while_loop for converting Bitcast cause there is no registered converter for this op.\n"
     ]
    },
    {
     "name": "stderr",
     "output_type": "stream",
     "text": [
      "WARNING:tensorflow:Using a while_loop for converting Bitcast cause there is no registered converter for this op.\n"
     ]
    },
    {
     "name": "stdout",
     "output_type": "stream",
     "text": [
      "WARNING:tensorflow:Using a while_loop for converting Bitcast cause there is no registered converter for this op.\n"
     ]
    },
    {
     "name": "stderr",
     "output_type": "stream",
     "text": [
      "WARNING:tensorflow:Using a while_loop for converting Bitcast cause there is no registered converter for this op.\n"
     ]
    },
    {
     "name": "stdout",
     "output_type": "stream",
     "text": [
      "WARNING:tensorflow:Using a while_loop for converting StatelessRandomUniformV2 cause there is no registered converter for this op.\n"
     ]
    },
    {
     "name": "stderr",
     "output_type": "stream",
     "text": [
      "WARNING:tensorflow:Using a while_loop for converting StatelessRandomUniformV2 cause there is no registered converter for this op.\n"
     ]
    },
    {
     "name": "stdout",
     "output_type": "stream",
     "text": [
      "WARNING:tensorflow:Using a while_loop for converting ImageProjectiveTransformV3 cause there is no registered converter for this op.\n"
     ]
    },
    {
     "name": "stderr",
     "output_type": "stream",
     "text": [
      "WARNING:tensorflow:Using a while_loop for converting ImageProjectiveTransformV3 cause there is no registered converter for this op.\n"
     ]
    },
    {
     "name": "stdout",
     "output_type": "stream",
     "text": [
      "WARNING:tensorflow:Using a while_loop for converting RngReadAndSkip cause there is no registered converter for this op.\n"
     ]
    },
    {
     "name": "stderr",
     "output_type": "stream",
     "text": [
      "WARNING:tensorflow:Using a while_loop for converting RngReadAndSkip cause there is no registered converter for this op.\n"
     ]
    },
    {
     "name": "stdout",
     "output_type": "stream",
     "text": [
      "WARNING:tensorflow:Using a while_loop for converting Bitcast cause there is no registered converter for this op.\n"
     ]
    },
    {
     "name": "stderr",
     "output_type": "stream",
     "text": [
      "WARNING:tensorflow:Using a while_loop for converting Bitcast cause there is no registered converter for this op.\n"
     ]
    },
    {
     "name": "stdout",
     "output_type": "stream",
     "text": [
      "WARNING:tensorflow:Using a while_loop for converting Bitcast cause there is no registered converter for this op.\n"
     ]
    },
    {
     "name": "stderr",
     "output_type": "stream",
     "text": [
      "WARNING:tensorflow:Using a while_loop for converting Bitcast cause there is no registered converter for this op.\n"
     ]
    },
    {
     "name": "stdout",
     "output_type": "stream",
     "text": [
      "WARNING:tensorflow:Using a while_loop for converting StatelessRandomUniformV2 cause there is no registered converter for this op.\n"
     ]
    },
    {
     "name": "stderr",
     "output_type": "stream",
     "text": [
      "WARNING:tensorflow:Using a while_loop for converting StatelessRandomUniformV2 cause there is no registered converter for this op.\n"
     ]
    },
    {
     "name": "stdout",
     "output_type": "stream",
     "text": [
      "WARNING:tensorflow:Using a while_loop for converting ImageProjectiveTransformV3 cause there is no registered converter for this op.\n"
     ]
    },
    {
     "name": "stderr",
     "output_type": "stream",
     "text": [
      "WARNING:tensorflow:Using a while_loop for converting ImageProjectiveTransformV3 cause there is no registered converter for this op.\n"
     ]
    },
    {
     "name": "stdout",
     "output_type": "stream",
     "text": [
      "WARNING:tensorflow:Using a while_loop for converting RngReadAndSkip cause there is no registered converter for this op.\n"
     ]
    },
    {
     "name": "stderr",
     "output_type": "stream",
     "text": [
      "WARNING:tensorflow:Using a while_loop for converting RngReadAndSkip cause there is no registered converter for this op.\n"
     ]
    },
    {
     "name": "stdout",
     "output_type": "stream",
     "text": [
      "WARNING:tensorflow:Using a while_loop for converting Bitcast cause there is no registered converter for this op.\n"
     ]
    },
    {
     "name": "stderr",
     "output_type": "stream",
     "text": [
      "WARNING:tensorflow:Using a while_loop for converting Bitcast cause there is no registered converter for this op.\n"
     ]
    },
    {
     "name": "stdout",
     "output_type": "stream",
     "text": [
      "WARNING:tensorflow:Using a while_loop for converting Bitcast cause there is no registered converter for this op.\n"
     ]
    },
    {
     "name": "stderr",
     "output_type": "stream",
     "text": [
      "WARNING:tensorflow:Using a while_loop for converting Bitcast cause there is no registered converter for this op.\n"
     ]
    },
    {
     "name": "stdout",
     "output_type": "stream",
     "text": [
      "WARNING:tensorflow:Using a while_loop for converting StatelessRandomUniformV2 cause there is no registered converter for this op.\n"
     ]
    },
    {
     "name": "stderr",
     "output_type": "stream",
     "text": [
      "WARNING:tensorflow:Using a while_loop for converting StatelessRandomUniformV2 cause there is no registered converter for this op.\n"
     ]
    },
    {
     "name": "stdout",
     "output_type": "stream",
     "text": [
      "WARNING:tensorflow:Using a while_loop for converting ImageProjectiveTransformV3 cause there is no registered converter for this op.\n"
     ]
    },
    {
     "name": "stderr",
     "output_type": "stream",
     "text": [
      "WARNING:tensorflow:Using a while_loop for converting ImageProjectiveTransformV3 cause there is no registered converter for this op.\n"
     ]
    },
    {
     "name": "stdout",
     "output_type": "stream",
     "text": [
      "WARNING:tensorflow:Using a while_loop for converting RngReadAndSkip cause there is no registered converter for this op.\n"
     ]
    },
    {
     "name": "stderr",
     "output_type": "stream",
     "text": [
      "WARNING:tensorflow:Using a while_loop for converting RngReadAndSkip cause there is no registered converter for this op.\n"
     ]
    },
    {
     "name": "stdout",
     "output_type": "stream",
     "text": [
      "WARNING:tensorflow:Using a while_loop for converting Bitcast cause there is no registered converter for this op.\n"
     ]
    },
    {
     "name": "stderr",
     "output_type": "stream",
     "text": [
      "WARNING:tensorflow:Using a while_loop for converting Bitcast cause there is no registered converter for this op.\n"
     ]
    },
    {
     "name": "stdout",
     "output_type": "stream",
     "text": [
      "WARNING:tensorflow:Using a while_loop for converting Bitcast cause there is no registered converter for this op.\n"
     ]
    },
    {
     "name": "stderr",
     "output_type": "stream",
     "text": [
      "WARNING:tensorflow:Using a while_loop for converting Bitcast cause there is no registered converter for this op.\n"
     ]
    },
    {
     "name": "stdout",
     "output_type": "stream",
     "text": [
      "WARNING:tensorflow:Using a while_loop for converting StatelessRandomUniformV2 cause there is no registered converter for this op.\n"
     ]
    },
    {
     "name": "stderr",
     "output_type": "stream",
     "text": [
      "WARNING:tensorflow:Using a while_loop for converting StatelessRandomUniformV2 cause there is no registered converter for this op.\n"
     ]
    },
    {
     "name": "stdout",
     "output_type": "stream",
     "text": [
      "WARNING:tensorflow:Using a while_loop for converting ImageProjectiveTransformV3 cause there is no registered converter for this op.\n"
     ]
    },
    {
     "name": "stderr",
     "output_type": "stream",
     "text": [
      "WARNING:tensorflow:Using a while_loop for converting ImageProjectiveTransformV3 cause there is no registered converter for this op.\n"
     ]
    },
    {
     "name": "stdout",
     "output_type": "stream",
     "text": [
      "237/237 [==============================] - 73s 271ms/step - loss: 1.4658 - accuracy: 0.6391 - val_loss: 1.7919 - val_accuracy: 0.5254\n",
      "Epoch 6/10\n",
      "237/237 [==============================] - 63s 264ms/step - loss: 1.3738 - accuracy: 0.6512 - val_loss: 1.8013 - val_accuracy: 0.5249\n",
      "Epoch 7/10\n",
      "237/237 [==============================] - 62s 260ms/step - loss: 1.3228 - accuracy: 0.6540 - val_loss: 1.7917 - val_accuracy: 0.5286\n",
      "Epoch 8/10\n",
      "237/237 [==============================] - 62s 260ms/step - loss: 1.2720 - accuracy: 0.6737 - val_loss: 1.7641 - val_accuracy: 0.5344\n",
      "Epoch 9/10\n",
      "237/237 [==============================] - 61s 257ms/step - loss: 1.2408 - accuracy: 0.6675 - val_loss: 1.7955 - val_accuracy: 0.5328\n",
      "Epoch 10/10\n",
      "237/237 [==============================] - 60s 254ms/step - loss: 1.2054 - accuracy: 0.6735 - val_loss: 1.7872 - val_accuracy: 0.5273\n"
     ]
    }
   ],
   "source": [
    "#008 Fine-tuning our feature extraction model and evaluating its performance\n",
    "fine_tune_epochs = 10\n",
    "\n",
    "history_all_classes_10_percent_fine_tune = model.fit(train_data_all_10_percent,\n",
    "                                                     epochs=fine_tune_epochs,\n",
    "                                                     validation_data=test_data,\n",
    "                                                     validation_steps=int(0.15*len(test_data)),\n",
    "                                                     initial_epoch=history_all_classes_10_percent.epoch[-1])"
   ],
   "metadata": {
    "collapsed": false,
    "ExecuteTime": {
     "end_time": "2024-02-02T17:50:20.779338600Z",
     "start_time": "2024-02-02T17:43:59.956286800Z"
    }
   }
  },
  {
   "cell_type": "code",
   "execution_count": 45,
   "outputs": [
    {
     "name": "stdout",
     "output_type": "stream",
     "text": [
      "790/790 [==============================] - 56s 71ms/step - loss: 1.5128 - accuracy: 0.5927\n"
     ]
    },
    {
     "data": {
      "text/plain": "[1.5127532482147217, 0.5926732420921326]"
     },
     "execution_count": 45,
     "metadata": {},
     "output_type": "execute_result"
    }
   ],
   "source": [
    "all_classes_10_percent_fine_tuning_results = model.evaluate(test_data)\n",
    "all_classes_10_percent_fine_tuning_results"
   ],
   "metadata": {
    "collapsed": false,
    "ExecuteTime": {
     "end_time": "2024-02-02T17:51:16.977969500Z",
     "start_time": "2024-02-02T17:50:20.781007500Z"
    }
   }
  },
  {
   "cell_type": "code",
   "execution_count": 46,
   "outputs": [
    {
     "data": {
      "text/plain": "<Figure size 800x800 with 2 Axes>",
      "image/png": "[encoded data removed]"
     },
     "metadata": {},
     "output_type": "display_data"
    }
   ],
   "source": [
    "compare_historys(original_history=history_all_classes_10_percent,\n",
    "                 new_history=history_all_classes_10_percent_fine_tune,\n",
    "                 initial_epochs=5)"
   ],
   "metadata": {
    "collapsed": false,
    "ExecuteTime": {
     "end_time": "2024-02-02T17:51:17.245353700Z",
     "start_time": "2024-02-02T17:51:16.946228400Z"
    }
   }
  },
  {
   "cell_type": "code",
   "execution_count": null,
   "outputs": [],
   "source": [
    "#009 Saving and loading our trained model\n",
    "#Saving and loading our model\n",
    "model.save(\"saved_models/101_food_classes_10_percent\")\n",
    "#model.save(\"saved_models/101_food_classes_10_percent\")"
   ],
   "metadata": {
    "collapsed": false
   }
  },
  {
   "cell_type": "code",
   "execution_count": 50,
   "outputs": [],
   "source": [
    "loaded_model = tf.keras.models.load_model(\"saved_models/101_food_classes_10_percent\")"
   ],
   "metadata": {
    "collapsed": false,
    "ExecuteTime": {
     "end_time": "2024-02-02T17:54:30.062177600Z",
     "start_time": "2024-02-02T17:54:16.024271Z"
    }
   }
  },
  {
   "cell_type": "code",
   "execution_count": 51,
   "outputs": [
    {
     "name": "stdout",
     "output_type": "stream",
     "text": [
      "790/790 [==============================] - 59s 73ms/step - loss: 1.5128 - accuracy: 0.5927\n"
     ]
    },
    {
     "data": {
      "text/plain": "[1.5127532482147217, 0.5926732420921326]"
     },
     "execution_count": 51,
     "metadata": {},
     "output_type": "execute_result"
    }
   ],
   "source": [
    "loaded_model.evaluate(test_data)"
   ],
   "metadata": {
    "collapsed": false,
    "ExecuteTime": {
     "end_time": "2024-02-02T17:55:38.636621800Z",
     "start_time": "2024-02-02T17:54:39.478941800Z"
    }
   }
  },
  {
   "cell_type": "code",
   "execution_count": null,
   "outputs": [],
   "source": [
    "#010 Downloading a pretrained model to make and evaluate predictions with"
   ],
   "metadata": {
    "collapsed": false,
    "ExecuteTime": {
     "start_time": "2024-02-02T17:51:17.328948700Z"
    }
   }
  }
 ],
 "metadata": {
  "kernelspec": {
   "display_name": "Python 3",
   "language": "python",
   "name": "python3"
  },
  "language_info": {
   "codemirror_mode": {
    "name": "ipython",
    "version": 2
   },
   "file_extension": ".py",
   "mimetype": "text/x-python",
   "name": "python",
   "nbconvert_exporter": "python",
   "pygments_lexer": "ipython2",
   "version": "2.7.6"
  }
 },
 "nbformat": 4,
 "nbformat_minor": 0
}
